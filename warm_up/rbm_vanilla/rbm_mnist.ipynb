{
 "cells": [
  {
   "cell_type": "code",
   "id": "initial_id",
   "metadata": {
    "collapsed": true,
    "ExecuteTime": {
     "end_time": "2025-01-26T16:52:18.729019Z",
     "start_time": "2025-01-26T16:52:18.698391Z"
    }
   },
   "source": [
    "import torch\n",
    "from torchvision import datasets, transforms\n",
    "from torch.utils.data import DataLoader\n",
    "\n",
    "# Define a transform to normalize the data\n",
    "transform = transforms.Compose([\n",
    "    transforms.ToTensor(),  # Convert images to PyTorch tensors\n",
    "    transforms.Normalize((0.5,), (0.5,))  # Normalize to [-1, 1]\n",
    "])\n",
    "\n",
    "# Load MNIST dataset\n",
    "train_dataset = datasets.MNIST(root='./data', train=True, download=True, transform=transform)\n",
    "test_dataset = datasets.MNIST(root='./data', train=False, download=True, transform=transform)\n",
    "\n",
    "# Create data loaders\n",
    "batch_size = 32\n",
    "train_loader = DataLoader(train_dataset, batch_size=batch_size, shuffle=True)\n",
    "test_loader = DataLoader(test_dataset, batch_size=batch_size, shuffle=False)\n",
    "\n",
    "# Check data shape\n",
    "for images, _ in train_loader:\n",
    "    print(f\"Batch shape: {images.shape}\")  # [batch_size, 1, 28, 28]\n",
    "    break"
   ],
   "outputs": [
    {
     "name": "stdout",
     "output_type": "stream",
     "text": [
      "Batch shape: torch.Size([32, 1, 28, 28])\n"
     ]
    }
   ],
   "execution_count": 2
  },
  {
   "metadata": {
    "ExecuteTime": {
     "end_time": "2025-01-26T16:52:44.898067Z",
     "start_time": "2025-01-26T16:52:44.891163Z"
    }
   },
   "cell_type": "code",
   "source": [
    "class RBM(torch.nn.Module):\n",
    "    def __init__(self, visible_dim, hidden_dim=128, lr=0.01):\n",
    "        super(RBM, self).__init__()\n",
    "        self.W = torch.nn.Parameter(torch.randn(visible_dim, hidden_dim) * 0.01)\n",
    "        self.a = torch.nn.Parameter(torch.zeros(visible_dim))  # Visible bias\n",
    "        self.b = torch.nn.Parameter(torch.zeros(hidden_dim))   # Hidden bias\n",
    "        self.lr = lr\n",
    "\n",
    "    def sigmoid(self, x):\n",
    "        return 1 / (1 + torch.exp(-x))\n",
    "\n",
    "    def sample_hidden(self, v):\n",
    "        h_probs = self.sigmoid(torch.matmul(v, self.W) + self.b)\n",
    "        h_sample = torch.bernoulli(h_probs)\n",
    "        return h_probs, h_sample\n",
    "\n",
    "    def sample_visible(self, h):\n",
    "        v_probs = self.sigmoid(torch.matmul(h, self.W.t()) + self.a)\n",
    "        v_sample = torch.bernoulli(v_probs)\n",
    "        return v_probs, v_sample\n",
    "\n",
    "    def contrastive_divergence(self, v0, k=1):\n",
    "        # Positive phase\n",
    "        h0_probs, h0_sample = self.sample_hidden(v0)\n",
    "\n",
    "        # Negative phase (k-step Gibbs sampling)\n",
    "        vk = v0.clone()\n",
    "        for _ in range(k):\n",
    "            _, hk_sample = self.sample_hidden(vk)\n",
    "            vk_probs, vk_sample = self.sample_visible(hk_sample)\n",
    "            vk = vk_sample\n",
    "\n",
    "        # Update parameters\n",
    "        positive_association = torch.matmul(v0.t(), h0_probs)\n",
    "        negative_association = torch.matmul(vk.t(), self.sigmoid(torch.matmul(vk, self.W) + self.b))\n",
    "\n",
    "        self.W.data += self.lr * (positive_association - negative_association) / v0.size(0)\n",
    "        self.a.data += self.lr * (v0.mean(dim=0) - vk.mean(dim=0))\n",
    "        self.b.data += self.lr * (h0_probs.mean(dim=0) - self.sigmoid(torch.matmul(vk, self.W) + self.b).mean(dim=0))"
   ],
   "id": "e8e1d73b64f61be3",
   "outputs": [],
   "execution_count": 4
  },
  {
   "metadata": {
    "ExecuteTime": {
     "end_time": "2025-01-26T16:55:22.255103Z",
     "start_time": "2025-01-26T16:53:03.236093Z"
    }
   },
   "cell_type": "code",
   "source": [
    "# Initialize RBM\n",
    "visible_dim = 784  # 28x28 images\n",
    "hidden_dim = 128\n",
    "rbm = RBM(visible_dim, hidden_dim, lr=0.01)\n",
    "\n",
    "# Training parameters\n",
    "epochs = 10\n",
    "\n",
    "# Train\n",
    "for epoch in range(epochs):\n",
    "    epoch_loss = 0\n",
    "    for batch_idx, (data, _) in enumerate(train_loader):\n",
    "        # Flatten images and binarize\n",
    "        data = data.view(-1, visible_dim)\n",
    "        data = (data > 0.5).float()  # Binarize\n",
    "\n",
    "        # Perform contrastive divergence\n",
    "        rbm.contrastive_divergence(data)\n",
    "\n",
    "        # Calculate reconstruction error\n",
    "        h_probs, _ = rbm.sample_hidden(data)\n",
    "        v_probs, _ = rbm.sample_visible(h_probs)\n",
    "        loss = torch.mean((data - v_probs) ** 2)\n",
    "        epoch_loss += loss.item()\n",
    "\n",
    "    print(f\"Epoch {epoch+1}/{epochs}, Loss: {epoch_loss/len(train_loader):.4f}\")"
   ],
   "id": "93f85a104a67db14",
   "outputs": [
    {
     "name": "stdout",
     "output_type": "stream",
     "text": [
      "Epoch 1/10, Loss: 0.0628\n",
      "Epoch 2/10, Loss: 0.0449\n",
      "Epoch 3/10, Loss: 0.0389\n",
      "Epoch 4/10, Loss: 0.0353\n",
      "Epoch 5/10, Loss: 0.0329\n",
      "Epoch 6/10, Loss: 0.0310\n",
      "Epoch 7/10, Loss: 0.0295\n",
      "Epoch 8/10, Loss: 0.0283\n",
      "Epoch 9/10, Loss: 0.0272\n",
      "Epoch 10/10, Loss: 0.0263\n"
     ]
    }
   ],
   "execution_count": 5
  },
  {
   "metadata": {
    "ExecuteTime": {
     "end_time": "2025-01-26T17:06:09.104602Z",
     "start_time": "2025-01-26T17:06:08.688978Z"
    }
   },
   "cell_type": "code",
   "source": [
    "import matplotlib.pyplot as plt\n",
    "\n",
    "def plot_reconstructions(model, data_loader, num=5):\n",
    "    model.eval()  # Set model to evaluation mode\n",
    "    with torch.no_grad():\n",
    "        for images, _ in data_loader:\n",
    "            images = images.view(-1, visible_dim)\n",
    "            images = (images > 0.5).float()  # Binarize\n",
    "\n",
    "            # Reconstruct\n",
    "            h_probs, _ = model.sample_hidden(images)\n",
    "            v_probs, _ = model.sample_visible(h_probs)\n",
    "\n",
    "            # Plot\n",
    "            plt.figure(figsize=(10, 4))\n",
    "            for i in range(num):\n",
    "                # Original\n",
    "                ax = plt.subplot(2, num, i+1)\n",
    "                plt.imshow(images[i].reshape(28, 28), cmap='gray')\n",
    "\n",
    "                # Reconstructed\n",
    "                ax = plt.subplot(2, num, num+i+1)\n",
    "                plt.imshow(v_probs[i].reshape(28, 28), cmap='gray')\n",
    "            plt.show()\n",
    "            break\n",
    "\n",
    "plot_reconstructions(rbm, test_loader)"
   ],
   "id": "9b5074fb2b20bc8b",
   "outputs": [
    {
     "data": {
      "text/plain": [
       "<Figure size 1000x400 with 10 Axes>"
      ],
      "image/png": "[encoded data removed]"
     },
     "metadata": {},
     "output_type": "display_data"
    }
   ],
   "execution_count": 13
  },
  {
   "metadata": {
    "ExecuteTime": {
     "end_time": "2025-01-26T17:06:00.468771Z",
     "start_time": "2025-01-26T17:05:59.814022Z"
    }
   },
   "cell_type": "code",
   "source": [
    "# sampling from random noise:\n",
    "\n",
    "def generate_samples(model, num_samples=10, gibbs_steps=1000):\n",
    "    # Disable gradient tracking\n",
    "    with torch.no_grad():\n",
    "        # Start with random visible units\n",
    "        v = torch.bernoulli(torch.rand(num_samples, 784)).float()\n",
    "\n",
    "        # Run Gibbs sampling\n",
    "        for _ in range(gibbs_steps):\n",
    "            _, h = model.sample_hidden(v)\n",
    "            _, v = model.sample_visible(h)\n",
    "\n",
    "        # Detach and convert to NumPy\n",
    "        return v.detach().cpu().numpy()\n",
    "\n",
    "# Usage with proper visualization\n",
    "samples = generate_samples(rbm)\n",
    "plt.imshow(samples[0].reshape(28, 28), cmap='gray')\n",
    "plt.show()"
   ],
   "id": "7246f9009d602d1",
   "outputs": [
    {
     "data": {
      "text/plain": [
       "<Figure size 640x480 with 1 Axes>"
      ],
      "image/png": "[encoded data removed]"
     },
     "metadata": {},
     "output_type": "display_data"
    }
   ],
   "execution_count": 12
  }
 ],
 "metadata": {
  "kernelspec": {
   "display_name": "Python 3",
   "language": "python",
   "name": "python3"
  },
  "language_info": {
   "codemirror_mode": {
    "name": "ipython",
    "version": 2
   },
   "file_extension": ".py",
   "mimetype": "text/x-python",
   "name": "python",
   "nbconvert_exporter": "python",
   "pygments_lexer": "ipython2",
   "version": "2.7.6"
  }
 },
 "nbformat": 4,
 "nbformat_minor": 5
}
