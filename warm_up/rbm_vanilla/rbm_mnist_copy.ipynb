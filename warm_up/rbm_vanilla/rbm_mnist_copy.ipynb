{
 "cells": [
  {
   "cell_type": "code",
   "id": "initial_id",
   "metadata": {
    "collapsed": true,
    "ExecuteTime": {
     "end_time": "2025-01-26T18:03:14.000445Z",
     "start_time": "2025-01-26T18:03:13.768593Z"
    }
   },
   "source": [
    "import torch\n",
    "from torchvision import datasets, transforms\n",
    "from torch.utils.data import DataLoader\n",
    "\n",
    "# Define a transform to normalize the data\n",
    "transform = transforms.Compose([\n",
    "    transforms.ToTensor(),  # Convert images to PyTorch tensors\n",
    "    transforms.Normalize((0.5,), (0.5,))  # Normalize to [-1, 1]\n",
    "])\n",
    "\n",
    "# Load MNIST dataset\n",
    "train_dataset = datasets.MNIST(root='./data', train=True, download=True, transform=transform)\n",
    "test_dataset = datasets.MNIST(root='./data', train=False, download=True, transform=transform)\n",
    "\n",
    "# Create data loaders\n",
    "batch_size = 32\n",
    "train_loader = DataLoader(train_dataset, batch_size=batch_size, shuffle=True)\n",
    "test_loader = DataLoader(test_dataset, batch_size=batch_size, shuffle=False)\n",
    "\n",
    "# Check data shape\n",
    "for images, _ in train_loader:\n",
    "    print(f\"Batch shape: {images.shape}\")  # [batch_size, 1, 28, 28]\n",
    "    break"
   ],
   "outputs": [
    {
     "name": "stdout",
     "output_type": "stream",
     "text": [
      "Batch shape: torch.Size([32, 1, 28, 28])\n"
     ]
    }
   ],
   "execution_count": 2
  },
  {
   "metadata": {
    "ExecuteTime": {
     "end_time": "2025-01-26T18:03:14.011603Z",
     "start_time": "2025-01-26T18:03:14.004617Z"
    }
   },
   "cell_type": "code",
   "source": [
    "class RBM(torch.nn.Module):\n",
    "    def __init__(self, visible_dim, hidden_dim=128, lr=0.01):\n",
    "        super(RBM, self).__init__()\n",
    "        self.W = torch.nn.Parameter(torch.randn(visible_dim, hidden_dim) * 0.01)\n",
    "        self.a = torch.nn.Parameter(torch.zeros(visible_dim))  # Visible bias\n",
    "        self.b = torch.nn.Parameter(torch.zeros(hidden_dim))   # Hidden bias\n",
    "        self.lr = lr\n",
    "\n",
    "    def sigmoid(self, x):\n",
    "        return 1 / (1 + torch.exp(-x))\n",
    "\n",
    "    def sample_hidden(self, v):\n",
    "        h_probs = self.sigmoid(torch.matmul(v, self.W) + self.b)\n",
    "        h_sample = torch.bernoulli(h_probs)\n",
    "        return h_probs, h_sample\n",
    "\n",
    "    def sample_visible(self, h):\n",
    "        v_probs = self.sigmoid(torch.matmul(h, self.W.t()) + self.a)\n",
    "        v_sample = torch.bernoulli(v_probs)\n",
    "        return v_probs, v_sample\n",
    "\n",
    "    def contrastive_divergence(self, v0, k=1):\n",
    "        # Positive phase\n",
    "        h0_probs, h0_sample = self.sample_hidden(v0)\n",
    "\n",
    "        # Negative phase (k-step Gibbs sampling)\n",
    "        vk = v0.clone()\n",
    "        for _ in range(k):\n",
    "            _, hk_sample = self.sample_hidden(vk)\n",
    "            vk_probs, vk_sample = self.sample_visible(hk_sample)\n",
    "            vk = vk_sample\n",
    "\n",
    "        # Update parameters\n",
    "        positive_association = torch.matmul(v0.t(), h0_probs)\n",
    "        negative_association = torch.matmul(vk.t(), self.sigmoid(torch.matmul(vk, self.W) + self.b))\n",
    "\n",
    "        self.W.data += self.lr * (positive_association - negative_association) / v0.size(0)\n",
    "        self.a.data += self.lr * (v0.mean(dim=0) - vk.mean(dim=0))\n",
    "        self.b.data += self.lr * (h0_probs.mean(dim=0) - self.sigmoid(torch.matmul(vk, self.W) + self.b).mean(dim=0))"
   ],
   "id": "e8e1d73b64f61be3",
   "outputs": [],
   "execution_count": 3
  },
  {
   "metadata": {
    "ExecuteTime": {
     "end_time": "2025-01-26T18:03:14.027781Z",
     "start_time": "2025-01-26T18:03:14.024322Z"
    }
   },
   "cell_type": "code",
   "source": [
    "# Initialize RBM\n",
    "visible_dim = 784  # 28x28 images\n",
    "hidden_dim = 128\n",
    "rbm = RBM(visible_dim, hidden_dim, lr=0.01)\n",
    "\n",
    "# Training parameters\n",
    "epochs = 20"
   ],
   "id": "aafe7ce1b95a4bc8",
   "outputs": [],
   "execution_count": 4
  },
  {
   "metadata": {
    "ExecuteTime": {
     "end_time": "2025-01-26T18:03:27.968679Z",
     "start_time": "2025-01-26T18:03:27.962071Z"
    }
   },
   "cell_type": "code",
   "source": [
    "import torch\n",
    "import matplotlib.pyplot as plt\n",
    "import os\n",
    "import math\n",
    "\n",
    "def sample_from_rbm(rbm, epoch, out_folder=\"train_tmp\", n_samples=16, gibbs_steps=100):\n",
    "    \"\"\"\n",
    "    Generates n_samples from the RBM using gibbs_steps of alternating Gibbs sampling,\n",
    "    then saves them as a grid in out_folder/fantasies_step_{epoch}.png.\n",
    "    Returns the output file path.\n",
    "    \"\"\"\n",
    "\n",
    "    os.makedirs(out_folder, exist_ok=True)\n",
    "\n",
    "    visible_dim = rbm.W.shape[0]  # assuming [visible_dim, hidden_dim] = [784, 128]\n",
    "\n",
    "    # 1) Initialize visible states randomly (Bernoulli)\n",
    "    #    or you can start them as all zeros, or sample from real data, etc.\n",
    "    v = (torch.rand(n_samples, visible_dim) > 0.5).float()\n",
    "\n",
    "    # 2) Run Gibbs sampling for gibbs_steps\n",
    "    with torch.no_grad():\n",
    "        for _ in range(gibbs_steps):\n",
    "            # sample hidden\n",
    "            h_probs, h_samples = rbm.sample_hidden(v)\n",
    "            # sample visible\n",
    "            v_probs, v_samples = rbm.sample_visible(h_samples)\n",
    "            # update v\n",
    "            v = v_samples\n",
    "\n",
    "    # 3) Plot the final v as images\n",
    "    sqrt_n = int(math.sqrt(n_samples))\n",
    "    fig, axes = plt.subplots(sqrt_n, sqrt_n, figsize=(8, 8))\n",
    "\n",
    "    for i in range(n_samples):\n",
    "        row = i // sqrt_n\n",
    "        col = i % sqrt_n\n",
    "        ax = axes[row, col]\n",
    "\n",
    "        # Reshape each sample into 28x28\n",
    "        img = v[i].view(28, 28).cpu()\n",
    "        ax.imshow(img, cmap=\"gray\", vmin=0, vmax=1)\n",
    "        ax.axis(\"off\")\n",
    "\n",
    "    plt.suptitle(f\"RBM Fantasies at Epoch {epoch}\", fontsize=14)\n",
    "    plt.tight_layout()\n",
    "\n",
    "    out_path = os.path.join(out_folder, f\"fantasies_step_{epoch}.png\")\n",
    "    plt.savefig(out_path, dpi=100)\n",
    "    plt.close(fig)\n",
    "    return out_path"
   ],
   "id": "44e6fe8ac737e153",
   "outputs": [],
   "execution_count": 5
  },
  {
   "metadata": {},
   "cell_type": "code",
   "source": [
    "from IPython.display import clear_output, Image as IPyImage\n",
    "import os\n",
    "\n",
    "def train_rbm_with_fantasies(rbm, train_loader, epochs=10, out_folder=\"train_tmp\"):\n",
    "    visible_dim = 784  # for MNIST\n",
    "\n",
    "    for epoch in range(epochs):\n",
    "        epoch_loss = 0.0\n",
    "\n",
    "        for batch_idx, (data, _) in enumerate(train_loader):\n",
    "            data = data.view(-1, visible_dim)\n",
    "            data = (data > 0.5).float()  # Binarize\n",
    "\n",
    "            # 1) Contrastive Divergence step\n",
    "            rbm.contrastive_divergence(data)\n",
    "\n",
    "            # 2) Compute reconstruction error as a metric\n",
    "            h_probs, h_samples = rbm.sample_hidden(data)\n",
    "            v_probs, v_samples = rbm.sample_visible(h_samples)\n",
    "            loss = torch.mean((data - v_probs) ** 2)\n",
    "            epoch_loss += loss.item()\n",
    "\n",
    "        avg_epoch_loss = epoch_loss / len(train_loader)\n",
    "\n",
    "        # --- Visualize progress in the notebook ---\n",
    "        clear_output(wait=True)\n",
    "        print(f\"Epoch {epoch+1}/{epochs}, Loss: {avg_epoch_loss:.4f}\")\n",
    "\n",
    "        # (Optional) Save weights\n",
    "        # weights_path = save_rbm_weights(rbm, epoch+1, out_folder=out_folder, num_filters=16)\n",
    "\n",
    "        # 3) Generate fantasies to see generative ability\n",
    "        fantasies_path = sample_from_rbm(rbm, epoch+1, out_folder=out_folder,\n",
    "                                         n_samples=16, gibbs_steps=100)\n",
    "\n",
    "        # Display the fantasies inline in Jupyter\n",
    "        display(IPyImage(filename=fantasies_path))\n",
    "\n",
    "    print(\"Training complete. Fantasies generated each epoch.\")\n",
    "\n",
    "# Train the RBM\n",
    "train_rbm_with_fantasies(rbm, train_loader, epochs=50)"
   ],
   "id": "e7cbed82a148386c",
   "execution_count": 7,
   "outputs": [
    {
     "data": {
      "image/png": "[encoded data removed]",
      "text/plain": [
       "<IPython.core.display.Image object>"
      ]
     },
     "metadata": {},
     "output_type": "display_data"
    },
    {
     "ename": "KeyboardInterrupt",
     "evalue": "",
     "output_type": "error",
     "traceback": [
      "\u001B[0;31m---------------------------------------------------------------------------\u001B[0m",
      "\u001B[0;31mKeyboardInterrupt\u001B[0m                         Traceback (most recent call last)",
      "Cell \u001B[0;32mIn[7], line 42\u001B[0m\n\u001B[1;32m     39\u001B[0m     \u001B[38;5;28mprint\u001B[39m(\u001B[38;5;124m\"\u001B[39m\u001B[38;5;124mTraining complete. Fantasies generated each epoch.\u001B[39m\u001B[38;5;124m\"\u001B[39m)\n\u001B[1;32m     41\u001B[0m \u001B[38;5;66;03m# Train the RBM\u001B[39;00m\n\u001B[0;32m---> 42\u001B[0m \u001B[43mtrain_rbm_with_fantasies\u001B[49m\u001B[43m(\u001B[49m\u001B[43mrbm\u001B[49m\u001B[43m,\u001B[49m\u001B[43m \u001B[49m\u001B[43mtrain_loader\u001B[49m\u001B[43m,\u001B[49m\u001B[43m \u001B[49m\u001B[43mepochs\u001B[49m\u001B[38;5;241;43m=\u001B[39;49m\u001B[38;5;241;43m50\u001B[39;49m\u001B[43m)\u001B[49m\n",
      "Cell \u001B[0;32mIn[7], line 18\u001B[0m, in \u001B[0;36mtrain_rbm_with_fantasies\u001B[0;34m(rbm, train_loader, epochs, out_folder)\u001B[0m\n\u001B[1;32m     15\u001B[0m rbm\u001B[38;5;241m.\u001B[39mcontrastive_divergence(data)\n\u001B[1;32m     17\u001B[0m \u001B[38;5;66;03m# 2) Compute reconstruction error as a metric\u001B[39;00m\n\u001B[0;32m---> 18\u001B[0m h_probs, h_samples \u001B[38;5;241m=\u001B[39m \u001B[43mrbm\u001B[49m\u001B[38;5;241;43m.\u001B[39;49m\u001B[43msample_hidden\u001B[49m\u001B[43m(\u001B[49m\u001B[43mdata\u001B[49m\u001B[43m)\u001B[49m\n\u001B[1;32m     19\u001B[0m v_probs, v_samples \u001B[38;5;241m=\u001B[39m rbm\u001B[38;5;241m.\u001B[39msample_visible(h_samples)\n\u001B[1;32m     20\u001B[0m loss \u001B[38;5;241m=\u001B[39m torch\u001B[38;5;241m.\u001B[39mmean((data \u001B[38;5;241m-\u001B[39m v_probs) \u001B[38;5;241m*\u001B[39m\u001B[38;5;241m*\u001B[39m \u001B[38;5;241m2\u001B[39m)\n",
      "Cell \u001B[0;32mIn[3], line 13\u001B[0m, in \u001B[0;36mRBM.sample_hidden\u001B[0;34m(self, v)\u001B[0m\n\u001B[1;32m     12\u001B[0m \u001B[38;5;28;01mdef\u001B[39;00m \u001B[38;5;21msample_hidden\u001B[39m(\u001B[38;5;28mself\u001B[39m, v):\n\u001B[0;32m---> 13\u001B[0m     h_probs \u001B[38;5;241m=\u001B[39m \u001B[38;5;28mself\u001B[39m\u001B[38;5;241m.\u001B[39msigmoid(\u001B[43mtorch\u001B[49m\u001B[38;5;241;43m.\u001B[39;49m\u001B[43mmatmul\u001B[49m\u001B[43m(\u001B[49m\u001B[43mv\u001B[49m\u001B[43m,\u001B[49m\u001B[43m \u001B[49m\u001B[38;5;28;43mself\u001B[39;49m\u001B[38;5;241;43m.\u001B[39;49m\u001B[43mW\u001B[49m\u001B[43m)\u001B[49m \u001B[38;5;241m+\u001B[39m \u001B[38;5;28mself\u001B[39m\u001B[38;5;241m.\u001B[39mb)\n\u001B[1;32m     14\u001B[0m     h_sample \u001B[38;5;241m=\u001B[39m torch\u001B[38;5;241m.\u001B[39mbernoulli(h_probs)\n\u001B[1;32m     15\u001B[0m     \u001B[38;5;28;01mreturn\u001B[39;00m h_probs, h_sample\n",
      "\u001B[0;31mKeyboardInterrupt\u001B[0m: "
     ]
    }
   ]
  },
  {
   "metadata": {
    "ExecuteTime": {
     "end_time": "2025-01-26T18:11:51.094940Z",
     "start_time": "2025-01-26T18:11:51.023706Z"
    }
   },
   "cell_type": "code",
   "source": [
    "weights = rbm.W.data.cpu()\n",
    "weights = weights.sum(dim=1)\n",
    "plt.imshow(weights.view(28, 28), cmap='gray')\n",
    "plt.show()"
   ],
   "id": "7038c8f85a4d4be5",
   "outputs": [
    {
     "data": {
      "text/plain": [
       "<Figure size 640x480 with 1 Axes>"
      ],
      "image/png": "[encoded data removed]"
     },
     "metadata": {},
     "output_type": "display_data"
    }
   ],
   "execution_count": 8
  },
  {
   "metadata": {
    "ExecuteTime": {
     "end_time": "2025-01-26T18:12:56.575917Z",
     "start_time": "2025-01-26T18:12:56.033851Z"
    }
   },
   "cell_type": "code",
   "source": [
    "# sampling from random noise:\n",
    "\n",
    "def generate_samples(model, num_samples=10, gibbs_steps=1000):\n",
    "    # Disable gradient tracking\n",
    "    with torch.no_grad():\n",
    "        # Start with random visible units\n",
    "        v = torch.bernoulli(torch.rand(num_samples, 784)).float()\n",
    "\n",
    "        # Run Gibbs sampling\n",
    "        for _ in range(gibbs_steps):\n",
    "            _, h = model.sample_hidden(v)\n",
    "            _, v = model.sample_visible(h)\n",
    "\n",
    "        # Detach and convert to NumPy\n",
    "        return v.detach().cpu().numpy()\n",
    "\n",
    "# Usage with proper visualization\n",
    "samples = generate_samples(rbm)\n",
    "plt.imshow(samples[0].reshape(28, 28), cmap='gray')\n",
    "plt.show()"
   ],
   "id": "ca408b705d048f2d",
   "outputs": [
    {
     "data": {
      "text/plain": [
       "<Figure size 640x480 with 1 Axes>"
      ],
      "image/png": "[encoded data removed]"
     },
     "metadata": {},
     "output_type": "display_data"
    }
   ],
   "execution_count": 11
  },
  {
   "metadata": {
    "ExecuteTime": {
     "end_time": "2025-01-26T18:15:14.498092Z",
     "start_time": "2025-01-26T18:15:14.087206Z"
    }
   },
   "cell_type": "code",
   "source": [
    "import matplotlib.pyplot as plt\n",
    "\n",
    "def plot_reconstructions(model, data_loader, num=5):\n",
    "    model.eval()  # Set model to evaluation mode\n",
    "    with torch.no_grad():\n",
    "        for images, _ in data_loader:\n",
    "            images = images.view(-1, visible_dim)\n",
    "            images = (images > 0.5).float()  # Binarize\n",
    "\n",
    "            # Reconstruct\n",
    "            h_probs, _ = model.sample_hidden(images)\n",
    "            v_probs, _ = model.sample_visible(h_probs)\n",
    "\n",
    "            # Plot\n",
    "            plt.figure(figsize=(10, 4))\n",
    "            for i in range(num):\n",
    "                # Original\n",
    "                ax = plt.subplot(2, num, i+1)\n",
    "                plt.imshow(images[i].reshape(28, 28), cmap='gray')\n",
    "\n",
    "                # Reconstructed\n",
    "                ax = plt.subplot(2, num, num+i+1)\n",
    "                plt.imshow(v_probs[i].reshape(28, 28), cmap='gray')\n",
    "            plt.show()\n",
    "            break\n",
    "\n",
    "plot_reconstructions(rbm, test_loader)"
   ],
   "id": "94a7adc6815f2323",
   "outputs": [
    {
     "data": {
      "text/plain": [
       "<Figure size 1000x400 with 10 Axes>"
      ],
      "image/png": "[encoded data removed]"
     },
     "metadata": {},
     "output_type": "display_data"
    }
   ],
   "execution_count": 12
  },
  {
   "metadata": {
    "ExecuteTime": {
     "end_time": "2025-01-26T18:15:40.423289Z",
     "start_time": "2025-01-26T18:15:39.423285Z"
    }
   },
   "cell_type": "code",
   "source": [
    "# sampling from random noise:\n",
    "\n",
    "def generate_samples(model, num_samples=10, gibbs_steps=1000):\n",
    "    # Disable gradient tracking\n",
    "    with torch.no_grad():\n",
    "        # Start with random visible units\n",
    "        v = torch.bernoulli(torch.rand(num_samples, 784)).float()\n",
    "\n",
    "        # Run Gibbs sampling\n",
    "        for _ in range(gibbs_steps):\n",
    "            _, h = model.sample_hidden(v)\n",
    "            _, v = model.sample_visible(h)\n",
    "\n",
    "        # Detach and convert to NumPy\n",
    "        return v.detach().cpu().numpy()\n",
    "\n",
    "# Usage with proper visualization\n",
    "samples = generate_samples(rbm)\n",
    "plt.imshow(samples[0].reshape(28, 28), cmap='gray')\n",
    "plt.show()"
   ],
   "id": "5d6f9851a834d895",
   "outputs": [
    {
     "data": {
      "text/plain": [
       "<Figure size 640x480 with 1 Axes>"
      ],
      "image/png": "[encoded data removed]"
     },
     "metadata": {},
     "output_type": "display_data"
    }
   ],
   "execution_count": 13
  }
 ],
 "metadata": {
  "kernelspec": {
   "display_name": "Python 3",
   "language": "python",
   "name": "python3"
  },
  "language_info": {
   "codemirror_mode": {
    "name": "ipython",
    "version": 2
   },
   "file_extension": ".py",
   "mimetype": "text/x-python",
   "name": "python",
   "nbconvert_exporter": "python",
   "pygments_lexer": "ipython2",
   "version": "2.7.6"
  }
 },
 "nbformat": 4,
 "nbformat_minor": 5
}
