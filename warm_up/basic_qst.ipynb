{
 "cells": [
  {
   "metadata": {},
   "cell_type": "markdown",
   "source": [
    "#### Warm Up | Master's Thesis\n",
    "# QUANTUM HEISENBERG MODEL\n",
    "\n",
    "\n",
    "This is just some exercise to diagonalize a small system using `NumPy`.\n",
    "\n",
    "\n",
    "The quantum Heisenberg model is a quantum mechanical extension of the Ising model used to study magnetic systems. While the Ising model has spins $σ_i ∈ \\{± 1\\}$ representing magnetic dipoles aligned either up or down, the Heisenberg model allows these spins to behave more realistically using quantum operators.\n",
    "\n",
    "In the quantum Heisenberg model, spins are represented by Pauli spin-1/2 matrices acting on the tensor product space $\\left(\\mathbb{C}^2\\right)^{\\otimes N}$ of dimension $2^N$.\n",
    "\n",
    "\n",
    "\n",
    "The Pauli matrices, denoted as $\\sigma^x$, $\\sigma^y$, and $\\sigma^z$, are $2 \\times 2$ matrices that represent the quantum spin operators in the $x$, $y$, and $z$ directions respectively. These matrices can be thought of as representing rotations of a spin in the Bloch sphere:\n",
    "$$\n",
    "\\sigma^x = \\begin{pmatrix} 0 & 1 \\\\ 1 & 0 \\end{pmatrix}, \\quad \\sigma^y = \\begin{pmatrix} 0 & -i \\\\ i & 0 \\end{pmatrix}, \\quad \\sigma^z = \\begin{pmatrix} 1 & 0 \\\\ 0 & -1 \\end{pmatrix}\n",
    "$$\n",
    "\n",
    "These matrices are used to define the spin interactions at each site. For a 1D system where only the neighbors are coupled with each other, the Hamiltonian is given by:\n",
    "\n",
    "$$\n",
    "\\hat{H} = -\\frac{1}{2} \\sum_{j=1}^N \\left( J_x \\sigma_j^x \\sigma_{j+1}^x + J_y \\sigma_j^y \\sigma_{j+1}^y + J_z \\sigma_j^z \\sigma_{j+1}^z + h \\sigma_j^z \\right)\n",
    "$$\n",
    "\n",
    "The Heisenberg model can be categorized based on the coupling constants:\n",
    "\n",
    "- **XYZ Model**: $J_x \\neq J_y \\neq J_z$\n",
    "- **XXZ Model**: $J = J_x = J_y \\neq J_z$\n",
    "- **XXX Model**: $J_x = J_y = J_z = J$"
   ],
   "id": "45a3c4fac8ad6989"
  },
  {
   "metadata": {},
   "cell_type": "markdown",
   "source": [
    "#### 3-SITE HEISENBERG MODEL\n",
    "\n",
    "As a warm-up exercise, we want to diagonalize a small system of 3 spins.\n",
    "\n",
    "For this we consider a simplified version of the Heisenberg model with $J_x = J_y = 1$ and $J_z = h = 0$. The Hamiltonian simplifies to:\n",
    "\n",
    "$$\n",
    "\\hat{H} = -\\frac{1}{2} \\sum_{j=1}^N \\left( \\sigma_j^x \\sigma_{j+1}^x + \\sigma_j^y \\sigma_{j+1}^y \\right)\n",
    "$$\n",
    "\n",
    "This Hamiltonian describes an isotropic coupling in the $x$ and $y$ directions, with no coupling in the $z$ direction or external field.\n",
    "\n",
    "We are given 3 neighboring spin sites and assume no boundary conditions and only interactions between neighboring spins:\n",
    "\n",
    "$$\n",
    "\\hat{H}=-\\frac{1}{2}\\left(\\sigma_1^x \\sigma_2^x+\\sigma_2^x \\sigma_3^x+\\sigma_1^y \\sigma_2^y+\\sigma_2^y \\sigma_3^y\\right)\n",
    "$$\n",
    "Each interaction term is represented as a tensor product of Pauli matrices for the spins involved and the identity matrix for the unaffected spin:\n",
    "\n",
    "$\\sigma_1^x \\sigma_2^x$ becomes $\\sigma^x \\otimes \\sigma^x \\otimes \\sigma^0$\n",
    "\n",
    "$\\sigma_2^x \\sigma_3^x$ becomes $\\sigma^0 \\otimes \\sigma^x \\otimes \\sigma^x$\n",
    "\n",
    "We need to be very careful to respect the order of the tensor product. The order MUST align with the order when creating the state vector."
   ],
   "id": "653d23333a57ad0e"
  },
  {
   "metadata": {
    "ExecuteTime": {
     "end_time": "2025-01-09T15:56:35.802803Z",
     "start_time": "2025-01-09T15:56:35.800657Z"
    }
   },
   "cell_type": "code",
   "source": [
    "import numpy as np\n",
    "\n",
    "from collections import Counter\n",
    "from itertools import product\n",
    "\n",
    "import matplotlib.pyplot as plt\n",
    "import seaborn as sns"
   ],
   "id": "1433e1d2fd7fa6ef",
   "outputs": [],
   "execution_count": 1
  },
  {
   "metadata": {},
   "cell_type": "code",
   "outputs": [],
   "execution_count": null,
   "source": [
    "from typing import List, Optional\n",
    "\n",
    "def calculate_average(values: List[float], weights: Optional[List[float]] = None) -> float:\n",
    "    \"\"\"\n",
    "    Calculate the weighted or unweighted average of a list of numbers.\n",
    "\n",
    "    :param values: A list of numerical values.\n",
    "    :param weights: A list of weights corresponding to the values. Defaults to None.\n",
    "    :return: The calculated average.\n",
    "    :raises ValueError: If the lengths of values and weights differ.\n",
    "    \"\"\"\n",
    "    if weights and len(values) != len(weights):\n",
    "        raise ValueError(\"Length of values and weights must be the same.\")\n",
    "    if weights:\n",
    "        return sum(v * w for v, w in zip(values, weights)) / sum(weights)\n",
    "    return sum(values) / len(values)\n"
   ],
   "id": "bd3531e86f959e8d"
  },
  {
   "metadata": {
    "ExecuteTime": {
     "end_time": "2025-01-09T15:56:39.563644Z",
     "start_time": "2025-01-09T15:56:39.556469Z"
    }
   },
   "cell_type": "code",
   "source": [
    "# constructing the Hamiltonian\n",
    "\n",
    "sigma_0 = np.eye(2)\n",
    "sigma_x = np.array([[0, 1], [1, 0]])\n",
    "sigma_y = np.array([[0, -1j], [1j, 0]])\n",
    "sigma_z = np.array([[1, 0], [0, -1]])\n",
    "\n",
    "H_x_12 = np.kron(np.kron(sigma_x, sigma_x), sigma_0)\n",
    "H_x_23 = np.kron(np.kron(sigma_0, sigma_x), sigma_x)\n",
    "H_y_12 = np.kron(np.kron(sigma_y, sigma_y), sigma_0)\n",
    "H_y_23 = np.kron(np.kron(sigma_0, sigma_y), sigma_y)\n",
    "\n",
    "H = -0.5 * (H_x_12 + H_x_23 + H_y_12 + H_y_23)\n",
    "H"
   ],
   "id": "f311ded3cf0ee0b7",
   "outputs": [
    {
     "data": {
      "text/plain": [
       "array([[-0.+0.j, -0.+0.j, -0.+0.j, -0.+0.j, -0.+0.j, -0.+0.j, -0.+0.j,\n",
       "        -0.+0.j],\n",
       "       [-0.+0.j, -0.+0.j, -1.+0.j, -0.+0.j, -0.+0.j, -0.+0.j, -0.+0.j,\n",
       "        -0.+0.j],\n",
       "       [-0.+0.j, -1.+0.j, -0.+0.j, -0.+0.j, -1.+0.j, -0.+0.j, -0.+0.j,\n",
       "        -0.+0.j],\n",
       "       [-0.+0.j, -0.+0.j, -0.+0.j, -0.+0.j, -0.+0.j, -1.+0.j, -0.+0.j,\n",
       "        -0.+0.j],\n",
       "       [-0.+0.j, -0.+0.j, -1.+0.j, -0.+0.j, -0.+0.j, -0.+0.j, -0.+0.j,\n",
       "        -0.+0.j],\n",
       "       [-0.+0.j, -0.+0.j, -0.+0.j, -1.+0.j, -0.+0.j, -0.+0.j, -1.+0.j,\n",
       "        -0.+0.j],\n",
       "       [-0.+0.j, -0.+0.j, -0.+0.j, -0.+0.j, -0.+0.j, -1.+0.j, -0.+0.j,\n",
       "        -0.+0.j],\n",
       "       [-0.+0.j, -0.+0.j, -0.+0.j, -0.+0.j, -0.+0.j, -0.+0.j, -0.+0.j,\n",
       "        -0.+0.j]])"
      ]
     },
     "execution_count": 2,
     "metadata": {},
     "output_type": "execute_result"
    }
   ],
   "execution_count": 2
  },
  {
   "metadata": {},
   "cell_type": "markdown",
   "source": [
    "#### DIAGONALIZATION\n",
    "\n",
    "```\n",
    "DISCLAIMER\n",
    "The following part might not be fully correct. I simply tried to google what is happening for my own understanding.\n",
    "```\n",
    "\n",
    "Over time, the system evolves dynamically toward a **Boltzmann distribution** as it interacts with its environment. This distribution describes the probability of occupying an energy eigenstate $E_i$ at thermal equilibrium and is given by:\n",
    "\n",
    "$$\n",
    "P\\left(E_i\\right) \\propto e^{-E_i / k_B T}\n",
    "$$\n",
    "\n",
    "This distribution is often visualized as a **staircase**, where each step corresponds to an energy level:\n",
    "\n",
    "- The **ground state** (lowest step) is the most likely to be occupied.\n",
    "- Higher-energy states (higher steps) are exponentially less likely to be occupied as their energy increases.\n",
    "\n",
    "If the system starts in a high-energy state or a random superposition of states, it exhibits a **downward trend** in energy due to the relative probabilities of occupation between states. The ratio of probabilities between two states with energies $E_1$ and $E_2$ is given by the **Boltzmann quotient**:\n",
    "\n",
    "$$\n",
    "\\frac{P\\left(E_2\\right)}{P\\left(E_1\\right)}=e^{-\\left(E_2-E_1\\right) / k_B T}\n",
    "$$\n",
    "\n",
    "This quotient explains why:\n",
    "\n",
    "- **Downward transitions** (from $E_2$ to $E_1$ with $E_2 > E_1$) are more likely.\n",
    "- **Upward transitions** (from $E_1$ to $E_2$) are less likely, especially for larger energy gaps or lower temperatures.\n",
    "\n",
    "At very low temperatures ($T \\to 0$), the system overwhelmingly occupies the ground state, as $P(E_i) \\to 0$ for all $E_i > E_{\\text{ground}}$.\n",
    "\n",
    "Now the Boltzmann Distribution tells us how we get from the raw energy values to the occupation probabilities. But actually we don't know how far each energy level is spread apart, i.e. we actually don't know how the staircase is shaped.\n",
    "\n",
    "Here is where the Hamiltonian comes into play. The Hamiltonian encodes all the forces, interactions, and constraints in the system and dictates how a system evolves over time (via the Schrödinger equation).\n",
    "By diagonalizing the Hamiltonian, you uncover the system's possible energies, from the ground state (minimum eigenvalue) to the excited states, i.e. the staircase.\n",
    "\n",
    "The interesting thing is, when you evolve one of the eigenstates using the Schrödinger equation, you get an infinitesimal change in the global phase of the wave function. This means the frequency of the global phase is dependent on the energy of the eigenstate. This means that different energy levels correspond to different modes of the wave function in the global phase. Each of those states is defined by a configuration of spins and this specific configuration is captured by an eigenvector of the Hamiltonian.\n",
    "\n",
    "When we apply the **Hamiltonian** $\\hat{H}$ to an **eigenvector** $|\\psi\\rangle$, we obtain:\n",
    "\n",
    "$$\n",
    "\\hat{H} |\\psi\\rangle = E |\\psi\\rangle\n",
    "$$\n",
    "\n",
    "where $E$ is the **energy** associated with that eigenvector. This operation is purely **mathematical** and reveals the energy of the state $|\\psi\\rangle$. Importantly, this is not a **measurement** in the quantum mechanical sense; it doesn’t involve collapsing the wave function but instead simply calculates what the energy would be if we were to measure it.\n",
    "\n",
    "To relate this to the **ground state**: it is simply the **eigenvector** corresponding to the **lowest energy** (smallest eigenvalue)."
   ],
   "id": "c8a0b6e57648a54f"
  },
  {
   "metadata": {
    "ExecuteTime": {
     "end_time": "2025-01-09T16:15:10.405759Z",
     "start_time": "2025-01-09T16:15:10.397357Z"
    }
   },
   "cell_type": "code",
   "source": [
    "# diagonalizing the Hamiltonian\n",
    "\n",
    "eigenvalues, eigenvectors = np.linalg.eigh(H)\n",
    "eigenvalues"
   ],
   "id": "e83382c3d7a14275",
   "outputs": [
    {
     "data": {
      "text/plain": [
       "array([-1.41421356e+00, -1.41421356e+00, -2.75795620e-17, -2.75795620e-17,\n",
       "       -0.00000000e+00, -0.00000000e+00,  1.41421356e+00,  1.41421356e+00])"
      ]
     },
     "execution_count": 3,
     "metadata": {},
     "output_type": "execute_result"
    }
   ],
   "execution_count": 3
  },
  {
   "metadata": {
    "ExecuteTime": {
     "end_time": "2025-01-09T16:15:23.713803Z",
     "start_time": "2025-01-09T16:15:23.710632Z"
    }
   },
   "cell_type": "code",
   "source": [
    "# let's say we look at the second eigenvector forth on since it is a bit more exciting than the first one\n",
    "\n",
    "psi = eigenvectors[1]\n",
    "psi"
   ],
   "id": "8b81b66cce6244e0",
   "outputs": [
    {
     "data": {
      "text/plain": [
       "array([-0.5       +0.j,  0.        +0.j, -0.70710678-0.j,  0.        +0.j,\n",
       "        0.        +0.j,  0.        +0.j, -0.5       +0.j,  0.        +0.j])"
      ]
     },
     "execution_count": 4,
     "metadata": {},
     "output_type": "execute_result"
    }
   ],
   "execution_count": 4
  },
  {
   "metadata": {},
   "cell_type": "markdown",
   "source": [
    "Each entry in the eigenvector corresponds to a specific configuration of spins in the computational basis. For example, the first entry corresponds to the configuration $|000\\rangle$, which means all three qubits are in the state $|0\\rangle$. The complex conjugate squared of the amplitude at each entry gives the probability of measuring the system in that specific configuration.\n",
    "Even though we defined the Hamiltonian in terms of the Pauli matrices $\\sigma^x$ and $\\sigma^y$, the eigenvectors are expressed in the computational basis. The computational basis is essentially the tensor product of the eigenstates of the Pauli matrix $\\sigma^z$ (which are $|0\\rangle$ and $|1\\rangle$) over all spins."
   ],
   "id": "ebcad2f62c2c0151"
  },
  {
   "metadata": {},
   "cell_type": "markdown",
   "source": [
    "#### QUANTUM STATE TOMOGRAPHY\n",
    "\n",
    "To perform **Quantum State Tomography (QST)** on the given quantum state, we want to reconstruct the **density matrix** using measurements in the **Pauli basis**. As an initial exercise we simply want to reconstruct the following pure state:\n",
    "\n",
    "$$\n",
    "|\\psi\\rangle =\n",
    "\\begin{bmatrix} \n",
    "-\\frac{1}{2} \\\\\n",
    "0 \\\\\n",
    "-\\frac{1}{\\sqrt{2}} \\\\\n",
    "0 \\\\\n",
    "0 \\\\\n",
    "0 \\\\\n",
    "-\\frac{1}{2} \\\\\n",
    "0\n",
    "\\end{bmatrix}\n",
    "$$\n",
    "\n",
    "This state is a vector in an **8-dimensional Hilbert space**, corresponding to a **3-qubit system**. The goal of QST is to determine the state of the system by measuring **expectation values** of specific observables on multiple copies of the system.\n",
    "\n",
    "Since we know the underlying state, we can simulate the measurement statistics using `NumPy`.\n",
    "\n",
    "Lets attempt to measure the first qubit in $x$-direction. We begin by constructing the measurement operators corresponding to the projectors onto the $|+\\rangle$ and $|-\\rangle$ eigenstates of the Pauli $\\sigma_x$ operator:\n",
    "\n",
    "- **Positive eigenstate** with eigenvalue $+1$:\n",
    "  $$\n",
    "  |+\\rangle = \\frac{1}{\\sqrt{2}} (|0\\rangle + |1\\rangle)\n",
    "  $$\n",
    "\n",
    "- **Negative eigenstate** with eigenvalue $-1$:\n",
    "  $$\n",
    "  |-\\rangle = \\frac{1}{\\sqrt{2}} (|0\\rangle - |1\\rangle)\n",
    "  $$\n",
    "\n",
    "The projectors themselves can be expressed in terms of the Pauli $\\sigma_x$ operator and the identity operator $\\sigma_0$:\n",
    "\n",
    "$$\n",
    "P_+ = |+\\rangle\\langle+|=\\frac{1}{2} (\\sigma_0 + \\sigma_x)\n",
    "$$\n",
    "\n",
    "$$\n",
    "P_- = |-\\rangle\\langle-|= \\frac{1}{2} (\\sigma_0 - \\sigma_x)\n",
    "$$\n",
    "\n",
    "Since the full Hilbert space is 8-dimensional, we need to expand our single-qubit projectors to act on the entire system:\n",
    "\n",
    "$$\n",
    "\\begin{align*}\n",
    "& P_{+}^{(0)}=P_{+} \\otimes \\sigma_0 \\otimes \\sigma_0 \\\\\n",
    "& P_{-}^{(0)}=P_{-} \\otimes \\sigma_0 \\otimes \\sigma_0\n",
    "\\end{align*}\n",
    "$$\n",
    "\n",
    "The probability of obtaining a specific measurement outcome is given by the expectation value of the corresponding projector with respect to the quantum state $|\\psi\\rangle$:\n",
    "\n",
    "- **Probability of measuring $|+\\rangle$ on qubit 0**:\n",
    "  $$\n",
    "p_{+}^{(0)}=\\langle\\psi| P_{+}^{(0)}|\\psi\\rangle\n",
    "  $$\n",
    "\n",
    "- **Probability of measuring $|-\\rangle$ on qubit 0**:\n",
    "  $$\n",
    "p_{-}^{(0)}=\\langle\\psi| P_{-}^{(0)}|\\psi\\rangle\n",
    "  $$\n",
    "\n",
    "With the probabilities calculated, we can simulate measurements to observe how the quantum state behaves under measurement in the $x$-direction."
   ],
   "id": "ad52e0961f91c8b4"
  },
  {
   "metadata": {
    "ExecuteTime": {
     "end_time": "2025-01-09T16:21:56.652153Z",
     "start_time": "2025-01-09T16:21:56.647598Z"
    }
   },
   "cell_type": "code",
   "source": [
    "# calculating said probabilities on psi\n",
    "\n",
    "sigma_plus = 0.5 * (sigma_0 + sigma_x)\n",
    "sigma_minus = 0.5 * (sigma_0 - sigma_x)\n",
    "\n",
    "meas_plus = np.kron(sigma_plus, np.kron(sigma_0, sigma_0))\n",
    "meas_minus = np.kron(sigma_minus, np.kron(sigma_0, sigma_0))\n",
    "\n",
    "prob_plus = np.real(np.vdot(psi, meas_plus @ psi))\n",
    "prob_minus = np.real(np.vdot(psi, meas_minus @ psi))\n",
    "\n",
    "print(f\"Probability of measuring |+⟩ in x-direction on qubit 0: {prob_plus:.3f}\")\n",
    "print(f\"Probability of measuring |−⟩ in x-direction on qubit 0: {prob_minus:.3f}\")\n",
    "print(f\"Sum of probabilities: {prob_plus + prob_minus:.3f}\")"
   ],
   "id": "e12d7f9fcd1f6546",
   "outputs": [
    {
     "name": "stdout",
     "output_type": "stream",
     "text": [
      "Probability of measuring |+⟩ in x-direction on qubit 0: 0.854\n",
      "Probability of measuring |−⟩ in x-direction on qubit 0: 0.146\n",
      "Sum of probabilities: 1.000\n"
     ]
    }
   ],
   "execution_count": 8
  },
  {
   "metadata": {
    "ExecuteTime": {
     "end_time": "2025-01-09T16:23:16.248035Z",
     "start_time": "2025-01-09T16:23:16.238394Z"
    }
   },
   "cell_type": "code",
   "source": [
    "# using probabilities to generate counts\n",
    "\n",
    "samples = 1000\n",
    "measurements_qubit0 = np.random.choice(['+', '-'], size=samples, p=[prob_plus, prob_minus])\n",
    "\n",
    "counts_qubit0 = Counter(measurements_qubit0)\n",
    "print(f\"Measurement results for qubit 0 in x basis ({samples} trials): \\nstate |+⟩: {counts_qubit0['+']}, state |-⟩: {counts_qubit0['-']}\")"
   ],
   "id": "5d4d7d91d6b3a32d",
   "outputs": [
    {
     "name": "stdout",
     "output_type": "stream",
     "text": [
      "Measurement results for qubit 0 in x basis (1000 trials): \n",
      "state |+⟩: 854, state |-⟩: 146\n"
     ]
    }
   ],
   "execution_count": 9
  },
  {
   "metadata": {},
   "cell_type": "markdown",
   "source": [
    "#### DENSITY MATRIX RECONSTRUCTION\n",
    "\n",
    "QST basically involves the reconstruction of the density matrix. In order to fully characterize the quantum state, we need to perform measurements for each direction on each qubit.\n",
    "\n",
    "For a 3-qubit system, this results in $4^3 = 64$ different combinations of Pauli operators that need to be measured to obtain all necessary expectation values. To obtain the probability distributions we need multiple samples for each of those entries.\n",
    "\n",
    "The expectation values $\\langle \\sigma_{i} \\otimes \\sigma_{j} \\otimes \\sigma_{k} \\rangle $ are computed from the measurement statistics.\n",
    "\n",
    "The book *Quantum Computation and Quantum Information* by Nielsen and Chuang provides a general formula for reconstructing an $N$-qubit density matrix on page 390 (their Eq. 8.149). In the notation of that book, one writes\n",
    "\n",
    "$$\n",
    "\\rho\n",
    "=\\sum_{\\vec{v}} \\frac{\\operatorname{tr}\\!\\bigl(\\sigma_{v_1} \\otimes \\sigma_{v_2} \\otimes \\cdots \\otimes \\sigma_{v_n}\\,\\rho\\bigr)}{2^n}\\,\n",
    "\\bigl(\\sigma_{v_1} \\otimes \\sigma_{v_2} \\otimes \\cdots \\otimes \\sigma_{v_n}\\bigr),\n",
    "$$\n",
    "\n",
    "where $\\vec{v} = (v_1, \\ldots, v_n)$ with each $v_i \\in \\{0,1,2,3\\}$.\n",
    "\n",
    "**Specializing to 3 qubits** simply means relabeling $\\vec{v}=(v_1, v_2, v_3)$ as $(i,j,k)$. Since each $v_m$ can be $0,1,2,3$, we get\n",
    "$$\n",
    "\\rho\n",
    "= \\frac{1}{2^3} \\sum_{i,j,k=0}^{3}\n",
    "\\operatorname{tr}\\!\\bigl(\\rho\\,(\\sigma_i \\otimes \\sigma_j \\otimes \\sigma_k)\\bigr)\\,\n",
    "\\bigl(\\sigma_i \\otimes \\sigma_j \\otimes \\sigma_k\\bigr).\n",
    "$$\n",
    "\n",
    "Finally, recall that the **trace** of $\\rho$ times an operator $M$ is the definition of the **expectation value** of $M$ in the state $\\rho$. Symbolically,\n",
    "\n",
    "$$\n",
    "\\operatorname{tr}\\!\\bigl(\\rho\\,M\\bigr)\n",
    "\\;=\\;\n",
    "\\langle M \\rangle,\n",
    "$$\n",
    "\n",
    "so we write\n",
    "\n",
    "$$\n",
    "\\rho\n",
    "= \\frac{1}{2^3} \\sum_{i,j,k=0}^{3}\n",
    "\\langle \\sigma_{i} \\otimes \\sigma_{j} \\otimes \\sigma_{k}\\rangle \\,\n",
    "\\bigl(\\sigma_i \\otimes \\sigma_j \\otimes \\sigma_k\\bigr).\n",
    "$$\n",
    "\n",
    "After this reconstruction, we can compare the density matrix with the one of the state. For the given eigenstate $|\\psi\\rangle$, we can compute the **density matrix** directly, as it is a pure state. The density matrix $\\rho$ for a pure state $|\\psi\\rangle$ is given by:\n",
    "\n",
    "$$\n",
    "\\rho = |\\psi\\rangle \\langle \\psi|\n",
    "$$\n"
   ],
   "id": "845c5e4eacaaff38"
  },
  {
   "metadata": {},
   "cell_type": "markdown",
   "source": [
    "### STRUCTURED APPROACH TO SAMPLING\n",
    "\n",
    "From now on we need a bit more structured code to handle the complexity. We would first like to perform sampling again for one specific measurement setting."
   ],
   "id": "a64ec60d4581f396"
  },
  {
   "metadata": {
    "ExecuteTime": {
     "end_time": "2024-12-19T11:25:51.625448Z",
     "start_time": "2024-12-19T11:25:51.619857Z"
    }
   },
   "cell_type": "code",
   "source": [
    "class PauliOperator:\n",
    "    def __init__(self, matrix):\n",
    "        self.matrix = matrix\n",
    "        self.eigenvalues, self.eigenvectors = np.linalg.eigh(matrix)\n",
    "        self.eigenvectors = self.eigenvectors.T\n",
    "\n",
    "\n",
    "class ProjectionOperator:\n",
    "    def __init__(self, pauli_operators):\n",
    "        self.pauli_operators = pauli_operators\n",
    "        self.num_qubits = len(pauli_operators)\n",
    "        self.basis_vectors = []\n",
    "        self.eigenvalues = []\n",
    "        self._construct_basis()\n",
    "\n",
    "    def _construct_basis(self):\n",
    "        # first we denote each of the eigenvectors |001> etc. as list of triples\n",
    "        for outcome_indices in product(range(2), repeat=self.num_qubits):\n",
    "            eigenvalue_product = 1.0\n",
    "            measurement_vector = None\n",
    "\n",
    "            # for every triple match up the three pauli operators\n",
    "            for pauli_op, outcome_index in zip(self.pauli_operators, outcome_indices):\n",
    "                eigenvalue = pauli_op.eigenvalues[outcome_index]\n",
    "                eigenvector = pauli_op.eigenvectors[outcome_index]\n",
    "\n",
    "                eigenvalue_product *= eigenvalue\n",
    "\n",
    "                if measurement_vector is None:\n",
    "                    measurement_vector = eigenvector\n",
    "                else:\n",
    "                    measurement_vector = np.kron(measurement_vector, eigenvector)\n",
    "\n",
    "            self.basis_vectors.append(measurement_vector)\n",
    "            self.eigenvalues.append(eigenvalue_product)\n",
    "\n",
    "    def get_basis_vectors(self):\n",
    "        return self.basis_vectors\n",
    "\n",
    "    def get_eigenvalues(self):\n",
    "        return self.eigenvalues"
   ],
   "id": "96cc1bf187a98e41",
   "outputs": [],
   "execution_count": 11
  },
  {
   "metadata": {
    "ExecuteTime": {
     "end_time": "2024-12-19T11:25:53.417184Z",
     "start_time": "2024-12-19T11:25:53.411516Z"
    }
   },
   "cell_type": "code",
   "source": [
    "# define projection operator\n",
    "sigma_0 = PauliOperator(np.array([[1, 0], [0, 1]], dtype=complex))\n",
    "sigma_x = PauliOperator(np.array([[0, 1], [1, 0]], dtype=complex))\n",
    "proj_op = ProjectionOperator([sigma_x, sigma_0, sigma_0])\n",
    "\n",
    "# project the state vector onto the measurement basis and apply Born's rule (different to above)\n",
    "psi_prob = [np.abs(np.vdot(vec, psi))**2 for vec in proj_op.get_basis_vectors()]\n",
    "psi_prob"
   ],
   "id": "c3d69db5b877d153",
   "outputs": [
    {
     "data": {
      "text/plain": [
       "[0.12499999999999994,\n",
       " 0.0,\n",
       " 0.021446609406726175,\n",
       " 0.0,\n",
       " 0.12499999999999994,\n",
       " 0.0,\n",
       " 0.7285533905932735,\n",
       " 0.0]"
      ]
     },
     "execution_count": 12,
     "metadata": {},
     "output_type": "execute_result"
    }
   ],
   "execution_count": 12
  },
  {
   "metadata": {
    "ExecuteTime": {
     "end_time": "2024-12-19T12:33:55.699607Z",
     "start_time": "2024-12-19T12:33:55.696051Z"
    }
   },
   "cell_type": "code",
   "source": "np.abs([1+1j])",
   "id": "7710588bb75630be",
   "outputs": [
    {
     "data": {
      "text/plain": [
       "array([1.41421356])"
      ]
     },
     "execution_count": 36,
     "metadata": {},
     "output_type": "execute_result"
    }
   ],
   "execution_count": 36
  },
  {
   "metadata": {},
   "cell_type": "markdown",
   "source": "The probabilities correspond to In order to the states (0,0,0), (0,0,1), (0,1,0), (0,1,1), (1,0,0), (1,0,1), (1,1,0), (1,1,1). In order to get the single qubit probabilities, we have to marginalize over all the outcomes where the qubit has the desired value.",
   "id": "9c1c2bbd86cd8af0"
  },
  {
   "metadata": {
    "ExecuteTime": {
     "end_time": "2024-12-19T11:25:56.408499Z",
     "start_time": "2024-12-19T11:25:56.402358Z"
    }
   },
   "cell_type": "code",
   "source": [
    "p_plus = sum(psi_prob[i] for i, idx in enumerate(product(range(2), repeat=3)) if idx[0] == 0)\n",
    "p_minus = sum(psi_prob[i] for i, idx in enumerate(product(range(2), repeat=3)) if idx[0] == 1)\n",
    "\n",
    "print(\"Probability of measuring |+⟩ in x-direction on qubit 0:\", p_plus)\n",
    "print(\"Probability of measuring |−⟩ in x-direction on qubit 0:\", p_minus)\n",
    "print(\"Sum of probabilities:\", p_plus + p_minus)"
   ],
   "id": "2497d2977ebf8cdc",
   "outputs": [
    {
     "name": "stdout",
     "output_type": "stream",
     "text": [
      "Probability of measuring |+⟩ in x-direction on qubit 0: 0.14644660940672613\n",
      "Probability of measuring |−⟩ in x-direction on qubit 0: 0.8535533905932735\n",
      "Sum of probabilities: 0.9999999999999997\n"
     ]
    }
   ],
   "execution_count": 13
  },
  {
   "metadata": {},
   "cell_type": "markdown",
   "source": [
    "Once we have the probabilities for a state psi, we can calculate the expectation value for the given measurement setting using the eigenvalues of the projection operator.\n",
    "\n",
    "Furthermore, we can run a sampling experiment to observe the expectation value from the samples."
   ],
   "id": "607cac713bf95914"
  },
  {
   "metadata": {
    "ExecuteTime": {
     "end_time": "2024-12-19T12:36:28.326528Z",
     "start_time": "2024-12-19T12:36:28.313304Z"
    }
   },
   "cell_type": "code",
   "source": [
    "# theoretical expectation value\n",
    "eigenvalues = proj_op.get_eigenvalues()\n",
    "\n",
    "theo_exp = sum(e * p for e, p in zip(eigenvalues, psi_prob))\n",
    "\n",
    "# sampling experiment, by choosing random indices 0-7 with the given probabilities\n",
    "num_samples = 1000\n",
    "outcomes = np.random.choice(range(8), size=num_samples, p=psi_prob)\n",
    "counts = Counter(outcomes)\n",
    "\n",
    "obs_exp = sum(eigenvalues[outcome_idx] * (count_value / num_samples) for outcome_idx, count_value in counts.items())\n",
    "\n",
    "print(\"Theoretical Expectation Value:\", theo_exp)\n",
    "print(\"Observed Expectation Value:\", obs_exp)\n",
    "print(\"Raw outcome counts:\", counts)"
   ],
   "id": "afd0cecfde4a1d5",
   "outputs": [
    {
     "name": "stdout",
     "output_type": "stream",
     "text": [
      "Theoretical Expectation Value: 0.7071067811865474\n",
      "Observed Expectation Value: 0.70516\n",
      "Raw outcome counts: Counter({6: 72778, 0: 12488, 4: 12480, 2: 2254})\n"
     ]
    }
   ],
   "execution_count": 38
  },
  {
   "metadata": {},
   "cell_type": "markdown",
   "source": [
    "The expectation value $E$ is calculated using the eigenvalues and their probabilities:\n",
    "\n",
    "$$\n",
    "E = (+1) \\cdot p_+ + (-1) \\cdot p_- = p_+ - p_-\n",
    "$$\n",
    "Plugging in the measured probabilities gives us:\n",
    "$$\n",
    "E_{\\text{observed}} = p_+ - p_- = 0.851 - 0.149 = 0.702\n",
    "$$\n",
    "\n",
    "We can marginalize over the count values to get the counts for the first qubit measurement in the X basis."
   ],
   "id": "3594be62a221b88f"
  },
  {
   "metadata": {
    "ExecuteTime": {
     "end_time": "2025-01-09T16:33:20.549879Z",
     "start_time": "2025-01-09T16:33:20.330991Z"
    }
   },
   "cell_type": "code",
   "source": [
    "bit_combinations = list(product(range(2), repeat=3))\n",
    "\n",
    "measurement_results = []\n",
    "for outcome_idx, count_value in counts.items():\n",
    "    q0_outcome = bit_combinations[outcome_idx][0]\n",
    "\n",
    "    if q0_outcome == 0:\n",
    "        measurement_results.extend(['+'] * count_value)\n",
    "    else:\n",
    "        measurement_results.extend(['-'] * count_value)\n",
    "\n",
    "counts_qubit0 = Counter(measurement_results)\n",
    "\n",
    "print(\"\\nMeasurement results for qubit 0 in x basis (1000 trials):\")\n",
    "print(counts_qubit0)"
   ],
   "id": "ccc49c16412b4828",
   "outputs": [
    {
     "ename": "NameError",
     "evalue": "name 'counts' is not defined",
     "output_type": "error",
     "traceback": [
      "\u001B[0;31m---------------------------------------------------------------------------\u001B[0m",
      "\u001B[0;31mNameError\u001B[0m                                 Traceback (most recent call last)",
      "Cell \u001B[0;32mIn[10], line 4\u001B[0m\n\u001B[1;32m      1\u001B[0m bit_combinations \u001B[38;5;241m=\u001B[39m \u001B[38;5;28mlist\u001B[39m(product(\u001B[38;5;28mrange\u001B[39m(\u001B[38;5;241m2\u001B[39m), repeat\u001B[38;5;241m=\u001B[39m\u001B[38;5;241m3\u001B[39m))\n\u001B[1;32m      3\u001B[0m measurement_results \u001B[38;5;241m=\u001B[39m []\n\u001B[0;32m----> 4\u001B[0m \u001B[38;5;28;01mfor\u001B[39;00m outcome_idx, count_value \u001B[38;5;129;01min\u001B[39;00m \u001B[43mcounts\u001B[49m\u001B[38;5;241m.\u001B[39mitems():\n\u001B[1;32m      5\u001B[0m     q0_outcome \u001B[38;5;241m=\u001B[39m bit_combinations[outcome_idx][\u001B[38;5;241m0\u001B[39m]\n\u001B[1;32m      7\u001B[0m     \u001B[38;5;28;01mif\u001B[39;00m q0_outcome \u001B[38;5;241m==\u001B[39m \u001B[38;5;241m0\u001B[39m:\n",
      "\u001B[0;31mNameError\u001B[0m: name 'counts' is not defined"
     ]
    }
   ],
   "execution_count": 10
  },
  {
   "metadata": {},
   "cell_type": "markdown",
   "source": "Now it is time to calculate the expectation values for all possible measurement settings.",
   "id": "c5b48d89c5213c07"
  },
  {
   "metadata": {
    "ExecuteTime": {
     "end_time": "2024-12-19T11:26:06.858789Z",
     "start_time": "2024-12-19T11:26:06.853069Z"
    }
   },
   "cell_type": "code",
   "source": [
    "# define remaining Pauli operators\n",
    "\n",
    "sigma_y = PauliOperator(np.array([[0, -1j], [1j, 0]], dtype=complex))\n",
    "sigma_z = PauliOperator(np.array([[1, 0], [0, -1]], dtype=complex))\n",
    "\n",
    "# putting them into a dictionary for easy access\n",
    "pauli_operators = { 'I': sigma_0, 'X': sigma_x, 'Y': sigma_y, 'Z': sigma_z }\n",
    "\n",
    "# performing a measurement in ONE specified setting. this function basically captures everything we did before in ones step.\n",
    "def sample_state(state, pauli_labels, num_samples=1000):\n",
    "\n",
    "    measurement_paulis = [pauli_operators[pl] for pl in pauli_labels]\n",
    "    proj_op = ProjectionOperator(measurement_paulis)\n",
    "\n",
    "    basis_vectors = proj_op.get_basis_vectors()\n",
    "    eigenvalues = proj_op.get_eigenvalues()\n",
    "\n",
    "    probabilities = [np.abs(np.vdot(vec, state))**2 for vec in basis_vectors]\n",
    "\n",
    "    expectation_value = sum(e * p for e, p in zip(eigenvalues, probabilities))\n",
    "\n",
    "    outcomes = np.random.choice(range(8), size=num_samples, p=probabilities)\n",
    "    counts = Counter(outcomes)\n",
    "\n",
    "    observed_expectation_value = 0.0\n",
    "    for outcome_idx, count_value in counts.items():\n",
    "        observed_expectation_value += eigenvalues[outcome_idx] * (count_value / num_samples)\n",
    "\n",
    "    return expectation_value, observed_expectation_value"
   ],
   "id": "2fb490fa6825c551",
   "outputs": [],
   "execution_count": 16
  },
  {
   "metadata": {
    "ExecuteTime": {
     "end_time": "2024-12-19T11:27:19.465786Z",
     "start_time": "2024-12-19T11:27:19.436290Z"
    }
   },
   "cell_type": "code",
   "source": [
    "# let's explicitly overwrite psi such that we can play around a bit.\n",
    "psi = np.array([ -1/2, 0, -1/np.sqrt(2), 0, 0, 0, -1/2, 0 ], dtype=complex)\n",
    "\n",
    "# creating all combinations of 3-qubit settings from {I, X, Y, Z}\n",
    "pauli_labels_list = ['I', 'X', 'Y', 'Z']\n",
    "measurement_settings = list(product(pauli_labels_list, repeat=3))\n",
    "\n",
    "print(\"Performing measurements for all settings...\")\n",
    "\n",
    "expectation_values = {}\n",
    "observed_expectation_values = {}\n",
    "for pauli_labels in measurement_settings:\n",
    "    expectation_value, observed_expectation_value = sample_state(psi, pauli_labels, num_samples=1000)\n",
    "    expectation_values[pauli_labels] = expectation_value\n",
    "    observed_expectation_values[pauli_labels] = observed_expectation_value\n",
    "\n",
    "print(\"Measurements completed.\")"
   ],
   "id": "32d4787b613c6dd2",
   "outputs": [
    {
     "name": "stdout",
     "output_type": "stream",
     "text": [
      "Performing measurements for all settings...\n",
      "Measurements completed.\n"
     ]
    }
   ],
   "execution_count": 28
  },
  {
   "metadata": {
    "ExecuteTime": {
     "end_time": "2024-12-19T11:27:20.919521Z",
     "start_time": "2024-12-19T11:27:20.912711Z"
    }
   },
   "cell_type": "code",
   "source": [
    "# now all that is left to do is to reconstruct the density matrix from the dictionaries above\n",
    "\n",
    "rho_reconstructed = np.zeros((8, 8), dtype=complex)\n",
    "for pauli_labels in measurement_settings:\n",
    "    sigma_i = pauli_operators[pauli_labels[0]].matrix\n",
    "    sigma_j = pauli_operators[pauli_labels[1]].matrix\n",
    "    sigma_k = pauli_operators[pauli_labels[2]].matrix\n",
    "\n",
    "    operator = np.kron(sigma_i, np.kron(sigma_j, sigma_k))\n",
    "    expectation_value = observed_expectation_values[pauli_labels]  # use observed values\n",
    "\n",
    "    # remember the formula from above about the density matrix\n",
    "    rho_reconstructed += expectation_value * operator / 8.0\n",
    "\n",
    "# since we are dealing with a pure state, the actual density matrix is just the outer product of the state vector\n",
    "rho_actual = np.outer(psi, psi.conj())"
   ],
   "id": "c1be70ba164a4b22",
   "outputs": [],
   "execution_count": 29
  },
  {
   "metadata": {
    "ExecuteTime": {
     "end_time": "2024-12-19T12:50:13.905846Z",
     "start_time": "2024-12-19T12:50:13.901644Z"
    }
   },
   "cell_type": "code",
   "source": "np.max(np.imag(rho_reconstructed))",
   "id": "5ea1613ad3c06887",
   "outputs": [
    {
     "data": {
      "text/plain": [
       "0.018500000000000003"
      ]
     },
     "execution_count": 39,
     "metadata": {},
     "output_type": "execute_result"
    }
   ],
   "execution_count": 39
  },
  {
   "metadata": {
    "ExecuteTime": {
     "end_time": "2024-12-19T12:50:26.450176Z",
     "start_time": "2024-12-19T12:50:26.446771Z"
    }
   },
   "cell_type": "code",
   "source": "np.min(np.imag(rho_reconstructed))",
   "id": "48f527a3fba0baef",
   "outputs": [
    {
     "data": {
      "text/plain": [
       "-0.018500000000000003"
      ]
     },
     "execution_count": 40,
     "metadata": {},
     "output_type": "execute_result"
    }
   ],
   "execution_count": 40
  },
  {
   "metadata": {
    "ExecuteTime": {
     "end_time": "2024-12-19T11:27:22.779638Z",
     "start_time": "2024-12-19T11:27:22.360292Z"
    }
   },
   "cell_type": "code",
   "source": [
    "fig, axes = plt.subplots(1, 2, figsize=(12, 5))\n",
    "\n",
    "sns.heatmap(np.real(rho_actual), annot=True, fmt=\".2f\", ax=axes[0], cmap='viridis')\n",
    "axes[0].set_title('Actual Density Matrix (Real Part)')\n",
    "\n",
    "sns.heatmap(np.real(rho_reconstructed), annot=True, fmt=\".2f\", ax=axes[1], cmap='viridis')\n",
    "axes[1].set_title('Reconstructed Density Matrix (Real Part)')\n",
    "\n",
    "plt.tight_layout()\n",
    "plt.show()"
   ],
   "id": "2e0a46eeb843718f",
   "outputs": [
    {
     "data": {
      "text/plain": [
       "<Figure size 1200x500 with 4 Axes>"
      ],
      "image/png": "[encoded data removed]"
     },
     "metadata": {},
     "output_type": "display_data"
    }
   ],
   "execution_count": 30
  }
 ],
 "metadata": {
  "kernelspec": {
   "display_name": "Python 3",
   "language": "python",
   "name": "python3"
  },
  "language_info": {
   "codemirror_mode": {
    "name": "ipython",
    "version": 2
   },
   "file_extension": ".py",
   "mimetype": "text/x-python",
   "name": "python",
   "nbconvert_exporter": "python",
   "pygments_lexer": "ipython2",
   "version": "2.7.6"
  }
 },
 "nbformat": 4,
 "nbformat_minor": 5
}
