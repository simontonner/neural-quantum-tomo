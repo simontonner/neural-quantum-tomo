{
 "cells": [
  {
   "metadata": {},
   "cell_type": "markdown",
   "source": [
    "#### Warm Up | Master's Thesis\n",
    "# HEISENBERG MODEL IN NETKET\n",
    "\n",
    "We look again at the spin $1/2$ Heisenberg model. This is an antiferromagnetic spin chain, meaning that its spins are anti-aligned ($...\\uparrow \\downarrow \\uparrow \\downarrow \\uparrow ...$). We have a generic Hamiltonian of the form:\n",
    "\n",
    "$$\n",
    "H = \\sum_{i=1}^{L} \\vec{\\sigma}_{i} \\cdot \\vec{\\sigma}_{i+1} = \\sum_{i=1}^L\\left(\\sigma_i^x \\sigma_{i+1}^x+\\sigma_i^y \\sigma_{i+1}^y+\\sigma_i^z \\sigma_{i+1}^z\\right)\n",
    "$$\n",
    "\n",
    "\n",
    "The Pauli matrices $\\sigma^x$, $\\sigma^y$, and $\\sigma^z$ represent twice the actual spin-$\\frac{1}{2}$ operators, which are given by:\n",
    "\n",
    "$$\n",
    "\\hat{S}^x = \\frac{1}{2} \\sigma^x, \\quad \\hat{S}^y = \\frac{1}{2} \\sigma^y, \\quad \\hat{S}^z = \\frac{1}{2} \\sigma^z\n",
    "$$\n",
    "\n",
    "Therefore, in terms of spin operators, the Hamiltonian gains a factor of 4:\n",
    "\n",
    "$$\n",
    "H = 4 \\sum_{i=1}^{L} \\vec{S}_{i} \\cdot \\vec{S}_{i+1}\n",
    "$$\n",
    "\n",
    "The goal here is to learn the ground-state of this model using a Restricted Boltzmann Machine (RBM)."
   ]
  },
  {
   "metadata": {},
   "cell_type": "markdown",
   "source": [
    "#### SETUP\n",
    "\n",
    "The `NetKet` library uses `Jax` as backbone. We want to make sure to run `Jax` on the CPU. For systems with less than 40 spins, GPUs will slow down everything remarkably.\n",
    "\n"
   ]
  },
  {
   "metadata": {
    "ExecuteTime": {
     "end_time": "2025-01-13T20:23:57.633604Z",
     "start_time": "2025-01-13T20:23:57.627209Z"
    }
   },
   "cell_type": "code",
   "source": [
    "import os\n",
    "\n",
    "import netket as nk\n",
    "\n",
    "import json\n",
    "\n",
    "import numpy as np\n",
    "import matplotlib.pyplot as plt\n",
    "import time\n",
    "\n",
    "os.environ[\"JAX_PLATFORM_NAME\"] = \"cpu\""
   ],
   "outputs": [],
   "execution_count": 14
  },
  {
   "metadata": {},
   "cell_type": "markdown",
   "source": [
    "`NetKet` starts off by defining the spin-chain as a graph. In this case a one-dimensional hypercube with periodic boundary conditions.\n",
    "\n",
    "In a second step, we define the Hilbert space on this graph.\n",
    "\n",
    "We impose a fixed total magnetization of zero since the up-spins balance out the down spins.\n",
    "This restricts the Hilbert space to only the spin configurations fulfilling this constraint. This can be expressed with the binomial coefficient:\n",
    "\n",
    "$$\n",
    "\\text{dim}(\\text{Hilbert space}) = \\binom{L}{L/2}\n",
    "$$\n",
    "\n",
    "This binomial coefficient gives a much smaller Hilbert space than taking all $2^L$ possible spin configurations into account.\n",
    "\n",
    "In a third step, the graph of the system and the Hilbert space are then used to define the Hamiltonian acting in this Hilbert space. `NetKet` provides a Hamiltonian class for the Heisenberg model which uses Pauli matrices internally."
   ]
  },
  {
   "metadata": {
    "ExecuteTime": {
     "end_time": "2025-01-13T20:23:59.710995Z",
     "start_time": "2025-01-13T20:23:59.687521Z"
    }
   },
   "cell_type": "code",
   "source": [
    "L = 22\n",
    "g = nk.graph.Hypercube(length=L, n_dim=1, pbc=True)\n",
    "hi = nk.hilbert.Spin(s=0.5, total_sz=0, N=g.n_nodes)\n",
    "ha = nk.operator.Heisenberg(hilbert=hi, graph=g)"
   ],
   "outputs": [],
   "execution_count": 15
  },
  {
   "metadata": {},
   "cell_type": "markdown",
   "source": [
    "#### EXACT DIAGONALIZATION\n",
    "\n",
    "Just like with the example of the Heisenberg model in the QST warm-up, we want to perform an exact diagonalization. `NetKet` should still be able to do this brute-force for $L=22$ using the Lanczos algorithm.\n",
    "\n",
    "We only need the lowest energy and are not interested in the eigenvectors."
   ]
  },
  {
   "metadata": {},
   "cell_type": "markdown",
   "source": [
    "\n",
    "**Intermezzo: Lanczos Algorithm**\n",
    "\n",
    "The primary aim is to find the ground state energy (lowest eigenvalue) and possibly a few low-energy excited states of the Heisenberg Hamiltonian.\n",
    "\n",
    "The Lanczos algorithm involves the following steps:\n",
    "\n",
    "- 1. **Choose an initial vector** $v_0$ (random or physically motivated, e.g., a Néel state for an antiferromagnetic system).\n",
    "\n",
    "2. **Iteratively build the Krylov subspace** by applying the Hamiltonian $H$ to generate new orthonormal vectors:\n",
    "\n",
    "   - Apply $H$ to the current vector $v_i$:\n",
    "     $$\n",
    "     w_{i+1} = H v_i - \\beta_i v_{i-1} - \\alpha_i v_i\n",
    "     $$\n",
    "\n",
    "   - Compute the coefficients:\n",
    "     $$\n",
    "     \\alpha_i = \\langle v_i | H | v_i \\rangle, \\quad \\beta_{i+1} = \\|w_{i+1}\\|\n",
    "     $$\n",
    "\n",
    "   - Normalize to get the next vector:\n",
    "     $$\n",
    "     v_{i+1} = \\frac{w_{i+1}}{\\beta_{i+1}}\n",
    "     $$\n",
    "\n",
    "3. **Ensure orthogonality** of $v_{i+1}$ by subtracting components along $v_i$ and $v_{i-1}$, ensuring $w_{i+1}$ is orthogonal to all previous vectors.\n",
    "\n",
    "4. **Form the tridiagonal matrix $T_m$**:\n",
    "\n",
    "   - At each iteration, add the new diagonal element $\\alpha_i$ and off-diagonal element $\\beta_i$ to $T_m$.\n",
    "\n",
    "   - The tridiagonal matrix $T_m$ encodes how the Hamiltonian $H$ acts on the **Krylov subspace**, which is the span of the vectors encoding higher powers of $H$ applied to the initial vector $v_0$:\n",
    "     $$\n",
    "     \\mathcal{K}_m(H, v_0) = \\text{span}\\{v_0, H v_0, H^2 v_0, \\ldots, H^{m-1} v_0\\}\n",
    "     $$\n",
    "\n",
    "   - This subspace captures the dominant behavior of the Hamiltonian by approximating its action through repeated powers of H$. This is similar to how polynomial expansions approximate functions or how PCA finds principal components that span the most important directions in data.\n",
    "\n",
    "   - After $m$ iterations, the matrix $T_m$ looks something like this:\n",
    "\n",
    "     $$\n",
    "     T_m =\n",
    "     \\begin{bmatrix}\n",
    "     \\alpha_0 & \\beta_1 & 0 & \\cdots & 0 \\\\\n",
    "     \\beta_1 & \\alpha_1 & \\beta_2 & \\cdots & 0 \\\\\n",
    "     0 & \\beta_2 & \\alpha_2 & \\cdots & 0 \\\\\n",
    "     \\vdots & \\vdots & \\vdots & \\ddots & \\beta_{m-1} \\\\\n",
    "     0 & 0 & 0 & \\beta_{m-1} & \\alpha_{m-1}\n",
    "     \\end{bmatrix}\n",
    "     $$\n",
    "\n",
    "5. **Solve the eigenvalue problem for $T_m$**:\n",
    "\n",
    "   - Since $T_m$ is a small symmetric tridiagonal matrix (size $m \\times m$, where $m \\ll 2^N$), solving for its eigenvalues is computationally much easier than diagonalizing the full Hamiltonian $H$.\n",
    "   - The smallest eigenvalue of $T_m$ approximates the **ground state energy**, and higher eigenvalues correspond to low-energy excitations.\n"
   ]
  },
  {
   "metadata": {
    "ExecuteTime": {
     "end_time": "2025-01-13T20:24:09.317236Z",
     "start_time": "2025-01-13T20:24:02.861398Z"
    }
   },
   "cell_type": "code",
   "source": [
    "# this took about half a minute on my M1 MacBook, run the next cell if you don't want to wait\n",
    "\n",
    "evals = nk.exact.lanczos_ed(ha, compute_eigenvectors=False)\n",
    "exact_gs_energy = evals[0]\n",
    "print('The exact ground-state energy is E0=',exact_gs_energy)"
   ],
   "outputs": [
    {
     "name": "stdout",
     "output_type": "stream",
     "text": [
      "The exact ground-state energy is E0= -39.1475226070629\n"
     ]
    }
   ],
   "execution_count": 16
  },
  {
   "metadata": {
    "ExecuteTime": {
     "end_time": "2025-01-13T14:19:50.193305Z",
     "start_time": "2025-01-13T14:19:50.188470Z"
    }
   },
   "cell_type": "code",
   "source": "exact_gs_energy = -39.14752260706279",
   "outputs": [],
   "execution_count": 9
  },
  {
   "metadata": {},
   "cell_type": "markdown",
   "source": [
    "#### SIMULATING EVOLUTION INTO THE GROUND STATE\n",
    "\n",
    "The Lanczos algorithm is just a mathematical approximation of the exact diagonalization. Since we are dealing with a physical system, we can also simulate the evolution of the system into the ground state using a variational Monte Carlo (VMC) method.\n",
    "\n"
   ]
  },
  {
   "cell_type": "markdown",
   "metadata": {},
   "source": [
    "## 3. The Jastrow ansatz\n",
    "\n",
    "Let's start with a simple ansatz for the ground-state: the Jastrow Ansatz.\n",
    "\n",
    "$ \\log\\psi(\\sigma) = \\sum_i a_i \\sigma_i + \\sum_{i,j} \\sigma_i J_{i,j} \\sigma_j $\n",
    "\n",
    "To show how it's done, we write this simple ansatz as a `flax.linen` module. \n",
    "We import this module and call it `nn`, as it is customary in all `Flax` documentation.\n",
    "\n",
    "You should define a function in the module called `__call__` and decorated with `@nn.compact`. This function is responsible for defining the flow of your model, that is, to evaluate the module for a batch of inputs.\n",
    "\n",
    "Parameters in the module are specified by calling `self.param(parameter_name, initializer, shape, dtype)`. The first argument is an arbitrary string, the second should be an initializer from `nn.initializers` and the other two are shape and dtype of that parameter.\n",
    "\n",
    "As the module should work with batches of inputs (therefore the input will be a 2d matrix with shape `(N_inputs, N_sites)`, but we are lazy and find it easier to define the function for a single input $\\sigma$, a 1D vector of shape `(N_sites,)`. \n",
    "Therefore, we write a function called `evaluate_single`, which will evaluate a single 1D input, and use `jax.vmap` to make it work with 2D inputs as well.\n",
    "\n",
    "To learn more about jax.vmap, give a look at the jax documentation!"
   ]
  },
  {
   "cell_type": "code",
   "metadata": {
    "ExecuteTime": {
     "end_time": "2025-01-13T20:24:34.984631Z",
     "start_time": "2025-01-13T20:24:34.979055Z"
    }
   },
   "source": [
    "import flax.linen as nn\n",
    "import jax.numpy as jnp\n",
    "import jax\n",
    "\n",
    "class Jastrow(nn.Module):\n",
    "    @nn.compact\n",
    "    def __call__(self, x):\n",
    "        # sometimes we call this function with a 1D input, sometimes with a 2D.\n",
    "        # We promote all inputs to 2D to make the following code simpler.\n",
    "        x = jnp.atleast_2d(x)\n",
    "        # We vmap along the 0-th axis of the input\n",
    "        # This will automatically convert a function working on vectors to one working\n",
    "        # on matrices.\n",
    "        return jax.vmap(self.evaluate_single, in_axes=(0))(x)\n",
    "        \n",
    "    def evaluate_single(self, x):\n",
    "        # We create the parameter v, which is a vector of length N_sites \n",
    "        v_bias = self.param(\n",
    "            \"visible_bias\", nn.initializers.normal(), (x.shape[-1],), complex\n",
    "        )\n",
    "    \n",
    "        # The Jastrow matrix is a N_sites x N_sites complex-valued matrix\n",
    "        J = self.param(\n",
    "            \"kernel\", nn.initializers.normal(), (x.shape[-1],x.shape[-1]), complex\n",
    "        )\n",
    "        \n",
    "        # In python @ symbolises matrix multiplication\n",
    "        return x.T@J@x + jnp.dot(x, v_bias)"
   ],
   "outputs": [],
   "execution_count": 18
  },
  {
   "cell_type": "markdown",
   "metadata": {},
   "source": [
    "Now that the model is defined, we can instantiate it"
   ]
  },
  {
   "cell_type": "code",
   "metadata": {
    "ExecuteTime": {
     "end_time": "2025-01-13T20:24:36.765279Z",
     "start_time": "2025-01-13T20:24:36.762068Z"
    }
   },
   "source": [
    "ma = Jastrow()\n",
    "print(ma)"
   ],
   "outputs": [
    {
     "name": "stdout",
     "output_type": "stream",
     "text": [
      "Jastrow()\n"
     ]
    }
   ],
   "execution_count": 19
  },
  {
   "cell_type": "code",
   "metadata": {
    "ExecuteTime": {
     "end_time": "2025-01-13T20:24:55.213023Z",
     "start_time": "2025-01-13T20:24:38.280097Z"
    }
   },
   "source": [
    "# Build the sampler\n",
    "sa = nk.sampler.MetropolisExchange(hilbert=hi,graph=g)\n",
    "\n",
    "# Optimizer\n",
    "op = nk.optimizer.Sgd(learning_rate=0.01)\n",
    "\n",
    "# Stochastic Reconfiguration\n",
    "sr = nk.optimizer.SR(diag_shift=0.1, holomorphic=True)\n",
    "\n",
    "# The variational state\n",
    "vs = nk.vqs.MCState(sa, ma, n_samples=1008)\n",
    "\n",
    "# The ground-state optimization loop\n",
    "gs = nk.VMC(\n",
    "    hamiltonian=ha,\n",
    "    optimizer=op,\n",
    "    preconditioner=sr,\n",
    "    variational_state=vs)\n",
    "\n",
    "start = time.time()\n",
    "gs.run(300, out='Jastrow')\n",
    "end = time.time()\n",
    "\n",
    "print('### Jastrow calculation')\n",
    "print('Has',nk.jax.tree_size(vs.parameters),'parameters')\n",
    "print('The Jastrow calculation took',end-start,'seconds')"
   ],
   "outputs": [
    {
     "data": {
      "text/plain": [
       "  0%|          | 0/300 [00:00<?, ?it/s]"
      ],
      "application/vnd.jupyter.widget-view+json": {
       "version_major": 2,
       "version_minor": 0,
       "model_id": "8764916d8dc1461bbe40981cc92843a6"
      }
     },
     "metadata": {},
     "output_type": "display_data"
    },
    {
     "name": "stdout",
     "output_type": "stream",
     "text": [
      "### Jastrow calculation\n",
      "Has 506 parameters\n",
      "The Jastrow calculation took 16.361618041992188 seconds\n"
     ]
    }
   ],
   "execution_count": 20
  },
  {
   "cell_type": "code",
   "metadata": {
    "scrolled": true,
    "ExecuteTime": {
     "end_time": "2025-01-13T20:25:00.616788Z",
     "start_time": "2025-01-13T20:25:00.453852Z"
    }
   },
   "source": [
    "# import the data from log file\n",
    "data_Jastrow=json.load(open(\"Jastrow.log\"))\n",
    "   \n",
    "iters_Jastrow = data_Jastrow[\"Energy\"][\"iters\"]\n",
    "energy_Jastrow = data_Jastrow[\"Energy\"][\"Mean\"][\"real\"]\n",
    "\n",
    "fig, ax1 = plt.subplots()\n",
    "ax1.plot(iters_Jastrow, energy_Jastrow, color='C8', label='Energy (Jastrow)')\n",
    "ax1.set_ylabel('Energy')\n",
    "ax1.set_xlabel('Iteration')\n",
    "plt.axis([0,iters_Jastrow[-1],exact_gs_energy-0.1,exact_gs_energy+0.4])\n",
    "plt.axhline(y=exact_gs_energy, xmin=0,\n",
    "                xmax=iters_Jastrow[-1], linewidth=2, color='k', label='Exact')\n",
    "ax1.legend()\n",
    "plt.show()"
   ],
   "outputs": [
    {
     "data": {
      "text/plain": [
       "<Figure size 640x480 with 1 Axes>"
      ],
      "image/png": "[encoded data removed]"
     },
     "metadata": {},
     "output_type": "display_data"
    }
   ],
   "execution_count": 21
  }
 ],
 "metadata": {
  "kernelspec": {
   "display_name": "Python 3 (ipykernel)",
   "language": "python",
   "name": "python3"
  },
  "language_info": {
   "codemirror_mode": {
    "name": "ipython",
    "version": 3
   },
   "file_extension": ".py",
   "mimetype": "text/x-python",
   "name": "python",
   "nbconvert_exporter": "python",
   "pygments_lexer": "ipython3",
   "version": "3.11.2"
  }
 },
 "nbformat": 4,
 "nbformat_minor": 4
}
