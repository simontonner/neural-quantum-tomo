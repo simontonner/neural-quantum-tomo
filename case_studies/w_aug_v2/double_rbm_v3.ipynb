{
 "cells": [
  {
   "cell_type": "code",
   "id": "initial_id",
   "metadata": {
    "collapsed": true,
    "ExecuteTime": {
     "end_time": "2025-05-30T17:08:56.836128Z",
     "start_time": "2025-05-30T17:08:56.829806Z"
    }
   },
   "source": [
    "import re\n",
    "from pathlib import Path\n",
    "\n",
    "import numpy as np\n",
    "\n",
    "import jax.lax\n",
    "from jax.random import PRNGKey\n",
    "import jax.numpy as jnp\n",
    "import optax\n",
    "from flax.training.train_state import TrainState\n",
    "from itertools import zip_longest   # or just `zip` if the two loaders are equal length\n",
    "\n",
    "\n",
    "\n",
    "import matplotlib.pyplot as plt\n",
    "\n",
    "data_dir = \"data_old\"\n",
    "print(f\"Data resides in        : {data_dir}\")"
   ],
   "outputs": [
    {
     "name": "stdout",
     "output_type": "stream",
     "text": [
      "Data resides in        : ./data\n"
     ]
    }
   ],
   "execution_count": 23
  },
  {
   "metadata": {
    "ExecuteTime": {
     "end_time": "2025-05-30T17:08:57.509228Z",
     "start_time": "2025-05-30T17:08:57.498441Z"
    }
   },
   "cell_type": "code",
   "source": [
    "class MultiBasisDataLoader:\n",
    "    def __init__(self, data_dict: dict[str, jnp.ndarray],\n",
    "                 batch_size: int = 128,\n",
    "                 shuffle: bool = True,\n",
    "                 drop_last: bool = False,\n",
    "                 seed: int = 0):\n",
    "        lengths = [len(v) for v in data_dict.values()]\n",
    "        if len(set(lengths)) != 1:\n",
    "            raise ValueError(f\"All arrays must have the same length, got: {lengths}\")\n",
    "\n",
    "        self.data = data_dict\n",
    "        self.n = lengths[0]\n",
    "        self.bs = batch_size\n",
    "        self.shuffle = shuffle\n",
    "        self.drop_last = drop_last\n",
    "        self.rng = np.random.default_rng(seed)\n",
    "\n",
    "        self.idx_slices = [\n",
    "            (i, i + batch_size)\n",
    "            for i in range(0, self.n, batch_size)\n",
    "            if not drop_last or i + batch_size <= self.n\n",
    "        ]\n",
    "\n",
    "    def __iter__(self):\n",
    "        self.order = np.arange(self.n)\n",
    "        if self.shuffle:\n",
    "            self.rng.shuffle(self.order)\n",
    "        self.slice_idx = 0\n",
    "        return self\n",
    "\n",
    "    def __next__(self):\n",
    "        if self.slice_idx >= len(self.idx_slices):\n",
    "            raise StopIteration\n",
    "        s, e = self.idx_slices[self.slice_idx]\n",
    "        self.slice_idx += 1\n",
    "        return {k: v[self.order[s:e]] for k, v in self.data.items()}\n",
    "\n",
    "\n",
    "def load_measurements(folder: str, file_pattern: str = \"w_*.txt\") -> dict[str, jnp.ndarray]:\n",
    "    out: dict[str, jnp.ndarray] = {}\n",
    "\n",
    "    for fp in Path(folder).glob(file_pattern):\n",
    "        basis = fp.stem.split(\"_\")[2]\n",
    "\n",
    "        bitstrings = []\n",
    "        with fp.open() as f:\n",
    "            for line in f:\n",
    "                bitstring = np.fromiter((c.islower() for c in line.strip()), dtype=np.float32)\n",
    "                bitstrings.append(bitstring)\n",
    "\n",
    "        arr = jnp.asarray(np.stack(bitstrings))\n",
    "        if basis in out:\n",
    "            out[basis] = jnp.concatenate([out[basis], arr], axis=0)\n",
    "        else:\n",
    "            out[basis] = arr\n",
    "\n",
    "    return out"
   ],
   "id": "78de40dc6fd42395",
   "outputs": [],
   "execution_count": 24
  },
  {
   "metadata": {
    "ExecuteTime": {
     "end_time": "2025-05-30T17:08:58.869646Z",
     "start_time": "2025-05-30T17:08:58.654412Z"
    }
   },
   "cell_type": "code",
   "source": [
    "data_dict = load_measurements(\"data/\", \"w_*.txt\")\n",
    "\n",
    "keys_amp = [k for k in data_dict if re.fullmatch(r\"^Z+$\", k)]\n",
    "keys_pha = [k for k in data_dict if re.fullmatch(r\"^(?!Z+$).*\", k)]\n",
    "dict_amp = {k: data_dict[k] for k in keys_amp}\n",
    "dict_pha = {k: data_dict[k] for k in keys_pha}\n",
    "\n",
    "loader_amp           = MultiBasisDataLoader(amp_dict, batch_size=128)\n",
    "loader_pha           = MultiBasisDataLoader(pha_dict, batch_size=128)"
   ],
   "id": "d6edc336135bc877",
   "outputs": [],
   "execution_count": 25
  },
  {
   "metadata": {
    "ExecuteTime": {
     "end_time": "2025-05-30T17:15:19.256436Z",
     "start_time": "2025-05-30T17:15:19.234Z"
    }
   },
   "cell_type": "code",
   "source": [
    "from typing import Tuple, Dict, Any\n",
    "from typing import Optional\n",
    "import jax\n",
    "import jax.numpy as jnp\n",
    "from jax import random\n",
    "from flax import linen as nn\n",
    "from flax.core import freeze, unfreeze\n",
    "from jax.nn.initializers import normal, zeros\n",
    "from collections.abc import Callable, Sequence\n",
    "\n",
    "\n",
    "class DoubleRBM(nn.Module):\n",
    "    n_visible: int\n",
    "    n_hidden: int\n",
    "    k: int = 1\n",
    "    n_chains: int = 1000\n",
    "\n",
    "    def setup(self):\n",
    "        self.W_amp = self.param(\"W_amp\", nn.initializers.normal(0.01), (self.n_visible, self.n_hidden))\n",
    "        self.b_amp = self.param(\"b_amp\", nn.initializers.zeros, (self.n_visible,))\n",
    "        self.c_amp = self.param(\"c_amp\", nn.initializers.zeros, (self.n_hidden,))\n",
    "\n",
    "        self.W_pha = self.param(\"W_pha\", nn.initializers.normal(0.01), (self.n_visible, self.n_hidden))\n",
    "        self.b_pha = self.param(\"b_pha\", nn.initializers.zeros, (self.n_visible,))\n",
    "        self.c_pha = self.param(\"c_pha\", nn.initializers.zeros, (self.n_hidden,))\n",
    "\n",
    "        self.rotators = {\n",
    "            'X': jnp.array([[1, 1], [1, -1]], dtype=jnp.complex64) / jnp.sqrt(2),\n",
    "            'Y': jnp.array([[1, -1j], [1, 1j]], dtype=jnp.complex64) / jnp.sqrt(2),\n",
    "        }\n",
    "\n",
    "    def __call__(\n",
    "            self,\n",
    "            data_dict: Dict[str, jnp.ndarray],\n",
    "            aux_vars: Dict[str, Any]) -> Tuple[jnp.ndarray, Dict[str, Any]]:\n",
    "\n",
    "        random_key = aux_vars.get(\"random_key\")\n",
    "        aux_vars = dict()\n",
    "\n",
    "        params_amp = {\n",
    "            \"W\": self.variables[\"params\"][\"W_amp\"],\n",
    "            \"b\": self.variables[\"params\"][\"b_amp\"],\n",
    "            \"c\": self.variables[\"params\"][\"c_amp\"]\n",
    "        }\n",
    "\n",
    "        # amplitude training\n",
    "        comp_basis = 'Z' * self.n_visible\n",
    "        if len(data_dict) == 1 and comp_basis in data_dict:\n",
    "            # access the amplitude parameter\n",
    "\n",
    "            data_batch = data_dict[comp_basis]\n",
    "            pcd_loss, random_key = self._loss_amp(params_amp, data_batch, random_key)\n",
    "            aux_vars[\"random_key\"] = random_key\n",
    "            return pcd_loss, aux_vars\n",
    "\n",
    "\n",
    "        # phase training\n",
    "        all_two_different = all(sum(b != 'Z' for b in basis) == 2 for basis in data_dict)\n",
    "        if all_two_different:\n",
    "\n",
    "            params_pha = {\n",
    "                \"W\": self.variables[\"params\"][\"W_pha\"],\n",
    "                \"b\": self.variables[\"params\"][\"b_pha\"],\n",
    "                \"c\": self.variables[\"params\"][\"c_pha\"]\n",
    "            }\n",
    "\n",
    "            phase_loss = self._loss_phase(params_amp, params_pha, data_dict)\n",
    "            return phase_loss, aux_vars\n",
    "\n",
    "        raise ValueError(\"Encountered batch of unsupported basis.\")\n",
    "\n",
    "\n",
    "    def _loss_amp(self, params_amp, data_batch, random_key):\n",
    "        random_key, random_key_bern = jax.random.split(random_key)\n",
    "        chains = jax.random.bernoulli(random_key_bern, p=0.5, shape=(self.n_chains, self.n_visible)).astype(jnp.float32)\n",
    "        model_batch, random_key = self._gibbs_sample(params_amp, chains, random_key, k=self.k)\n",
    "\n",
    "        model_batch = jax.lax.stop_gradient(model_batch)  # stopping gradient tracking before computing the loss\n",
    "\n",
    "        # stacking the batches here could maybe yield some performance, not sure though since half the data is gradient detached\n",
    "        free_energy_data = self._free_energy(params_amp, data_batch)\n",
    "        free_energy_model = self._free_energy(params_amp, model_batch)\n",
    "        loss = jnp.mean(free_energy_data) - jnp.mean(free_energy_model)\n",
    "\n",
    "        return loss, random_key\n",
    "\n",
    "    def _loss_phase(self,\n",
    "                    params_amp: Dict[str, jnp.ndarray],\n",
    "                    params_pha: Dict[str, jnp.ndarray],\n",
    "                    data_dict: Dict[str, jnp.ndarray]) -> jnp.ndarray:\n",
    "\n",
    "        losses = [\n",
    "            -jnp.mean(self.get_rotated_log_prob(batch, basis, params_amp, params_pha))\n",
    "            for basis, batch in data_dict.items()]\n",
    "\n",
    "        return jnp.sum(jnp.stack(losses))\n",
    "\n",
    "    @staticmethod\n",
    "    def _free_energy(params, v):\n",
    "        W = params[\"W\"]\n",
    "        b = params[\"b\"]\n",
    "        c = params[\"c\"]\n",
    "\n",
    "        visible_term = jnp.dot(v, b)\n",
    "        hidden_term  = jnp.sum(jax.nn.softplus(v @ W + c), axis=-1)\n",
    "        free_energy = -visible_term - hidden_term\n",
    "        return free_energy\n",
    "\n",
    "    @staticmethod\n",
    "    def _gibbs_step(i, state, params, T=1.0):\n",
    "        v, key = state\n",
    "        W = params[\"W\"]\n",
    "        b = params[\"b\"]\n",
    "        c = params[\"c\"]\n",
    "\n",
    "        key, h_key, v_key = jax.random.split(key, 3)\n",
    "\n",
    "        h_logits = (v @ W + c) / T\n",
    "        h_probs = jax.nn.sigmoid(h_logits)\n",
    "        h = jax.random.bernoulli(h_key, h_probs).astype(jnp.float32)\n",
    "\n",
    "        v_logits = (h @ W.T + b) / T\n",
    "        v_probs = jax.nn.sigmoid(v_logits)\n",
    "        v = jax.random.bernoulli(v_key, v_probs).astype(jnp.float32)\n",
    "        return v, key\n",
    "\n",
    "    @staticmethod\n",
    "    def _gibbs_sample(params, v_init, rng, k=1, T=1.0):\n",
    "        body_fun = lambda i, state: DoubleRBM._gibbs_step(i, state, params, T)\n",
    "        v_final, key = jax.lax.fori_loop(0, k, body_fun, (v_init, rng))\n",
    "        return v_final, key\n",
    "\n",
    "    def get_rotated_log_prob(\n",
    "            self,\n",
    "            sigma_b: jnp.ndarray,         # (B, n)\n",
    "            basis: Sequence[str],\n",
    "            params_amp: Dict[str, jnp.ndarray],\n",
    "            params_pha: Dict[str, jnp.ndarray],\n",
    "            eps: float = 1e-12\n",
    "    ) -> jnp.ndarray:                 # returns log(|ψ|^2), shape (B,)\n",
    "        B, n = sigma_b.shape\n",
    "\n",
    "        non_z = [i for i, b in enumerate(basis) if b != 'Z']\n",
    "        if len(non_z) != 2:\n",
    "            raise ValueError(\"Only bases with exactly two non-Z entries are supported.\")\n",
    "\n",
    "        j, k = non_z\n",
    "\n",
    "        # Rotation operator\n",
    "        Rj = self.rotators[basis[j]]\n",
    "        Rk = self.rotators[basis[k]]\n",
    "        U = jnp.kron(Rj, Rk)  # shape (4, 4)\n",
    "\n",
    "        # Generate 4 rotated configs per basis state\n",
    "        local_bit_combos = jnp.array([[0., 0.], [0., 1.], [1., 0.], [1., 1.]], dtype=sigma_b.dtype)  # (4, 2)\n",
    "        sigma_b_tiled = jnp.tile(sigma_b[:, None, :], (1, 4, 1))                                    # (B, 4, n)\n",
    "        sigma_b_modified = sigma_b_tiled.at[:, :, [j, k]].set(local_bit_combos[None, :, :])        # (B, 4, n)\n",
    "        sigma_b_flat = sigma_b_modified.reshape(B * 4, n)                                           # (4B, n)\n",
    "\n",
    "        # Compute free energies\n",
    "        F_amp = self._free_energy(params_amp, sigma_b_flat)  # (4B,)\n",
    "        F_pha = self._free_energy(params_pha, sigma_b_flat)  # (4B,)\n",
    "\n",
    "        log_mag = (-0.5 * F_amp).reshape(B, 4)                         # (B, 4)\n",
    "        angle   = (-0.5 * F_pha).reshape(B, 4)                         # (B, 4)\n",
    "\n",
    "        M = jnp.max(log_mag, axis=1, keepdims=True)                   # (B, 1)\n",
    "        scaled = jnp.exp(log_mag - M + 1j * angle)                    # (B, 4)\n",
    "\n",
    "        idx_in = (sigma_b[:, j].astype(int) << 1) | sigma_b[:, k].astype(int)  # (B,)\n",
    "        U_cols = U[:, idx_in].T                                       # (B, 4)\n",
    "\n",
    "        S_prime = jnp.sum(U_cols * scaled, axis=1)                    # (B,)\n",
    "        log_prob = 2.0 * (M.squeeze() + jnp.log(jnp.abs(S_prime) + eps))  # (B,)\n",
    "\n",
    "        return log_prob"
   ],
   "id": "109b3fd9b0ef396f",
   "outputs": [],
   "execution_count": 39
  },
  {
   "metadata": {
    "ExecuteTime": {
     "end_time": "2025-05-30T17:15:20.578265Z",
     "start_time": "2025-05-30T17:15:20.570965Z"
    }
   },
   "cell_type": "code",
   "source": [
    "@jax.jit\n",
    "def train_step_amp(\n",
    "        state: TrainState,\n",
    "        batch_dict: Dict[str, jnp.ndarray],\n",
    "        aux_vars: Dict[str, Any]) -> Tuple[TrainState, jnp.ndarray, Dict[str, Any]]:\n",
    "    loss_fn = lambda params: state.apply_fn({'params': params}, batch_dict, aux_vars)\n",
    "    value_and_grad_fn = jax.value_and_grad(loss_fn, has_aux=True)\n",
    "\n",
    "    (loss, aux_vars), grads = value_and_grad_fn(state.params)\n",
    "    new_state = state.apply_gradients(grads=grads)\n",
    "    return new_state, loss, aux_vars\n",
    "\n",
    "\n",
    "@jax.jit\n",
    "def train_step_pha(\n",
    "        state: TrainState,\n",
    "        batch_dict: Dict[str, jnp.ndarray],\n",
    "        aux_vars: Dict[str, Any]) -> Tuple[TrainState, jnp.ndarray, Dict[str, Any]]:\n",
    "    loss_fn = lambda params: state.apply_fn({'params': params}, batch_dict, aux_vars)\n",
    "    value_and_grad_fn = jax.value_and_grad(loss_fn, has_aux=True)\n",
    "\n",
    "    (loss, _), grads = value_and_grad_fn(state.params)\n",
    "    new_state = state.apply_gradients(grads=grads)\n",
    "    return new_state, loss, aux_vars\n",
    "\n",
    "\n",
    "def train_rbm_double(\n",
    "        state_amp: TrainState,\n",
    "        state_pha: TrainState,\n",
    "        loader_amp: MultiBasisDataLoader,\n",
    "        loader_pha: MultiBasisDataLoader,\n",
    "        num_epochs: int,\n",
    "        rng: PRNGKey):\n",
    "\n",
    "    metrics  = {}\n",
    "    aux_vars = {\"random_key\": rng}\n",
    "\n",
    "    for epoch in range(num_epochs):\n",
    "        tot_loss_amp = 0.0\n",
    "        tot_loss_pha = 0.0\n",
    "        batches      = 0\n",
    "\n",
    "        for data_amp, data_pha in zip_longest(loader_amp, loader_pha, fillvalue=None):\n",
    "            if data_amp is not None:                       # amplitude step\n",
    "                state_amp, loss_amp, aux_vars = train_step_amp(state_amp, data_amp, aux_vars)\n",
    "                tot_loss_amp += loss_amp\n",
    "\n",
    "            if data_pha is not None:                       # phase step\n",
    "                state_pha, loss_pha, aux_vars = train_step_pha(state_pha, data_pha, aux_vars)\n",
    "                tot_loss_pha += loss_pha\n",
    "\n",
    "            batches += 1\n",
    "\n",
    "        metrics[epoch] = {\n",
    "            \"loss_amp\": float(tot_loss_amp / batches),\n",
    "            \"loss_pha\": float(tot_loss_pha / batches),\n",
    "        }\n",
    "\n",
    "        print(\n",
    "            f\"Epoch {epoch+1}/{num_epochs} │ \"\n",
    "            f\"amp loss: {metrics[epoch]['loss_amp']:.4f} │ \"\n",
    "            f\"pha loss: {metrics[epoch]['loss_pha']:.4f}\"\n",
    "        )\n",
    "\n",
    "    return state_amp, state_pha, metrics, aux_vars[\"random_key\"]"
   ],
   "id": "acbdfc2f970977ec",
   "outputs": [],
   "execution_count": 40
  },
  {
   "metadata": {
    "ExecuteTime": {
     "end_time": "2025-05-30T17:15:22.000814Z",
     "start_time": "2025-05-30T17:15:21.801764Z"
    }
   },
   "cell_type": "code",
   "source": [
    "# ---- hyperparameters ----\n",
    "batch_size    = 6400\n",
    "visible_units = 10\n",
    "hidden_units  = 10\n",
    "k_steps       = 2\n",
    "lr_amp        = 1e-2\n",
    "lr_pha        = 1e-2\n",
    "num_epochs    = 20\n",
    "chains        = 1000\n",
    "\n",
    "\n",
    "random_seed = PRNGKey(42)\n",
    "rng, init_key = jax.random.split(random_seed)\n",
    "\n",
    "# model initialization\n",
    "model = DoubleRBM(n_visible=visible_units, n_hidden=hidden_units, k=k_steps, n_chains=chains)\n",
    "dummy_batch_dict = {'Z' * visible_units: jnp.zeros((batch_size, visible_units), dtype=jnp.float32)}\n",
    "variables = model.init(init_key, dummy_batch_dict, {\"random_key\": rng})\n",
    "params = variables[\"params\"]\n",
    "\n",
    "\n",
    "# define the optimizer and training state\n",
    "mask_amp = {k: k in {'W_amp', 'b_amp', 'c_amp'} for k in params}\n",
    "mask_pha = {k: k in {'W_pha', 'b_pha', 'c_pha'} for k in params}\n",
    "#tx_amp = optax.masked(optax.adam(lr_amp), mask_amp)\n",
    "#tx_pha = optax.masked(optax.adam(lr_pha), mask_pha)\n",
    "#state_amp = TrainState.create(apply_fn=model.apply, params=params, tx=tx_amp)\n",
    "#state_pha = TrainState.create(apply_fn=model.apply, params=params, tx=tx_pha)\n",
    "\n",
    "tx_amp = optax.chain(\n",
    "    optax.clip_by_global_norm(5.0),\n",
    "    optax.masked(optax.adam(lr_amp), mask_amp)\n",
    ")\n",
    "\n",
    "tx_pha = optax.chain(\n",
    "    optax.clip_by_global_norm(5.0),\n",
    "    optax.masked(optax.adam(lr_pha), mask_pha)\n",
    ")\n",
    "\n",
    "state_amp = TrainState.create(apply_fn=model.apply, params=params, tx=tx_amp)\n",
    "state_pha = TrainState.create(apply_fn=model.apply, params=params, tx=tx_pha)"
   ],
   "id": "9ea3e5ab2859125c",
   "outputs": [],
   "execution_count": 41
  },
  {
   "metadata": {
    "ExecuteTime": {
     "end_time": "2025-05-30T17:15:38.456114Z",
     "start_time": "2025-05-30T17:15:22.773680Z"
    }
   },
   "cell_type": "code",
   "source": [
    "\n",
    "# ---- train ----\n",
    "state, _, metrics, rng = train_rbm_double(\n",
    "    state_amp,\n",
    "    state_pha,\n",
    "    loader_amp,\n",
    "    loader_pha,\n",
    "    num_epochs,\n",
    "    rng\n",
    ")"
   ],
   "id": "bab5336985e2147d",
   "outputs": [
    {
     "name": "stdout",
     "output_type": "stream",
     "text": [
      "Epoch 1/20 │ amp loss: -1.3927 │ pha loss: 300.6738\n",
      "Epoch 2/20 │ amp loss: -0.3463 │ pha loss: 1303.6304\n",
      "Epoch 3/20 │ amp loss: -0.0492 │ pha loss: 2347.9880\n",
      "Epoch 4/20 │ amp loss: -0.0936 │ pha loss: 3392.3032\n",
      "Epoch 5/20 │ amp loss: -0.0953 │ pha loss: 4436.6094\n",
      "Epoch 6/20 │ amp loss: -0.0831 │ pha loss: 5480.9106\n",
      "Epoch 7/20 │ amp loss: -0.0762 │ pha loss: 6525.1938\n",
      "Epoch 8/20 │ amp loss: -0.0574 │ pha loss: 7569.4941\n",
      "Epoch 9/20 │ amp loss: -0.0541 │ pha loss: 8613.7822\n",
      "Epoch 10/20 │ amp loss: -0.0572 │ pha loss: 9658.0752\n",
      "Epoch 11/20 │ amp loss: -0.0439 │ pha loss: 10702.3721\n",
      "Epoch 12/20 │ amp loss: -0.0466 │ pha loss: 11746.6602\n",
      "Epoch 13/20 │ amp loss: -0.0245 │ pha loss: 12790.9541\n",
      "Epoch 14/20 │ amp loss: -0.0309 │ pha loss: 13835.2441\n",
      "Epoch 15/20 │ amp loss: -0.0332 │ pha loss: 14879.5312\n",
      "Epoch 16/20 │ amp loss: -0.0312 │ pha loss: 15923.8223\n",
      "Epoch 17/20 │ amp loss: -0.0218 │ pha loss: 16968.1113\n",
      "Epoch 18/20 │ amp loss: -0.0167 │ pha loss: 18012.4043\n",
      "Epoch 19/20 │ amp loss: -0.0175 │ pha loss: 19056.6855\n",
      "Epoch 20/20 │ amp loss: -0.0157 │ pha loss: 20100.9805\n"
     ]
    }
   ],
   "execution_count": 42
  },
  {
   "metadata": {
    "ExecuteTime": {
     "end_time": "2025-05-30T17:15:41.945297Z",
     "start_time": "2025-05-30T17:15:41.850852Z"
    }
   },
   "cell_type": "code",
   "source": [
    "plt.plot([metrics[epoch]['loss_amp'] for epoch in metrics])\n",
    "plt.xlabel(\"Epoch\")\n",
    "plt.ylabel(\"Free Energy Loss\")"
   ],
   "id": "342199130cd0b3ba",
   "outputs": [
    {
     "data": {
      "text/plain": [
       "Text(0, 0.5, 'Free Energy Loss')"
      ]
     },
     "execution_count": 43,
     "metadata": {},
     "output_type": "execute_result"
    },
    {
     "data": {
      "text/plain": [
       "<Figure size 640x480 with 1 Axes>"
      ],
      "image/png": "[encoded data removed]"
     },
     "metadata": {},
     "output_type": "display_data"
    }
   ],
   "execution_count": 43
  },
  {
   "metadata": {
    "ExecuteTime": {
     "end_time": "2025-05-30T17:15:45.013714Z",
     "start_time": "2025-05-30T17:15:44.931769Z"
    }
   },
   "cell_type": "code",
   "source": [
    "# plot the phase loss\n",
    "plt.plot([metrics[epoch]['loss_pha'] for epoch in metrics])\n",
    "plt.xlabel(\"Epoch\")\n",
    "plt.ylabel(\"Phase Loss\")"
   ],
   "id": "b2a8248cf3bfc1b",
   "outputs": [
    {
     "data": {
      "text/plain": [
       "Text(0, 0.5, 'Phase Loss')"
      ]
     },
     "execution_count": 44,
     "metadata": {},
     "output_type": "execute_result"
    },
    {
     "data": {
      "text/plain": [
       "<Figure size 640x480 with 1 Axes>"
      ],
      "image/png": "[encoded data removed]"
     },
     "metadata": {},
     "output_type": "display_data"
    }
   ],
   "execution_count": 44
  }
 ],
 "metadata": {
  "kernelspec": {
   "display_name": "Python 3",
   "language": "python",
   "name": "python3"
  },
  "language_info": {
   "codemirror_mode": {
    "name": "ipython",
    "version": 2
   },
   "file_extension": ".py",
   "mimetype": "text/x-python",
   "name": "python",
   "nbconvert_exporter": "python",
   "pygments_lexer": "ipython2",
   "version": "2.7.6"
  }
 },
 "nbformat": 4,
 "nbformat_minor": 5
}
