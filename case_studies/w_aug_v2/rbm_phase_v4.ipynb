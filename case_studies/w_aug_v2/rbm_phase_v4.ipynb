{
 "cells": [
  {
   "metadata": {
    "ExecuteTime": {
     "end_time": "2025-06-03T17:53:19.583342Z",
     "start_time": "2025-06-03T17:53:18.816313Z"
    }
   },
   "cell_type": "code",
   "source": [
    "import re\n",
    "from pathlib import Path\n",
    "from typing import Optional, Tuple, Dict, Any, Sequence\n",
    "\n",
    "import numpy as np\n",
    "\n",
    "import jax\n",
    "import jax.lax\n",
    "import jax.numpy as jnp\n",
    "import optax\n",
    "from flax.training.train_state import TrainState\n",
    "from flax.training import checkpoints\n",
    "from flax import linen as nn\n",
    "\n",
    "import matplotlib.pyplot as plt\n",
    "\n",
    "import warnings\n",
    "\n",
    "warnings.filterwarnings(\n",
    "    \"ignore\",\n",
    "    message=(\n",
    "        \"Couldn't find sharding info under RestoreArgs.*\"\n",
    "    ),\n",
    "    category=UserWarning,\n",
    "    module=\"orbax.checkpoint.type_handlers\"\n",
    ")\n",
    "\n",
    "data_dir = \"data\"\n",
    "model_dir = \"./models\"\n",
    "model_prefix = \"rbm_amp_202506031229_0\"\n",
    "\n",
    "print(f\"Data resides in                         : {data_dir}\")\n",
    "print(f\"Amplitude RBM checkpoint to be loaded   : {model_dir}/{model_prefix}\")"
   ],
   "id": "cac0523cf96155b2",
   "outputs": [
    {
     "name": "stderr",
     "output_type": "stream",
     "text": [
      "WARNING:absl:Tensorflow library not found, tensorflow.io.gfile operations will use native shim calls. GCS paths (i.e. 'gs://...') cannot be accessed.\n"
     ]
    },
    {
     "name": "stdout",
     "output_type": "stream",
     "text": [
      "Data resides in                         : data\n",
      "Amplitude RBM checkpoint to be loaded   : ./models/rbm_amp_202506031229_0\n"
     ]
    }
   ],
   "execution_count": 1
  },
  {
   "metadata": {
    "ExecuteTime": {
     "end_time": "2025-06-03T17:53:19.605375Z",
     "start_time": "2025-06-03T17:53:19.597428Z"
    }
   },
   "cell_type": "code",
   "source": [
    "class MultiBasisDataLoader:\n",
    "    char2id = {'Z': 0, 'X': 1, 'Y': 2}\n",
    "\n",
    "    def __init__(self,\n",
    "                 data_dict: dict[str, jnp.ndarray],\n",
    "                 batch_size: int = 128,\n",
    "                 shuffle: bool = True,\n",
    "                 drop_last: bool = False,\n",
    "                 seed: int = 0):\n",
    "        # Verify all arrays have the same total length\n",
    "        lengths = [v.shape[0] for v in data_dict.values()]\n",
    "        if len(set(lengths)) != 1:\n",
    "            raise ValueError(f\"All arrays must have equal length, got: {lengths}\")\n",
    "\n",
    "        # Keep insertion order of keys (Python 3.7+ guarantees dict preserves insertion order)\n",
    "        self._bases = list(data_dict.keys())          # order of basis strings\n",
    "        self._arrays = list(data_dict.values())       # corresponding jnp.ndarray\n",
    "\n",
    "        self.n_visible = data_dict[self._bases[0]].shape[1]\n",
    "        self.total_samples = lengths[0]\n",
    "        self.batch_size = batch_size\n",
    "        self.shuffle = shuffle\n",
    "        self.drop_last = drop_last\n",
    "        self.rng = np.random.default_rng(seed)\n",
    "\n",
    "        # Pre‐encode basis strings → integer arrays of shape (n_visible,)\n",
    "        #   where Z→0, X→1, Y→2\n",
    "        self._encoded_bases = []\n",
    "        for basis_str in self._bases:\n",
    "            if len(basis_str) != self.n_visible:\n",
    "                raise ValueError(f\"All basis strings must have length {self.n_visible}. \"\n",
    "                                 f\"Got '{basis_str}' length {len(basis_str)}.\")\n",
    "            enc = np.array([MultiBasisDataLoader.char2id[c] for c in basis_str],\n",
    "                           dtype=np.int8)\n",
    "            self._encoded_bases.append(enc)\n",
    "        # Now self._encoded_bases is a list of np.int8 arrays, each shape (n_visible,)\n",
    "\n",
    "        # Precompute slice indices for one epoch\n",
    "        self.idx_slices = [\n",
    "            (i, i + batch_size)\n",
    "            for i in range(0, self.total_samples, batch_size)\n",
    "            if not drop_last or (i + batch_size <= self.total_samples)\n",
    "        ]\n",
    "\n",
    "    def __iter__(self):\n",
    "        self._order = np.arange(self.total_samples)\n",
    "        if self.shuffle:\n",
    "            self.rng.shuffle(self._order)\n",
    "        self._slice_idx = 0\n",
    "        return self\n",
    "\n",
    "    def __next__(self) -> Tuple[jnp.ndarray, jnp.ndarray]:\n",
    "        if self._slice_idx >= len(self.idx_slices):\n",
    "            raise StopIteration\n",
    "\n",
    "        s, e = self.idx_slices[self._slice_idx]\n",
    "        self._slice_idx += 1\n",
    "\n",
    "        # Gather the correct slice for each basis‐array\n",
    "        batch_arrays = []\n",
    "        for arr in self._arrays:\n",
    "            # arr has shape (total_samples, n_visible)\n",
    "            sub = arr[self._order[s:e], :]\n",
    "            batch_arrays.append(sub)   # (batch_size, n_visible)\n",
    "\n",
    "        # Now stack:\n",
    "        #   data_array: shape (N_B, batch_size, n_visible)\n",
    "        data_array = jnp.stack(batch_arrays, axis=0)\n",
    "\n",
    "        # basis_ids_array: shape (N_B, n_visible), dtype=int8\n",
    "        basis_ids_array = jnp.stack(self._encoded_bases, axis=0)\n",
    "\n",
    "        return basis_ids_array, data_array  # ready for model.apply\n",
    "\n",
    "    def __len__(self):\n",
    "        return len(self.idx_slices)\n",
    "\n",
    "\n",
    "def load_measurements(folder: str, file_pattern: str = \"w_*.txt\") -> dict[str, jnp.ndarray]:\n",
    "    out: dict[str, jnp.ndarray] = {}\n",
    "\n",
    "    for fp in Path(folder).glob(file_pattern):\n",
    "        basis = fp.stem.split(\"_\")[2]\n",
    "\n",
    "        bitstrings = []\n",
    "        with fp.open() as f:\n",
    "            for line in f:\n",
    "                bitstring = np.fromiter((c.islower() for c in line.strip()), dtype=np.float32)\n",
    "                bitstrings.append(bitstring)\n",
    "\n",
    "        arr = jnp.asarray(np.stack(bitstrings))\n",
    "        if basis in out:\n",
    "            out[basis] = jnp.concatenate([out[basis], arr], axis=0)\n",
    "        else:\n",
    "            out[basis] = arr\n",
    "\n",
    "    return out"
   ],
   "id": "162d3a19b52761f6",
   "outputs": [],
   "execution_count": 2
  },
  {
   "metadata": {
    "ExecuteTime": {
     "end_time": "2025-06-03T17:57:07.013307Z",
     "start_time": "2025-06-03T17:57:06.800696Z"
    }
   },
   "cell_type": "code",
   "source": [
    "data_dict = load_measurements(data_dir, \"w_*.txt\")\n",
    "\n",
    "keys_pha = [k for k in data_dict if 'Z' in k and re.search(r'[XY]', k)]\n",
    "dict_pha = {k: data_dict[k] for k in keys_pha}"
   ],
   "id": "4810713cb617047",
   "outputs": [],
   "execution_count": 12
  },
  {
   "metadata": {
    "ExecuteTime": {
     "end_time": "2025-06-03T17:57:07.836358Z",
     "start_time": "2025-06-03T17:57:07.821453Z"
    }
   },
   "cell_type": "code",
   "source": [
    "class PairPhaseRBM(nn.Module):\n",
    "    n_visible: int\n",
    "    n_hidden: int\n",
    "\n",
    "    def setup(self):\n",
    "        zeros = lambda shape: jnp.zeros(shape, dtype=jnp.float32)\n",
    "        self.W_amp = self.variable('amp', 'W_amp', zeros, (self.n_visible, self.n_hidden))\n",
    "        self.b_amp = self.variable('amp', 'b_amp', zeros, (self.n_visible,))\n",
    "        self.c_amp = self.variable('amp', 'c_amp', zeros, (self.n_hidden,))\n",
    "\n",
    "        self.W_pha = self.param('W_pha', nn.initializers.normal(0.01), (self.n_visible, self.n_hidden))\n",
    "        self.b_pha = self.param('b_pha', nn.initializers.zeros, (self.n_visible,))\n",
    "        self.c_pha = self.param('c_pha', nn.initializers.zeros, (self.n_hidden,))\n",
    "\n",
    "    def __call__(self, data_tuple: Tuple[jnp.ndarray, jnp.ndarray]) -> jnp.ndarray:\n",
    "        basis_array, data_array = data_tuple  # (N_B, n_visible), (N_B, B, n_visible)\n",
    "        loss_sums = jax.vmap(self._rotated_log_prob_loss)(data_array, basis_array)\n",
    "\n",
    "        per_basis_mean = loss_sums / data_array.shape[1]\n",
    "        return jnp.sum(per_basis_mean)\n",
    "\n",
    "    def _free_energy_amp(self, v):\n",
    "        return -(v @ self.b_amp.value) - jnp.sum(jax.nn.softplus(v @ self.W_amp.value + self.c_amp.value), -1)\n",
    "\n",
    "    def _free_energy_pha(self, v):\n",
    "        return -(v @ self.b_pha) - jnp.sum(jax.nn.softplus(v @ self.W_pha + self.c_pha), -1)\n",
    "\n",
    "    def compute_phase(self, v: jnp.ndarray) -> jnp.ndarray:\n",
    "        return -self._free_energy_pha(v)\n",
    "\n",
    "    def _rotated_log_prob_loss(self, data: jnp.ndarray, basis_ids: jnp.ndarray) -> jnp.ndarray:\n",
    "        B, n = data.shape\n",
    "        non_z = jnp.nonzero(basis_ids != 0, size=2, fill_value=-1)[0]\n",
    "        j, k = non_z[0], non_z[1]\n",
    "        b1, b2 = basis_ids[j], basis_ids[k]\n",
    "\n",
    "        SQRT2 = jnp.sqrt(2.0)\n",
    "        rot_X = jnp.array([[1, 1], [1, -1]], dtype=jnp.complex64) / SQRT2\n",
    "        rot_Y = jnp.array([[1, -1j], [1, 1j]], dtype=jnp.complex64) / SQRT2\n",
    "\n",
    "        Rj = jax.lax.switch(b1 - 1, [lambda: rot_X, lambda: rot_Y])\n",
    "        Rk = jax.lax.switch(b2 - 1, [lambda: rot_X, lambda: rot_Y])\n",
    "        U = jnp.kron(Rj, Rk) # (4, 4)\n",
    "\n",
    "        combos = jnp.array([[0.,0.],[0.,1.],[1.,0.],[1.,1.]], dtype=data.dtype)  # (4, 2)\n",
    "\n",
    "        sigma_b_tiled = jnp.tile(data[:, None, :], (1, 4, 1))  # (B, 4, n)\n",
    "        sigma_mod = sigma_b_tiled.at[:, :, [j, k]].set(combos[None, :, :])  # (B, 4, n)\n",
    "        sigma_flat = sigma_mod.reshape(B * 4, n)  # (4B, n)\n",
    "\n",
    "        F_amp = self._free_energy_amp(sigma_flat).reshape(B, 4)\n",
    "        F_pha = self._free_energy_pha(sigma_flat).reshape(B, 4)\n",
    "\n",
    "        log_mag = -0.5 * F_amp\n",
    "        angle   = -0.5 * F_pha\n",
    "        M = jnp.max(log_mag, axis=1, keepdims=True)\n",
    "        scaled = jnp.exp(log_mag - M + 1j * angle)  # (B, 4)\n",
    "\n",
    "        idx_in = (data[:, j].astype(int) << 1) | data[:, k].astype(int)  # (B,)\n",
    "        U_cols = U[:, idx_in].T  # (B, 4)\n",
    "\n",
    "        S_prime = jnp.sum(U_cols * scaled, axis=1)  # (B,)\n",
    "        log_probs = 2.0 * (M.squeeze() + jnp.log(jnp.abs(S_prime) + 1e-12))  # (B,)\n",
    "\n",
    "        return -jnp.sum(log_probs)"
   ],
   "id": "be73ed100aa41dd2",
   "outputs": [],
   "execution_count": 13
  },
  {
   "metadata": {
    "ExecuteTime": {
     "end_time": "2025-06-03T17:57:09.010732Z",
     "start_time": "2025-06-03T17:57:09.004292Z"
    }
   },
   "cell_type": "code",
   "source": [
    "@jax.jit\n",
    "def train_step_pha(state: TrainState, amp_vars: Dict[str, jnp.ndarray], data_tuple: Tuple[jnp.ndarray, jnp.ndarray]) -> Tuple[TrainState, jnp.ndarray]:\n",
    "    loss_fn = lambda params: state.apply_fn({'params': params, 'amp': amp_vars}, data_tuple)\n",
    "\n",
    "    loss, grads = jax.value_and_grad(loss_fn)(state.params)\n",
    "    new_state = state.apply_gradients(grads=grads)\n",
    "    return new_state, loss\n",
    "\n",
    "\n",
    "def train_rbm_pha(\n",
    "        state:   TrainState,\n",
    "        amp_vars: Dict[str, jnp.ndarray],\n",
    "        loader:  \"MultiBasisDataLoader\",\n",
    "        num_epochs: int) -> Tuple[TrainState, Dict[int, float]]:\n",
    "\n",
    "    metrics: Dict[int, float] = {}\n",
    "\n",
    "    for epoch in range(num_epochs):\n",
    "        tot_loss  = 0.0\n",
    "        n_batches = 0\n",
    "\n",
    "        for data_tuple in loader:                       # (basis_ids, data_array)\n",
    "            state, loss = train_step_pha(state, amp_vars, data_tuple)\n",
    "            tot_loss  += loss\n",
    "            n_batches += 1\n",
    "\n",
    "        avg_loss = float(tot_loss / n_batches)\n",
    "\n",
    "        metrics[epoch] = dict(\n",
    "            loss=avg_loss,\n",
    "        )\n",
    "\n",
    "        print(f\"Epoch {epoch+1}/{num_epochs} │ Loss_: {avg_loss:.4f}\")\n",
    "\n",
    "    return state, metrics"
   ],
   "id": "b8f78a4784851517",
   "outputs": [],
   "execution_count": 14
  },
  {
   "metadata": {
    "ExecuteTime": {
     "end_time": "2025-06-03T17:57:10.517300Z",
     "start_time": "2025-06-03T17:57:10.495581Z"
    }
   },
   "cell_type": "code",
   "source": [
    "params_amp = checkpoints.restore_checkpoint(ckpt_dir=str(Path(model_dir).resolve()), target=None, prefix=model_prefix)\n",
    "\n",
    "amp_vars = {\"W_amp\": params_amp[\"W\"], \"b_amp\": params_amp[\"b\"], \"c_amp\": params_amp[\"c\"]}"
   ],
   "id": "afa1334f42881846",
   "outputs": [],
   "execution_count": 15
  },
  {
   "metadata": {
    "ExecuteTime": {
     "end_time": "2025-06-03T17:57:29.406466Z",
     "start_time": "2025-06-03T17:57:11.534418Z"
    }
   },
   "cell_type": "code",
   "source": [
    "batch_size    = 64\n",
    "visible_units = 10\n",
    "hidden_units  = 16\n",
    "num_epochs    = 30\n",
    "init_lr       = 1e-3\n",
    "\n",
    "key   = jax.random.PRNGKey(0)\n",
    "\n",
    "model_pha = PairPhaseRBM(n_visible=visible_units, n_hidden=hidden_units)\n",
    "\n",
    "dummy_basis  = jnp.zeros((1, visible_units), dtype=jnp.int8)\n",
    "dummy_data   = jnp.zeros((1, batch_size, visible_units), dtype=jnp.float32)\n",
    "vars_pha = model_pha.init(key, (dummy_basis, dummy_data))\n",
    "\n",
    "optim = optax.adam(init_lr)\n",
    "\n",
    "state_pha = TrainState.create(apply_fn=model_pha.apply, params=vars_pha['params'], tx=optim)\n",
    "\n",
    "loader_pha  = MultiBasisDataLoader(dict_pha, batch_size=batch_size, shuffle=True)\n",
    "\n",
    "%time state_pha, metrics_pha = train_rbm_pha(state_pha, amp_vars, loader_pha, num_epochs)"
   ],
   "id": "ff52dfd0a3cbe4dc",
   "outputs": [
    {
     "name": "stdout",
     "output_type": "stream",
     "text": [
      "Epoch 1/30 │ Loss_: -80.8872\n",
      "Epoch 2/30 │ Loss_: -84.2034\n",
      "Epoch 3/30 │ Loss_: -85.1674\n",
      "Epoch 4/30 │ Loss_: -85.5544\n",
      "Epoch 5/30 │ Loss_: -85.7106\n",
      "Epoch 6/30 │ Loss_: -85.7803\n",
      "Epoch 7/30 │ Loss_: -85.8210\n",
      "Epoch 8/30 │ Loss_: -85.8524\n",
      "Epoch 9/30 │ Loss_: -85.8810\n",
      "Epoch 10/30 │ Loss_: -85.9088\n",
      "Epoch 11/30 │ Loss_: -85.9362\n",
      "Epoch 12/30 │ Loss_: -85.9629\n",
      "Epoch 13/30 │ Loss_: -85.9888\n",
      "Epoch 14/30 │ Loss_: -86.0140\n",
      "Epoch 15/30 │ Loss_: -86.0378\n",
      "Epoch 16/30 │ Loss_: -86.0603\n",
      "Epoch 17/30 │ Loss_: -86.0814\n",
      "Epoch 18/30 │ Loss_: -86.1005\n",
      "Epoch 19/30 │ Loss_: -86.1185\n",
      "Epoch 20/30 │ Loss_: -86.1348\n",
      "Epoch 21/30 │ Loss_: -86.1487\n",
      "Epoch 22/30 │ Loss_: -86.1615\n",
      "Epoch 23/30 │ Loss_: -86.1726\n",
      "Epoch 24/30 │ Loss_: -86.1819\n",
      "Epoch 25/30 │ Loss_: -86.1895\n",
      "Epoch 26/30 │ Loss_: -86.1957\n",
      "Epoch 27/30 │ Loss_: -86.2009\n",
      "Epoch 28/30 │ Loss_: -86.2046\n",
      "Epoch 29/30 │ Loss_: -86.2086\n",
      "Epoch 30/30 │ Loss_: -86.2106\n",
      "CPU times: user 18.3 s, sys: 454 ms, total: 18.8 s\n",
      "Wall time: 17.8 s\n"
     ]
    }
   ],
   "execution_count": 16
  },
  {
   "metadata": {
    "ExecuteTime": {
     "end_time": "2025-06-03T17:57:34.956195Z",
     "start_time": "2025-06-03T17:57:34.859584Z"
    }
   },
   "cell_type": "code",
   "source": [
    "epochs = list(metrics_pha.keys())\n",
    "loss_vals = [metrics_pha[e]['loss'] for e in epochs]\n",
    "\n",
    "fig, ax1 = plt.subplots()\n",
    "\n",
    "ax1.plot(epochs, loss_vals, label=\"Amplitude CD Loss\", color=\"tab:blue\")\n",
    "ax1.set_xlabel(\"Epoch\")\n",
    "ax1.set_ylabel(\"Phase Loss\", color=\"tab:blue\")\n",
    "ax1.tick_params(axis=\"y\", labelcolor=\"tab:blue\")\n",
    "\n",
    "plt.title(\"Loss\")\n",
    "plt.show()"
   ],
   "id": "d23a12a8195394fc",
   "outputs": [
    {
     "data": {
      "text/plain": [
       "<Figure size 640x480 with 1 Axes>"
      ],
      "image/png": "[encoded data removed]"
     },
     "metadata": {},
     "output_type": "display_data"
    }
   ],
   "execution_count": 17
  },
  {
   "metadata": {
    "ExecuteTime": {
     "end_time": "2025-06-03T17:57:38.430001Z",
     "start_time": "2025-06-03T17:57:38.372589Z"
    }
   },
   "cell_type": "code",
   "source": [
    "visible_units = model_pha.n_visible   # should be 10 in your case\n",
    "basis_states = jnp.eye(visible_units, dtype=jnp.float32)\n",
    "\n",
    "basis_states"
   ],
   "id": "533f1507c79ae99a",
   "outputs": [
    {
     "data": {
      "text/plain": [
       "Array([[1., 0., 0., 0., 0., 0., 0., 0., 0., 0.],\n",
       "       [0., 1., 0., 0., 0., 0., 0., 0., 0., 0.],\n",
       "       [0., 0., 1., 0., 0., 0., 0., 0., 0., 0.],\n",
       "       [0., 0., 0., 1., 0., 0., 0., 0., 0., 0.],\n",
       "       [0., 0., 0., 0., 1., 0., 0., 0., 0., 0.],\n",
       "       [0., 0., 0., 0., 0., 1., 0., 0., 0., 0.],\n",
       "       [0., 0., 0., 0., 0., 0., 1., 0., 0., 0.],\n",
       "       [0., 0., 0., 0., 0., 0., 0., 1., 0., 0.],\n",
       "       [0., 0., 0., 0., 0., 0., 0., 0., 1., 0.],\n",
       "       [0., 0., 0., 0., 0., 0., 0., 0., 0., 1.]], dtype=float32)"
      ]
     },
     "execution_count": 18,
     "metadata": {},
     "output_type": "execute_result"
    }
   ],
   "execution_count": 18
  },
  {
   "metadata": {
    "ExecuteTime": {
     "end_time": "2025-06-03T17:57:50.323685Z",
     "start_time": "2025-06-03T17:57:50.259850Z"
    }
   },
   "cell_type": "code",
   "source": [
    "one_hot_states = jnp.eye(visible_units, dtype=jnp.float32)  # one-hot states for visible units\n",
    "\n",
    "variables_pha_trained = { \"params\": state_pha.params, \"amp\": amp_vars }\n",
    "phases_model_raw = model_pha.apply(variables_pha_trained, one_hot_states, method=model_pha.compute_phase)\n",
    "\n",
    "phases_model_wrapped = phases_model_raw % (2 * jnp.pi)\n",
    "\n",
    "phases_model_tuple = list(zip(one_hot_states, phases_model_raw, phases_model_wrapped))\n",
    "\n",
    "for state, phase_raw, phase_wrapped in phases_model_tuple:\n",
    "    bitstring = ''.join('1' if s > 0 else '0' for s in state)\n",
    "    print(f\"{bitstring}: {phase_raw:.4f} (raw), {phase_wrapped:.4f} (wrapped)\")"
   ],
   "id": "cf3481d2087fb107",
   "outputs": [
    {
     "name": "stdout",
     "output_type": "stream",
     "text": [
      "1000000000: 20.3890 (raw), 1.5394 (wrapped)\n",
      "0100000000: 25.0703 (raw), 6.2208 (wrapped)\n",
      "0010000000: 21.6410 (raw), 2.7915 (wrapped)\n",
      "0001000000: 18.3080 (raw), 5.7416 (wrapped)\n",
      "0000100000: 21.7758 (raw), 2.9263 (wrapped)\n",
      "0000010000: 18.8386 (raw), 6.2722 (wrapped)\n",
      "0000001000: 14.9938 (raw), 2.4274 (wrapped)\n",
      "0000000100: 17.0675 (raw), 4.5011 (wrapped)\n",
      "0000000010: 14.3157 (raw), 1.7493 (wrapped)\n",
      "0000000001: 17.0157 (raw), 4.4493 (wrapped)\n"
     ]
    }
   ],
   "execution_count": 20
  },
  {
   "metadata": {
    "ExecuteTime": {
     "end_time": "2025-06-03T17:57:53.868065Z",
     "start_time": "2025-06-03T17:57:53.772783Z"
    }
   },
   "cell_type": "code",
   "source": [
    "bitstrings = [''.join('1' if val > 0.5 else '0' for val in row) for row in one_hot_states]\n",
    "phases_np = np.array(phases_model_wrapped)\n",
    "\n",
    "fig, ax = plt.subplots(figsize=(8, 4))\n",
    "ax.bar(bitstrings, phases_np)\n",
    "ax.set_xlabel(\"One-hot bitstring\")\n",
    "ax.set_ylabel(\"Phase (radians, in [0, 2π])\")\n",
    "ax.set_title(\"Wrapped Phases φₖ ∈ [0, 2π] for One-hot States\")\n",
    "plt.xticks(rotation=45)\n",
    "plt.tight_layout()\n",
    "plt.show()"
   ],
   "id": "53a2b556e9201c56",
   "outputs": [
    {
     "data": {
      "text/plain": [
       "<Figure size 800x400 with 1 Axes>"
      ],
      "image/png": "[encoded data removed]"
     },
     "metadata": {},
     "output_type": "display_data"
    }
   ],
   "execution_count": 21
  },
  {
   "metadata": {
    "ExecuteTime": {
     "end_time": "2025-06-03T18:07:58.766524Z",
     "start_time": "2025-06-03T18:07:58.759252Z"
    }
   },
   "cell_type": "code",
   "source": [
    "def load_state_vector_txt(file_path: Path) -> dict:\n",
    "    state_dict = {}\n",
    "    with open(file_path, \"r\") as f:\n",
    "        for line in f:\n",
    "            if not line.strip():\n",
    "                continue\n",
    "            bitstring, rest = line.strip().split(\": \")\n",
    "            complex_part = rest.split(\" + \")[0]  # ignore +|z|j part\n",
    "            state_dict[bitstring] = complex(complex_part.replace(\"j\", \"j\"))  # ensure valid complex syntax\n",
    "    return state_dict\n",
    "\n",
    "\n",
    "data_dir = Path(\"data\")\n",
    "file_path_txt = data_dir / \"w_aug_state.txt\"\n",
    "state_vector_dict = load_state_vector_txt(file_path_txt)\n",
    "\n",
    "# use bitstrings to access all one-hot states\n",
    "reference_amplitudes = [state_vector_dict[bs] for bs in bitstrings]\n",
    "reference_phases_raw = np.angle(reference_amplitudes)  # get raw phases in radians\n",
    "reference_phases_wrapped = reference_phases_raw % (2 * jnp.pi)\n",
    "bitstring_amplitude_pairs = list(zip(bitstrings, reference_phases_raw, reference_phases_raw, reference_phases_wrapped))\n",
    "\n",
    "# Display the bitstrings and their corresponding phases\n",
    "for bitstring, amp, phase_raw, phase_wrapped in bitstring_amplitude_pairs:\n",
    "    print(f\"{bitstring}: ampl: {amp:.4f} (ampl), {phase_raw:.4f} (raw), {phase_wrapped:.4f} (wrapped)\")"
   ],
   "id": "6cb2dc75ae694be9",
   "outputs": [
    {
     "name": "stdout",
     "output_type": "stream",
     "text": [
      "1000000000: ampl: -1.4109 (ampl), -1.4109 (raw), 4.8723 (wrapped)\n",
      "0100000000: ampl: 2.7493 (ampl), 2.7493 (raw), 2.7493 (wrapped)\n",
      "0010000000: ampl: -0.8961 (ampl), -0.8961 (raw), 5.3871 (wrapped)\n",
      "0001000000: ampl: -1.8925 (ampl), -1.8925 (raw), 4.3906 (wrapped)\n",
      "0000100000: ampl: 0.6055 (ampl), 0.6055 (raw), 0.6055 (wrapped)\n",
      "0000010000: ampl: -0.1599 (ampl), -0.1599 (raw), 6.1233 (wrapped)\n",
      "0000001000: ampl: -1.5084 (ampl), -1.5084 (raw), 4.7748 (wrapped)\n",
      "0000000100: ampl: -1.3487 (ampl), -1.3487 (raw), 4.9345 (wrapped)\n",
      "0000000010: ampl: 0.8076 (ampl), 0.8076 (raw), 0.8076 (wrapped)\n",
      "0000000001: ampl: 2.8198 (ampl), 2.8198 (raw), 2.8198 (wrapped)\n"
     ]
    }
   ],
   "execution_count": 28
  },
  {
   "metadata": {
    "ExecuteTime": {
     "end_time": "2025-06-03T18:08:01.140086Z",
     "start_time": "2025-06-03T18:08:01.043882Z"
    }
   },
   "cell_type": "code",
   "source": [
    "fig, ax = plt.subplots(figsize=(8, 4))\n",
    "ax.bar(bitstrings, reference_phases_wrapped)\n",
    "ax.set_xlabel(\"One-hot bitstring\")\n",
    "ax.set_ylabel(\"Phase (radians, in [0, 2π])\")\n",
    "ax.set_title(\"Phases φₖ ∈ [0, 2π] for One-hot States\")\n",
    "plt.xticks(rotation=45)\n",
    "plt.tight_layout()\n",
    "plt.show()"
   ],
   "id": "577516d7331a1482",
   "outputs": [
    {
     "data": {
      "text/plain": [
       "<Figure size 800x400 with 1 Axes>"
      ],
      "image/png": "[encoded data removed]"
     },
     "metadata": {},
     "output_type": "display_data"
    }
   ],
   "execution_count": 29
  },
  {
   "metadata": {},
   "cell_type": "code",
   "outputs": [],
   "execution_count": null,
   "source": "",
   "id": "e42a3363224f29c"
  }
 ],
 "metadata": {
  "kernelspec": {
   "display_name": "Python 3",
   "language": "python",
   "name": "python3"
  },
  "language_info": {
   "codemirror_mode": {
    "name": "ipython",
    "version": 2
   },
   "file_extension": ".py",
   "mimetype": "text/x-python",
   "name": "python",
   "nbconvert_exporter": "python",
   "pygments_lexer": "ipython2",
   "version": "2.7.6"
  }
 },
 "nbformat": 4,
 "nbformat_minor": 5
}
