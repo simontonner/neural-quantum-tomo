{
 "cells": [
  {
   "metadata": {
    "ExecuteTime": {
     "end_time": "2025-05-07T13:17:57.347602Z",
     "start_time": "2025-05-07T13:17:57.343673Z"
    }
   },
   "cell_type": "code",
   "source": [
    "import netket as nk\n",
    "import netket.nn as nnx\n",
    "\n",
    "import numpy as np\n",
    "from PIL.GimpGradientFile import curved\n",
    "\n",
    "from scipy.sparse.linalg import eigsh\n",
    "\n",
    "from tqdm import tqdm\n",
    "from functools import partial\n",
    "\n",
    "import jax\n",
    "import jax.numpy as jnp\n",
    "\n",
    "from flax import linen as nn # flax is library that brings a more pytorch-like API to JAX\n",
    "import optax # optax is a library that provides optimizers and learning rate schedules\n",
    "\n",
    "import matplotlib.pyplot as plt"
   ],
   "id": "313544941a9f5a16",
   "outputs": [],
   "execution_count": 14
  },
  {
   "metadata": {
    "collapsed": true,
    "ExecuteTime": {
     "end_time": "2025-05-07T13:17:59.619704Z",
     "start_time": "2025-05-07T13:17:59.612824Z"
    }
   },
   "cell_type": "code",
   "source": [
    "# defining the hamiltonian\n",
    "\n",
    "chain_length = 20\n",
    "coupling_strength = 1.0\n",
    "magnetic_field = 1.0\n",
    "\n",
    "g = nk.graph.Hypercube(length=chain_length, n_dim=1, pbc=True)\n",
    "hi = nk.hilbert.Spin(s=1/2, N=g.n_nodes)\n",
    "\n",
    "h = nk.operator.Ising(hi, g, h=magnetic_field, J=coupling_strength, dtype=float)"
   ],
   "id": "initial_id",
   "outputs": [],
   "execution_count": 15
  },
  {
   "metadata": {
    "ExecuteTime": {
     "end_time": "2025-05-07T13:18:00.979287Z",
     "start_time": "2025-05-07T13:18:00.954349Z"
    }
   },
   "cell_type": "code",
   "source": [
    "# defining the ansatz\n",
    "\n",
    "class JasShort(nnx.Module):\n",
    "    def __init__(self, *, rngs: nnx.Rngs):\n",
    "        self.j1 = nnx.Param(0.01 * jax.random.normal(rngs.params(), (1,)), dtype=float)\n",
    "        self.j2 = nnx.Param(0.01 * jax.random.normal(rngs.params(), (1,)), dtype=float)\n",
    "\n",
    "    def __call__(self, x: jax.Array):\n",
    "        corr1 = x * jnp.roll(x, -1, axis=-1)\n",
    "        corr2 = x * jnp.roll(x, -2, axis=-1)\n",
    "        return jnp.sum(self.j1 * corr1 + self.j2 * corr2, axis=-1)"
   ],
   "id": "806151c4710baad7",
   "outputs": [
    {
     "name": "stderr",
     "output_type": "stream",
     "text": [
      "/Users/Tonni/miniforge3/envs/dlnn2/lib/python3.9/site-packages/netket/nn/__init__.py:90: FutureWarning: \n",
      "\n",
      "          =======================================================================\n",
      "          `nk.nn.Module` is deprecated. Use `flax.linen.Module` directly instead.\n",
      "          =======================================================================\n",
      "\n",
      "If you imported `flax.linen as nn`, as is customary to do, you can use `nn.Module` directly. There are no functionality changes.\n",
      "\n",
      "  _warn_deprecation(\n"
     ]
    },
    {
     "ename": "AttributeError",
     "evalue": "module netket.nn has no attribute Rngs",
     "output_type": "error",
     "traceback": [
      "\u001B[0;31m---------------------------------------------------------------------------\u001B[0m",
      "\u001B[0;31mAttributeError\u001B[0m                            Traceback (most recent call last)",
      "Cell \u001B[0;32mIn[16], line 3\u001B[0m\n\u001B[1;32m      1\u001B[0m \u001B[38;5;66;03m# defining the ansatz\u001B[39;00m\n\u001B[0;32m----> 3\u001B[0m \u001B[38;5;28;01mclass\u001B[39;00m \u001B[38;5;21;01mJasShort\u001B[39;00m(nnx\u001B[38;5;241m.\u001B[39mModule):\n\u001B[1;32m      4\u001B[0m     \u001B[38;5;28;01mdef\u001B[39;00m \u001B[38;5;21m__init__\u001B[39m(\u001B[38;5;28mself\u001B[39m, \u001B[38;5;241m*\u001B[39m, rngs: nnx\u001B[38;5;241m.\u001B[39mRngs):\n\u001B[1;32m      5\u001B[0m         \u001B[38;5;28mself\u001B[39m\u001B[38;5;241m.\u001B[39mj1 \u001B[38;5;241m=\u001B[39m nnx\u001B[38;5;241m.\u001B[39mParam(\u001B[38;5;241m0.01\u001B[39m \u001B[38;5;241m*\u001B[39m jax\u001B[38;5;241m.\u001B[39mrandom\u001B[38;5;241m.\u001B[39mnormal(rngs\u001B[38;5;241m.\u001B[39mparams(), (\u001B[38;5;241m1\u001B[39m,)), dtype\u001B[38;5;241m=\u001B[39m\u001B[38;5;28mfloat\u001B[39m)\n",
      "Cell \u001B[0;32mIn[16], line 4\u001B[0m, in \u001B[0;36mJasShort\u001B[0;34m()\u001B[0m\n\u001B[1;32m      3\u001B[0m \u001B[38;5;28;01mclass\u001B[39;00m \u001B[38;5;21;01mJasShort\u001B[39;00m(nnx\u001B[38;5;241m.\u001B[39mModule):\n\u001B[0;32m----> 4\u001B[0m     \u001B[38;5;28;01mdef\u001B[39;00m \u001B[38;5;21m__init__\u001B[39m(\u001B[38;5;28mself\u001B[39m, \u001B[38;5;241m*\u001B[39m, rngs: \u001B[43mnnx\u001B[49m\u001B[38;5;241;43m.\u001B[39;49m\u001B[43mRngs\u001B[49m):\n\u001B[1;32m      5\u001B[0m         \u001B[38;5;28mself\u001B[39m\u001B[38;5;241m.\u001B[39mj1 \u001B[38;5;241m=\u001B[39m nnx\u001B[38;5;241m.\u001B[39mParam(\u001B[38;5;241m0.01\u001B[39m \u001B[38;5;241m*\u001B[39m jax\u001B[38;5;241m.\u001B[39mrandom\u001B[38;5;241m.\u001B[39mnormal(rngs\u001B[38;5;241m.\u001B[39mparams(), (\u001B[38;5;241m1\u001B[39m,)), dtype\u001B[38;5;241m=\u001B[39m\u001B[38;5;28mfloat\u001B[39m)\n\u001B[1;32m      6\u001B[0m         \u001B[38;5;28mself\u001B[39m\u001B[38;5;241m.\u001B[39mj2 \u001B[38;5;241m=\u001B[39m nnx\u001B[38;5;241m.\u001B[39mParam(\u001B[38;5;241m0.01\u001B[39m \u001B[38;5;241m*\u001B[39m jax\u001B[38;5;241m.\u001B[39mrandom\u001B[38;5;241m.\u001B[39mnormal(rngs\u001B[38;5;241m.\u001B[39mparams(), (\u001B[38;5;241m1\u001B[39m,)), dtype\u001B[38;5;241m=\u001B[39m\u001B[38;5;28mfloat\u001B[39m)\n",
      "File \u001B[0;32m~/miniforge3/envs/dlnn2/lib/python3.9/site-packages/netket/nn/__init__.py:104\u001B[0m, in \u001B[0;36m__getattr__\u001B[0;34m(name)\u001B[0m\n\u001B[1;32m    100\u001B[0m     \u001B[38;5;28;01mimport\u001B[39;00m \u001B[38;5;21;01mflax\u001B[39;00m\n\u001B[1;32m    102\u001B[0m     \u001B[38;5;28;01mreturn\u001B[39;00m \u001B[38;5;28mgetattr\u001B[39m(flax\u001B[38;5;241m.\u001B[39mlinen, name)\n\u001B[0;32m--> 104\u001B[0m \u001B[38;5;28;01mraise\u001B[39;00m \u001B[38;5;167;01mAttributeError\u001B[39;00m(\u001B[38;5;124mf\u001B[39m\u001B[38;5;124m\"\u001B[39m\u001B[38;5;124mmodule \u001B[39m\u001B[38;5;132;01m{\u001B[39;00m\u001B[38;5;18m__name__\u001B[39m\u001B[38;5;132;01m}\u001B[39;00m\u001B[38;5;124m has no attribute \u001B[39m\u001B[38;5;132;01m{\u001B[39;00mname\u001B[38;5;132;01m}\u001B[39;00m\u001B[38;5;124m\"\u001B[39m)\n",
      "\u001B[0;31mAttributeError\u001B[0m: module netket.nn has no attribute Rngs"
     ]
    }
   ],
   "execution_count": 16
  },
  {
   "metadata": {},
   "cell_type": "code",
   "outputs": [],
   "execution_count": null,
   "source": "",
   "id": "1c636c1a1685a1a3"
  }
 ],
 "metadata": {
  "kernelspec": {
   "display_name": "Python 3",
   "language": "python",
   "name": "python3"
  },
  "language_info": {
   "codemirror_mode": {
    "name": "ipython",
    "version": 2
   },
   "file_extension": ".py",
   "mimetype": "text/x-python",
   "name": "python",
   "nbconvert_exporter": "python",
   "pygments_lexer": "ipython2",
   "version": "2.7.6"
  }
 },
 "nbformat": 4,
 "nbformat_minor": 5
}
