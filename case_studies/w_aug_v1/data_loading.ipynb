{
 "cells": [
  {
   "cell_type": "code",
   "id": "initial_id",
   "metadata": {
    "collapsed": true,
    "ExecuteTime": {
     "end_time": "2025-05-27T14:44:12.579446Z",
     "start_time": "2025-05-27T14:44:09.335978Z"
    }
   },
   "source": [
    "import os\n",
    "import numpy as np\n",
    "import re\n",
    "\n",
    "import jax\n",
    "import jax.lax\n",
    "from jax.random import PRNGKey\n",
    "import jax.numpy as jnp\n",
    "import flax.linen as nn\n",
    "import optax\n",
    "from flax.training import train_state\n",
    "\n",
    "import functools\n",
    "\n",
    "from pathlib import Path\n",
    "\n",
    "\n",
    "import matplotlib.pyplot as plt\n",
    "from matplotlib.colors import ListedColormap\n",
    "import matplotlib.patches as mpatches\n",
    "\n",
    "data_dir = \"./data\"\n",
    "\n",
    "print(f\"Data resides in        : {data_dir}\")"
   ],
   "outputs": [
    {
     "name": "stdout",
     "output_type": "stream",
     "text": [
      "Data resides in        : ./data\n"
     ]
    }
   ],
   "execution_count": 2
  },
  {
   "metadata": {
    "ExecuteTime": {
     "end_time": "2025-05-27T14:55:23.665180Z",
     "start_time": "2025-05-27T14:55:23.657611Z"
    }
   },
   "cell_type": "code",
   "source": [
    "class MultiBasisDataLoader:\n",
    "    def __init__(self, data_dict: dict[str, jnp.ndarray],\n",
    "                 batch_size: int = 128,\n",
    "                 shuffle: bool = True,\n",
    "                 drop_last: bool = False,\n",
    "                 seed: int = 0):\n",
    "        lengths = [len(v) for v in data_dict.values()]\n",
    "        if len(set(lengths)) != 1:\n",
    "            raise ValueError(f\"All arrays must have the same length, got: {lengths}\")\n",
    "\n",
    "        self.data = data_dict\n",
    "        self.n = lengths[0]\n",
    "        self.bs = batch_size\n",
    "        self.shuffle = shuffle\n",
    "        self.drop_last = drop_last\n",
    "        self.rng = np.random.default_rng(seed)\n",
    "\n",
    "        self.idx_slices = [\n",
    "            (i, i + batch_size)\n",
    "            for i in range(0, self.n, batch_size)\n",
    "            if not drop_last or i + batch_size <= self.n\n",
    "        ]\n",
    "\n",
    "    def __iter__(self):\n",
    "        self.order = np.arange(self.n)\n",
    "        if self.shuffle:\n",
    "            self.rng.shuffle(self.order)\n",
    "        self.slice_idx = 0\n",
    "        return self\n",
    "\n",
    "    def __next__(self):\n",
    "        if self.slice_idx >= len(self.idx_slices):\n",
    "            raise StopIteration\n",
    "        s, e = self.idx_slices[self.slice_idx]\n",
    "        self.slice_idx += 1\n",
    "        return {k: v[self.order[s:e]] for k, v in self.data.items()}\n",
    "\n",
    "\n",
    "def load_measurements(folder: str, file_pattern: str = \"w_*.txt\") -> dict[str, jnp.ndarray]:\n",
    "    out: dict[str, jnp.ndarray] = {}\n",
    "\n",
    "    for fp in Path(folder).glob(file_pattern):\n",
    "        basis = fp.stem.split(\"_\")[2]\n",
    "\n",
    "        bitstrings = []\n",
    "        with fp.open() as f:\n",
    "            for line in f:\n",
    "                bitstring = np.fromiter((c.islower() for c in line.strip()), dtype=np.float32)\n",
    "                bitstrings.append(bitstring)\n",
    "\n",
    "        arr = jnp.asarray(np.stack(bitstrings))\n",
    "        if basis in out:\n",
    "            out[basis] = jnp.concatenate([out[basis], arr], axis=0)\n",
    "        else:\n",
    "            out[basis] = arr\n",
    "\n",
    "    return out"
   ],
   "id": "78de40dc6fd42395",
   "outputs": [],
   "execution_count": 6
  },
  {
   "metadata": {
    "ExecuteTime": {
     "end_time": "2025-05-27T14:55:33.151971Z",
     "start_time": "2025-05-27T14:55:32.772457Z"
    }
   },
   "cell_type": "code",
   "source": [
    "data_dict = load_measurements(\"data/\", \"w_*.txt\")\n",
    "\n",
    "# 2. Create two basis key groups (regex matched)\n",
    "amp_keys = [k for k in data_dict if re.fullmatch(r\"^Z+$\", k)]\n",
    "pha_keys = [k for k in data_dict if re.fullmatch(r\"^(?!Z+$).*\", k)]\n",
    "\n",
    "amp_dict = {k: data_dict[k] for k in amp_keys}\n",
    "pha_dict = {k: data_dict[k] for k in pha_keys}\n",
    "\n",
    "amp_loader           = MultiBasisDataLoader(amp_dict, batch_size=128)\n",
    "pha_loader           = MultiBasisDataLoader(pha_dict, batch_size=128)"
   ],
   "id": "d6edc336135bc877",
   "outputs": [],
   "execution_count": 7
  },
  {
   "metadata": {
    "ExecuteTime": {
     "end_time": "2025-05-27T15:01:22.838948Z",
     "start_time": "2025-05-27T15:01:22.824307Z"
    }
   },
   "cell_type": "code",
   "source": [
    "# iterate in parallel and print the keys\n",
    "for amp_batch, pha_batch in zip(amp_loader, pha_loader):\n",
    "    print(f\"Amplitude batch keys: {list(amp_batch.keys())}\")\n",
    "    amp_key, amp_val = next(iter(amp_batch.items()))\n",
    "    print(f\"Amp[{amp_key}] shape: {amp_val.shape}, dtype: {amp_val.dtype}\")\n",
    "\n",
    "    print(f\"Phase batch keys: {list(pha_batch.keys())}\")\n",
    "    \n",
    "    \n",
    "    #phase_Sample_count = pha_batch['ZZ'].shape[0]\n",
    "    break  # just to show the first batch"
   ],
   "id": "d758a8013c1cd0ff",
   "outputs": [
    {
     "name": "stdout",
     "output_type": "stream",
     "text": [
      "Amplitude batch keys: ['ZZZZZZZZZZZZZZZ']\n",
      "Amp[ZZZZZZZZZZZZZZZ] shape: (128, 15), dtype: float32\n",
      "Phase batch keys: ['ZZZZZZXYZZZZZZZ', 'ZZZZZZZZZXXZZZZ', 'ZZZZZZZZZZZZZXX', 'ZZZZZZZZZZZZZXY', 'ZZZZZZZZZZXXZZZ', 'ZZZZZZZZZZZXYZZ', 'ZZZXYZZZZZZZZZZ', 'ZZZZZZZZZXYZZZZ', 'XXZZZZZZZZZZZZZ', 'ZZZZZZXXZZZZZZZ', 'ZZZZZZZZXYZZZZZ', 'ZZXYZZZZZZZZZZZ', 'ZZZZXYZZZZZZZZZ', 'ZZXXZZZZZZZZZZZ', 'ZZZZZZZXXZZZZZZ', 'ZZZZZZZZXXZZZZZ', 'ZZZZZXYZZZZZZZZ', 'ZZZZXXZZZZZZZZZ', 'ZZZZZZZZZZXYZZZ', 'ZXXZZZZZZZZZZZZ', 'ZZZZZZZZZZZZXYZ', 'ZZZZZZZXYZZZZZZ', 'ZZZZZZZZZZZXXZZ', 'XYZZZZZZZZZZZZZ', 'ZXYZZZZZZZZZZZZ', 'ZZZZZXXZZZZZZZZ', 'ZZZZZZZZZZZZXXZ', 'ZZZXXZZZZZZZZZZ']\n"
     ]
    }
   ],
   "execution_count": 22
  }
 ],
 "metadata": {
  "kernelspec": {
   "display_name": "Python 3",
   "language": "python",
   "name": "python3"
  },
  "language_info": {
   "codemirror_mode": {
    "name": "ipython",
    "version": 2
   },
   "file_extension": ".py",
   "mimetype": "text/x-python",
   "name": "python",
   "nbconvert_exporter": "python",
   "pygments_lexer": "ipython2",
   "version": "2.7.6"
  }
 },
 "nbformat": 4,
 "nbformat_minor": 5
}
