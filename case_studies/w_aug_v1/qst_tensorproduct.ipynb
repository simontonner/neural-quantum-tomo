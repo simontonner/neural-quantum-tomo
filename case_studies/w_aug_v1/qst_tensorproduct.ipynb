{
 "cells": [
  {
   "metadata": {
    "ExecuteTime": {
     "end_time": "2025-05-22T08:42:37.334210Z",
     "start_time": "2025-05-22T08:42:37.327180Z"
    }
   },
   "cell_type": "code",
   "source": [
    "import numpy as np\n",
    "\n",
    "from collections import Counter\n",
    "from itertools import product"
   ],
   "id": "1433e1d2fd7fa6ef",
   "outputs": [],
   "execution_count": 51
  },
  {
   "metadata": {
    "ExecuteTime": {
     "end_time": "2025-05-22T08:42:38.626059Z",
     "start_time": "2025-05-22T08:42:38.618843Z"
    }
   },
   "cell_type": "code",
   "source": [
    "class PauliOperator:\n",
    "    def __init__(self, matrix, eigenvalues, eigenvectors):\n",
    "        \"\"\"\n",
    "        Bundles the relevant information of a Pauli operator into a single object.\n",
    "\n",
    "        REMARK: The eigenvalues and eigenvectors are directly passed to avoid numerical inaccuracies.\n",
    "\n",
    "        :param matrix: The matrix representation of the Pauli operator.\n",
    "        :param eigenvalues: The eigenvalues of the Pauli operator.\n",
    "        :param eigenvectors: The eigenvectors of the Pauli operator.\n",
    "        \"\"\"\n",
    "        self.matrix = matrix\n",
    "        self.eigenvalues = eigenvalues\n",
    "        self.eigenvectors = eigenvectors\n",
    "\n",
    "\n",
    "class MultiQubitMeasurementSetting:\n",
    "    def __init__(self, measurement_settings):\n",
    "        \"\"\"\n",
    "        Represents a multi-qubit measurement setting using Pauli operators.\n",
    "\n",
    "        :param measurement_settings: A list of Pauli operators representing the measurement setting for each qubit.\n",
    "        \"\"\"\n",
    "        self._measurement_settings = measurement_settings\n",
    "        self.eigenvectors = []\n",
    "        self.eigenvalues = []\n",
    "\n",
    "        self._construct_basis()\n",
    "\n",
    "    def _construct_basis(self):\n",
    "        \"\"\"\n",
    "        Constructs the multi-qubit basis vectors and their corresponding eigenvalues from the given Pauli operators.\n",
    "        \"\"\"\n",
    "\n",
    "        # in this first loop we iterate over the computational basis states of the n-qubit system\n",
    "        # constructing them as a list of 0s and 1s allows us to leverage pythons addressing capabilities\n",
    "        for state_addressing in product(range(2), repeat=len(self._measurement_settings)):\n",
    "            multi_qubit_eigenvalue = 1.0\n",
    "            multi_qubit_eigenvector = None\n",
    "\n",
    "            # we pair up the Pauli operator for each single qubit basis state and retrieve the matching eigenvalue and eigenvector\n",
    "            for pauli_op, state_index in zip(self._measurement_settings, state_addressing):\n",
    "                eigenvalue = pauli_op.eigenvalues[state_index]\n",
    "                eigenvector = pauli_op.eigenvectors[state_index]\n",
    "\n",
    "                # the eigenvalue of the multi-qubit operator is the product of the single-qubit eigenvalues\n",
    "                multi_qubit_eigenvalue *= eigenvalue\n",
    "\n",
    "                # we build up the multi-qubit eigenvector by taking the tensor product of the single-qubit eigenvectors\n",
    "                if multi_qubit_eigenvector is None:\n",
    "                    multi_qubit_eigenvector = eigenvector\n",
    "                else:\n",
    "                    multi_qubit_eigenvector = np.kron(multi_qubit_eigenvector, eigenvector)\n",
    "\n",
    "            self.eigenvalues.append(multi_qubit_eigenvalue)\n",
    "            self.eigenvectors.append(multi_qubit_eigenvector)"
   ],
   "id": "85d8a8e5d21a3fce",
   "outputs": [],
   "execution_count": 52
  },
  {
   "metadata": {
    "ExecuteTime": {
     "end_time": "2025-05-22T08:42:39.617295Z",
     "start_time": "2025-05-22T08:42:39.608652Z"
    }
   },
   "cell_type": "code",
   "source": [
    "sigma_0 = PauliOperator(np.eye(2), [1, 1], [np.array([1, 0]), np.array([0, 1])])\n",
    "sigma_x = PauliOperator(np.array([[0, 1], [1, 0]]), [1, -1], [np.array([1, 1]) / np.sqrt(2), np.array([1, -1]) / np.sqrt(2)])\n",
    "sigma_y = PauliOperator(np.array([[0, -1j], [1j, 0]]), [1, -1], [np.array([1, 1j]) / np.sqrt(2), np.array([1, -1j]) / np.sqrt(2)])\n",
    "sigma_z = PauliOperator(np.array([[1, 0], [0, -1]]), [1, -1], [np.array([1, 0]), np.array([0, 1])])\n",
    "pauli_operators = { 'I': sigma_0, 'X': sigma_x, 'Y': sigma_y, 'Z': sigma_z }\n",
    "\n",
    "\n",
    "def sample_state(state, pauli_labels, num_samples=1000):\n",
    "    measurement_settings = [pauli_operators[pl] for pl in pauli_labels]\n",
    "    multi_qubit_meas_setting = MultiQubitMeasurementSetting(measurement_settings)\n",
    "\n",
    "    probs = [np.abs(np.dot(vec, state))**2 for vec in multi_qubit_meas_setting.eigenvectors]\n",
    "\n",
    "    theo_exp = sum(e * p for e, p in zip(multi_qubit_meas_setting.eigenvalues, probs))\n",
    "\n",
    "    outcomes = np.random.choice(range(len(state)), size=num_samples, p=probs)\n",
    "    counts = Counter(outcomes)\n",
    "\n",
    "    obs_exp = 0\n",
    "    for state_idx, count_value in counts.items():\n",
    "        obs_exp += multi_qubit_meas_setting.eigenvalues[state_idx] * (count_value / num_samples)\n",
    "\n",
    "    return theo_exp, obs_exp"
   ],
   "id": "4f3b866bfe024201",
   "outputs": [],
   "execution_count": 53
  },
  {
   "metadata": {
    "ExecuteTime": {
     "end_time": "2025-05-22T08:42:41.012536Z",
     "start_time": "2025-05-22T08:42:41.006996Z"
    }
   },
   "cell_type": "code",
   "source": [
    "# construct the state\n",
    "\n",
    "num_qubits = 10\n",
    "\n",
    "state_dim = 1 << num_qubits                     # bit shifting a ...0001 bitstring is the same as 2**a\n",
    "psi = np.zeros(state_dim, dtype=complex)      # empty state vector\n",
    "\n",
    "# since the W state has only non-zero amplitudes for one-hot states, we only need num_qubits random phases\n",
    "rng = np.random.default_rng(42)\n",
    "thetas = rng.uniform(0, 2*np.pi, size=num_qubits)\n",
    "\n",
    "for j in range(num_qubits):\n",
    "    idx = 1 << (num_qubits - 1 - j)              # find indexing mask via bit shifting\n",
    "\n",
    "    # apply the phase to the corresponding amplitude coefficient\n",
    "    psi[idx] = np.exp(1j * thetas[j]) / np.sqrt(num_qubits)"
   ],
   "id": "9eec89a9d3d5eaef",
   "outputs": [],
   "execution_count": 54
  },
  {
   "metadata": {
    "ExecuteTime": {
     "end_time": "2025-05-22T08:42:42.887282Z",
     "start_time": "2025-05-22T08:42:42.037292Z"
    }
   },
   "cell_type": "code",
   "source": [
    "test_measurements = [\n",
    "    ('Z', 'Z', 'Z', 'Z', 'Z', 'Z', 'Z', 'Z', 'Z', 'Z'),\n",
    "    ('X', 'X', 'X', 'X', 'X', 'X', 'X', 'X', 'X', 'X'),\n",
    "    ('Y', 'Y', 'Y', 'Y', 'Y', 'Y', 'Y', 'Y', 'Y', 'Y'),\n",
    "    ('Z', 'X', 'Y', 'Z', 'X', 'Y', 'Z', 'X', 'Y', 'Z'),\n",
    "    ('X', 'Y', 'Z', 'X', 'Y', 'Z', 'X', 'Y', 'Z', 'X'),\n",
    "    ('Z', 'Z', 'X', 'X', 'X', 'X', 'X', 'X', 'X', 'X'),\n",
    "    ('Z', 'X', 'X', 'X', 'X', 'X', 'X', 'X', 'X', 'X'),\n",
    "    ('X', 'X', 'X', 'X', 'X', 'Y', 'X', 'X', 'X', 'X')\n",
    "]\n",
    "\n",
    "num_samples = 1000\n",
    "\n",
    "\n",
    "print(\"Performing test measurements...\")\n",
    "theo_exp_dict = {}\n",
    "obs_exp_dict = {}\n",
    "\n",
    "for pauli_labels in test_measurements:\n",
    "    theo_exp, obs_exp = sample_state(psi, pauli_labels, num_samples=num_samples)\n",
    "    theo_exp_dict[pauli_labels] = theo_exp\n",
    "    obs_exp_dict[pauli_labels] = obs_exp\n",
    "\n",
    "print(\"Measurements completed.\")"
   ],
   "id": "8d9dc76345eb9b59",
   "outputs": [
    {
     "name": "stdout",
     "output_type": "stream",
     "text": [
      "Performing test measurements...\n",
      "Measurements completed.\n"
     ]
    }
   ],
   "execution_count": 55
  },
  {
   "metadata": {
    "ExecuteTime": {
     "end_time": "2025-05-22T08:42:45.649184Z",
     "start_time": "2025-05-22T08:42:45.642444Z"
    }
   },
   "cell_type": "code",
   "source": [
    "print(f\"Pauli String | Theoretical Exp | Observed Exp   | Abs. Difference\")\n",
    "print(\"-\" * 70)\n",
    "\n",
    "differences = []\n",
    "for pauli_labels_tuple in test_measurements:\n",
    "    if pauli_labels_tuple in theo_exp_dict and pauli_labels_tuple in obs_exp_dict:\n",
    "        theo_val = theo_exp_dict[pauli_labels_tuple]\n",
    "        obs_val = obs_exp_dict[pauli_labels_tuple]\n",
    "        diff = np.abs(theo_val - obs_val)\n",
    "        differences.append(diff)\n",
    "\n",
    "        pauli_str = \"\".join(pauli_labels_tuple)\n",
    "        print(f\"{pauli_str}   | {theo_val:15.6f} | {obs_val:14.6f} | {diff:15.6f}\")\n",
    "\n",
    "\n",
    "max_diff = np.max(differences)\n",
    "avg_diff = np.mean(differences)\n",
    "std_diff = np.std(differences)\n",
    "\n",
    "\n",
    "print(f\"\\nNumber of samples per setting: {num_samples}\")\n",
    "print(f\"Maximum absolute difference:   {max_diff:.6f}\")\n",
    "print(f\"Average absolute difference:   {avg_diff:.6f}\")\n",
    "print(f\"Std. Dev. of differences:      {std_diff:.6f}\")"
   ],
   "id": "18e9c250c0de0c5f",
   "outputs": [
    {
     "name": "stdout",
     "output_type": "stream",
     "text": [
      "Pauli String | Theoretical Exp | Observed Exp   | Abs. Difference\n",
      "----------------------------------------------------------------------\n",
      "ZZZZZZZZZZ   |       -1.000000 |      -1.000000 |        0.000000\n",
      "XXXXXXXXXX   |       -0.000000 |      -0.006000 |        0.006000\n",
      "YYYYYYYYYY   |       -0.000000 |       0.036000 |        0.036000\n",
      "ZXYZXYZXYZ   |        0.000000 |       0.086000 |        0.086000\n",
      "XYZXYZXYZX   |       -0.000000 |      -0.054000 |        0.054000\n",
      "ZZXXXXXXXX   |       -0.000000 |       0.006000 |        0.006000\n",
      "ZXXXXXXXXX   |       -0.000000 |      -0.002000 |        0.002000\n",
      "XXXXXYXXXX   |       -0.000000 |      -0.030000 |        0.030000\n",
      "\n",
      "Number of samples per setting: 1000\n",
      "Maximum absolute difference:   0.086000\n",
      "Average absolute difference:   0.027500\n",
      "Std. Dev. of differences:      0.028579\n"
     ]
    }
   ],
   "execution_count": 56
  },
  {
   "metadata": {},
   "cell_type": "code",
   "outputs": [],
   "execution_count": null,
   "source": "",
   "id": "5224b867ee8c689b"
  }
 ],
 "metadata": {
  "kernelspec": {
   "display_name": "Python 3",
   "language": "python",
   "name": "python3"
  },
  "language_info": {
   "codemirror_mode": {
    "name": "ipython",
    "version": 2
   },
   "file_extension": ".py",
   "mimetype": "text/x-python",
   "name": "python",
   "nbconvert_exporter": "python",
   "pygments_lexer": "ipython2",
   "version": "2.7.6"
  }
 },
 "nbformat": 4,
 "nbformat_minor": 5
}
