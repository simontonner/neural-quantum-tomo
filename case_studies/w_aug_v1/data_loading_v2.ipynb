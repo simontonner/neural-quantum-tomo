{
 "cells": [
  {
   "cell_type": "code",
   "id": "initial_id",
   "metadata": {
    "collapsed": true,
    "ExecuteTime": {
     "end_time": "2025-05-27T15:23:10.610618Z",
     "start_time": "2025-05-27T15:23:10.607580Z"
    }
   },
   "source": [
    "import os\n",
    "import numpy as np\n",
    "import re\n",
    "\n",
    "import jax\n",
    "import jax.lax\n",
    "from jax.random import PRNGKey\n",
    "import jax.numpy as jnp\n",
    "import flax.linen as nn\n",
    "import optax\n",
    "from flax.training import train_state\n",
    "\n",
    "import functools\n",
    "\n",
    "from pathlib import Path\n",
    "\n",
    "\n",
    "import matplotlib.pyplot as plt\n",
    "from matplotlib.colors import ListedColormap\n",
    "import matplotlib.patches as mpatches\n",
    "\n",
    "data_dir = \"./data\"\n",
    "\n",
    "print(f\"Data resides in        : {data_dir}\")"
   ],
   "outputs": [
    {
     "name": "stdout",
     "output_type": "stream",
     "text": [
      "Data resides in        : ./data\n"
     ]
    }
   ],
   "execution_count": 31
  },
  {
   "metadata": {
    "ExecuteTime": {
     "end_time": "2025-05-27T15:23:12.276984Z",
     "start_time": "2025-05-27T15:23:12.267262Z"
    }
   },
   "cell_type": "code",
   "source": [
    "class MultiBasisDataLoader:\n",
    "    def __init__(self, data_dict: dict[str, jnp.ndarray],\n",
    "                 batch_size: int = 128,\n",
    "                 shuffle: bool = True,\n",
    "                 drop_last: bool = False,\n",
    "                 seed: int = 0):\n",
    "        lengths = [len(v) for v in data_dict.values()]\n",
    "        if len(set(lengths)) != 1:\n",
    "            raise ValueError(f\"All arrays must have the same length, got: {lengths}\")\n",
    "\n",
    "        self.data = data_dict\n",
    "        self.n = lengths[0]\n",
    "        self.bs = batch_size\n",
    "        self.shuffle = shuffle\n",
    "        self.drop_last = drop_last\n",
    "        self.rng = np.random.default_rng(seed)\n",
    "\n",
    "        self.idx_slices = [\n",
    "            (i, i + batch_size)\n",
    "            for i in range(0, self.n, batch_size)\n",
    "            if not drop_last or i + batch_size <= self.n\n",
    "        ]\n",
    "\n",
    "    def __iter__(self):\n",
    "        self.order = np.arange(self.n)\n",
    "        if self.shuffle:\n",
    "            self.rng.shuffle(self.order)\n",
    "        self.slice_idx = 0\n",
    "        return self\n",
    "\n",
    "    def __next__(self):\n",
    "        if self.slice_idx >= len(self.idx_slices):\n",
    "            raise StopIteration\n",
    "        s, e = self.idx_slices[self.slice_idx]\n",
    "        self.slice_idx += 1\n",
    "        return {k: v[self.order[s:e]] for k, v in self.data.items()}\n",
    "\n",
    "\n",
    "def load_measurements(folder: str, file_pattern: str = \"w_*.txt\") -> dict[str, jnp.ndarray]:\n",
    "    out: dict[str, jnp.ndarray] = {}\n",
    "\n",
    "    for fp in Path(folder).glob(file_pattern):\n",
    "        basis = fp.stem.split(\"_\")[2]\n",
    "\n",
    "        bitstrings = []\n",
    "        with fp.open() as f:\n",
    "            for line in f:\n",
    "                bitstring = np.fromiter((c.islower() for c in line.strip()), dtype=np.float32)\n",
    "                bitstrings.append(bitstring)\n",
    "\n",
    "        arr = jnp.asarray(np.stack(bitstrings))\n",
    "        if basis in out:\n",
    "            out[basis] = jnp.concatenate([out[basis], arr], axis=0)\n",
    "        else:\n",
    "            out[basis] = arr\n",
    "\n",
    "    return out"
   ],
   "id": "78de40dc6fd42395",
   "outputs": [],
   "execution_count": 32
  },
  {
   "metadata": {
    "ExecuteTime": {
     "end_time": "2025-05-27T15:23:13.600873Z",
     "start_time": "2025-05-27T15:23:13.215836Z"
    }
   },
   "cell_type": "code",
   "source": [
    "data_dict = load_measurements(\"data/\", \"w_*.txt\")\n",
    "\n",
    "# 2. Create two basis key groups (regex matched)\n",
    "amp_keys = [k for k in data_dict if re.fullmatch(r\"^Z+$\", k)]\n",
    "pha_keys = [k for k in data_dict if re.fullmatch(r\"^(?!Z+$).*\", k)]\n",
    "\n",
    "amp_dict = {k: data_dict[k] for k in amp_keys}\n",
    "pha_dict = {k: data_dict[k] for k in pha_keys}\n",
    "\n",
    "amp_loader           = MultiBasisDataLoader(amp_dict, batch_size=128)\n",
    "pha_loader           = MultiBasisDataLoader(pha_dict, batch_size=128)"
   ],
   "id": "d6edc336135bc877",
   "outputs": [],
   "execution_count": 33
  },
  {
   "metadata": {
    "ExecuteTime": {
     "end_time": "2025-05-27T15:23:14.463571Z",
     "start_time": "2025-05-27T15:23:14.448956Z"
    }
   },
   "cell_type": "code",
   "source": [
    "# iterate in parallel and print the keys\n",
    "for amp_batch, pha_batch in zip(amp_loader, pha_loader):\n",
    "    print(f\"Amplitude batch keys: {list(amp_batch.keys())}\")\n",
    "    amp_key, amp_val = next(iter(amp_batch.items()))\n",
    "    print(f\"Amp[{amp_key}] shape: {amp_val.shape}, dtype: {amp_val.dtype}\")\n",
    "\n",
    "    print(f\"Phase batch keys: {list(pha_batch.keys())}\")\n",
    "    \n",
    "    \n",
    "    #phase_Sample_count = pha_batch['ZZ'].shape[0]\n",
    "    break  # just to show the first batch"
   ],
   "id": "d758a8013c1cd0ff",
   "outputs": [
    {
     "name": "stdout",
     "output_type": "stream",
     "text": [
      "Amplitude batch keys: ['ZZZZZZZZZZZZZZZ']\n",
      "Amp[ZZZZZZZZZZZZZZZ] shape: (128, 15), dtype: float32\n",
      "Phase batch keys: ['ZZZZZZXYZZZZZZZ', 'ZZZZZZZZZXXZZZZ', 'ZZZZZZZZZZZZZXX', 'ZZZZZZZZZZZZZXY', 'ZZZZZZZZZZXXZZZ', 'ZZZZZZZZZZZXYZZ', 'ZZZXYZZZZZZZZZZ', 'ZZZZZZZZZXYZZZZ', 'XXZZZZZZZZZZZZZ', 'ZZZZZZXXZZZZZZZ', 'ZZZZZZZZXYZZZZZ', 'ZZXYZZZZZZZZZZZ', 'ZZZZXYZZZZZZZZZ', 'ZZXXZZZZZZZZZZZ', 'ZZZZZZZXXZZZZZZ', 'ZZZZZZZZXXZZZZZ', 'ZZZZZXYZZZZZZZZ', 'ZZZZXXZZZZZZZZZ', 'ZZZZZZZZZZXYZZZ', 'ZXXZZZZZZZZZZZZ', 'ZZZZZZZZZZZZXYZ', 'ZZZZZZZXYZZZZZZ', 'ZZZZZZZZZZZXXZZ', 'XYZZZZZZZZZZZZZ', 'ZXYZZZZZZZZZZZZ', 'ZZZZZXXZZZZZZZZ', 'ZZZZZZZZZZZZXXZ', 'ZZZXXZZZZZZZZZZ']\n"
     ]
    }
   ],
   "execution_count": 34
  },
  {
   "metadata": {
    "ExecuteTime": {
     "end_time": "2025-05-27T15:34:51.021804Z",
     "start_time": "2025-05-27T15:34:51.004621Z"
    }
   },
   "cell_type": "code",
   "source": [
    "from typing import Tuple, Dict, Any\n",
    "from typing import Optional\n",
    "\n",
    "\n",
    "class DoubleRBM(nn.Module):\n",
    "    n_visible: int\n",
    "    n_hidden: int\n",
    "    k: int = 1\n",
    "    n_chains: int = 100\n",
    "\n",
    "    def setup(self):\n",
    "        self.W_amp = self.param(\"W_amp\", nn.initializers.normal(0.01), (self.n_visible, self.n_hidden))\n",
    "        self.b_amp = self.param(\"b_amp\", nn.initializers.zeros, (self.n_visible,))\n",
    "        self.c_amp = self.param(\"c_amp\", nn.initializers.zeros, (self.n_hidden,))\n",
    "\n",
    "        self.W_pha = self.param(\"W_pha\", nn.initializers.normal(0.01), (self.n_visible, self.n_hidden))\n",
    "        self.b_pha = self.param(\"b_pha\", nn.initializers.zeros, (self.n_visible,))\n",
    "        self.c_pha = self.param(\"c_pha\", nn.initializers.zeros, (self.n_hidden,))\n",
    "\n",
    "    def __call__(self, data_dict: Dict[str, jnp.ndarray], aux_vars: Dict[str, Any]) -> Tuple[jnp.ndarray, Dict[str, Any]]:\n",
    "        # access aux vars\n",
    "        random_key = aux_vars.get(\"random_key\") # we require some random key to be there\n",
    "        persistent_chains = aux_vars.get(\"v_persistent\", None)\n",
    "\n",
    "        aux_vars = dict()\n",
    "\n",
    "        comp_basis = 'Z' * self.n_visible\n",
    "        if len(data_dict) == 1 and comp_basis in data_dict:\n",
    "            data_batch = data_dict[comp_basis]\n",
    "            pcd_loss, persistent_chains, random_key = self._loss_amp(data_batch, persistent_chains, random_key)\n",
    "\n",
    "            if persistent_chains is not None:\n",
    "                aux_vars[\"v_persistent\"] = persistent_chains\n",
    "\n",
    "            aux_vars[\"random_key\"] = random_key\n",
    "\n",
    "            return pcd_loss, aux_vars\n",
    "\n",
    "        # else throw\n",
    "        raise ValueError(\"Encountered batch of unsupported basis.\")\n",
    "\n",
    "\n",
    "    def _loss_amp(self, data_batch, persistent_chains, random_key):\n",
    "        W = self.variables[\"params\"][\"W_amp\"]\n",
    "        b = self.variables[\"params\"][\"b_amp\"]\n",
    "        c = self.variables[\"params\"][\"c_amp\"]\n",
    "\n",
    "        if persistent_chains is None:\n",
    "            random_key, random_key_bern = jax.random.split(random_key)\n",
    "            chains = jax.random.bernoulli(random_key_bern, p=0.5, shape=(self.n_chains, self.n_visible))\n",
    "            model_batch, random_key = self._gibbs_sample(W, b, c, chains, random_key, k=self.k)\n",
    "        else:\n",
    "            model_batch, random_key = self._gibbs_sample(W, b, c, persistent_chains, random_key, k=self.k)\n",
    "            persistent_chains = model_batch\n",
    "\n",
    "        model_batch = jax.lax.stop_gradient(model_batch)  # stopping gradient tracking before computing the loss\n",
    "\n",
    "        free_energy_data = self._free_energy(W, b, c, data_batch)\n",
    "        free_energy_model = self._free_energy(W, b, c, model_batch)\n",
    "        pcd_loss = jnp.mean(free_energy_data) - jnp.mean(free_energy_model)\n",
    "\n",
    "        return pcd_loss, persistent_chains, random_key\n",
    "\n",
    "    @staticmethod\n",
    "    def _free_energy(W, b, c, v):\n",
    "        visible_term = jnp.dot(v, b)\n",
    "        hidden_term  = jnp.sum(jax.nn.softplus(v @ W + c), axis=-1)\n",
    "        free_energy = -visible_term - hidden_term\n",
    "        return free_energy\n",
    "\n",
    "    @staticmethod\n",
    "    def _gibbs_step(i, state, W, b, c, T=1.0):\n",
    "        v, key = state\n",
    "\n",
    "        # splitting generates different random numbers for each step, one of them is passed on\n",
    "        key, h_key, v_key = jax.random.split(key, 3)\n",
    "\n",
    "        h_logits = (v @ W + c) / T\n",
    "        h_probs = jax.nn.sigmoid(h_logits)\n",
    "        h = jax.random.bernoulli(h_key, h_probs).astype(jnp.float32)\n",
    "\n",
    "        v_logits = (h @ W.T + b) / T\n",
    "        v_probs = jax.nn.sigmoid(v_logits)\n",
    "        v = jax.random.bernoulli(v_key, v_probs).astype(jnp.float32)\n",
    "        return v, key\n",
    "\n",
    "    @staticmethod\n",
    "    def _gibbs_sample(W, b, c, v_init, rng, k=1, T=1.0):\n",
    "        # the fori_loop enables JIT compilation of loops. It basically unrolls the loop over the fixed length k.\n",
    "\n",
    "        body_fun = lambda i, state: DoubleRBM._gibbs_step(i, state, W, b, c, T)\n",
    "        v_final, key = jax.lax.fori_loop(0, k, body_fun, (v_init, rng))\n",
    "        return v_final, key\n",
    "\n",
    "    @staticmethod\n",
    "    def _annealing_step(i, state, W, b, c, T_schedule):\n",
    "        v, rng = state\n",
    "        T = T_schedule[i]\n",
    "        v_next, rng_next = DoubleRBM._gibbs_sample(W, b, c, v, rng, k=1, T=T)\n",
    "        return v_next, rng_next\n",
    "\n",
    "    @nn.nowrap\n",
    "    def generate(self, n_samples: int, T_schedule: jnp.ndarray, rng: PRNGKey) -> jnp.ndarray:\n",
    "        # use amplitude parameters\n",
    "        W = self.variables[\"params\"][\"W_amp\"]\n",
    "        b = self.variables[\"params\"][\"b_amp\"]\n",
    "        c = self.variables[\"params\"][\"c_amp\"]\n",
    "\n",
    "        rng, init_key = jax.random.split(rng)\n",
    "        v = jax.random.bernoulli(init_key, p=0.5, shape=(n_samples, self.n_visible)).astype(jnp.float32)\n",
    "        state = (v, rng)\n",
    "\n",
    "        body_fun = lambda i, s: DoubleRBM._annealing_step(i, s, W, b, c, T_schedule)\n",
    "        v_final, _ = jax.lax.fori_loop(0, len(T_schedule), body_fun, state)\n",
    "        return v_final"
   ],
   "id": "109b3fd9b0ef396f",
   "outputs": [],
   "execution_count": 56
  },
  {
   "metadata": {
    "ExecuteTime": {
     "end_time": "2025-05-27T15:34:52.025779Z",
     "start_time": "2025-05-27T15:34:52.018915Z"
    }
   },
   "cell_type": "code",
   "source": [
    "class RBMTrainState(train_state.TrainState):\n",
    "    \"\"\"Immutable training container for optimizer, params, step, etc.\"\"\"\n",
    "    pass\n",
    "\n",
    "@jax.jit\n",
    "def train_step(state: RBMTrainState,\n",
    "               batch: dict[str, jnp.ndarray],\n",
    "               v_persistent: jnp.ndarray,\n",
    "               key: PRNGKey):\n",
    "\n",
    "    def loss_fn(params):\n",
    "        return state.apply_fn({'params': params}, batch, {\n",
    "            \"v_persistent\": v_persistent,\n",
    "            \"random_key\": key\n",
    "        })\n",
    "\n",
    "    (loss, aux), grads = jax.value_and_grad(loss_fn, has_aux=True)(state.params)\n",
    "    new_state = state.apply_gradients(grads=grads)\n",
    "    return new_state, loss, aux[\"v_persistent\"], aux[\"random_key\"]\n",
    "\n"
   ],
   "id": "acbdfc2f970977ec",
   "outputs": [],
   "execution_count": 57
  },
  {
   "metadata": {
    "ExecuteTime": {
     "end_time": "2025-05-27T15:34:52.791058Z",
     "start_time": "2025-05-27T15:34:52.785380Z"
    }
   },
   "cell_type": "code",
   "source": [
    "def train_rbm(state: RBMTrainState,\n",
    "              loader: MultiBasisDataLoader,\n",
    "              num_epochs: int,\n",
    "              rng: PRNGKey,\n",
    "              pcd_reset: int = 50):\n",
    "\n",
    "    metrics = {}\n",
    "\n",
    "    for epoch in range(num_epochs):\n",
    "        total_loss = 0.0\n",
    "        batch_count = 0\n",
    "\n",
    "        for batch_idx, data_dict in enumerate(loader):\n",
    "            #print(\"Batch keys:\", list(data_dict.keys()))  # <- DEBUG\n",
    "\n",
    "            batch = next(iter(data_dict.values()))  # get one array from dict\n",
    "            if batch_idx % pcd_reset == 0:\n",
    "                rng, subkey = jax.random.split(rng)\n",
    "                v_persistent = jax.random.bernoulli(subkey, p=0.5, shape=batch.shape).astype(jnp.float32)\n",
    "\n",
    "            state, loss, v_persistent, rng = train_step(state, data_dict, v_persistent, rng)\n",
    "\n",
    "            total_loss += loss\n",
    "            batch_count += 1\n",
    "\n",
    "        avg_loss = total_loss / batch_count\n",
    "        metrics[epoch] = {\"free_energy_loss\": float(avg_loss)}\n",
    "        print(f\"Epoch [{epoch+1}/{num_epochs}] - Free Energy Loss: {avg_loss:.4f}\")\n",
    "\n",
    "    return state, metrics, rng\n"
   ],
   "id": "207b4708758a0293",
   "outputs": [],
   "execution_count": 58
  },
  {
   "metadata": {
    "ExecuteTime": {
     "end_time": "2025-05-27T15:34:56.198851Z",
     "start_time": "2025-05-27T15:34:53.593522Z"
    }
   },
   "cell_type": "code",
   "source": [
    "# ---- hyperparameters ----\n",
    "batch_size    = 100\n",
    "visible_units = 15\n",
    "hidden_units  = 15\n",
    "k_steps       = 1\n",
    "lr            = 1e-2\n",
    "num_epochs    = 100\n",
    "pcd_reset     = 50\n",
    "\n",
    "rng = PRNGKey(42)\n",
    "\n",
    "# ---- prepare loader ----\n",
    "train_loader = amp_loader\n",
    "\n",
    "# ---- init model ----\n",
    "model = DoubleRBM(n_visible=visible_units, n_hidden=hidden_units, k=k_steps)\n",
    "rng, init_key = jax.random.split(rng)\n",
    "\n",
    "dummy_batch = jnp.zeros((batch_size, visible_units), dtype=jnp.float32)\n",
    "z_basis = 'Z' * visible_units  # assuming the basis is Z for the dummy batch\n",
    "dummy_batch_dict = {z_basis: dummy_batch}\n",
    "\n",
    "params = model.init(\n",
    "    init_key,\n",
    "    dummy_batch_dict,\n",
    "    {\n",
    "        \"v_persistent\": dummy_batch,\n",
    "        \"random_key\": rng\n",
    "    }\n",
    ")[\"params\"]\n",
    "\n",
    "# ---- create training state ----\n",
    "optimizer = optax.adam(learning_rate=lr)\n",
    "state = RBMTrainState.create(apply_fn=model.apply, params=params, tx=optimizer)\n",
    "\n",
    "# ---- train ----\n",
    "state, metrics, rng = train_rbm(state, train_loader, num_epochs, rng, pcd_reset)"
   ],
   "id": "9ec8f0c6f55d763a",
   "outputs": [
    {
     "name": "stdout",
     "output_type": "stream",
     "text": [
      "Epoch [1/100] - Free Energy Loss: -2.1041\n",
      "Epoch [2/100] - Free Energy Loss: 0.0366\n",
      "Epoch [3/100] - Free Energy Loss: -0.1805\n",
      "Epoch [4/100] - Free Energy Loss: -0.2323\n",
      "Epoch [5/100] - Free Energy Loss: -0.1258\n",
      "Epoch [6/100] - Free Energy Loss: -0.1135\n",
      "Epoch [7/100] - Free Energy Loss: -0.1529\n",
      "Epoch [8/100] - Free Energy Loss: -0.1063\n",
      "Epoch [9/100] - Free Energy Loss: -0.0599\n",
      "Epoch [10/100] - Free Energy Loss: -0.0697\n",
      "Epoch [11/100] - Free Energy Loss: -0.1033\n",
      "Epoch [12/100] - Free Energy Loss: -0.0358\n",
      "Epoch [13/100] - Free Energy Loss: -0.0673\n",
      "Epoch [14/100] - Free Energy Loss: -0.0140\n",
      "Epoch [15/100] - Free Energy Loss: -0.0762\n",
      "Epoch [16/100] - Free Energy Loss: -0.0126\n",
      "Epoch [17/100] - Free Energy Loss: -0.0301\n",
      "Epoch [18/100] - Free Energy Loss: -0.0151\n",
      "Epoch [19/100] - Free Energy Loss: -0.0180\n",
      "Epoch [20/100] - Free Energy Loss: -0.0605\n",
      "Epoch [21/100] - Free Energy Loss: 0.0049\n",
      "Epoch [22/100] - Free Energy Loss: -0.0180\n",
      "Epoch [23/100] - Free Energy Loss: -0.0091\n",
      "Epoch [24/100] - Free Energy Loss: -0.0009\n",
      "Epoch [25/100] - Free Energy Loss: -0.0159\n",
      "Epoch [26/100] - Free Energy Loss: -0.0147\n",
      "Epoch [27/100] - Free Energy Loss: -0.0024\n",
      "Epoch [28/100] - Free Energy Loss: -0.0157\n",
      "Epoch [29/100] - Free Energy Loss: -0.0075\n",
      "Epoch [30/100] - Free Energy Loss: -0.0056\n",
      "Epoch [31/100] - Free Energy Loss: 0.0161\n",
      "Epoch [32/100] - Free Energy Loss: -0.0094\n",
      "Epoch [33/100] - Free Energy Loss: 0.0133\n",
      "Epoch [34/100] - Free Energy Loss: -0.0122\n",
      "Epoch [35/100] - Free Energy Loss: 0.0033\n",
      "Epoch [36/100] - Free Energy Loss: 0.0249\n",
      "Epoch [37/100] - Free Energy Loss: 0.0064\n",
      "Epoch [38/100] - Free Energy Loss: -0.0000\n",
      "Epoch [39/100] - Free Energy Loss: 0.0001\n",
      "Epoch [40/100] - Free Energy Loss: 0.0104\n",
      "Epoch [41/100] - Free Energy Loss: -0.0078\n",
      "Epoch [42/100] - Free Energy Loss: 0.0088\n",
      "Epoch [43/100] - Free Energy Loss: 0.0191\n",
      "Epoch [44/100] - Free Energy Loss: 0.0167\n",
      "Epoch [45/100] - Free Energy Loss: 0.0071\n",
      "Epoch [46/100] - Free Energy Loss: 0.0156\n",
      "Epoch [47/100] - Free Energy Loss: -0.0400\n",
      "Epoch [48/100] - Free Energy Loss: 0.0610\n",
      "Epoch [49/100] - Free Energy Loss: 0.0185\n",
      "Epoch [50/100] - Free Energy Loss: 0.0199\n",
      "Epoch [51/100] - Free Energy Loss: -0.0051\n",
      "Epoch [52/100] - Free Energy Loss: 0.0254\n",
      "Epoch [53/100] - Free Energy Loss: 0.0092\n",
      "Epoch [54/100] - Free Energy Loss: 0.0209\n",
      "Epoch [55/100] - Free Energy Loss: -0.0058\n",
      "Epoch [56/100] - Free Energy Loss: 0.0185\n",
      "Epoch [57/100] - Free Energy Loss: 0.0274\n",
      "Epoch [58/100] - Free Energy Loss: 0.0336\n",
      "Epoch [59/100] - Free Energy Loss: 0.0320\n",
      "Epoch [60/100] - Free Energy Loss: -0.0044\n",
      "Epoch [61/100] - Free Energy Loss: 0.0328\n",
      "Epoch [62/100] - Free Energy Loss: 0.0132\n",
      "Epoch [63/100] - Free Energy Loss: 0.0165\n",
      "Epoch [64/100] - Free Energy Loss: -0.0085\n",
      "Epoch [65/100] - Free Energy Loss: 0.0255\n",
      "Epoch [66/100] - Free Energy Loss: 0.0366\n",
      "Epoch [67/100] - Free Energy Loss: 0.0264\n",
      "Epoch [68/100] - Free Energy Loss: -0.0130\n",
      "Epoch [69/100] - Free Energy Loss: 0.0416\n",
      "Epoch [70/100] - Free Energy Loss: 0.0213\n",
      "Epoch [71/100] - Free Energy Loss: 0.0214\n",
      "Epoch [72/100] - Free Energy Loss: 0.0032\n",
      "Epoch [73/100] - Free Energy Loss: 0.0405\n",
      "Epoch [74/100] - Free Energy Loss: 0.0237\n",
      "Epoch [75/100] - Free Energy Loss: 0.0283\n",
      "Epoch [76/100] - Free Energy Loss: 0.0350\n",
      "Epoch [77/100] - Free Energy Loss: 0.0045\n",
      "Epoch [78/100] - Free Energy Loss: -0.0101\n",
      "Epoch [79/100] - Free Energy Loss: 0.0677\n",
      "Epoch [80/100] - Free Energy Loss: -0.0124\n",
      "Epoch [81/100] - Free Energy Loss: 0.0284\n",
      "Epoch [82/100] - Free Energy Loss: 0.0237\n",
      "Epoch [83/100] - Free Energy Loss: 0.0467\n",
      "Epoch [84/100] - Free Energy Loss: 0.0165\n",
      "Epoch [85/100] - Free Energy Loss: 0.0301\n",
      "Epoch [86/100] - Free Energy Loss: 0.0237\n",
      "Epoch [87/100] - Free Energy Loss: 0.0250\n",
      "Epoch [88/100] - Free Energy Loss: 0.0270\n",
      "Epoch [89/100] - Free Energy Loss: 0.0438\n",
      "Epoch [90/100] - Free Energy Loss: 0.0040\n",
      "Epoch [91/100] - Free Energy Loss: 0.0230\n",
      "Epoch [92/100] - Free Energy Loss: 0.0342\n",
      "Epoch [93/100] - Free Energy Loss: -0.0060\n",
      "Epoch [94/100] - Free Energy Loss: 0.0551\n",
      "Epoch [95/100] - Free Energy Loss: 0.0119\n",
      "Epoch [96/100] - Free Energy Loss: 0.0259\n",
      "Epoch [97/100] - Free Energy Loss: 0.0395\n",
      "Epoch [98/100] - Free Energy Loss: 0.0203\n",
      "Epoch [99/100] - Free Energy Loss: -0.0246\n",
      "Epoch [100/100] - Free Energy Loss: 0.0707\n"
     ]
    }
   ],
   "execution_count": 59
  },
  {
   "metadata": {
    "ExecuteTime": {
     "end_time": "2025-05-27T15:34:57.094861Z",
     "start_time": "2025-05-27T15:34:57.017137Z"
    }
   },
   "cell_type": "code",
   "source": [
    "plt.plot([metrics[epoch]['free_energy_loss'] for epoch in metrics])\n",
    "plt.xlabel(\"Epoch\")\n",
    "plt.ylabel(\"Free Energy Loss\")"
   ],
   "id": "342199130cd0b3ba",
   "outputs": [
    {
     "data": {
      "text/plain": [
       "Text(0, 0.5, 'Free Energy Loss')"
      ]
     },
     "execution_count": 60,
     "metadata": {},
     "output_type": "execute_result"
    },
    {
     "data": {
      "text/plain": [
       "<Figure size 640x480 with 1 Axes>"
      ],
      "image/png": "[encoded data removed]"
     },
     "metadata": {},
     "output_type": "display_data"
    }
   ],
   "execution_count": 60
  },
  {
   "metadata": {
    "ExecuteTime": {
     "end_time": "2025-05-27T15:37:18.996721Z",
     "start_time": "2025-05-27T15:37:18.307625Z"
    }
   },
   "cell_type": "code",
   "source": [
    "samples = model.apply(\n",
    "    {\"params\": state.params},\n",
    "    n_samples=10_000,\n",
    "    T_schedule=jnp.ones(200) * 1.2,\n",
    "    rng=rng,\n",
    "    method=DoubleRBM.generate\n",
    ")\n",
    "\n",
    "rel_freq = samples.mean(0)\n",
    "rel_freq"
   ],
   "id": "126957f0780ea597",
   "outputs": [
    {
     "data": {
      "text/plain": [
       "Array([0.1056    , 0.1078    , 0.1003    , 0.10879999, 0.0768    ,\n",
       "       0.13      , 0.1073    , 0.1059    , 0.1135    , 0.12419999,\n",
       "       0.0895    , 0.1001    , 0.1015    , 0.1136    , 0.1007    ],      dtype=float32)"
      ]
     },
     "execution_count": 63,
     "metadata": {},
     "output_type": "execute_result"
    }
   ],
   "execution_count": 63
  },
  {
   "metadata": {
    "ExecuteTime": {
     "end_time": "2025-05-27T15:39:26.803117Z",
     "start_time": "2025-05-27T15:39:26.781136Z"
    }
   },
   "cell_type": "code",
   "source": [
    "# compare with actual frequencies from first\n",
    "empirical_freq = jnp.zeros(visible_units)\n",
    "num_total = 0\n",
    "\n",
    "for batch in amp_loader:\n",
    "    for arr in batch.values():\n",
    "        empirical_freq += jnp.sum(arr, axis=0)\n",
    "        num_total += arr.shape[0]\n",
    "\n",
    "empirical_freq = empirical_freq / num_total\n",
    "empirical_freq"
   ],
   "id": "70d07a46dcb22f25",
   "outputs": [
    {
     "data": {
      "text/plain": [
       "Array([0.06171875, 0.06703125, 0.0665625 , 0.0659375 , 0.061875  ,\n",
       "       0.06703125, 0.0646875 , 0.06875   , 0.06921875, 0.060625  ,\n",
       "       0.07125   , 0.0665625 , 0.07484375, 0.0671875 , 0.06671875],      dtype=float32)"
      ]
     },
     "execution_count": 65,
     "metadata": {},
     "output_type": "execute_result"
    }
   ],
   "execution_count": 65
  },
  {
   "metadata": {
    "ExecuteTime": {
     "end_time": "2025-05-27T15:42:42.743814Z",
     "start_time": "2025-05-27T15:42:42.517660Z"
    }
   },
   "cell_type": "code",
   "source": [
    "# Plotting comparison\n",
    "plt.figure(figsize=(10, 5))\n",
    "x = np.arange(visible_units)\n",
    "width = 0.35\n",
    "\n",
    "plt.bar(x - width/2, empirical_freq, width, label=\"Empirical\", alpha=0.7)\n",
    "plt.bar(x + width/2, rel_freq, width, label=\"Sampled\", alpha=0.7)\n",
    "plt.axhline(1 / visible_units, linestyle='--', color='gray', label=f'1/{visible_units} reference')\n",
    "plt.xlabel(\"Visible Unit Index\")\n",
    "plt.ylabel(\"Mean Activation Probability\")\n",
    "plt.title(\"Comparison: Empirical vs Sampled Frequencies\")\n",
    "plt.legend()\n",
    "plt.grid(True)\n",
    "plt.tight_layout()\n",
    "plt.show()"
   ],
   "id": "a288ff62bf9edc93",
   "outputs": [
    {
     "data": {
      "text/plain": [
       "<Figure size 1000x500 with 1 Axes>"
      ],
      "image/png": "[encoded data removed]"
     },
     "metadata": {},
     "output_type": "display_data"
    }
   ],
   "execution_count": 67
  },
  {
   "metadata": {
    "ExecuteTime": {
     "end_time": "2025-05-27T15:43:11.425589Z",
     "start_time": "2025-05-27T15:43:11.077690Z"
    }
   },
   "cell_type": "code",
   "source": [
    "spin_counts = samples.sum(axis=1)\n",
    "\n",
    "plt.figure(figsize=(8, 4))\n",
    "plt.hist(spin_counts, bins=range(22), align='left', edgecolor='black')\n",
    "plt.xticks(range(21))\n",
    "plt.xlabel(\"Number of spins up (1)\")\n",
    "plt.ylabel(\"Number of samples\")\n",
    "plt.title(\"Histogram of spin-up counts per sample\")\n",
    "plt.show()"
   ],
   "id": "a9878e04e86ad6a7",
   "outputs": [
    {
     "data": {
      "text/plain": [
       "<Figure size 800x400 with 1 Axes>"
      ],
      "image/png": "[encoded data removed]"
     },
     "metadata": {},
     "output_type": "display_data"
    }
   ],
   "execution_count": 68
  }
 ],
 "metadata": {
  "kernelspec": {
   "display_name": "Python 3",
   "language": "python",
   "name": "python3"
  },
  "language_info": {
   "codemirror_mode": {
    "name": "ipython",
    "version": 2
   },
   "file_extension": ".py",
   "mimetype": "text/x-python",
   "name": "python",
   "nbconvert_exporter": "python",
   "pygments_lexer": "ipython2",
   "version": "2.7.6"
  }
 },
 "nbformat": 4,
 "nbformat_minor": 5
}
