{
 "cells": [
  {
   "cell_type": "code",
   "id": "initial_id",
   "metadata": {
    "collapsed": true,
    "ExecuteTime": {
     "end_time": "2025-05-29T14:22:46.096275Z",
     "start_time": "2025-05-29T14:22:46.092107Z"
    }
   },
   "source": [
    "import re\n",
    "from pathlib import Path\n",
    "\n",
    "import numpy as np\n",
    "\n",
    "import jax.lax\n",
    "from jax.random import PRNGKey\n",
    "import jax.numpy as jnp\n",
    "import optax\n",
    "\n",
    "import matplotlib.pyplot as plt\n",
    "\n",
    "data_dir = \"./data\"\n",
    "print(f\"Data resides in        : {data_dir}\")"
   ],
   "outputs": [
    {
     "name": "stdout",
     "output_type": "stream",
     "text": [
      "Data resides in        : ./data\n"
     ]
    }
   ],
   "execution_count": 68
  },
  {
   "metadata": {
    "ExecuteTime": {
     "end_time": "2025-05-29T14:22:47.114226Z",
     "start_time": "2025-05-29T14:22:47.104517Z"
    }
   },
   "cell_type": "code",
   "source": [
    "class MultiBasisDataLoader:\n",
    "    def __init__(self, data_dict: dict[str, jnp.ndarray],\n",
    "                 batch_size: int = 128,\n",
    "                 shuffle: bool = True,\n",
    "                 drop_last: bool = False,\n",
    "                 seed: int = 0):\n",
    "        lengths = [len(v) for v in data_dict.values()]\n",
    "        if len(set(lengths)) != 1:\n",
    "            raise ValueError(f\"All arrays must have the same length, got: {lengths}\")\n",
    "\n",
    "        self.data = data_dict\n",
    "        self.n = lengths[0]\n",
    "        self.bs = batch_size\n",
    "        self.shuffle = shuffle\n",
    "        self.drop_last = drop_last\n",
    "        self.rng = np.random.default_rng(seed)\n",
    "\n",
    "        self.idx_slices = [\n",
    "            (i, i + batch_size)\n",
    "            for i in range(0, self.n, batch_size)\n",
    "            if not drop_last or i + batch_size <= self.n\n",
    "        ]\n",
    "\n",
    "    def __iter__(self):\n",
    "        self.order = np.arange(self.n)\n",
    "        if self.shuffle:\n",
    "            self.rng.shuffle(self.order)\n",
    "        self.slice_idx = 0\n",
    "        return self\n",
    "\n",
    "    def __next__(self):\n",
    "        if self.slice_idx >= len(self.idx_slices):\n",
    "            raise StopIteration\n",
    "        s, e = self.idx_slices[self.slice_idx]\n",
    "        self.slice_idx += 1\n",
    "        return {k: v[self.order[s:e]] for k, v in self.data.items()}\n",
    "\n",
    "\n",
    "def load_measurements(folder: str, file_pattern: str = \"w_*.txt\") -> dict[str, jnp.ndarray]:\n",
    "    out: dict[str, jnp.ndarray] = {}\n",
    "\n",
    "    for fp in Path(folder).glob(file_pattern):\n",
    "        basis = fp.stem.split(\"_\")[2]\n",
    "\n",
    "        bitstrings = []\n",
    "        with fp.open() as f:\n",
    "            for line in f:\n",
    "                bitstring = np.fromiter((c.islower() for c in line.strip()), dtype=np.float32)\n",
    "                bitstrings.append(bitstring)\n",
    "\n",
    "        arr = jnp.asarray(np.stack(bitstrings))\n",
    "        if basis in out:\n",
    "            out[basis] = jnp.concatenate([out[basis], arr], axis=0)\n",
    "        else:\n",
    "            out[basis] = arr\n",
    "\n",
    "    return out"
   ],
   "id": "78de40dc6fd42395",
   "outputs": [],
   "execution_count": 69
  },
  {
   "metadata": {
    "ExecuteTime": {
     "end_time": "2025-05-29T14:22:48.523244Z",
     "start_time": "2025-05-29T14:22:48.130707Z"
    }
   },
   "cell_type": "code",
   "source": [
    "data_dict = load_measurements(\"data/\", \"w_*.txt\")\n",
    "\n",
    "# 2. Create two basis key groups (regex matched)\n",
    "amp_keys = [k for k in data_dict if re.fullmatch(r\"^Z+$\", k)]\n",
    "pha_keys = [k for k in data_dict if re.fullmatch(r\"^(?!Z+$).*\", k)]\n",
    "\n",
    "amp_dict = {k: data_dict[k] for k in amp_keys}\n",
    "pha_dict = {k: data_dict[k] for k in pha_keys}\n",
    "\n",
    "loader_amp           = MultiBasisDataLoader(amp_dict, batch_size=128)\n",
    "loader_pha           = MultiBasisDataLoader(pha_dict, batch_size=128)"
   ],
   "id": "d6edc336135bc877",
   "outputs": [],
   "execution_count": 70
  },
  {
   "metadata": {
    "ExecuteTime": {
     "end_time": "2025-05-29T15:01:03.039954Z",
     "start_time": "2025-05-29T15:01:03.018556Z"
    }
   },
   "cell_type": "code",
   "source": [
    "from typing import Tuple, Dict, Any\n",
    "from typing import Optional\n",
    "import jax\n",
    "import jax.numpy as jnp\n",
    "from jax import random\n",
    "from flax import linen as nn\n",
    "from flax.core import freeze, unfreeze\n",
    "from jax.nn.initializers import normal, zeros\n",
    "from collections.abc import Callable, Sequence\n",
    "\n",
    "\n",
    "class DoubleRBM(nn.Module):\n",
    "    n_visible: int\n",
    "    n_hidden: int\n",
    "    k: int = 1\n",
    "    n_chains: int = 1000\n",
    "\n",
    "    def setup(self):\n",
    "        self.W_amp = self.param(\"W_amp\", nn.initializers.normal(0.01), (self.n_visible, self.n_hidden))\n",
    "        self.b_amp = self.param(\"b_amp\", nn.initializers.zeros, (self.n_visible,))\n",
    "        self.c_amp = self.param(\"c_amp\", nn.initializers.zeros, (self.n_hidden,))\n",
    "\n",
    "        self.W_pha = self.param(\"W_pha\", nn.initializers.normal(0.01), (self.n_visible, self.n_hidden))\n",
    "        self.b_pha = self.param(\"b_pha\", nn.initializers.zeros, (self.n_visible,))\n",
    "        self.c_pha = self.param(\"c_pha\", nn.initializers.zeros, (self.n_hidden,))\n",
    "\n",
    "        self.rotators = {\n",
    "            'X': jnp.array([[1, 1], [1, -1]], dtype=jnp.complex64) / jnp.sqrt(2),\n",
    "            'Y': jnp.array([[1, -1j], [1, 1j]], dtype=jnp.complex64) / jnp.sqrt(2),\n",
    "        }\n",
    "\n",
    "    def __call__(\n",
    "            self,\n",
    "            data_dict: Dict[str, jnp.ndarray],\n",
    "            aux_vars: Dict[str, Any]) -> Tuple[jnp.ndarray, Dict[str, Any]]:\n",
    "\n",
    "        random_key = aux_vars.get(\"random_key\")\n",
    "\n",
    "        aux_vars = dict()\n",
    "\n",
    "        # amplitude training\n",
    "        comp_basis = 'Z' * self.n_visible\n",
    "        if len(data_dict) == 1 and comp_basis in data_dict:\n",
    "            data_batch = data_dict[comp_basis]\n",
    "            pcd_loss, random_key = self._loss_amp(data_batch, random_key)\n",
    "            aux_vars[\"random_key\"] = random_key\n",
    "            return pcd_loss, aux_vars\n",
    "\n",
    "\n",
    "        # phase training\n",
    "        all_two_different = all(sum(b != 'Z' for b in basis) == 2 for basis in data_dict)\n",
    "        if all_two_different:\n",
    "            phase_loss = self._loss_phase(data_dict)\n",
    "            return phase_loss, aux_vars\n",
    "\n",
    "        raise ValueError(\"Encountered batch of unsupported basis.\")\n",
    "\n",
    "\n",
    "    def _loss_amp(self, data_batch, random_key):\n",
    "        W = self.variables[\"params\"][\"W_amp\"]\n",
    "        b = self.variables[\"params\"][\"b_amp\"]\n",
    "        c = self.variables[\"params\"][\"c_amp\"]\n",
    "\n",
    "        random_key, random_key_bern = jax.random.split(random_key)\n",
    "        chains = jax.random.bernoulli(random_key_bern, p=0.5, shape=(self.n_chains, self.n_visible)).astype(jnp.float32)\n",
    "        model_batch, random_key = self._gibbs_sample(W, b, c, chains, random_key, k=self.k)\n",
    "\n",
    "        model_batch = jax.lax.stop_gradient(model_batch)  # stopping gradient tracking before computing the loss\n",
    "\n",
    "        # stacking the batches here could maybe yield some performance, not sure though since half the data is gradient detached\n",
    "        free_energy_data = self._free_energy(W, b, c, data_batch)\n",
    "        free_energy_model = self._free_energy(W, b, c, model_batch)\n",
    "        pcd_loss = jnp.mean(free_energy_data) - jnp.mean(free_energy_model)\n",
    "\n",
    "        return pcd_loss, random_key\n",
    "\n",
    "\n",
    "    def _loss_phase(self, data_dict: Dict[str, jnp.ndarray]) -> jnp.ndarray:\n",
    "        total_loss = 0.0\n",
    "\n",
    "        for basis, batch in data_dict.items():  # batch: shape (B, n)\n",
    "            amps = self.get_rotated_amplitude(batch, basis)  # shape (B,)\n",
    "            log_probs = jnp.log(jnp.abs(amps) ** 2 + 1e-10)   # shape (B,)\n",
    "\n",
    "            total_loss -= jnp.mean(log_probs)  # NLL\n",
    "\n",
    "        return total_loss\n",
    "\n",
    "    @staticmethod\n",
    "    def _free_energy(W, b, c, v):\n",
    "        visible_term = jnp.dot(v, b)\n",
    "        hidden_term  = jnp.sum(jax.nn.softplus(v @ W + c), axis=-1)\n",
    "        free_energy = -visible_term - hidden_term\n",
    "        return free_energy\n",
    "\n",
    "    # amplitude RBM specific\n",
    "\n",
    "    @staticmethod\n",
    "    def _gibbs_step(i, state, W, b, c, T=1.0):\n",
    "        v, key = state\n",
    "\n",
    "        key, h_key, v_key = jax.random.split(key, 3)\n",
    "\n",
    "        h_logits = (v @ W + c) / T\n",
    "        h_probs = jax.nn.sigmoid(h_logits)\n",
    "        h = jax.random.bernoulli(h_key, h_probs).astype(jnp.float32)\n",
    "\n",
    "        v_logits = (h @ W.T + b) / T\n",
    "        v_probs = jax.nn.sigmoid(v_logits)\n",
    "        v = jax.random.bernoulli(v_key, v_probs).astype(jnp.float32)\n",
    "        return v, key\n",
    "\n",
    "    @staticmethod\n",
    "    def _gibbs_sample(W, b, c, v_init, rng, k=1, T=1.0):\n",
    "        body_fun = lambda i, state: DoubleRBM._gibbs_step(i, state, W, b, c, T)\n",
    "        v_final, key = jax.lax.fori_loop(0, k, body_fun, (v_init, rng))\n",
    "        return v_final, key\n",
    "\n",
    "    # phase RBM specific\n",
    "\n",
    "    def get_amplitude(self, sigma_batch: jnp.ndarray) -> jnp.complex64:\n",
    "        from jax import debug as jdbg\n",
    "\n",
    "        W_amp = self.variables[\"params\"][\"W_amp\"]\n",
    "        b_amp = self.variables[\"params\"][\"b_amp\"]\n",
    "        c_amp = self.variables[\"params\"][\"c_amp\"]\n",
    "\n",
    "        W_pha = self.variables[\"params\"][\"W_pha\"]\n",
    "        b_pha = self.variables[\"params\"][\"b_pha\"]\n",
    "        c_pha = self.variables[\"params\"][\"c_pha\"]\n",
    "\n",
    "        #jdbg.print(\"sigma_batch[0]: {}\", sigma_batch[0])\n",
    "        #jdbg.print(\"W_amp[0]: {}\", W_amp[0])\n",
    "        #jdbg.print(\"c_amp[0]: {}\", c_amp[0])\n",
    "        #jdbg.print(\"b_amp[0:5]: {}\", b_amp[:5])\n",
    "        #jdbg.print(\"NaNs? sigma: {}, W_amp: {}, c_amp: {}, b_amp: {}\",\n",
    "        #       jnp.isnan(sigma_batch).any(),\n",
    "        #       jnp.isnan(W_amp).any(),\n",
    "        #       jnp.isnan(c_amp).any(),\n",
    "        #       jnp.isnan(b_amp).any())\n",
    "\n",
    "        F_amp = self._free_energy(W_amp, b_amp, c_amp, sigma_batch)\n",
    "        #jdbg.print(\"F_amp[0:5]: {}\", F_amp[:5])\n",
    "        #jdbg.print(\"NaN in F_amp? {}\", jnp.isnan(F_amp).any())\n",
    "\n",
    "        F_pha = self._free_energy(W_pha, b_pha, c_pha, sigma_batch)\n",
    "        #jdbg.print(\"F_pha[0:5]: {}\", F_pha[:5])\n",
    "        #jdbg.print(\"NaN in F_pha? {}\", jnp.isnan(F_pha).any())\n",
    "\n",
    "        amp = jnp.exp(-0.5 * F_amp) * jnp.exp(-0.5j * F_pha)\n",
    "        #jdbg.print(\"Amplitude preview: {}\", amp[:5])\n",
    "        #jdbg.print(\"NaN in final amp? {}\", jnp.isnan(amp).any())\n",
    "\n",
    "        return amp\n",
    "\n",
    "\n",
    "    def get_rotated_amplitude(self, sigma_b: jnp.ndarray, basis: Sequence[str]) -> jnp.ndarray:\n",
    "\n",
    "\n",
    "\n",
    "        B, n = sigma_b.shape\n",
    "\n",
    "        non_z = [i for i, b in enumerate(basis) if b != 'Z']\n",
    "        if len(non_z) != 2:\n",
    "            raise ValueError(\"Only bases with exactly two non-Z entries are supported.\")\n",
    "\n",
    "        j, k = non_z\n",
    "        Rj = self.rotators[basis[j]]\n",
    "        Rk = self.rotators[basis[k]]\n",
    "        U = jnp.kron(Rj, Rk)  # shape (4, 4)\n",
    "\n",
    "        # 4 local bit combinations to insert at positions j and k\n",
    "        local_bit_combos = jnp.array([[0., 0.], [0., 1.], [1., 0.], [1., 1.]], dtype=sigma_b.dtype)\n",
    "\n",
    "        # Expand: (B, n) → (4, B, n) with 4 modified versions per sample\n",
    "        sigma_b_tiled = jnp.repeat(sigma_b[None, :, :], 4, axis=0)  # (4, B, n)\n",
    "        sigma_b_modified = sigma_b_tiled.at[:, :, [j, k]].set(local_bit_combos[:, None, :])  # (4, B, n)\n",
    "\n",
    "        # Reshape to (4B, n)\n",
    "        sigma_b_flat = sigma_b_modified.transpose(1, 0, 2).reshape(4 * B, n)\n",
    "\n",
    "        psis_flat = self.get_amplitude(sigma_b_flat)  # shape (4B,)\n",
    "        psis = psis_flat.reshape(B, 4)  # shape (B, 4)\n",
    "\n",
    "        # Compute index into rotated basis\n",
    "        idx_in = (sigma_b[:, j].astype(int) << 1) | sigma_b[:, k].astype(int)  # shape (B,)\n",
    "\n",
    "        # Apply U[:, idx_in] ⋅ psis per batch entry\n",
    "        U_selected = U[:, idx_in]  # shape (4, B)\n",
    "        amp = jnp.einsum(\"bi,ib->b\", psis, U_selected)  # shape (B,)\n",
    "\n",
    "        return amp\n",
    "\n",
    "    @staticmethod\n",
    "    def _annealing_step(i, state, W, b, c, T_schedule):\n",
    "        v, rng = state\n",
    "        T = T_schedule[i]\n",
    "        v_next, rng_next = DoubleRBM._gibbs_sample(W, b, c, v, rng, k=1, T=T)\n",
    "        return v_next, rng_next\n",
    "\n",
    "    @nn.nowrap\n",
    "    def generate(self, n_samples: int, T_schedule: jnp.ndarray, rng: PRNGKey) -> jnp.ndarray:\n",
    "        W = self.variables[\"params\"][\"W_amp\"]\n",
    "        b = self.variables[\"params\"][\"b_amp\"]\n",
    "        c = self.variables[\"params\"][\"c_amp\"]\n",
    "\n",
    "        rng, init_key = jax.random.split(rng)\n",
    "        v = jax.random.bernoulli(init_key, p=0.5, shape=(n_samples, self.n_visible)).astype(jnp.float32)\n",
    "        state = (v, rng)\n",
    "\n",
    "        body_fun = lambda i, s: DoubleRBM._annealing_step(i, s, W, b, c, T_schedule)\n",
    "        v_final, _ = jax.lax.fori_loop(0, len(T_schedule), body_fun, state)\n",
    "        return v_final"
   ],
   "id": "109b3fd9b0ef396f",
   "outputs": [],
   "execution_count": 128
  },
  {
   "metadata": {
    "ExecuteTime": {
     "end_time": "2025-05-29T15:01:04.250861Z",
     "start_time": "2025-05-29T15:01:04.094362Z"
    }
   },
   "cell_type": "code",
   "source": [
    "from flax.training.train_state import TrainState\n",
    "\n",
    "@jax.jit\n",
    "def train_step_amp(\n",
    "        state: TrainState,\n",
    "        batch_dict: Dict[str, jnp.ndarray],\n",
    "        aux_vars: Dict[str, Any]) -> Tuple[TrainState, jnp.ndarray, Dict[str, Any]]:\n",
    "    loss_fn = lambda params: state.apply_fn({'params': params}, batch_dict, aux_vars)\n",
    "    value_and_grad_fn = jax.value_and_grad(loss_fn, has_aux=True)\n",
    "\n",
    "    (loss, aux_vars), grads = value_and_grad_fn(state.params)\n",
    "    new_state = state.apply_gradients(grads=grads)\n",
    "    return new_state, loss, aux_vars\n",
    "\n",
    "\n",
    "@jax.jit\n",
    "def train_step_pha(\n",
    "        state: TrainState,\n",
    "        batch_dict: Dict[str, jnp.ndarray],\n",
    "        aux_vars: Dict[str, Any]) -> Tuple[TrainState, jnp.ndarray, Dict[str, Any]]:\n",
    "    loss_fn = lambda params: state.apply_fn({'params': params}, batch_dict, aux_vars)\n",
    "    value_and_grad_fn = jax.value_and_grad(loss_fn, has_aux=True)\n",
    "\n",
    "    (loss, _), grads = value_and_grad_fn(state.params)\n",
    "    new_state = state.apply_gradients(grads=grads)\n",
    "    return new_state, loss, aux_vars\n",
    "\n",
    "\n",
    "def train_rbm_double_old(\n",
    "        state_amp: TrainState,\n",
    "        state_pha: TrainState,\n",
    "        loader_amp: MultiBasisDataLoader,\n",
    "        loader_pha: MultiBasisDataLoader,\n",
    "        num_epochs: int,\n",
    "        rng: PRNGKey):\n",
    "    metrics = {}\n",
    "    aux_vars = { \"random_key\": rng }\n",
    "\n",
    "    for epoch in range(num_epochs):\n",
    "        total_loss_amp = 0.0\n",
    "        batch_count_amp = 0\n",
    "\n",
    "        for batch_idx, data_dict in enumerate(loader_amp):\n",
    "            state_amp, loss_amp, aux_vars = train_step_amp(state_amp, data_dict, aux_vars)\n",
    "            total_loss_amp += loss_amp\n",
    "            batch_count_amp += 1\n",
    "\n",
    "        avg_loss_amp = total_loss_amp / batch_count_amp\n",
    "        metrics[epoch] = {\"loss_amp\": float(avg_loss_amp)}\n",
    "\n",
    "        print(f\"Epoch [{epoch+1}/{num_epochs}] - Loss (Amplitude): {avg_loss_amp:.4f}\")\n",
    "\n",
    "    return state_amp, metrics, rng\n",
    "\n",
    "\n",
    "\n",
    "from itertools import zip_longest   # or just `zip` if the two loaders are equal length\n",
    "\n",
    "def train_rbm_double(\n",
    "        state_amp: TrainState,\n",
    "        state_pha: TrainState,\n",
    "        loader_amp: MultiBasisDataLoader,\n",
    "        loader_pha: MultiBasisDataLoader,\n",
    "        num_epochs: int,\n",
    "        rng: PRNGKey):\n",
    "\n",
    "    metrics  = {}\n",
    "    aux_vars = {\"random_key\": rng}\n",
    "\n",
    "    for epoch in range(num_epochs):\n",
    "        tot_loss_amp = 0.0\n",
    "        tot_loss_pha = 0.0\n",
    "        batches      = 0\n",
    "\n",
    "        for data_amp, data_pha in zip_longest(loader_amp, loader_pha, fillvalue=None):\n",
    "            if data_amp is not None:                       # amplitude step\n",
    "                state_amp, loss_amp, aux_vars = train_step_amp(state_amp, data_amp, aux_vars)\n",
    "                tot_loss_amp += loss_amp\n",
    "\n",
    "            if data_pha is not None:                       # phase step\n",
    "                state_pha, loss_pha, aux_vars = train_step_pha(state_pha, data_pha, aux_vars)\n",
    "                tot_loss_pha += loss_pha\n",
    "\n",
    "            batches += 1\n",
    "\n",
    "        metrics[epoch] = {\n",
    "            \"loss_amp\": float(tot_loss_amp / batches),\n",
    "            \"loss_pha\": float(tot_loss_pha / batches),\n",
    "        }\n",
    "\n",
    "        print(\n",
    "            f\"Epoch {epoch+1}/{num_epochs} │ \"\n",
    "            f\"amp loss: {metrics[epoch]['loss_amp']:.4f} │ \"\n",
    "            f\"pha loss: {metrics[epoch]['loss_pha']:.4f}\"\n",
    "        )\n",
    "\n",
    "    return state_amp, state_pha, metrics, aux_vars[\"random_key\"]"
   ],
   "id": "acbdfc2f970977ec",
   "outputs": [],
   "execution_count": 129
  },
  {
   "metadata": {
    "ExecuteTime": {
     "end_time": "2025-05-29T15:03:31.342468Z",
     "start_time": "2025-05-29T15:03:01.634171Z"
    }
   },
   "cell_type": "code",
   "source": [
    "# ---- hyperparameters ----\n",
    "batch_size    = 6400\n",
    "visible_units = 15\n",
    "hidden_units  = 15\n",
    "k_steps       = 2\n",
    "lr_amp        = 1e-2\n",
    "lr_pha        = 1e-2\n",
    "num_epochs    = 20\n",
    "chains        = 1000\n",
    "\n",
    "\n",
    "random_seed = PRNGKey(42)\n",
    "rng, init_key = jax.random.split(random_seed)\n",
    "\n",
    "# model initialization\n",
    "model = DoubleRBM(n_visible=visible_units, n_hidden=hidden_units, k=k_steps, n_chains=chains)\n",
    "dummy_batch_dict = {'Z' * visible_units: jnp.zeros((batch_size, visible_units), dtype=jnp.float32)}\n",
    "variables = model.init(init_key, dummy_batch_dict, {\"random_key\": rng})\n",
    "params = variables[\"params\"]\n",
    "\n",
    "\n",
    "# define the optimizer and training state\n",
    "mask_amp = {k: k in {'W_amp', 'b_amp', 'c_amp'} for k in params}\n",
    "mask_pha = {k: k in {'W_pha', 'b_pha', 'c_pha'} for k in params}\n",
    "#tx_amp = optax.masked(optax.adam(lr_amp), mask_amp)\n",
    "#tx_pha = optax.masked(optax.adam(lr_pha), mask_pha)\n",
    "#state_amp = TrainState.create(apply_fn=model.apply, params=params, tx=tx_amp)\n",
    "#state_pha = TrainState.create(apply_fn=model.apply, params=params, tx=tx_pha)\n",
    "\n",
    "tx_amp = optax.chain(\n",
    "    optax.clip_by_global_norm(5.0),\n",
    "    optax.masked(optax.adam(lr_amp), mask_amp)\n",
    ")\n",
    "\n",
    "tx_pha = optax.chain(\n",
    "    optax.clip_by_global_norm(5.0),\n",
    "    optax.masked(optax.adam(lr_pha), mask_pha)\n",
    ")\n",
    "\n",
    "state_amp = TrainState.create(apply_fn=model.apply, params=params, tx=tx_amp)\n",
    "state_pha = TrainState.create(apply_fn=model.apply, params=params, tx=tx_pha)\n",
    "\n",
    "\n",
    "\n",
    "\n",
    "# ---- train ----\n",
    "state, _, metrics, rng = train_rbm_double(\n",
    "    state_amp,\n",
    "    state_pha,\n",
    "    loader_amp,\n",
    "    loader_pha,\n",
    "    num_epochs,\n",
    "    rng\n",
    ")"
   ],
   "id": "9ec8f0c6f55d763a",
   "outputs": [
    {
     "name": "stdout",
     "output_type": "stream",
     "text": [
      "Epoch 1/20 │ amp loss: -2.9571 │ pha loss: 332.3680\n",
      "Epoch 2/20 │ amp loss: -1.4753 │ pha loss: 563.1117\n",
      "Epoch 3/20 │ amp loss: 0.1725 │ pha loss: 563.3477\n",
      "Epoch 4/20 │ amp loss: 0.0479 │ pha loss: 563.4193\n",
      "Epoch 5/20 │ amp loss: -0.1117 │ pha loss: 563.4561\n",
      "Epoch 6/20 │ amp loss: -0.0978 │ pha loss: 563.4789\n",
      "Epoch 7/20 │ amp loss: -0.1052 │ pha loss: 563.4945\n",
      "Epoch 8/20 │ amp loss: -0.0718 │ pha loss: 563.5061\n",
      "Epoch 9/20 │ amp loss: -0.0769 │ pha loss: 563.5149\n",
      "Epoch 10/20 │ amp loss: -0.0743 │ pha loss: 563.5218\n",
      "Epoch 11/20 │ amp loss: -0.0613 │ pha loss: 563.5275\n",
      "Epoch 12/20 │ amp loss: -0.0748 │ pha loss: 563.5320\n",
      "Epoch 13/20 │ amp loss: -0.0398 │ pha loss: 563.5359\n",
      "Epoch 14/20 │ amp loss: -0.0568 │ pha loss: 563.5392\n",
      "Epoch 15/20 │ amp loss: -0.0476 │ pha loss: 563.5422\n",
      "Epoch 16/20 │ amp loss: -0.0341 │ pha loss: 563.5447\n",
      "Epoch 17/20 │ amp loss: -0.0337 │ pha loss: 563.5470\n",
      "Epoch 18/20 │ amp loss: -0.0321 │ pha loss: 563.5490\n",
      "Epoch 19/20 │ amp loss: -0.0361 │ pha loss: 563.5506\n",
      "Epoch 20/20 │ amp loss: -0.0282 │ pha loss: 563.5524\n"
     ]
    }
   ],
   "execution_count": 132
  },
  {
   "metadata": {
    "ExecuteTime": {
     "end_time": "2025-05-29T15:03:36.338128Z",
     "start_time": "2025-05-29T15:03:36.259573Z"
    }
   },
   "cell_type": "code",
   "source": [
    "plt.plot([metrics[epoch]['loss_amp'] for epoch in metrics])\n",
    "plt.xlabel(\"Epoch\")\n",
    "plt.ylabel(\"Free Energy Loss\")"
   ],
   "id": "342199130cd0b3ba",
   "outputs": [
    {
     "data": {
      "text/plain": [
       "Text(0, 0.5, 'Free Energy Loss')"
      ]
     },
     "execution_count": 133,
     "metadata": {},
     "output_type": "execute_result"
    },
    {
     "data": {
      "text/plain": [
       "<Figure size 640x480 with 1 Axes>"
      ],
      "image/png": "[encoded data removed]"
     },
     "metadata": {},
     "output_type": "display_data"
    }
   ],
   "execution_count": 133
  },
  {
   "metadata": {
    "ExecuteTime": {
     "end_time": "2025-05-29T15:03:39.938580Z",
     "start_time": "2025-05-29T15:03:39.262188Z"
    }
   },
   "cell_type": "code",
   "source": [
    "samples = model.apply(\n",
    "    {\"params\": state.params},\n",
    "    n_samples=10_000,\n",
    "    T_schedule=jnp.ones(200) * 1.2,\n",
    "    rng=rng,\n",
    "    method=DoubleRBM.generate\n",
    ")\n",
    "\n",
    "rel_freq = samples.mean(0)\n",
    "rel_freq"
   ],
   "id": "126957f0780ea597",
   "outputs": [
    {
     "data": {
      "text/plain": [
       "Array([0.11059999, 0.1093    , 0.0936    , 0.0998    , 0.12069999,\n",
       "       0.0988    , 0.1002    , 0.1058    , 0.10619999, 0.0963    ,\n",
       "       0.1151    , 0.1134    , 0.1095    , 0.1114    , 0.1029    ],      dtype=float32)"
      ]
     },
     "execution_count": 134,
     "metadata": {},
     "output_type": "execute_result"
    }
   ],
   "execution_count": 134
  },
  {
   "metadata": {
    "ExecuteTime": {
     "end_time": "2025-05-29T15:03:42.294284Z",
     "start_time": "2025-05-29T15:03:42.156694Z"
    }
   },
   "cell_type": "code",
   "source": [
    "spin_counts = samples.sum(axis=1)\n",
    "\n",
    "plt.figure(figsize=(8, 4))\n",
    "plt.hist(spin_counts, bins=range(22), align='left', edgecolor='black')\n",
    "plt.xticks(range(21))\n",
    "plt.xlabel(\"Number of spins up (1)\")\n",
    "plt.ylabel(\"Number of samples\")\n",
    "plt.title(\"Histogram of spin-up counts per sample\")\n",
    "plt.show()"
   ],
   "id": "a9878e04e86ad6a7",
   "outputs": [
    {
     "data": {
      "text/plain": [
       "<Figure size 800x400 with 1 Axes>"
      ],
      "image/png": "[encoded data removed]"
     },
     "metadata": {},
     "output_type": "display_data"
    }
   ],
   "execution_count": 135
  },
  {
   "metadata": {
    "ExecuteTime": {
     "end_time": "2025-05-29T15:03:44.642108Z",
     "start_time": "2025-05-29T15:03:44.620308Z"
    }
   },
   "cell_type": "code",
   "source": [
    "# compare with actual frequencies from first\n",
    "empirical_freq = jnp.zeros(visible_units)\n",
    "num_total = 0\n",
    "\n",
    "for batch in amp_loader:\n",
    "    for arr in batch.values():\n",
    "        empirical_freq += jnp.sum(arr, axis=0)\n",
    "        num_total += arr.shape[0]\n",
    "\n",
    "empirical_freq = empirical_freq / num_total\n",
    "empirical_freq"
   ],
   "id": "70d07a46dcb22f25",
   "outputs": [
    {
     "data": {
      "text/plain": [
       "Array([0.06171875, 0.06703125, 0.0665625 , 0.0659375 , 0.061875  ,\n",
       "       0.06703125, 0.0646875 , 0.06875   , 0.06921875, 0.060625  ,\n",
       "       0.07125   , 0.0665625 , 0.07484375, 0.0671875 , 0.06671875],      dtype=float32)"
      ]
     },
     "execution_count": 136,
     "metadata": {},
     "output_type": "execute_result"
    }
   ],
   "execution_count": 136
  },
  {
   "metadata": {
    "ExecuteTime": {
     "end_time": "2025-05-29T14:24:16.245436Z",
     "start_time": "2025-05-29T14:24:16.112955Z"
    }
   },
   "cell_type": "code",
   "source": [
    "# Plotting comparison\n",
    "plt.figure(figsize=(10, 5))\n",
    "x = np.arange(visible_units)\n",
    "width = 0.35\n",
    "\n",
    "plt.bar(x - width/2, empirical_freq, width, label=\"Empirical\", alpha=0.7)\n",
    "plt.bar(x + width/2, rel_freq, width, label=\"Sampled\", alpha=0.7)\n",
    "plt.axhline(1 / visible_units, linestyle='--', color='gray', label=f'1/{visible_units} reference')\n",
    "plt.xlabel(\"Visible Unit Index\")\n",
    "plt.ylabel(\"Mean Activation Probability\")\n",
    "plt.title(\"Comparison: Empirical vs Sampled Frequencies\")\n",
    "plt.legend()\n",
    "plt.grid(True)\n",
    "plt.tight_layout()\n",
    "plt.show()"
   ],
   "id": "a288ff62bf9edc93",
   "outputs": [
    {
     "data": {
      "text/plain": [
       "<Figure size 1000x500 with 1 Axes>"
      ],
      "image/png": "[encoded data removed]"
     },
     "metadata": {},
     "output_type": "display_data"
    }
   ],
   "execution_count": 88
  }
 ],
 "metadata": {
  "kernelspec": {
   "display_name": "Python 3",
   "language": "python",
   "name": "python3"
  },
  "language_info": {
   "codemirror_mode": {
    "name": "ipython",
    "version": 2
   },
   "file_extension": ".py",
   "mimetype": "text/x-python",
   "name": "python",
   "nbconvert_exporter": "python",
   "pygments_lexer": "ipython2",
   "version": "2.7.6"
  }
 },
 "nbformat": 4,
 "nbformat_minor": 5
}
