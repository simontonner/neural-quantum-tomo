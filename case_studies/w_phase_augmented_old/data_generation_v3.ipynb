{
 "cells": [
  {
   "metadata": {
    "ExecuteTime": {
     "end_time": "2025-05-20T15:30:29.462753Z",
     "start_time": "2025-05-20T15:30:29.460745Z"
    }
   },
   "cell_type": "code",
   "source": [
    "import numpy as np\n",
    "\n",
    "from itertools import product"
   ],
   "id": "afd5e60016f59f20",
   "outputs": [],
   "execution_count": 1
  },
  {
   "metadata": {
    "ExecuteTime": {
     "end_time": "2025-05-20T15:30:29.473493Z",
     "start_time": "2025-05-20T15:30:29.469477Z"
    }
   },
   "cell_type": "code",
   "source": [
    "# constructing the phase augmented w state\n",
    "\n",
    "num_qubits = 20\n",
    "\n",
    "state_dim = 1 << num_qubits                     # bit shifting a ...0001 bitstring is the same as 2**a\n",
    "w_aug = np.zeros(state_dim, dtype=complex)      # empty state vector\n",
    "\n",
    "# since the W state has only non-zero amplitudes for one-hot states, we only need num_qubits random phases\n",
    "rng = np.random.default_rng(42)\n",
    "thetas = rng.uniform(0, 2*np.pi, size=num_qubits)\n",
    "\n",
    "for j in range(num_qubits):\n",
    "    idx = 1 << (num_qubits - 1 - j)              # find indexing mask via bit shifting\n",
    "\n",
    "    # apply the phase to the corresponding amplitude coefficient\n",
    "    w_aug[idx] = np.exp(1j * thetas[j]) / np.sqrt(num_qubits)\n",
    "\n",
    "\n",
    "def format_bytes(b):\n",
    "    for u in ['B', 'KB', 'MB', 'GB', 'TB']:\n",
    "        if b < 1024:\n",
    "            return f\"{b:.2f} {u}\"\n",
    "        b /= 1024\n",
    "\n",
    "\n",
    "print(f\"Size of state vector in memory: {format_bytes(w_aug.nbytes)} \\n\")\n",
    "\n",
    "for i in range(10):\n",
    "    print(f\"{i:0{num_qubits}b}: {w_aug[i]:.2f} + {w_aug[i].imag:.2f}j\")"
   ],
   "id": "654070600bad0c60",
   "outputs": [
    {
     "name": "stdout",
     "output_type": "stream",
     "text": [
      "Size of state vector in memory: 16.00 MB \n",
      "\n",
      "00000000000000000000: 0.00+0.00j + 0.00j\n",
      "00000000000000000001: -0.15-0.16j + -0.16j\n",
      "00000000000000000010: 0.10-0.20j + -0.20j\n",
      "00000000000000000011: 0.00+0.00j + 0.00j\n",
      "00000000000000000100: 0.21+0.09j + 0.09j\n",
      "00000000000000000101: 0.00+0.00j + 0.00j\n",
      "00000000000000000110: 0.00+0.00j + 0.00j\n",
      "00000000000000000111: 0.00+0.00j + 0.00j\n",
      "00000000000000001000: -0.21-0.08j + -0.08j\n",
      "00000000000000001001: 0.00+0.00j + 0.00j\n"
     ]
    }
   ],
   "execution_count": 2
  },
  {
   "metadata": {
    "ExecuteTime": {
     "end_time": "2025-05-20T15:30:29.508624Z",
     "start_time": "2025-05-20T15:30:29.504561Z"
    }
   },
   "cell_type": "code",
   "source": [
    "class PauliOperator:\n",
    "    def __init__(self, matrix, eigenvalues, eigenvectors):\n",
    "        \"\"\"\n",
    "        Bundles the relevant information of a Pauli operator into a single object.\n",
    "\n",
    "        REMARK: The eigenvalues and eigenvectors are directly passed to avoid numerical inaccuracies.\n",
    "\n",
    "        :param matrix: The matrix representation of the Pauli operator.\n",
    "        :param eigenvalues: The eigenvalues of the Pauli operator.\n",
    "        :param eigenvectors: The eigenvectors of the Pauli operator.\n",
    "        \"\"\"\n",
    "        self.matrix = matrix\n",
    "        self.eigenvalues = eigenvalues\n",
    "        self.eigenvectors = eigenvectors\n",
    "\n",
    "\n",
    "class MultiQubitMeasurementSetting:\n",
    "    def __init__(self, measurement_settings):\n",
    "        \"\"\"\n",
    "        Represents a multi-qubit measurement setting using Pauli operators.\n",
    "\n",
    "        :param measurement_settings: A list of Pauli operators representing the measurement setting for each qubit.\n",
    "        \"\"\"\n",
    "        self._measurement_settings = measurement_settings\n",
    "        self.eigenvectors = []\n",
    "        self.eigenvalues = []\n",
    "\n",
    "        self._construct_basis()\n",
    "\n",
    "    def _construct_basis(self):\n",
    "        \"\"\"\n",
    "        Constructs the multi-qubit basis vectors and their corresponding eigenvalues from the given Pauli operators.\n",
    "        \"\"\"\n",
    "\n",
    "        # in this first loop we iterate over the computational basis states of the n-qubit system\n",
    "        # constructing them as a list of 0s and 1s allows us to leverage pythons addressing capabilities\n",
    "        for state_addressing in product(range(2), repeat=len(self._measurement_settings)):\n",
    "            multi_qubit_eigenvalue = 1.0\n",
    "            multi_qubit_eigenvector = None\n",
    "\n",
    "            # we pair up the Pauli operator for each single qubit basis state and retrieve the matching eigenvalue and eigenvector\n",
    "            for pauli_op, state_index in zip(self._measurement_settings, state_addressing):\n",
    "                eigenvalue = pauli_op.eigenvalues[state_index]\n",
    "                eigenvector = pauli_op.eigenvectors[state_index]\n",
    "\n",
    "                # the eigenvalue of the multi-qubit operator is the product of the single-qubit eigenvalues\n",
    "                multi_qubit_eigenvalue *= eigenvalue\n",
    "\n",
    "                # we build up the multi-qubit eigenvector by taking the tensor product of the single-qubit eigenvectors\n",
    "                if multi_qubit_eigenvector is None:\n",
    "                    multi_qubit_eigenvector = eigenvector\n",
    "                else:\n",
    "                    multi_qubit_eigenvector = np.kron(multi_qubit_eigenvector, eigenvector)\n",
    "\n",
    "            self.eigenvalues.append(multi_qubit_eigenvalue)\n",
    "            self.eigenvectors.append(multi_qubit_eigenvector)"
   ],
   "id": "85d8a8e5d21a3fce",
   "outputs": [],
   "execution_count": 3
  },
  {
   "metadata": {
    "ExecuteTime": {
     "end_time": "2025-05-20T15:30:30.214118Z",
     "start_time": "2025-05-20T15:30:30.208665Z"
    }
   },
   "cell_type": "code",
   "source": [
    "sigma_0 = PauliOperator(np.eye(2), [1, 1], [np.array([1, 0]), np.array([0, 1])])\n",
    "sigma_x = PauliOperator(np.array([[0, 1], [1, 0]]), [1, -1], [np.array([1, 1]) / np.sqrt(2), np.array([1, -1]) / np.sqrt(2)])\n",
    "sigma_y = PauliOperator(np.array([[0, -1j], [1j, 0]]), [1, -1], [np.array([1, -1j]) / np.sqrt(2), np.array([1, 1j]) / np.sqrt(2)])\n",
    "sigma_z = PauliOperator(np.array([[1, 0], [0, -1]]), [1, -1], [np.array([1, 0]), np.array([0, 1])])\n",
    "pauli_operators = { 'I': sigma_0, 'X': sigma_x, 'Y': sigma_y, 'Z': sigma_z }"
   ],
   "id": "81a1e6fbfec05ff8",
   "outputs": [],
   "execution_count": 4
  },
  {
   "metadata": {
    "ExecuteTime": {
     "end_time": "2025-05-20T15:31:44.292590Z",
     "start_time": "2025-05-20T15:31:44.284695Z"
    }
   },
   "cell_type": "code",
   "source": [
    "import numpy as np\n",
    "\n",
    "def sample_state_fast(state, pauli_labels, *, rng=np.random.default_rng()):\n",
    "    \"\"\"\n",
    "    Single-shot measurement of |state⟩ in the tensor-product basis defined by\n",
    "    pauli_labels, without constructing the 4^n-sized eigenbasis.\n",
    "\n",
    "    Parameters\n",
    "    ----------\n",
    "    state : np.ndarray, shape=(2**n,), complex\n",
    "        Normalised state vector.  Will be *modified in place* (projection).\n",
    "    pauli_labels : Sequence[str]\n",
    "        One character per qubit: 'I', 'X', 'Y' or 'Z'.\n",
    "    rng : np.random.Generator, optional\n",
    "        RNG (defaults to NumPy’s PCG64).\n",
    "\n",
    "    Returns\n",
    "    -------\n",
    "    str\n",
    "        Measurement bit-string (‘0’ = +1 eigenvalue, ‘1’ = −1).\n",
    "    \"\"\"\n",
    "    n = len(pauli_labels)\n",
    "    psi = state.reshape((2,) * n)           # view |ψ⟩ as n-dimensional tensor\n",
    "    outcome_bits = []\n",
    "    sqrt2 = np.sqrt(2.0)\n",
    "\n",
    "    for q, pl in enumerate(pauli_labels):\n",
    "        if pl == 'I':\n",
    "            outcome_bits.append('0')\n",
    "            continue\n",
    "\n",
    "        axis = n - 1 - q                    # axis 0 = MSB\n",
    "        psi0 = np.take(psi, 0, axis=axis)   # slice with qubit q = |0⟩\n",
    "        psi1 = np.take(psi, 1, axis=axis)   # slice with qubit q = |1⟩\n",
    "\n",
    "        # --- probability p0 of getting eigenvalue +1 -----------------------\n",
    "        if pl == 'Z':\n",
    "            p0 = np.sum(np.abs(psi0) ** 2)\n",
    "        elif pl == 'X':\n",
    "            p0 = np.sum(np.abs((psi0 + psi1) / sqrt2) ** 2)\n",
    "        elif pl == 'Y':\n",
    "            p0 = np.sum(np.abs((psi0 + 1j * psi1) / sqrt2) ** 2)\n",
    "        else:\n",
    "            raise ValueError(f\"Invalid Pauli label: {pl}\")\n",
    "\n",
    "        is_zero = rng.random() < p0\n",
    "        outcome_bits.append('0' if is_zero else '1')\n",
    "\n",
    "        # --- collapse & renormalise |ψ⟩ ------------------------------------\n",
    "        if pl == 'Z':\n",
    "            if is_zero:\n",
    "                psi1[...] = 0\n",
    "                psi /= np.sqrt(p0)\n",
    "            else:\n",
    "                psi0[...] = 0\n",
    "                psi /= np.sqrt(1.0 - p0)\n",
    "\n",
    "        else:  # X or Y\n",
    "            if pl == 'X':\n",
    "                plus  = (psi0 + psi1) / sqrt2\n",
    "                minus = (psi0 - psi1) / sqrt2\n",
    "                phase = 1.0\n",
    "            else:  # Y\n",
    "                plus  = (psi0 + 1j * psi1) / sqrt2\n",
    "                minus = (psi0 - 1j * psi1) / sqrt2\n",
    "                phase = 1j\n",
    "\n",
    "            if is_zero:      # outcome ‘0’ (+1 eigenvalue)\n",
    "                norm = np.sqrt(p0)\n",
    "                psi0[...] = plus / norm\n",
    "                psi1[...] =  plus / norm if pl == 'X' else -phase * plus / norm\n",
    "            else:            # outcome ‘1’ (−1 eigenvalue)\n",
    "                norm = np.sqrt(1.0 - p0)\n",
    "                psi0[...] =  minus / norm\n",
    "                psi1[...] = -minus / norm if pl == 'X' else  phase * minus / norm\n",
    "\n",
    "    return ''.join(outcome_bits)\n"
   ],
   "id": "9d639e5291ad6c1e",
   "outputs": [],
   "execution_count": 5
  },
  {
   "metadata": {
    "ExecuteTime": {
     "end_time": "2025-05-20T15:31:55.624791Z",
     "start_time": "2025-05-20T15:31:55.388582Z"
    }
   },
   "cell_type": "code",
   "source": [
    "num_qubits = 20\n",
    "state_dim = 1 << num_qubits\n",
    "rng = np.random.default_rng(0)\n",
    "\n",
    "# random normalised state\n",
    "psi = rng.normal(size=state_dim) + 1j * rng.normal(size=state_dim)\n",
    "psi /= np.linalg.norm(psi)\n",
    "\n",
    "pauli_dirs = rng.choice(['I', 'X', 'Y', 'Z'], size=num_qubits)\n",
    "result = sample_state_fast(psi, pauli_dirs, rng=rng)\n",
    "print('Measurement basis:', ''.join(pauli_dirs))\n",
    "print('Outcome bits     :', result)\n"
   ],
   "id": "63fbee5b30b0247f",
   "outputs": [
    {
     "name": "stdout",
     "output_type": "stream",
     "text": [
      "Measurement basis: YIXXYYYIYXIZXYXIXXYI\n",
      "Outcome bits     : 00000100100000000000\n"
     ]
    }
   ],
   "execution_count": 6
  }
 ],
 "metadata": {
  "kernelspec": {
   "display_name": "Python 3",
   "language": "python",
   "name": "python3"
  },
  "language_info": {
   "codemirror_mode": {
    "name": "ipython",
    "version": 2
   },
   "file_extension": ".py",
   "mimetype": "text/x-python",
   "name": "python",
   "nbconvert_exporter": "python",
   "pygments_lexer": "ipython2",
   "version": "2.7.6"
  }
 },
 "nbformat": 4,
 "nbformat_minor": 5
}
