{
 "cells": [
  {
   "cell_type": "code",
   "id": "73bcaa0ecd8b1c2a",
   "metadata": {
    "ExecuteTime": {
     "end_time": "2025-05-20T19:16:58.049834Z",
     "start_time": "2025-05-20T19:16:58.047037Z"
    }
   },
   "source": [
    "import numpy as np\n",
    "\n",
    "from pathlib import Path"
   ],
   "outputs": [],
   "execution_count": 8
  },
  {
   "metadata": {
    "collapsed": true,
    "ExecuteTime": {
     "end_time": "2025-05-20T18:48:47.834654Z",
     "start_time": "2025-05-20T18:48:47.824756Z"
    }
   },
   "cell_type": "code",
   "outputs": [],
   "execution_count": 2,
   "source": [
    "\n",
    "def sample_state_fast(state, pauli_labels, *, rng=np.random.default_rng()):\n",
    "    \"\"\"\n",
    "    Single-shot measurement of |state⟩ in the tensor-product basis defined by\n",
    "    pauli_labels, without constructing the 4^n-sized eigenbasis.\n",
    "\n",
    "    Parameters\n",
    "    ----------\n",
    "    state : np.ndarray, shape=(2**n,), complex\n",
    "        Normalised state vector.  Will be *modified in place* (projection).\n",
    "    pauli_labels : Sequence[str]\n",
    "        One character per qubit: 'I', 'X', 'Y' or 'Z'.\n",
    "    rng : np.random.Generator, optional\n",
    "        RNG (defaults to NumPy’s PCG64).\n",
    "\n",
    "    Returns\n",
    "    -------\n",
    "    str\n",
    "        Measurement bit-string (‘0’ = +1 eigenvalue, ‘1’ = −1).\n",
    "    \"\"\"\n",
    "    n = len(pauli_labels)\n",
    "    psi = state.reshape((2,) * n)           # view |ψ⟩ as n-dimensional tensor\n",
    "    outcome_bits = []\n",
    "    sqrt2 = np.sqrt(2.0)\n",
    "\n",
    "    for q, pl in enumerate(pauli_labels):\n",
    "        if pl == 'I':\n",
    "            outcome_bits.append('0')\n",
    "            continue\n",
    "\n",
    "        axis = n - 1 - q                    # axis 0 = MSB\n",
    "        psi0 = np.take(psi, 0, axis=axis)   # slice with qubit q = |0⟩\n",
    "        psi1 = np.take(psi, 1, axis=axis)   # slice with qubit q = |1⟩\n",
    "\n",
    "        # --- probability p0 of getting eigenvalue +1 -----------------------\n",
    "        if pl == 'Z':\n",
    "            p0 = np.sum(np.abs(psi0) ** 2)\n",
    "        elif pl == 'X':\n",
    "            p0 = np.sum(np.abs((psi0 + psi1) / sqrt2) ** 2)\n",
    "        elif pl == 'Y':\n",
    "            p0 = np.sum(np.abs((psi0 + 1j * psi1) / sqrt2) ** 2)\n",
    "        else:\n",
    "            raise ValueError(f\"Invalid Pauli label: {pl}\")\n",
    "\n",
    "        is_zero = rng.random() < p0\n",
    "        outcome_bits.append('0' if is_zero else '1')\n",
    "\n",
    "        # --- collapse & renormalise |ψ⟩ ------------------------------------\n",
    "        if pl == 'Z':\n",
    "            if is_zero:\n",
    "                psi1[...] = 0\n",
    "                psi /= np.sqrt(p0)\n",
    "            else:\n",
    "                psi0[...] = 0\n",
    "                psi /= np.sqrt(1.0 - p0)\n",
    "\n",
    "        else:  # X or Y\n",
    "            if pl == 'X':\n",
    "                plus  = (psi0 + psi1) / sqrt2\n",
    "                minus = (psi0 - psi1) / sqrt2\n",
    "                phase = 1.0\n",
    "            else:  # Y\n",
    "                plus  = (psi0 + 1j * psi1) / sqrt2\n",
    "                minus = (psi0 - 1j * psi1) / sqrt2\n",
    "                phase = 1j\n",
    "\n",
    "            if is_zero:      # outcome ‘0’ (+1 eigenvalue)\n",
    "                norm = np.sqrt(p0)\n",
    "                psi0[...] = plus / norm\n",
    "                psi1[...] =  plus / norm if pl == 'X' else -phase * plus / norm\n",
    "            else:            # outcome ‘1’ (−1 eigenvalue)\n",
    "                norm = np.sqrt(1.0 - p0)\n",
    "                psi0[...] =  minus / norm\n",
    "                psi1[...] = -minus / norm if pl == 'X' else  phase * minus / norm\n",
    "\n",
    "    return ''.join(outcome_bits)\n"
   ],
   "id": "initial_id"
  },
  {
   "metadata": {
    "ExecuteTime": {
     "end_time": "2025-05-20T18:48:49.314123Z",
     "start_time": "2025-05-20T18:48:49.306887Z"
    }
   },
   "cell_type": "code",
   "source": [
    "# constructing the phase augmented w state\n",
    "\n",
    "num_qubits = 20\n",
    "\n",
    "state_dim = 1 << num_qubits                     # bit shifting a ...0001 bitstring is the same as 2**a\n",
    "w_aug = np.zeros(state_dim, dtype=complex)      # empty state vector\n",
    "\n",
    "# since the W state has only non-zero amplitudes for one-hot states, we only need num_qubits random phases\n",
    "rng = np.random.default_rng(42)\n",
    "thetas = rng.uniform(0, 2*np.pi, size=num_qubits)\n",
    "\n",
    "for j in range(num_qubits):\n",
    "    idx = 1 << (num_qubits - 1 - j)              # find indexing mask via bit shifting\n",
    "\n",
    "    # apply the phase to the corresponding amplitude coefficient\n",
    "    w_aug[idx] = np.exp(1j * thetas[j]) / np.sqrt(num_qubits)\n",
    "\n",
    "\n",
    "def format_bytes(b):\n",
    "    for u in ['B', 'KB', 'MB', 'GB', 'TB']:\n",
    "        if b < 1024:\n",
    "            return f\"{b:.2f} {u}\"\n",
    "        b /= 1024\n",
    "\n",
    "\n",
    "print(f\"Size of state vector in memory: {format_bytes(w_aug.nbytes)} \\n\")\n",
    "\n",
    "for i in range(10):\n",
    "    print(f\"{i:0{num_qubits}b}: {w_aug[i]:.2f} + {w_aug[i].imag:.2f}j\")"
   ],
   "id": "e5ef7e4340c9f90d",
   "outputs": [
    {
     "name": "stdout",
     "output_type": "stream",
     "text": [
      "Size of state vector in memory: 16.00 MB \n",
      "\n",
      "00000000000000000000: 0.00+0.00j + 0.00j\n",
      "00000000000000000001: -0.15-0.16j + -0.16j\n",
      "00000000000000000010: 0.10-0.20j + -0.20j\n",
      "00000000000000000011: 0.00+0.00j + 0.00j\n",
      "00000000000000000100: 0.21+0.09j + 0.09j\n",
      "00000000000000000101: 0.00+0.00j + 0.00j\n",
      "00000000000000000110: 0.00+0.00j + 0.00j\n",
      "00000000000000000111: 0.00+0.00j + 0.00j\n",
      "00000000000000001000: -0.21-0.08j + -0.08j\n",
      "00000000000000001001: 0.00+0.00j + 0.00j\n"
     ]
    }
   ],
   "execution_count": 3
  },
  {
   "metadata": {
    "ExecuteTime": {
     "end_time": "2025-05-20T18:48:51.107556Z",
     "start_time": "2025-05-20T18:48:51.104349Z"
    }
   },
   "cell_type": "code",
   "source": [
    "pauli_dirs = rng.choice(['X', 'Y', 'Z'], size=num_qubits)\n",
    "print(pauli_dirs)\n"
   ],
   "id": "a7266204c5c277b4",
   "outputs": [
    {
     "name": "stdout",
     "output_type": "stream",
     "text": [
      "['X' 'Z' 'Z' 'Y' 'X' 'Z' 'Y' 'Z' 'Z' 'Z' 'Z' 'X' 'Y' 'Y' 'Y' 'X' 'Y' 'X'\n",
      " 'Z' 'Z']\n"
     ]
    }
   ],
   "execution_count": 4
  },
  {
   "metadata": {
    "ExecuteTime": {
     "end_time": "2025-05-20T18:51:10.495614Z",
     "start_time": "2025-05-20T18:51:10.281196Z"
    }
   },
   "cell_type": "code",
   "source": [
    "# sample the state\n",
    "result = sample_state_fast(w_aug, pauli_dirs, rng=rng)\n",
    "\n",
    "pauli_dirs = ''.join(pauli_dirs)\n",
    "print(pauli_dirs)\n",
    "print(result)"
   ],
   "id": "efc2e2eeba5e71ef",
   "outputs": [
    {
     "name": "stdout",
     "output_type": "stream",
     "text": [
      "XZZYXZYZZZZXYYYXYXZZ\n",
      "00000000000010001000\n"
     ]
    }
   ],
   "execution_count": 7
  },
  {
   "metadata": {
    "ExecuteTime": {
     "end_time": "2025-05-20T19:17:01.949011Z",
     "start_time": "2025-05-20T19:17:01.943751Z"
    }
   },
   "cell_type": "code",
   "source": [
    "data_dir = Path(\"./data\")\n",
    "data_dir.mkdir(parents=True, exist_ok=True)\n",
    "\n",
    "print(f\"Data will be saved to {data_dir.resolve()}\")"
   ],
   "id": "102347cd0fd7ef97",
   "outputs": [
    {
     "name": "stdout",
     "output_type": "stream",
     "text": [
      "Data will be saved to /Users/Tonni/Desktop/master-code/neural-quantum-tomo/case_studies/w_phase_augmented/data\n"
     ]
    }
   ],
   "execution_count": 9
  },
  {
   "metadata": {
    "ExecuteTime": {
     "end_time": "2025-05-20T19:17:45.271782Z",
     "start_time": "2025-05-20T19:17:45.266165Z"
    }
   },
   "cell_type": "code",
   "source": [
    "# --- Define all Measurement Bases ---\n",
    "all_measurement_bases = []\n",
    "\n",
    "# 1. Amplitude basis (all Z) - Standard basis for amplitudes\n",
    "amplitude_basis = 'Z' * num_qubits\n",
    "all_measurement_bases.append(amplitude_basis)\n",
    "\n",
    "# 2. XX type bases (N-1 of them)\n",
    "for i in range(num_qubits - 1):\n",
    "    basis_list = ['Z'] * num_qubits\n",
    "    basis_list[i] = 'X'\n",
    "    basis_list[i+1] = 'X'\n",
    "    all_measurement_bases.append(\"\".join(basis_list))\n",
    "\n",
    "# 3. XY type bases (N-1 of them)\n",
    "for i in range(num_qubits - 1):\n",
    "    basis_list = ['Z'] * num_qubits\n",
    "    basis_list[i] = 'X'\n",
    "    basis_list[i+1] = 'Y'\n",
    "    all_measurement_bases.append(\"\".join(basis_list))\n",
    "\n",
    "print(f\"Total number of measurement bases: {len(all_measurement_bases)}\")\n",
    "if len(all_measurement_bases) != (1 + 2 * (num_qubits - 1)):\n",
    "    print(f\"Warning: Expected {1 + 2 * (num_qubits - 1)} bases, but got {len(all_measurement_bases)}\")\n",
    "print(\"-\" * 30)"
   ],
   "id": "9934a136f4be94f1",
   "outputs": [
    {
     "name": "stdout",
     "output_type": "stream",
     "text": [
      "Total number of measurement bases: 39\n",
      "------------------------------\n"
     ]
    }
   ],
   "execution_count": 10
  },
  {
   "metadata": {},
   "cell_type": "code",
   "outputs": [],
   "execution_count": null,
   "source": [
    "# --- Generate and Store Measurements ---\n",
    "\n",
    "import os\n",
    "import time\n",
    "from collections import Counter\n",
    "\n",
    "output_directory = data_dir\n",
    "\n",
    "rng_seed = np.random.default_rng(42)\n",
    "\n",
    "\n",
    "rng_for_sampling = np.random.default_rng(rng_seed + 1) # Different seed for sampling\n",
    "\n",
    "total_start_time = time.time()\n",
    "\n",
    "for basis_idx, pauli_dirs_str in enumerate(all_measurement_bases):\n",
    "    basis_start_time = time.time()\n",
    "    print(f\"Processing basis {basis_idx + 1}/{len(all_measurement_bases)}: {pauli_dirs_str}\")\n",
    "\n",
    "    # Output filename format: w_aug_<basis_string>_<num_samples>.txt\n",
    "    filename = os.path.join(output_directory, f\"w_aug_{pauli_dirs_str}_{num_samples_per_basis}.txt\")\n",
    "\n",
    "    pauli_labels_list = list(pauli_dirs_str) # sample_state_fast expects a list/sequence\n",
    "\n",
    "    with open(filename, 'w') as f_out:\n",
    "        for sample_num in range(num_samples_per_basis):\n",
    "            if (sample_num + 1) % (num_samples_per_basis // 10 if num_samples_per_basis >=10 else 1) == 0:\n",
    "                print(f\"  Sample {sample_num + 1}/{num_samples_per_basis} for basis {pauli_dirs_str}\", end='\\r')\n",
    "\n",
    "            # IMPORTANT: Create a fresh copy of the state for EACH measurement\n",
    "            # because sample_state_fast modifies it in-place.\n",
    "            # This is the most time-consuming part for large N.\n",
    "            state_copy = w_aug.copy()\n",
    "\n",
    "            measurement_bits = sample_state_fast(state_copy, pauli_labels_list, rng=rng_for_sampling)\n",
    "\n",
    "            # Convert '0' (+1 eigenvalue) to 'X' (uppercase)\n",
    "            # Convert '1' (-1 eigenvalue) to 'x' (lowercase)\n",
    "            formatted_measurement = \"\".join(['X' if bit == '0' else 'x' for bit in measurement_bits])\n",
    "            f_out.write(formatted_measurement + \"\\n\")\n",
    "        print(f\"  Finished {num_samples_per_basis} samples for basis {pauli_dirs_str}. Saved to {filename}.\") # Clear the \\r\n",
    "    basis_end_time = time.time()\n",
    "    print(f\"  Time for basis {pauli_dirs_str}: {basis_end_time - basis_start_time:.2f} seconds.\")\n",
    "    print(\"-\" * 10)\n",
    "\n",
    "total_end_time = time.time()\n",
    "print(f\"\\nAll measurements generated. Total time: {total_end_time - total_start_time:.2f} seconds.\")\n",
    "print(f\"Output files are in the directory: {output_directory}\")"
   ],
   "id": "a161cd1d7e6b7d59"
  }
 ],
 "metadata": {
  "kernelspec": {
   "display_name": "Python 3",
   "language": "python",
   "name": "python3"
  },
  "language_info": {
   "codemirror_mode": {
    "name": "ipython",
    "version": 2
   },
   "file_extension": ".py",
   "mimetype": "text/x-python",
   "name": "python",
   "nbconvert_exporter": "python",
   "pygments_lexer": "ipython2",
   "version": "2.7.6"
  }
 },
 "nbformat": 4,
 "nbformat_minor": 5
}
