{
 "cells": [
  {
   "metadata": {
    "ExecuteTime": {
     "end_time": "2025-05-29T15:21:19.058773Z",
     "start_time": "2025-05-29T15:21:18.962267Z"
    }
   },
   "cell_type": "code",
   "source": [
    "from time import time\n",
    "from pathlib import Path\n",
    "from tqdm import tqdm\n",
    "\n",
    "from itertools import product\n",
    "\n",
    "import numpy as np\n",
    "\n",
    "data_dir = Path(\"data\")\n",
    "data_dir.mkdir(parents=True, exist_ok=True)\n",
    "\n",
    "rng_seed = 42\n",
    "\n",
    "print(f\"Data will be saved to {data_dir.resolve()}\")\n",
    "print(f\"Random seed is {rng_seed}\")"
   ],
   "id": "65f9d8d7f90652d7",
   "outputs": [
    {
     "name": "stdout",
     "output_type": "stream",
     "text": [
      "Data will be saved to /Users/Tonni/Desktop/master-code/neural-quantum-tomo/case_studies/w_aug/data\n",
      "Random seed is 42\n"
     ]
    }
   ],
   "execution_count": 1
  },
  {
   "metadata": {
    "ExecuteTime": {
     "end_time": "2025-05-29T15:21:22.542629Z",
     "start_time": "2025-05-29T15:21:22.534017Z"
    }
   },
   "cell_type": "code",
   "source": [
    "# if we do just sampling, we actually don't need any eigenvalues\n",
    "\n",
    "class PauliOperator:\n",
    "    def __init__(self, matrix: np.ndarray, eigenvectors: list[np.ndarray]):\n",
    "        \"\"\"\n",
    "        Bundles the relevant information of a Pauli operator into a single object.\n",
    "\n",
    "        :param matrix: The matrix representation of the Pauli operator, shape (2, 2).\n",
    "        :param eigenvectors: The eigenvectors of the Pauli operator, shape (2, 2).\n",
    "        \"\"\"\n",
    "        self.matrix = matrix\n",
    "        self.eigenvectors = eigenvectors\n",
    "\n",
    "\n",
    "def construct_measurement_basis(pauli_ops: list[PauliOperator]) -> list[np.ndarray]:\n",
    "    \"\"\"\n",
    "    Constructs the full tensor product basis for a given list of Pauli operators.\n",
    "\n",
    "    :param pauli_ops: List of Pauli operators in order of qubit indices.\n",
    "\n",
    "    :return: List basis vectors to project onto, shape (2^num_qubits, 2^num_qubits).\n",
    "    \"\"\"\n",
    "    measurement_basis = []\n",
    "\n",
    "    # we simply build up all possible outcomes like 000, 001, 010, ... 111\n",
    "    outcome_bitstrings = list(product([0, 1], repeat=len(pauli_ops)))\n",
    "    for outcome_bitstring in tqdm(outcome_bitstrings, desc=\"Constructing measurement basis\"):\n",
    "        multi_qubit_eigenvector = None\n",
    "\n",
    "        # now we split up the bitstring and zip each qubit outcome with the corresponding Pauli operator\n",
    "        for pauli_op, outcome_bit in zip(pauli_ops, outcome_bitstring):\n",
    "            # we can directly misuse the outcome bit as index for accessing the state vector\n",
    "            eigenvector = pauli_op.eigenvectors[outcome_bit]\n",
    "\n",
    "            if multi_qubit_eigenvector is None:\n",
    "                multi_qubit_eigenvector = eigenvector\n",
    "                continue\n",
    "\n",
    "            # we build up the multi-qubit eigenvector by taking the tensor product of the single-qubit eigenvectors\n",
    "            multi_qubit_eigenvector = np.kron(multi_qubit_eigenvector, eigenvector)\n",
    "\n",
    "        # each outcome has its corresponding measurement basis vector\n",
    "        measurement_basis.append(multi_qubit_eigenvector)\n",
    "\n",
    "    return measurement_basis\n",
    "\n",
    "\n",
    "def sample_state(state_vec: np.ndarray, meas_dirs: list[str], num_samples: int = 1000, rng=None) -> np.ndarray:\n",
    "    \"\"\"\n",
    "    Samples `num_samples` bitstrings from the state for the given measurement directions.\n",
    "\n",
    "    :param state_vec: The state vector to sample from, shape (2^num_qubits,).\n",
    "    :param meas_dirs: A description of the measurement directions, e.g. ['Z', 'X', 'Y'], shape (num_qubits,).\n",
    "    :param num_samples: The number of samples to draw.\n",
    "    :param rng: Optional random number generator. If None, a new default_rng will be created.\n",
    "\n",
    "    :return: A list of sampled bitstrings, shape (num_samples, num_qubits).\n",
    "    \"\"\"\n",
    "    rng = np.random.default_rng() if rng is None else rng\n",
    "\n",
    "    # looking up the pauli operators, ignoring key errors at this point\n",
    "    pauli_ops = [pauli_operators[md] for md in meas_dirs]\n",
    "\n",
    "    basis_vecs = construct_measurement_basis(pauli_ops)\n",
    "\n",
    "    start_time = time()\n",
    "\n",
    "    # as soon as we have the basis vectors, we can apply the born rule spitting out the probabilities\n",
    "    probs = [abs(np.vdot(v, state_vec))**2 for v in basis_vecs]\n",
    "    probs = np.array(probs)\n",
    "    probs /= probs.sum()  # just in case\n",
    "\n",
    "    chosen_basis_indices = rng.choice(len(probs), size=num_samples, p=probs)\n",
    "    sampled_bitstrings = [list(map(int, f\"{basis_idx:0{len(pauli_ops)}b}\")) for basis_idx in chosen_basis_indices]\n",
    "\n",
    "    print(f\"Sampled {num_samples} bitstrings in {time() - start_time:.2f} seconds.\")\n",
    "    return np.array(sampled_bitstrings, dtype=np.uint8)"
   ],
   "id": "a97f2cbf18a35ec3",
   "outputs": [],
   "execution_count": 2
  },
  {
   "metadata": {
    "ExecuteTime": {
     "end_time": "2025-05-29T15:21:42.721055Z",
     "start_time": "2025-05-29T15:21:42.712138Z"
    }
   },
   "cell_type": "code",
   "source": [
    "def format_bytes(num_bytes):\n",
    "    \"\"\"Utility function to format bytes into KB, MB, GB, etc.\"\"\"\n",
    "    for unit in ['B', 'KB', 'MB', 'GB', 'TB']:\n",
    "        if num_bytes < 1024.0:\n",
    "            return f\"{num_bytes:.2f} {unit}\"\n",
    "        num_bytes /= 1024.0\n",
    "    return f\"{num_bytes:.2f} PB\"\n",
    "\n",
    "\n",
    "# construct the state\n",
    "\n",
    "num_qubits = 10\n",
    "\n",
    "state_dim = 1 << num_qubits                     # bit shifting a ...0001 bitstring is the same as 2**a\n",
    "w_aug = np.zeros(state_dim, dtype=complex)      # empty state vector\n",
    "\n",
    "# since the W state has only non-zero amplitudes for one-hot states, we only need num_qubits random phases\n",
    "rng = np.random.default_rng(42)\n",
    "thetas = rng.uniform(0, 2*np.pi, size=num_qubits)\n",
    "\n",
    "for j in range(num_qubits):\n",
    "    idx = 1 << (num_qubits - 1 - j)              # find indexing mask via bit shifting\n",
    "\n",
    "    # apply the phase to the corresponding amplitude coefficient\n",
    "    w_aug[idx] = np.exp(1j * thetas[j]) / np.sqrt(num_qubits)\n",
    "\n",
    "\n",
    "print(f\"Size of state vector in memory: {format_bytes(w_aug.nbytes)} \\n\")\n",
    "\n",
    "for i in range(10):\n",
    "    print(f\"{i:0{num_qubits}b}: {w_aug[i]:.2f} + {w_aug[i].imag:.2f}j\")"
   ],
   "id": "6b00ee7ab3b14cae",
   "outputs": [
    {
     "name": "stdout",
     "output_type": "stream",
     "text": [
      "Size of state vector in memory: 16.00 KB \n",
      "\n",
      "0000000000: 0.00+0.00j + 0.00j\n",
      "0000000001: -0.30+0.10j + 0.10j\n",
      "0000000010: 0.22+0.23j + 0.23j\n",
      "0000000011: 0.00+0.00j + 0.00j\n",
      "0000000100: 0.07-0.31j + -0.31j\n",
      "0000000101: 0.00+0.00j + 0.00j\n",
      "0000000110: 0.00+0.00j + 0.00j\n",
      "0000000111: 0.00+0.00j + 0.00j\n",
      "0000001000: 0.02-0.32j + -0.32j\n",
      "0000001001: 0.00+0.00j + 0.00j\n"
     ]
    }
   ],
   "execution_count": 3
  },
  {
   "metadata": {
    "ExecuteTime": {
     "end_time": "2025-05-29T15:21:46.037647Z",
     "start_time": "2025-05-29T15:21:46.034273Z"
    }
   },
   "cell_type": "code",
   "source": [
    "pauli_operators = {\n",
    "    'I': PauliOperator(np.eye(2), [np.array([1, 0]), np.array([0, 1])]),\n",
    "    'X': PauliOperator(np.array([[0, 1], [1, 0]]), [np.array([1,  1]) / np.sqrt(2), np.array([1, -1]) / np.sqrt(2)]),\n",
    "    'Y': PauliOperator(np.array([[0, -1j], [1j, 0]]), [np.array([1,  1j]) / np.sqrt(2), np.array([1, -1j]) / np.sqrt(2)]),\n",
    "    'Z': PauliOperator(np.array([[1, 0], [0, -1]]), [np.array([1, 0]), np.array([0, 1])])\n",
    "}"
   ],
   "id": "f10ca3f2e45fa7f5",
   "outputs": [],
   "execution_count": 4
  },
  {
   "metadata": {
    "ExecuteTime": {
     "end_time": "2025-05-29T15:21:54.400274Z",
     "start_time": "2025-05-29T15:21:54.396794Z"
    }
   },
   "cell_type": "code",
   "source": [
    "measurement_dirs = []\n",
    "\n",
    "# all Z\n",
    "measurement_dirs.append(['Z'] * num_qubits)\n",
    "\n",
    "# sliding XX window\n",
    "for i in range(num_qubits - 1):\n",
    "    basis_list = ['Z'] * num_qubits\n",
    "    basis_list[i] = 'X'\n",
    "    basis_list[i+1] = 'X'\n",
    "    measurement_dirs.append(basis_list)\n",
    "\n",
    "# sliding XY window\n",
    "for i in range(num_qubits - 1):\n",
    "    basis_list = ['Z'] * num_qubits\n",
    "    basis_list[i] = 'X'\n",
    "    basis_list[i+1] = 'Y'\n",
    "    measurement_dirs.append(basis_list)\n",
    "\n",
    "\n",
    "for i, basis in enumerate(measurement_dirs):\n",
    "    print(f\"Basis {i:2d}: {''.join(basis)}\")"
   ],
   "id": "78515c8b04f9bb71",
   "outputs": [
    {
     "name": "stdout",
     "output_type": "stream",
     "text": [
      "Basis  0: ZZZZZZZZZZ\n",
      "Basis  1: XXZZZZZZZZ\n",
      "Basis  2: ZXXZZZZZZZ\n",
      "Basis  3: ZZXXZZZZZZ\n",
      "Basis  4: ZZZXXZZZZZ\n",
      "Basis  5: ZZZZXXZZZZ\n",
      "Basis  6: ZZZZZXXZZZ\n",
      "Basis  7: ZZZZZZXXZZ\n",
      "Basis  8: ZZZZZZZXXZ\n",
      "Basis  9: ZZZZZZZZXX\n",
      "Basis 10: XYZZZZZZZZ\n",
      "Basis 11: ZXYZZZZZZZ\n",
      "Basis 12: ZZXYZZZZZZ\n",
      "Basis 13: ZZZXYZZZZZ\n",
      "Basis 14: ZZZZXYZZZZ\n",
      "Basis 15: ZZZZZXYZZZ\n",
      "Basis 16: ZZZZZZXYZZ\n",
      "Basis 17: ZZZZZZZXYZ\n",
      "Basis 18: ZZZZZZZZXY\n"
     ]
    }
   ],
   "execution_count": 5
  },
  {
   "metadata": {
    "ExecuteTime": {
     "end_time": "2025-05-29T15:22:05.172369Z",
     "start_time": "2025-05-29T15:22:01.615355Z"
    }
   },
   "cell_type": "code",
   "source": [
    "def format_measurement(bitstring, basis):\n",
    "    result = []\n",
    "    for bit, op in zip(bitstring, basis):\n",
    "        if bit == 0 or bit == '0':\n",
    "            result.append(op.upper())\n",
    "        elif bit == 1 or bit == '1':\n",
    "            result.append(op.lower())\n",
    "        else:\n",
    "            result.append('?')\n",
    "    return ''.join(result)\n",
    "\n",
    "\n",
    "samples_per_basis = 6400\n",
    "\n",
    "\n",
    "for _, pauli_ops in enumerate(measurement_dirs):\n",
    "    pauli_dirs_str = ''.join(pauli_ops)\n",
    "    filename = data_dir / f\"w_aug_{pauli_dirs_str}_{samples_per_basis}.txt\"\n",
    "\n",
    "    print(f\"Measuring in basis: {pauli_dirs_str}\")\n",
    "\n",
    "    samples = sample_state(w_aug, pauli_ops, samples_per_basis, rng=rng)\n",
    "\n",
    "    with open(filename, 'w') as f_out:\n",
    "        for bitstring in samples:\n",
    "            formatted = format_measurement(bitstring, pauli_ops)\n",
    "            f_out.write(formatted + \"\\n\")\n",
    "\n",
    "    print(f\"Stored {samples_per_basis} samples to {filename.name}.\")"
   ],
   "id": "1b92008f13c9bb19",
   "outputs": [
    {
     "name": "stdout",
     "output_type": "stream",
     "text": [
      "Measuring in basis: ZZZZZZZZZZ\n"
     ]
    },
    {
     "name": "stderr",
     "output_type": "stream",
     "text": [
      "Constructing measurement basis: 100%|██████████| 1024/1024 [00:00<00:00, 9508.18it/s]"
     ]
    },
    {
     "name": "stdout",
     "output_type": "stream",
     "text": [
      "Sampled 6400 bitstrings in 0.01 seconds.\n"
     ]
    },
    {
     "name": "stderr",
     "output_type": "stream",
     "text": [
      "\n"
     ]
    },
    {
     "name": "stdout",
     "output_type": "stream",
     "text": [
      "Stored 6400 samples to w_aug_ZZZZZZZZZZ_6400.txt.\n",
      "Measuring in basis: XXZZZZZZZZ\n"
     ]
    },
    {
     "name": "stderr",
     "output_type": "stream",
     "text": [
      "Constructing measurement basis: 100%|██████████| 1024/1024 [00:00<00:00, 10145.31it/s]\n"
     ]
    },
    {
     "name": "stdout",
     "output_type": "stream",
     "text": [
      "Sampled 6400 bitstrings in 0.03 seconds.\n",
      "Stored 6400 samples to w_aug_XXZZZZZZZZ_6400.txt.\n",
      "Measuring in basis: ZXXZZZZZZZ\n"
     ]
    },
    {
     "name": "stderr",
     "output_type": "stream",
     "text": [
      "Constructing measurement basis: 100%|██████████| 1024/1024 [00:00<00:00, 10329.68it/s]"
     ]
    },
    {
     "name": "stdout",
     "output_type": "stream",
     "text": [
      "Sampled 6400 bitstrings in 0.01 seconds.\n"
     ]
    },
    {
     "name": "stderr",
     "output_type": "stream",
     "text": [
      "\n"
     ]
    },
    {
     "name": "stdout",
     "output_type": "stream",
     "text": [
      "Stored 6400 samples to w_aug_ZXXZZZZZZZ_6400.txt.\n",
      "Measuring in basis: ZZXXZZZZZZ\n"
     ]
    },
    {
     "name": "stderr",
     "output_type": "stream",
     "text": [
      "Constructing measurement basis: 100%|██████████| 1024/1024 [00:00<00:00, 10285.06it/s]\n"
     ]
    },
    {
     "name": "stdout",
     "output_type": "stream",
     "text": [
      "Sampled 6400 bitstrings in 0.01 seconds.\n",
      "Stored 6400 samples to w_aug_ZZXXZZZZZZ_6400.txt.\n",
      "Measuring in basis: ZZZXXZZZZZ\n"
     ]
    },
    {
     "name": "stderr",
     "output_type": "stream",
     "text": [
      "Constructing measurement basis: 100%|██████████| 1024/1024 [00:00<00:00, 10457.85it/s]\n"
     ]
    },
    {
     "name": "stdout",
     "output_type": "stream",
     "text": [
      "Sampled 6400 bitstrings in 0.01 seconds.\n",
      "Stored 6400 samples to w_aug_ZZZXXZZZZZ_6400.txt.\n",
      "Measuring in basis: ZZZZXXZZZZ\n"
     ]
    },
    {
     "name": "stderr",
     "output_type": "stream",
     "text": [
      "Constructing measurement basis: 100%|██████████| 1024/1024 [00:00<00:00, 10490.63it/s]\n"
     ]
    },
    {
     "name": "stdout",
     "output_type": "stream",
     "text": [
      "Sampled 6400 bitstrings in 0.01 seconds.\n",
      "Stored 6400 samples to w_aug_ZZZZXXZZZZ_6400.txt.\n",
      "Measuring in basis: ZZZZZXXZZZ\n"
     ]
    },
    {
     "name": "stderr",
     "output_type": "stream",
     "text": [
      "Constructing measurement basis: 100%|██████████| 1024/1024 [00:00<00:00, 10401.22it/s]\n"
     ]
    },
    {
     "name": "stdout",
     "output_type": "stream",
     "text": [
      "Sampled 6400 bitstrings in 0.01 seconds.\n",
      "Stored 6400 samples to w_aug_ZZZZZXXZZZ_6400.txt.\n",
      "Measuring in basis: ZZZZZZXXZZ\n"
     ]
    },
    {
     "name": "stderr",
     "output_type": "stream",
     "text": [
      "Constructing measurement basis: 100%|██████████| 1024/1024 [00:00<00:00, 10294.97it/s]\n"
     ]
    },
    {
     "name": "stdout",
     "output_type": "stream",
     "text": [
      "Sampled 6400 bitstrings in 0.01 seconds.\n",
      "Stored 6400 samples to w_aug_ZZZZZZXXZZ_6400.txt.\n",
      "Measuring in basis: ZZZZZZZXXZ\n"
     ]
    },
    {
     "name": "stderr",
     "output_type": "stream",
     "text": [
      "Constructing measurement basis: 100%|██████████| 1024/1024 [00:00<00:00, 10535.71it/s]\n"
     ]
    },
    {
     "name": "stdout",
     "output_type": "stream",
     "text": [
      "Sampled 6400 bitstrings in 0.01 seconds.\n",
      "Stored 6400 samples to w_aug_ZZZZZZZXXZ_6400.txt.\n",
      "Measuring in basis: ZZZZZZZZXX\n"
     ]
    },
    {
     "name": "stderr",
     "output_type": "stream",
     "text": [
      "Constructing measurement basis: 100%|██████████| 1024/1024 [00:00<00:00, 10362.80it/s]\n"
     ]
    },
    {
     "name": "stdout",
     "output_type": "stream",
     "text": [
      "Sampled 6400 bitstrings in 0.01 seconds.\n",
      "Stored 6400 samples to w_aug_ZZZZZZZZXX_6400.txt.\n",
      "Measuring in basis: XYZZZZZZZZ\n"
     ]
    },
    {
     "name": "stderr",
     "output_type": "stream",
     "text": [
      "Constructing measurement basis: 100%|██████████| 1024/1024 [00:00<00:00, 10269.98it/s]\n"
     ]
    },
    {
     "name": "stdout",
     "output_type": "stream",
     "text": [
      "Sampled 6400 bitstrings in 0.01 seconds.\n",
      "Stored 6400 samples to w_aug_XYZZZZZZZZ_6400.txt.\n",
      "Measuring in basis: ZXYZZZZZZZ\n"
     ]
    },
    {
     "name": "stderr",
     "output_type": "stream",
     "text": [
      "Constructing measurement basis: 100%|██████████| 1024/1024 [00:00<00:00, 9985.58it/s] \n"
     ]
    },
    {
     "name": "stdout",
     "output_type": "stream",
     "text": [
      "Sampled 6400 bitstrings in 0.01 seconds.\n",
      "Stored 6400 samples to w_aug_ZXYZZZZZZZ_6400.txt.\n",
      "Measuring in basis: ZZXYZZZZZZ\n"
     ]
    },
    {
     "name": "stderr",
     "output_type": "stream",
     "text": [
      "Constructing measurement basis: 100%|██████████| 1024/1024 [00:00<00:00, 10388.77it/s]\n"
     ]
    },
    {
     "name": "stdout",
     "output_type": "stream",
     "text": [
      "Sampled 6400 bitstrings in 0.01 seconds.\n",
      "Stored 6400 samples to w_aug_ZZXYZZZZZZ_6400.txt.\n",
      "Measuring in basis: ZZZXYZZZZZ\n"
     ]
    },
    {
     "name": "stderr",
     "output_type": "stream",
     "text": [
      "Constructing measurement basis: 100%|██████████| 1024/1024 [00:00<00:00, 10180.54it/s]\n"
     ]
    },
    {
     "name": "stdout",
     "output_type": "stream",
     "text": [
      "Sampled 6400 bitstrings in 0.01 seconds.\n",
      "Stored 6400 samples to w_aug_ZZZXYZZZZZ_6400.txt.\n",
      "Measuring in basis: ZZZZXYZZZZ\n"
     ]
    },
    {
     "name": "stderr",
     "output_type": "stream",
     "text": [
      "Constructing measurement basis: 100%|██████████| 1024/1024 [00:00<00:00, 10407.12it/s]\n"
     ]
    },
    {
     "name": "stdout",
     "output_type": "stream",
     "text": [
      "Sampled 6400 bitstrings in 0.01 seconds.\n",
      "Stored 6400 samples to w_aug_ZZZZXYZZZZ_6400.txt.\n",
      "Measuring in basis: ZZZZZXYZZZ\n"
     ]
    },
    {
     "name": "stderr",
     "output_type": "stream",
     "text": [
      "Constructing measurement basis: 100%|██████████| 1024/1024 [00:00<00:00, 10281.22it/s]\n"
     ]
    },
    {
     "name": "stdout",
     "output_type": "stream",
     "text": [
      "Sampled 6400 bitstrings in 0.01 seconds.\n",
      "Stored 6400 samples to w_aug_ZZZZZXYZZZ_6400.txt.\n",
      "Measuring in basis: ZZZZZZXYZZ\n"
     ]
    },
    {
     "name": "stderr",
     "output_type": "stream",
     "text": [
      "Constructing measurement basis: 100%|██████████| 1024/1024 [00:00<00:00, 10357.53it/s]\n"
     ]
    },
    {
     "name": "stdout",
     "output_type": "stream",
     "text": [
      "Sampled 6400 bitstrings in 0.02 seconds.\n",
      "Stored 6400 samples to w_aug_ZZZZZZXYZZ_6400.txt.\n",
      "Measuring in basis: ZZZZZZZXYZ\n"
     ]
    },
    {
     "name": "stderr",
     "output_type": "stream",
     "text": [
      "Constructing measurement basis: 100%|██████████| 1024/1024 [00:00<00:00, 10359.95it/s]\n"
     ]
    },
    {
     "name": "stdout",
     "output_type": "stream",
     "text": [
      "Sampled 6400 bitstrings in 0.01 seconds.\n",
      "Stored 6400 samples to w_aug_ZZZZZZZXYZ_6400.txt.\n",
      "Measuring in basis: ZZZZZZZZXY\n"
     ]
    },
    {
     "name": "stderr",
     "output_type": "stream",
     "text": [
      "Constructing measurement basis: 100%|██████████| 1024/1024 [00:00<00:00, 10164.45it/s]\n"
     ]
    },
    {
     "name": "stdout",
     "output_type": "stream",
     "text": [
      "Sampled 6400 bitstrings in 0.01 seconds.\n",
      "Stored 6400 samples to w_aug_ZZZZZZZZXY_6400.txt.\n"
     ]
    }
   ],
   "execution_count": 6
  },
  {
   "metadata": {},
   "cell_type": "code",
   "source": "",
   "id": "7d36803685c28d34",
   "outputs": [],
   "execution_count": null
  }
 ],
 "metadata": {
  "kernelspec": {
   "display_name": "Python 3",
   "language": "python",
   "name": "python3"
  },
  "language_info": {
   "codemirror_mode": {
    "name": "ipython",
    "version": 2
   },
   "file_extension": ".py",
   "mimetype": "text/x-python",
   "name": "python",
   "nbconvert_exporter": "python",
   "pygments_lexer": "ipython2",
   "version": "2.7.6"
  }
 },
 "nbformat": 4,
 "nbformat_minor": 5
}
