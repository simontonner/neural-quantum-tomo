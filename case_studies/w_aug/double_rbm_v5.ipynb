{
 "cells": [
  {
   "cell_type": "code",
   "id": "initial_id",
   "metadata": {
    "collapsed": true,
    "ExecuteTime": {
     "end_time": "2025-05-30T20:42:55.443836Z",
     "start_time": "2025-05-30T20:42:55.439179Z"
    }
   },
   "source": [
    "import re\n",
    "from pathlib import Path\n",
    "\n",
    "import numpy as np\n",
    "\n",
    "import jax\n",
    "import jax.lax\n",
    "from jax.random import PRNGKey\n",
    "import jax.numpy as jnp\n",
    "import optax\n",
    "from flax.training.train_state import TrainState\n",
    "from flax import linen as nn\n",
    "\n",
    "import matplotlib.pyplot as plt\n",
    "\n",
    "from typing import Optional, Tuple, Dict, Any, Sequence\n",
    "\n",
    "\n",
    "data_dir = \"./data\"\n",
    "print(f\"Data resides in        : {data_dir}\")"
   ],
   "outputs": [
    {
     "name": "stdout",
     "output_type": "stream",
     "text": [
      "Data resides in        : ./data\n"
     ]
    }
   ],
   "execution_count": 15
  },
  {
   "metadata": {
    "ExecuteTime": {
     "end_time": "2025-05-30T20:42:56.704537Z",
     "start_time": "2025-05-30T20:42:56.694845Z"
    }
   },
   "cell_type": "code",
   "source": [
    "class MultiBasisDataLoader:\n",
    "    def __init__(self, data_dict: dict[str, jnp.ndarray],\n",
    "                 batch_size: int = 128,\n",
    "                 shuffle: bool = True,\n",
    "                 drop_last: bool = False,\n",
    "                 seed: int = 0):\n",
    "        lengths = [len(v) for v in data_dict.values()]\n",
    "        if len(set(lengths)) != 1:\n",
    "            raise ValueError(f\"All arrays must have the same length, got: {lengths}\")\n",
    "\n",
    "        self.data = data_dict\n",
    "        self.n = lengths[0]\n",
    "        self.bs = batch_size\n",
    "        self.shuffle = shuffle\n",
    "        self.drop_last = drop_last\n",
    "        self.rng = np.random.default_rng(seed)\n",
    "\n",
    "        self.idx_slices = [\n",
    "            (i, i + batch_size)\n",
    "            for i in range(0, self.n, batch_size)\n",
    "            if not drop_last or i + batch_size <= self.n\n",
    "        ]\n",
    "\n",
    "    def __iter__(self):\n",
    "        self.order = np.arange(self.n)\n",
    "        if self.shuffle:\n",
    "            self.rng.shuffle(self.order)\n",
    "        self.slice_idx = 0\n",
    "        return self\n",
    "\n",
    "    def __next__(self):\n",
    "        if self.slice_idx >= len(self.idx_slices):\n",
    "            raise StopIteration\n",
    "        s, e = self.idx_slices[self.slice_idx]\n",
    "        self.slice_idx += 1\n",
    "        return {k: v[self.order[s:e]] for k, v in self.data.items()}\n",
    "\n",
    "\n",
    "def load_measurements(folder: str, file_pattern: str = \"w_*.txt\") -> dict[str, jnp.ndarray]:\n",
    "    out: dict[str, jnp.ndarray] = {}\n",
    "\n",
    "    for fp in Path(folder).glob(file_pattern):\n",
    "        basis = fp.stem.split(\"_\")[2]\n",
    "\n",
    "        bitstrings = []\n",
    "        with fp.open() as f:\n",
    "            for line in f:\n",
    "                bitstring = np.fromiter((c.islower() for c in line.strip()), dtype=np.float32)\n",
    "                bitstrings.append(bitstring)\n",
    "\n",
    "        arr = jnp.asarray(np.stack(bitstrings))\n",
    "        if basis in out:\n",
    "            out[basis] = jnp.concatenate([out[basis], arr], axis=0)\n",
    "        else:\n",
    "            out[basis] = arr\n",
    "\n",
    "    return out"
   ],
   "id": "78de40dc6fd42395",
   "outputs": [],
   "execution_count": 16
  },
  {
   "metadata": {
    "ExecuteTime": {
     "end_time": "2025-05-30T20:42:57.611294Z",
     "start_time": "2025-05-30T20:42:57.387728Z"
    }
   },
   "cell_type": "code",
   "source": [
    "data_dict = load_measurements(\"data/\", \"w_*.txt\")\n",
    "\n",
    "keys_amp = [k for k in data_dict if re.fullmatch(r\"^Z+$\", k)]\n",
    "keys_pha = [k for k in data_dict if re.fullmatch(r\"^(?!Z+$).*\", k)]\n",
    "dict_amp = {k: data_dict[k] for k in keys_amp}\n",
    "dict_pha = {k: data_dict[k] for k in keys_pha}\n",
    "\n",
    "loader_amp = MultiBasisDataLoader(dict_amp, batch_size=128)\n",
    "loader_pha = MultiBasisDataLoader(dict_pha, batch_size=128)"
   ],
   "id": "d6edc336135bc877",
   "outputs": [],
   "execution_count": 17
  },
  {
   "metadata": {
    "ExecuteTime": {
     "end_time": "2025-05-30T20:42:57.883729Z",
     "start_time": "2025-05-30T20:42:57.874980Z"
    }
   },
   "cell_type": "code",
   "source": [
    "class RBM(nn.Module):\n",
    "    n_visible: int\n",
    "    n_hidden: int\n",
    "    k: int = 1\n",
    "    n_chains: int = 1000\n",
    "\n",
    "    @nn.compact\n",
    "    def __call__(self, data_batch: jnp.ndarray, aux_vars: Optional[Dict[str, Any]] = None) -> Tuple[jnp.ndarray, Dict[str, Any]]:\n",
    "        W = self.param(\"W\", nn.initializers.normal(0.01), (self.n_visible, self.n_hidden))\n",
    "        b = self.param(\"b\", nn.initializers.zeros,        (self.n_visible,))\n",
    "        c = self.param(\"c\", nn.initializers.zeros,        (self.n_hidden,))\n",
    "        key = aux_vars[\"key\"]\n",
    "\n",
    "        key, bern_key = jax.random.split(key, 2)\n",
    "        v_chain_batch = jax.random.bernoulli(bern_key, p=0.5, shape=(self.n_chains, self.n_visible)).astype(jnp.float32)\n",
    "        model_batch, key = self._gibbs_sample(W, b, c, v_chain_batch, key, k=self.k)\n",
    "        model_batch = jax.lax.stop_gradient(model_batch)\n",
    "\n",
    "        free_energy_data = self._free_energy(W, b, c, data_batch)\n",
    "        free_energy_model = self._free_energy(W, b, c, model_batch)\n",
    "\n",
    "        loss = jnp.mean(free_energy_data) - jnp.mean(free_energy_model)\n",
    "        aux_vars[\"key\"] = key\n",
    "\n",
    "        return loss, aux_vars\n",
    "\n",
    "    @staticmethod\n",
    "    def _free_energy(W, b, c, v_batch):\n",
    "        visible_term = jnp.dot(v_batch, b)\n",
    "        hidden_term  = jnp.sum(jax.nn.softplus(v_batch @ W + c), axis=-1)\n",
    "        free_energy = -visible_term - hidden_term\n",
    "        return free_energy\n",
    "\n",
    "    @staticmethod\n",
    "    def _gibbs_step(i, state, W, b, c, T=1.0):\n",
    "        v_batch, key = state\n",
    "        key, h_key, v_key = jax.random.split(key, 3)\n",
    "\n",
    "        h_logits = (v_batch @ W + c) / T\n",
    "        h_probs = jax.nn.sigmoid(h_logits)\n",
    "        h = jax.random.bernoulli(h_key, h_probs).astype(jnp.float32)\n",
    "\n",
    "        v_logits = (h @ W.T + b) / T\n",
    "        v_probs = jax.nn.sigmoid(v_logits)\n",
    "        v = jax.random.bernoulli(v_key, v_probs).astype(jnp.float32)\n",
    "\n",
    "        return v, key\n",
    "\n",
    "    @staticmethod\n",
    "    def _gibbs_sample(W, b, c, v_batch, rng, k=1, T=1.0):\n",
    "        body_fun = lambda i, state: RBM._gibbs_step(i, state, W, b, c, T)\n",
    "        v_final, key = jax.lax.fori_loop(0, k, body_fun, (v_batch, rng))\n",
    "        return v_final, key"
   ],
   "id": "ddb4813053e3d275",
   "outputs": [],
   "execution_count": 18
  },
  {
   "metadata": {
    "ExecuteTime": {
     "end_time": "2025-05-30T20:42:58.638076Z",
     "start_time": "2025-05-30T20:42:58.622256Z"
    }
   },
   "cell_type": "code",
   "source": [
    "@jax.jit\n",
    "def train_step_amp(\n",
    "        state: TrainState,\n",
    "        batch_dict: Dict[str, jnp.ndarray],\n",
    "        aux_vars: Dict[str, Any]) -> Tuple[TrainState, jnp.ndarray, Dict[str, Any]]:\n",
    "\n",
    "    if len(batch_dict) != 1:\n",
    "        raise ValueError(\"Batch dictionary must contain exactly one entry.\")\n",
    "\n",
    "    (key, batch), = batch_dict.items()\n",
    "    if set(key) != {'Z'}:\n",
    "        raise ValueError(f\"Batch key must consist only of 'Z', got: {key}\")\n",
    "\n",
    "    loss_fn = lambda params: state.apply_fn({'params': params}, batch, aux_vars)\n",
    "    value_and_grad_fn = jax.value_and_grad(loss_fn, has_aux=True)\n",
    "\n",
    "    (loss, aux_vars), grads = value_and_grad_fn(state.params)\n",
    "    new_state = state.apply_gradients(grads=grads)\n",
    "    return new_state, loss, aux_vars\n",
    "\n",
    "\n",
    "def train_amp_rbm(\n",
    "        state: TrainState,\n",
    "        loader: MultiBasisDataLoader,\n",
    "        num_epochs: int,\n",
    "        rng: PRNGKey) -> Tuple[TrainState, Dict[int, float], PRNGKey]:\n",
    "\n",
    "    metrics = {}\n",
    "    aux_vars = {\"key\": rng}\n",
    "\n",
    "    for epoch in range(num_epochs):\n",
    "        tot_loss = 0.0\n",
    "        batches = 0\n",
    "\n",
    "        for data_batch in loader:\n",
    "            state, loss, aux_vars = train_step_amp(state, data_batch, aux_vars)\n",
    "            tot_loss += loss\n",
    "            batches += 1\n",
    "\n",
    "        metrics[epoch] = {\"loss_amp\": float(tot_loss / batches)}\n",
    "        print(f\"Epoch {epoch+1}/{num_epochs} │ Loss: {metrics[epoch]['loss_amp']:.4f}\")\n",
    "\n",
    "    return state, metrics, aux_vars[\"key\"]"
   ],
   "id": "53fb81750a1d147e",
   "outputs": [],
   "execution_count": 19
  },
  {
   "metadata": {
    "ExecuteTime": {
     "end_time": "2025-05-30T20:42:59.421551Z",
     "start_time": "2025-05-30T20:42:59.211455Z"
    }
   },
   "cell_type": "code",
   "source": [
    "# ---- hyperparameters ----\n",
    "batch_size    = 6400\n",
    "visible_units = 10\n",
    "hidden_units  = 10\n",
    "k_steps       = 2\n",
    "lr            = 1e-2\n",
    "num_epochs    = 100\n",
    "chains        = 1000\n",
    "\n",
    "random_seed = PRNGKey(42)\n",
    "rng, init_key = jax.random.split(random_seed)\n",
    "\n",
    "# model initialization\n",
    "model_amp = RBM(n_visible=visible_units, n_hidden=hidden_units, k=k_steps, n_chains=chains)\n",
    "dummy_batch = jnp.zeros((batch_size, visible_units), dtype=jnp.float32)\n",
    "variables_amp = model_amp.init(init_key, dummy_batch, {\"key\": rng})\n",
    "\n",
    "optimizer_amp = optax.adam(learning_rate=lr)\n",
    "state_amp = TrainState.create(apply_fn=model_amp.apply, params=variables_amp[\"params\"], tx=optimizer_amp)"
   ],
   "id": "db4bb7abfcbb8ce2",
   "outputs": [],
   "execution_count": 20
  },
  {
   "metadata": {
    "ExecuteTime": {
     "end_time": "2025-05-30T20:43:12.105024Z",
     "start_time": "2025-05-30T20:43:00.432469Z"
    }
   },
   "cell_type": "code",
   "source": [
    "state_amp, metrics, rng = train_amp_rbm(\n",
    "    state_amp,\n",
    "    loader_amp,\n",
    "    num_epochs,\n",
    "    rng\n",
    ")"
   ],
   "id": "9381d1d90b59bbf5",
   "outputs": [
    {
     "name": "stdout",
     "output_type": "stream",
     "text": [
      "Epoch 1/100 │ Loss: -1.3918\n",
      "Epoch 2/100 │ Loss: -0.3476\n",
      "Epoch 3/100 │ Loss: -0.0493\n",
      "Epoch 4/100 │ Loss: -0.0952\n",
      "Epoch 5/100 │ Loss: -0.0903\n",
      "Epoch 6/100 │ Loss: -0.0890\n",
      "Epoch 7/100 │ Loss: -0.0777\n",
      "Epoch 8/100 │ Loss: -0.0559\n",
      "Epoch 9/100 │ Loss: -0.0526\n",
      "Epoch 10/100 │ Loss: -0.0552\n",
      "Epoch 11/100 │ Loss: -0.0441\n",
      "Epoch 12/100 │ Loss: -0.0470\n",
      "Epoch 13/100 │ Loss: -0.0270\n",
      "Epoch 14/100 │ Loss: -0.0265\n",
      "Epoch 15/100 │ Loss: -0.0299\n",
      "Epoch 16/100 │ Loss: -0.0300\n",
      "Epoch 17/100 │ Loss: -0.0183\n",
      "Epoch 18/100 │ Loss: -0.0250\n",
      "Epoch 19/100 │ Loss: -0.0157\n",
      "Epoch 20/100 │ Loss: -0.0219\n",
      "Epoch 21/100 │ Loss: -0.0223\n",
      "Epoch 22/100 │ Loss: -0.0088\n",
      "Epoch 23/100 │ Loss: -0.0067\n",
      "Epoch 24/100 │ Loss: -0.0129\n",
      "Epoch 25/100 │ Loss: -0.0175\n",
      "Epoch 26/100 │ Loss: -0.0081\n",
      "Epoch 27/100 │ Loss: -0.0106\n",
      "Epoch 28/100 │ Loss: -0.0023\n",
      "Epoch 29/100 │ Loss: -0.0108\n",
      "Epoch 30/100 │ Loss: 0.0043\n",
      "Epoch 31/100 │ Loss: -0.0133\n",
      "Epoch 32/100 │ Loss: -0.0013\n",
      "Epoch 33/100 │ Loss: 0.0050\n",
      "Epoch 34/100 │ Loss: -0.0127\n",
      "Epoch 35/100 │ Loss: -0.0094\n",
      "Epoch 36/100 │ Loss: 0.0062\n",
      "Epoch 37/100 │ Loss: -0.0061\n",
      "Epoch 38/100 │ Loss: -0.0031\n",
      "Epoch 39/100 │ Loss: 0.0017\n",
      "Epoch 40/100 │ Loss: 0.0055\n",
      "Epoch 41/100 │ Loss: 0.0059\n",
      "Epoch 42/100 │ Loss: -0.0031\n",
      "Epoch 43/100 │ Loss: -0.0029\n",
      "Epoch 44/100 │ Loss: 0.0043\n",
      "Epoch 45/100 │ Loss: 0.0028\n",
      "Epoch 46/100 │ Loss: 0.0033\n",
      "Epoch 47/100 │ Loss: 0.0077\n",
      "Epoch 48/100 │ Loss: 0.0012\n",
      "Epoch 49/100 │ Loss: 0.0078\n",
      "Epoch 50/100 │ Loss: 0.0017\n",
      "Epoch 51/100 │ Loss: 0.0050\n",
      "Epoch 52/100 │ Loss: 0.0082\n",
      "Epoch 53/100 │ Loss: -0.0132\n",
      "Epoch 54/100 │ Loss: 0.0077\n",
      "Epoch 55/100 │ Loss: 0.0111\n",
      "Epoch 56/100 │ Loss: -0.0004\n",
      "Epoch 57/100 │ Loss: 0.0007\n",
      "Epoch 58/100 │ Loss: 0.0097\n",
      "Epoch 59/100 │ Loss: 0.0148\n",
      "Epoch 60/100 │ Loss: 0.0022\n",
      "Epoch 61/100 │ Loss: 0.0039\n",
      "Epoch 62/100 │ Loss: 0.0115\n",
      "Epoch 63/100 │ Loss: -0.0016\n",
      "Epoch 64/100 │ Loss: 0.0193\n",
      "Epoch 65/100 │ Loss: -0.0021\n",
      "Epoch 66/100 │ Loss: 0.0059\n",
      "Epoch 67/100 │ Loss: 0.0047\n",
      "Epoch 68/100 │ Loss: 0.0222\n",
      "Epoch 69/100 │ Loss: 0.0163\n",
      "Epoch 70/100 │ Loss: 0.0061\n",
      "Epoch 71/100 │ Loss: 0.0007\n",
      "Epoch 72/100 │ Loss: 0.0066\n",
      "Epoch 73/100 │ Loss: 0.0164\n",
      "Epoch 74/100 │ Loss: -0.0053\n",
      "Epoch 75/100 │ Loss: 0.0112\n",
      "Epoch 76/100 │ Loss: 0.0112\n",
      "Epoch 77/100 │ Loss: 0.0027\n",
      "Epoch 78/100 │ Loss: 0.0091\n",
      "Epoch 79/100 │ Loss: 0.0023\n",
      "Epoch 80/100 │ Loss: 0.0100\n",
      "Epoch 81/100 │ Loss: 0.0196\n",
      "Epoch 82/100 │ Loss: -0.0046\n",
      "Epoch 83/100 │ Loss: 0.0105\n",
      "Epoch 84/100 │ Loss: 0.0103\n",
      "Epoch 85/100 │ Loss: 0.0127\n",
      "Epoch 86/100 │ Loss: 0.0020\n",
      "Epoch 87/100 │ Loss: 0.0065\n",
      "Epoch 88/100 │ Loss: 0.0094\n",
      "Epoch 89/100 │ Loss: 0.0075\n",
      "Epoch 90/100 │ Loss: 0.0029\n",
      "Epoch 91/100 │ Loss: 0.0105\n",
      "Epoch 92/100 │ Loss: 0.0122\n",
      "Epoch 93/100 │ Loss: 0.0177\n",
      "Epoch 94/100 │ Loss: -0.0049\n",
      "Epoch 95/100 │ Loss: 0.0155\n",
      "Epoch 96/100 │ Loss: 0.0051\n",
      "Epoch 97/100 │ Loss: 0.0006\n",
      "Epoch 98/100 │ Loss: 0.0164\n",
      "Epoch 99/100 │ Loss: 0.0090\n",
      "Epoch 100/100 │ Loss: 0.0067\n"
     ]
    }
   ],
   "execution_count": 21
  },
  {
   "metadata": {
    "ExecuteTime": {
     "end_time": "2025-05-30T20:43:13.616216Z",
     "start_time": "2025-05-30T20:43:13.532229Z"
    }
   },
   "cell_type": "code",
   "source": [
    "plt.plot([metrics[epoch]['loss_amp'] for epoch in metrics])\n",
    "plt.xlabel(\"Epoch\")\n",
    "plt.ylabel(\"Free Energy Loss\")"
   ],
   "id": "719dc5f33b325493",
   "outputs": [
    {
     "data": {
      "text/plain": [
       "Text(0, 0.5, 'Free Energy Loss')"
      ]
     },
     "execution_count": 22,
     "metadata": {},
     "output_type": "execute_result"
    },
    {
     "data": {
      "text/plain": [
       "<Figure size 640x480 with 1 Axes>"
      ],
      "image/png": "[encoded data removed]"
     },
     "metadata": {},
     "output_type": "display_data"
    }
   ],
   "execution_count": 22
  },
  {
   "metadata": {
    "ExecuteTime": {
     "end_time": "2025-05-30T21:01:19.270978Z",
     "start_time": "2025-05-30T21:01:19.249077Z"
    }
   },
   "cell_type": "code",
   "source": [
    "class PairPhaseRBM(nn.Module):\n",
    "    n_visible: int\n",
    "    n_hidden: int\n",
    "\n",
    "    def setup(self):\n",
    "        zeros = lambda shape: jnp.zeros(shape, dtype=jnp.float32)\n",
    "\n",
    "        # Amplitude RBM (frozen parameters)\n",
    "        self.W_amp = self.variable('amp_state', 'W_amp', zeros, (self.n_visible, self.n_hidden))\n",
    "        self.b_amp = self.variable('amp_state', 'b_amp', zeros, (self.n_visible,))\n",
    "        self.c_amp = self.variable('amp_state', 'c_amp', zeros, (self.n_hidden,))\n",
    "\n",
    "        # Phase RBM (trainable parameters)\n",
    "        self.W_pha = self.param('W_pha', nn.initializers.normal(0.01), (self.n_visible, self.n_hidden))\n",
    "        self.b_pha = self.param('b_pha', nn.initializers.zeros, (self.n_visible,))\n",
    "        self.c_pha = self.param('c_pha', nn.initializers.zeros, (self.n_hidden,))\n",
    "\n",
    "        # Rotation matrices\n",
    "        sqrt2 = jnp.sqrt(2.0)\n",
    "        self.rotators = {\n",
    "            'X': jnp.array([[1, 1], [1, -1]], dtype=jnp.complex64) / sqrt2,\n",
    "            'Y': jnp.array([[1, -1j], [1, 1j]], dtype=jnp.complex64) / sqrt2,\n",
    "        }\n",
    "\n",
    "    @staticmethod\n",
    "    def _free_energy(W, b, c, v):\n",
    "        visible_term = jnp.dot(v, b)\n",
    "        hidden_term = jnp.sum(jax.nn.softplus(jnp.dot(v, W) + c), axis=-1)\n",
    "        return -visible_term - hidden_term\n",
    "\n",
    "    @staticmethod\n",
    "    def _free_energy_grad(W, b, c, v):\n",
    "        pre = jnp.dot(v, W) + c\n",
    "        sig = jax.nn.sigmoid(pre)\n",
    "        dW = jnp.einsum('bi,bj->bij', v, sig)\n",
    "        return jnp.concatenate([dW.reshape(v.shape[0], -1), v, sig], axis=1)\n",
    "\n",
    "    def rotated_log_psi_and_grad(self, sigma_b, basis):\n",
    "        W_amp, b_amp, c_amp = self.W_amp.value, self.b_amp.value, self.c_amp.value\n",
    "        W_pha, b_pha, c_pha = self.W_pha, self.b_pha, self.c_pha\n",
    "\n",
    "        B, n = sigma_b.shape\n",
    "        non_z = [i for i, p in enumerate(basis) if p != 'Z']\n",
    "        if len(non_z) != 2:\n",
    "            raise ValueError(\"Basis must have exactly two non-Z qubits.\")\n",
    "        j, k = non_z\n",
    "\n",
    "        Rj, Rk = self.rotators[basis[j]], self.rotators[basis[k]]\n",
    "        U = jnp.kron(Rj, Rk)\n",
    "\n",
    "        combos = jnp.array([[0., 0.], [0., 1.], [1., 0.], [1., 1.]], dtype=sigma_b.dtype)\n",
    "        tiled = jnp.tile(sigma_b[:, None, :], (1, 4, 1))\n",
    "        modified = tiled.at[:, :, [j, k]].set(combos[None, :, :])\n",
    "        flat = modified.reshape(B * 4, n)\n",
    "\n",
    "        F_amp = self._free_energy(W_amp, b_amp, c_amp, flat)\n",
    "        F_pha = self._free_energy(W_pha, b_pha, c_pha, flat)\n",
    "\n",
    "        log_mag = (-0.5 * F_amp).reshape(B, 4)\n",
    "        angle = (-0.5 * F_pha).reshape(B, 4)\n",
    "        M = jnp.max(log_mag, axis=1, keepdims=True)\n",
    "        scaled = jnp.exp(log_mag - M + 1j * angle)\n",
    "\n",
    "        idx = (sigma_b[:, j].astype(int) << 1) | sigma_b[:, k].astype(int)\n",
    "        Uc = U[:, idx].T\n",
    "        psi_rot = jnp.sum(Uc * scaled, axis=1)\n",
    "\n",
    "        grad_F_amp = self._free_energy_grad(W_amp, b_amp, c_amp, flat).reshape(B, 4, -1)\n",
    "        grad_F_pha = self._free_energy_grad(W_pha, b_pha, c_pha, flat).reshape(B, 4, -1)\n",
    "\n",
    "        grad_logpsi = -0.5 * grad_F_amp + -0.5j * grad_F_pha\n",
    "        psi_weighted_grad = jnp.einsum(\"bij,bi->bj\", grad_logpsi, Uc * scaled)\n",
    "        psi_ratio = psi_weighted_grad / (psi_rot[:, None] + 1e-12)\n",
    "\n",
    "        split = grad_F_amp.shape[-1]\n",
    "        grad_lambda = psi_ratio[:, :split].real\n",
    "        grad_mu = -psi_ratio[:, split:].imag\n",
    "\n",
    "        return grad_lambda, grad_mu, jnp.log(jnp.abs(psi_rot) + 1e-12), M.squeeze()\n",
    "\n",
    "    def __call__(self, data_batch_dict):\n",
    "        total_loss = 0.\n",
    "        for basis, sigma_b in data_batch_dict.items():\n",
    "            _, _, log_amp, M = self.rotated_log_psi_and_grad(sigma_b, basis)\n",
    "            total_loss += -2. * jnp.mean(log_amp + M)\n",
    "        return total_loss\n"
   ],
   "id": "d0e5d5a450066872",
   "outputs": [],
   "execution_count": 48
  },
  {
   "metadata": {
    "ExecuteTime": {
     "end_time": "2025-05-30T21:01:21.157978Z",
     "start_time": "2025-05-30T21:01:21.148005Z"
    }
   },
   "cell_type": "code",
   "source": [
    "\n",
    "\n",
    "@jax.jit\n",
    "def train_step_pha(state: TrainState, amp_vars: Dict[str, jnp.ndarray], batch_dict: Dict[str, jnp.ndarray]) -> Tuple[TrainState, jnp.ndarray]:\n",
    "    model_var_dict = { 'params': state.params, 'amp_state': amp_vars }\n",
    "    def loss_fn(params):\n",
    "        model_var_dict['params'] = params\n",
    "        return state.apply_fn(model_var_dict, batch_dict)\n",
    "\n",
    "    grads = {}\n",
    "    loss = 0.0\n",
    "    for basis, sigma_b in batch_dict.items():\n",
    "        grad_lambda, grad_mu, log_amp, M = state.apply_fn(model_var_dict, method=PairPhaseRBM.rotated_log_psi_and_grad, sigma_b=sigma_b, basis=basis)\n",
    "        loss += -2.0 * jnp.mean(log_amp + M)\n",
    "\n",
    "        flat_mu = jnp.mean(grad_mu, axis=0)\n",
    "\n",
    "        W_shape = state.params['W_pha'].shape\n",
    "        b_shape = state.params['b_pha'].shape\n",
    "        c_shape = state.params['c_pha'].shape\n",
    "\n",
    "        import numpy as np\n",
    "        nW = np.prod(W_shape)\n",
    "        nb = np.prod(b_shape)\n",
    "        nc = np.prod(c_shape)\n",
    "\n",
    "        W_mu = flat_mu[:nW].reshape(W_shape)\n",
    "        b_mu = flat_mu[nW:nW+nb].reshape(b_shape)\n",
    "        c_mu = flat_mu[nW+nb:].reshape(c_shape)\n",
    "\n",
    "        grads_basis = {\n",
    "            'W_pha': W_mu,\n",
    "            'b_pha': b_mu,\n",
    "            'c_pha': c_mu\n",
    "        }\n",
    "\n",
    "        grads = jax.tree_util.tree_map(lambda g1, g2: g1 + g2, grads, grads_basis) if grads else grads_basis\n",
    "\n",
    "    grads = jax.tree_util.tree_map(lambda g: g / len(batch_dict), grads)\n",
    "    new_state = state.apply_gradients(grads=grads)\n",
    "    return new_state, loss\n",
    "\n",
    "\n",
    "def train_phase_rbm(state_pha: TrainState, amp_vars: Dict[str, jnp.ndarray], loader: MultiBasisDataLoader, num_epochs: int) -> Tuple[TrainState, Dict[int, float]]:\n",
    "    metrics = {}\n",
    "    for epoch in range(num_epochs):\n",
    "        tot_loss = 0.0\n",
    "        batches = 0\n",
    "        for batch_dict in loader:\n",
    "            state_pha, loss = train_step_pha(state_pha, amp_vars, batch_dict)\n",
    "            tot_loss += loss\n",
    "            batches += 1\n",
    "        metrics[epoch] = {\"loss_pha\": float(tot_loss / batches)}\n",
    "        print(f\"Epoch {epoch+1}/{num_epochs} │ Loss: {metrics[epoch]['loss_pha']:.4f}\")\n",
    "    return state_pha, metrics"
   ],
   "id": "3ab8c5423de20d4c",
   "outputs": [],
   "execution_count": 49
  },
  {
   "metadata": {
    "ExecuteTime": {
     "end_time": "2025-05-30T21:01:22.059960Z",
     "start_time": "2025-05-30T21:01:22.055343Z"
    }
   },
   "cell_type": "code",
   "source": [
    "import optax, jax, jax.numpy as jnp\n",
    "from typing import Any, NamedTuple\n",
    "\n",
    "class NGDState(NamedTuple):\n",
    "    pass  # No internal state for now\n",
    "\n",
    "def natgrad_diag(damping: float = 1e-3) -> optax.GradientTransformation:\n",
    "    def init_fn(params):\n",
    "        return NGDState()\n",
    "\n",
    "    def update_fn(updates, state, params=None):\n",
    "        # Diagonal Fisher = square of the gradients\n",
    "        nat_updates = jax.tree_map(\n",
    "            lambda g: g / (jnp.square(g) + damping),\n",
    "            updates\n",
    "        )\n",
    "        return nat_updates, state\n",
    "\n",
    "    return optax.GradientTransformation(init_fn, update_fn)"
   ],
   "id": "f5f822a0b52ea674",
   "outputs": [],
   "execution_count": 50
  },
  {
   "metadata": {
    "ExecuteTime": {
     "end_time": "2025-05-30T21:01:23.133128Z",
     "start_time": "2025-05-30T21:01:23.036030Z"
    }
   },
   "cell_type": "code",
   "source": [
    "batch_size    = 6400\n",
    "lr            = 1e-3\n",
    "num_epochs    = 50 # will be increased but currently no conclusive downwards trend\n",
    "\n",
    "\n",
    "model_pha = PairPhaseRBM(n_visible=visible_units, n_hidden=hidden_units)\n",
    "dummy_dict = next(iter(loader_pha))\n",
    "variables_pha  = model_pha.init(rng, dummy_dict)\n",
    "\n",
    "tx = optax.chain(\n",
    "    natgrad_diag(damping=1e-3),\n",
    "    optax.scale(-lr),  # standard gradient descent on natural step\n",
    ")\n",
    "\n",
    "state_pha = TrainState.create(\n",
    "    apply_fn=model_pha.apply,\n",
    "    params=variables_pha['params'],\n",
    "    tx=tx,\n",
    ")\n",
    "#optimizer_pha = optax.adam(learning_rate=lr)\n",
    "#state_pha = TrainState.create(apply_fn=model_pha.apply, params=variables_pha['params'], tx=optimizer_pha)\n",
    "\n",
    "amp_vars = {\n",
    "    'W_amp': state_amp.params['W'],\n",
    "    'b_amp': state_amp.params['b'],\n",
    "    'c_amp': state_amp.params['c'],\n",
    "}\n",
    "# These should be non-zero if amp RBM training was successful."
   ],
   "id": "320bf09a9b931e6f",
   "outputs": [],
   "execution_count": 51
  },
  {
   "metadata": {
    "ExecuteTime": {
     "end_time": "2025-05-30T21:01:24.152462Z",
     "start_time": "2025-05-30T21:01:24.079146Z"
    }
   },
   "cell_type": "code",
   "source": [
    "state_pha, metrics_pha = train_phase_rbm(\n",
    "    state_pha=state_pha,\n",
    "    amp_vars=amp_vars,\n",
    "    loader=loader_pha,\n",
    "    num_epochs=num_epochs\n",
    ")"
   ],
   "id": "fdd215139dc99aa",
   "outputs": [
    {
     "ename": "TypeError",
     "evalue": "cannot reshape array of shape (0,) (size 0) into shape (10, 10) (size 100)",
     "output_type": "error",
     "traceback": [
      "\u001B[0;31m---------------------------------------------------------------------------\u001B[0m",
      "\u001B[0;31mTypeError\u001B[0m                                 Traceback (most recent call last)",
      "Cell \u001B[0;32mIn[52], line 1\u001B[0m\n\u001B[0;32m----> 1\u001B[0m state_pha, metrics_pha \u001B[38;5;241m=\u001B[39m \u001B[43mtrain_phase_rbm\u001B[49m\u001B[43m(\u001B[49m\n\u001B[1;32m      2\u001B[0m \u001B[43m    \u001B[49m\u001B[43mstate_pha\u001B[49m\u001B[38;5;241;43m=\u001B[39;49m\u001B[43mstate_pha\u001B[49m\u001B[43m,\u001B[49m\n\u001B[1;32m      3\u001B[0m \u001B[43m    \u001B[49m\u001B[43mamp_vars\u001B[49m\u001B[38;5;241;43m=\u001B[39;49m\u001B[43mamp_vars\u001B[49m\u001B[43m,\u001B[49m\n\u001B[1;32m      4\u001B[0m \u001B[43m    \u001B[49m\u001B[43mloader\u001B[49m\u001B[38;5;241;43m=\u001B[39;49m\u001B[43mloader_pha\u001B[49m\u001B[43m,\u001B[49m\n\u001B[1;32m      5\u001B[0m \u001B[43m    \u001B[49m\u001B[43mnum_epochs\u001B[49m\u001B[38;5;241;43m=\u001B[39;49m\u001B[43mnum_epochs\u001B[49m\n\u001B[1;32m      6\u001B[0m \u001B[43m)\u001B[49m\n",
      "Cell \u001B[0;32mIn[49], line 48\u001B[0m, in \u001B[0;36mtrain_phase_rbm\u001B[0;34m(state_pha, amp_vars, loader, num_epochs)\u001B[0m\n\u001B[1;32m     46\u001B[0m batches \u001B[38;5;241m=\u001B[39m \u001B[38;5;241m0\u001B[39m\n\u001B[1;32m     47\u001B[0m \u001B[38;5;28;01mfor\u001B[39;00m batch_dict \u001B[38;5;129;01min\u001B[39;00m loader:\n\u001B[0;32m---> 48\u001B[0m     state_pha, loss \u001B[38;5;241m=\u001B[39m \u001B[43mtrain_step_pha\u001B[49m\u001B[43m(\u001B[49m\u001B[43mstate_pha\u001B[49m\u001B[43m,\u001B[49m\u001B[43m \u001B[49m\u001B[43mamp_vars\u001B[49m\u001B[43m,\u001B[49m\u001B[43m \u001B[49m\u001B[43mbatch_dict\u001B[49m\u001B[43m)\u001B[49m\n\u001B[1;32m     49\u001B[0m     tot_loss \u001B[38;5;241m+\u001B[39m\u001B[38;5;241m=\u001B[39m loss\n\u001B[1;32m     50\u001B[0m     batches \u001B[38;5;241m+\u001B[39m\u001B[38;5;241m=\u001B[39m \u001B[38;5;241m1\u001B[39m\n",
      "    \u001B[0;31m[... skipping hidden 11 frame]\u001B[0m\n",
      "Cell \u001B[0;32mIn[49], line 25\u001B[0m, in \u001B[0;36mtrain_step_pha\u001B[0;34m(state, amp_vars, batch_dict)\u001B[0m\n\u001B[1;32m     22\u001B[0m nb \u001B[38;5;241m=\u001B[39m np\u001B[38;5;241m.\u001B[39mprod(b_shape)\n\u001B[1;32m     23\u001B[0m nc \u001B[38;5;241m=\u001B[39m np\u001B[38;5;241m.\u001B[39mprod(c_shape)\n\u001B[0;32m---> 25\u001B[0m W_mu \u001B[38;5;241m=\u001B[39m \u001B[43mflat_mu\u001B[49m\u001B[43m[\u001B[49m\u001B[43m:\u001B[49m\u001B[43mnW\u001B[49m\u001B[43m]\u001B[49m\u001B[38;5;241;43m.\u001B[39;49m\u001B[43mreshape\u001B[49m\u001B[43m(\u001B[49m\u001B[43mW_shape\u001B[49m\u001B[43m)\u001B[49m\n\u001B[1;32m     26\u001B[0m b_mu \u001B[38;5;241m=\u001B[39m flat_mu[nW:nW\u001B[38;5;241m+\u001B[39mnb]\u001B[38;5;241m.\u001B[39mreshape(b_shape)\n\u001B[1;32m     27\u001B[0m c_mu \u001B[38;5;241m=\u001B[39m flat_mu[nW\u001B[38;5;241m+\u001B[39mnb:]\u001B[38;5;241m.\u001B[39mreshape(c_shape)\n",
      "    \u001B[0;31m[... skipping hidden 2 frame]\u001B[0m\n",
      "File \u001B[0;32m~/miniforge3/envs/dlnn2/lib/python3.9/site-packages/jax/_src/numpy/array_methods.py:137\u001B[0m, in \u001B[0;36m_compute_newshape\u001B[0;34m(a, newshape)\u001B[0m\n\u001B[1;32m    134\u001B[0m \u001B[38;5;28;01melse\u001B[39;00m:\n\u001B[1;32m    135\u001B[0m   \u001B[38;5;28;01mif\u001B[39;00m (\u001B[38;5;28mall\u001B[39m(\u001B[38;5;28misinstance\u001B[39m(d, \u001B[38;5;28mint\u001B[39m) \u001B[38;5;28;01mfor\u001B[39;00m d \u001B[38;5;129;01min\u001B[39;00m (\u001B[38;5;241m*\u001B[39mnp\u001B[38;5;241m.\u001B[39mshape(a), \u001B[38;5;241m*\u001B[39mnewshape)) \u001B[38;5;129;01mand\u001B[39;00m\n\u001B[1;32m    136\u001B[0m       np\u001B[38;5;241m.\u001B[39msize(a) \u001B[38;5;241m!=\u001B[39m math\u001B[38;5;241m.\u001B[39mprod(newshape)):\n\u001B[0;32m--> 137\u001B[0m     \u001B[38;5;28;01mraise\u001B[39;00m \u001B[38;5;167;01mTypeError\u001B[39;00m(\u001B[38;5;124mf\u001B[39m\u001B[38;5;124m\"\u001B[39m\u001B[38;5;124mcannot reshape array of shape \u001B[39m\u001B[38;5;132;01m{\u001B[39;00mnp\u001B[38;5;241m.\u001B[39mshape(a)\u001B[38;5;132;01m}\u001B[39;00m\u001B[38;5;124m (size \u001B[39m\u001B[38;5;132;01m{\u001B[39;00mnp\u001B[38;5;241m.\u001B[39msize(a)\u001B[38;5;132;01m}\u001B[39;00m\u001B[38;5;124m) \u001B[39m\u001B[38;5;124m\"\u001B[39m\n\u001B[1;32m    138\u001B[0m                     \u001B[38;5;124mf\u001B[39m\u001B[38;5;124m\"\u001B[39m\u001B[38;5;124minto shape \u001B[39m\u001B[38;5;132;01m{\u001B[39;00morig_newshape\u001B[38;5;132;01m}\u001B[39;00m\u001B[38;5;124m (size \u001B[39m\u001B[38;5;132;01m{\u001B[39;00mmath\u001B[38;5;241m.\u001B[39mprod(newshape)\u001B[38;5;132;01m}\u001B[39;00m\u001B[38;5;124m)\u001B[39m\u001B[38;5;124m\"\u001B[39m)\n\u001B[1;32m    139\u001B[0m \u001B[38;5;28;01mreturn\u001B[39;00m \u001B[38;5;28mtuple\u001B[39m(\u001B[38;5;241m-\u001B[39mcore\u001B[38;5;241m.\u001B[39mdivide_shape_sizes(np\u001B[38;5;241m.\u001B[39mshape(a), newshape)\n\u001B[1;32m    140\u001B[0m              \u001B[38;5;28;01mif\u001B[39;00m core\u001B[38;5;241m.\u001B[39mdefinitely_equal(d, \u001B[38;5;241m-\u001B[39m\u001B[38;5;241m1\u001B[39m) \u001B[38;5;28;01melse\u001B[39;00m d \u001B[38;5;28;01mfor\u001B[39;00m d \u001B[38;5;129;01min\u001B[39;00m newshape)\n",
      "\u001B[0;31mTypeError\u001B[0m: cannot reshape array of shape (0,) (size 0) into shape (10, 10) (size 100)"
     ]
    }
   ],
   "execution_count": 52
  },
  {
   "metadata": {
    "ExecuteTime": {
     "end_time": "2025-05-30T20:46:07.725735Z",
     "start_time": "2025-05-30T20:46:07.647116Z"
    }
   },
   "cell_type": "code",
   "source": [
    "plt.plot([metrics_pha[e]['loss_pha'] for e in metrics_pha])\n",
    "plt.xlabel(\"Epoch\")\n",
    "plt.ylabel(\"Phase Loss (NLL)\")\n",
    "plt.title(\"Phase RBM Training Loss\")\n",
    "plt.show()"
   ],
   "id": "1f641330121a8ac8",
   "outputs": [
    {
     "data": {
      "text/plain": [
       "<Figure size 640x480 with 1 Axes>"
      ],
      "image/png": "[encoded data removed]"
     },
     "metadata": {},
     "output_type": "display_data"
    }
   ],
   "execution_count": 32
  }
 ],
 "metadata": {
  "kernelspec": {
   "display_name": "Python 3",
   "language": "python",
   "name": "python3"
  },
  "language_info": {
   "codemirror_mode": {
    "name": "ipython",
    "version": 2
   },
   "file_extension": ".py",
   "mimetype": "text/x-python",
   "name": "python",
   "nbconvert_exporter": "python",
   "pygments_lexer": "ipython2",
   "version": "2.7.6"
  }
 },
 "nbformat": 4,
 "nbformat_minor": 5
}
