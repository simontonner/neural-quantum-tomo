{
 "cells": [
  {
   "cell_type": "code",
   "id": "initial_id",
   "metadata": {
    "collapsed": true,
    "ExecuteTime": {
     "end_time": "2025-06-01T14:35:12.093379Z",
     "start_time": "2025-06-01T14:35:11.276882Z"
    }
   },
   "source": [
    "import re\n",
    "from pathlib import Path\n",
    "\n",
    "import numpy as np\n",
    "\n",
    "import jax\n",
    "import jax.lax\n",
    "from jax.random import PRNGKey\n",
    "import jax.numpy as jnp\n",
    "import optax\n",
    "from flax.training.train_state import TrainState\n",
    "from flax import linen as nn\n",
    "\n",
    "import matplotlib.pyplot as plt\n",
    "\n",
    "from flax import struct\n",
    "from flax.training.train_state import TrainState\n",
    "from flax.core import FrozenDict\n",
    "from typing import Any, Dict, Tuple\n",
    "\n",
    "import jax, jax.numpy as jnp\n",
    "from jax.random import PRNGKey\n",
    "from flax import linen as nn\n",
    "from typing import Tuple\n",
    "\n",
    "\n",
    "from typing import Optional, Tuple, Dict, Any, Sequence\n",
    "\n",
    "\n",
    "data_dir = \"./data\"\n",
    "print(f\"Data resides in        : {data_dir}\")"
   ],
   "outputs": [
    {
     "name": "stdout",
     "output_type": "stream",
     "text": [
      "Data resides in        : ./data\n"
     ]
    }
   ],
   "execution_count": 1
  },
  {
   "metadata": {
    "ExecuteTime": {
     "end_time": "2025-06-01T14:35:12.103923Z",
     "start_time": "2025-06-01T14:35:12.097381Z"
    }
   },
   "cell_type": "code",
   "source": [
    "class MultiBasisDataLoader:\n",
    "    def __init__(self, data_dict: dict[str, jnp.ndarray],\n",
    "                 batch_size: int = 128,\n",
    "                 shuffle: bool = True,\n",
    "                 drop_last: bool = False,\n",
    "                 seed: int = 0):\n",
    "        lengths = [len(v) for v in data_dict.values()]\n",
    "        if len(set(lengths)) != 1:\n",
    "            raise ValueError(f\"All arrays must have the same length, got: {lengths}\")\n",
    "\n",
    "        self.data = data_dict\n",
    "        self.n = lengths[0]\n",
    "        self.bs = batch_size\n",
    "        self.shuffle = shuffle\n",
    "        self.drop_last = drop_last\n",
    "        self.rng = np.random.default_rng(seed)\n",
    "\n",
    "        self.idx_slices = [\n",
    "            (i, i + batch_size)\n",
    "            for i in range(0, self.n, batch_size)\n",
    "            if not drop_last or i + batch_size <= self.n\n",
    "        ]\n",
    "\n",
    "    def __iter__(self):\n",
    "        self.order = np.arange(self.n)\n",
    "        if self.shuffle:\n",
    "            self.rng.shuffle(self.order)\n",
    "        self.slice_idx = 0\n",
    "        return self\n",
    "\n",
    "    def __next__(self):\n",
    "        if self.slice_idx >= len(self.idx_slices):\n",
    "            raise StopIteration\n",
    "        s, e = self.idx_slices[self.slice_idx]\n",
    "        self.slice_idx += 1\n",
    "        return {k: v[self.order[s:e]] for k, v in self.data.items()}\n",
    "\n",
    "\n",
    "def load_measurements(folder: str, file_pattern: str = \"w_*.txt\") -> dict[str, jnp.ndarray]:\n",
    "    out: dict[str, jnp.ndarray] = {}\n",
    "\n",
    "    for fp in Path(folder).glob(file_pattern):\n",
    "        basis = fp.stem.split(\"_\")[2]\n",
    "\n",
    "        bitstrings = []\n",
    "        with fp.open() as f:\n",
    "            for line in f:\n",
    "                bitstring = np.fromiter((c.islower() for c in line.strip()), dtype=np.float32)\n",
    "                bitstrings.append(bitstring)\n",
    "\n",
    "        arr = jnp.asarray(np.stack(bitstrings))\n",
    "        if basis in out:\n",
    "            out[basis] = jnp.concatenate([out[basis], arr], axis=0)\n",
    "        else:\n",
    "            out[basis] = arr\n",
    "\n",
    "    return out"
   ],
   "id": "78de40dc6fd42395",
   "outputs": [],
   "execution_count": 2
  },
  {
   "metadata": {
    "ExecuteTime": {
     "end_time": "2025-06-01T14:35:14.879987Z",
     "start_time": "2025-06-01T14:35:14.641852Z"
    }
   },
   "cell_type": "code",
   "source": [
    "data_dict = load_measurements(\"data/\", \"w_*.txt\")\n",
    "\n",
    "keys_amp = [k for k in data_dict if re.fullmatch(r\"^Z+$\", k)]\n",
    "keys_pha = [k for k in data_dict if re.fullmatch(r\"^(?!Z+$).*\", k)]\n",
    "dict_amp = {k: data_dict[k] for k in keys_amp}\n",
    "dict_pha = {k: data_dict[k] for k in keys_pha}\n",
    "\n",
    "loader_pha = MultiBasisDataLoader(dict_pha, batch_size=128)"
   ],
   "id": "d6edc336135bc877",
   "outputs": [],
   "execution_count": 3
  },
  {
   "metadata": {
    "ExecuteTime": {
     "end_time": "2025-06-01T14:35:15.787260Z",
     "start_time": "2025-06-01T14:35:15.776575Z"
    }
   },
   "cell_type": "code",
   "source": [
    "class RBM(nn.Module):\n",
    "    n_visible: int\n",
    "    n_hidden: int\n",
    "    k: int = 1\n",
    "    T: float = 1.0\n",
    "\n",
    "    def setup(self):\n",
    "        self.W = self.param(\"W\", nn.initializers.normal(0.01), (self.n_visible, self.n_hidden))\n",
    "        self.b = self.param(\"b\", nn.initializers.zeros, (self.n_visible,))\n",
    "        self.c = self.param(\"c\", nn.initializers.zeros, (self.n_hidden,))\n",
    "\n",
    "    def __call__(self, data: jnp.ndarray, aux_vars: Dict[str, Any]) -> Tuple[jnp.ndarray, Dict[str, Any]]:\n",
    "        gibbs_step_fn = lambda i, s: self._gibbs_step(s, self.W, self.b, self.c, self.T)\n",
    "        gibbs_chain, key = jax.lax.fori_loop(0, self.k, gibbs_step_fn, (aux_vars[\"gibbs_chain\"], aux_vars[\"key\"]))\n",
    "        gibbs_chain = jax.lax.stop_gradient(gibbs_chain) # cut off gradients after Gibbs sampling\n",
    "\n",
    "        loss = jnp.mean(self._free_energy(data)) - jnp.mean(self._free_energy(gibbs_chain))\n",
    "        return loss, {\"gibbs_chain\": gibbs_chain, \"key\": key}\n",
    "\n",
    "    def _free_energy(self, v):\n",
    "        return -(v @ self.b) - jnp.sum(jax.nn.softplus(v @ self.W + self.c), -1)\n",
    "\n",
    "    @staticmethod\n",
    "    def _gibbs_step(state, W, b, c, T):\n",
    "        v, key = state\n",
    "        key, h_key, v_key = jax.random.split(key, 3)\n",
    "        h = jax.random.bernoulli(h_key, jax.nn.sigmoid((v @ W + c)/T)).astype(jnp.float32)\n",
    "        v = jax.random.bernoulli(v_key, jax.nn.sigmoid((h @ W.T + b)/T)).astype(jnp.float32)\n",
    "        return v, key\n",
    "\n",
    "    @nn.nowrap\n",
    "    def generate(self, n_samples: int, T_schedule: jnp.ndarray, key: PRNGKey) -> jnp.ndarray:\n",
    "        key, key_init = jax.random.split(key, 2)\n",
    "        v = jax.random.bernoulli(key_init, p=0.5, shape=(n_samples, self.n_visible)).astype(jnp.float32)\n",
    "\n",
    "        anneal_fn = lambda i, s: self._gibbs_step(s, W=self.W, b=self.b, c=self.c, T=T_schedule[i])\n",
    "        v_final, _ = jax.lax.fori_loop(0, len(T_schedule), anneal_fn, (v, key))\n",
    "        return v_final"
   ],
   "id": "3da1a7e002764eb2",
   "outputs": [],
   "execution_count": 4
  },
  {
   "metadata": {
    "ExecuteTime": {
     "end_time": "2025-06-01T14:35:17.310655Z",
     "start_time": "2025-06-01T14:35:17.303976Z"
    }
   },
   "cell_type": "code",
   "source": [
    "@jax.jit\n",
    "def train_step_amp(\n",
    "        state: TrainState,\n",
    "        batch_dict: Dict[str, jnp.ndarray],\n",
    "        gibbs_chain: jnp.ndarray,\n",
    "        key: PRNGKey) -> Tuple[TrainState, jnp.ndarray, jnp.ndarray, PRNGKey]:\n",
    "\n",
    "    if len(batch_dict) != 1:\n",
    "        raise ValueError(\"Batch dictionary must contain exactly one entry.\")\n",
    "\n",
    "    (basis_key, batch), = batch_dict.items()\n",
    "    if set(basis_key) != {'Z'}:\n",
    "        raise ValueError(f\"Batch key must consist only of 'Z', got: {basis_key}\")\n",
    "\n",
    "    aux_vars = {\"gibbs_chain\": gibbs_chain, \"key\": key}\n",
    "    loss_fn = lambda params: state.apply_fn({'params': params}, batch, aux_vars)\n",
    "    value_and_grad_fn = jax.value_and_grad(loss_fn, has_aux=True)\n",
    "\n",
    "    (loss, aux_vars), grads = value_and_grad_fn(state.params)\n",
    "    state = state.apply_gradients(grads=grads)\n",
    "    return state, loss, aux_vars[\"gibbs_chain\"], aux_vars[\"key\"]\n",
    "\n",
    "def train_amp_rbm(\n",
    "        state: TrainState,\n",
    "        loader: MultiBasisDataLoader,\n",
    "        gibbs_chain: jnp.ndarray,\n",
    "        num_epochs: int,\n",
    "        key: PRNGKey) -> Tuple[TrainState, Dict[int, float]]:\n",
    "\n",
    "    metrics = {}\n",
    "\n",
    "    for epoch in range(num_epochs):\n",
    "        tot_loss = 0.0\n",
    "        batches = 0\n",
    "\n",
    "        for batch_dict in loader:\n",
    "            state, loss, gibbs_chain, key = train_step_amp(state, batch_dict, gibbs_chain, key)\n",
    "            tot_loss += loss\n",
    "            batches += 1\n",
    "\n",
    "        metrics[epoch] = {\"loss_amp\": float(tot_loss / batches)}\n",
    "        print(f\"Epoch {epoch+1}/{num_epochs} │ Loss: {metrics[epoch]['loss_amp']:.4f}\")\n",
    "\n",
    "    return state, metrics"
   ],
   "id": "ee6baaf157159ffd",
   "outputs": [],
   "execution_count": 5
  },
  {
   "metadata": {
    "ExecuteTime": {
     "end_time": "2025-06-01T15:10:22.833977Z",
     "start_time": "2025-06-01T15:10:22.683567Z"
    }
   },
   "cell_type": "code",
   "source": [
    "# ---- hyperparameters ----\n",
    "batch_size    = 64\n",
    "visible_units = 10\n",
    "hidden_units  = visible_units * 2\n",
    "k_steps       = 100\n",
    "lr            = 1e-2\n",
    "num_epochs    = 200\n",
    "chains        = batch_size\n",
    "\n",
    "key_seed = PRNGKey(42)\n",
    "key, key_params, key_chains, key_dummy = jax.random.split(key_seed, 4)\n",
    "\n",
    "model_amp = RBM(visible_units, hidden_units, k=k_steps)\n",
    "batch_dummy = jnp.zeros((batch_size, visible_units), dtype=jnp.float32)\n",
    "aux_vars_dummy = {\"gibbs_chain\": jnp.zeros((batch_size, visible_units), dtype=jnp.float32), \"key\": key_dummy}\n",
    "variables_amp = model_amp.init({\"params\": key_params}, batch_dummy, aux_vars_dummy)\n",
    "\n",
    "loader_amp = MultiBasisDataLoader(dict_amp, batch_size=batch_size)\n",
    "\n",
    "optimizer_amp = optax.adam(learning_rate=lr)\n",
    "state_amp = TrainState.create(apply_fn=model_amp.apply, params=variables_amp[\"params\"], tx=optimizer_amp)\n",
    "gibbs_chain = jax.random.bernoulli(key_chains, p=0.5, shape=(chains, visible_units)).astype(jnp.float32)"
   ],
   "id": "f0cc88aaeee8d911",
   "outputs": [],
   "execution_count": 115
  },
  {
   "metadata": {
    "ExecuteTime": {
     "end_time": "2025-06-01T15:10:57.622786Z",
     "start_time": "2025-06-01T15:10:25.633044Z"
    }
   },
   "cell_type": "code",
   "source": "%time state_amp, metrics_amp = train_amp_rbm(state_amp, loader_amp, gibbs_chain, num_epochs, key)",
   "id": "af3d5612c325fb2e",
   "outputs": [
    {
     "name": "stdout",
     "output_type": "stream",
     "text": [
      "Epoch 1/200 │ Loss: -0.2271\n",
      "Epoch 2/200 │ Loss: -0.0457\n",
      "Epoch 3/200 │ Loss: -0.0479\n",
      "Epoch 4/200 │ Loss: -0.0069\n",
      "Epoch 5/200 │ Loss: -0.0008\n",
      "Epoch 6/200 │ Loss: -0.0216\n",
      "Epoch 7/200 │ Loss: 0.0126\n",
      "Epoch 8/200 │ Loss: 0.0133\n",
      "Epoch 9/200 │ Loss: 0.0060\n",
      "Epoch 10/200 │ Loss: 0.0094\n",
      "Epoch 11/200 │ Loss: 0.0138\n",
      "Epoch 12/200 │ Loss: 0.0274\n",
      "Epoch 13/200 │ Loss: 0.0226\n",
      "Epoch 14/200 │ Loss: 0.0216\n",
      "Epoch 15/200 │ Loss: 0.0247\n",
      "Epoch 16/200 │ Loss: 0.0332\n",
      "Epoch 17/200 │ Loss: 0.0197\n",
      "Epoch 18/200 │ Loss: 0.0203\n",
      "Epoch 19/200 │ Loss: 0.0313\n",
      "Epoch 20/200 │ Loss: 0.0172\n",
      "Epoch 21/200 │ Loss: 0.0155\n",
      "Epoch 22/200 │ Loss: 0.0315\n",
      "Epoch 23/200 │ Loss: 0.0272\n",
      "Epoch 24/200 │ Loss: 0.0354\n",
      "Epoch 25/200 │ Loss: 0.0094\n",
      "Epoch 26/200 │ Loss: 0.0343\n",
      "Epoch 27/200 │ Loss: 0.0365\n",
      "Epoch 28/200 │ Loss: 0.0300\n",
      "Epoch 29/200 │ Loss: 0.0300\n",
      "Epoch 30/200 │ Loss: 0.0211\n",
      "Epoch 31/200 │ Loss: 0.0244\n",
      "Epoch 32/200 │ Loss: 0.0129\n",
      "Epoch 33/200 │ Loss: 0.0356\n",
      "Epoch 34/200 │ Loss: 0.0262\n",
      "Epoch 35/200 │ Loss: 0.0006\n",
      "Epoch 36/200 │ Loss: 0.0264\n",
      "Epoch 37/200 │ Loss: 0.0177\n",
      "Epoch 38/200 │ Loss: 0.0041\n",
      "Epoch 39/200 │ Loss: 0.0187\n",
      "Epoch 40/200 │ Loss: 0.0144\n",
      "Epoch 41/200 │ Loss: 0.0068\n",
      "Epoch 42/200 │ Loss: 0.0211\n",
      "Epoch 43/200 │ Loss: -0.0026\n",
      "Epoch 44/200 │ Loss: -0.0060\n",
      "Epoch 45/200 │ Loss: 0.0125\n",
      "Epoch 46/200 │ Loss: 0.0014\n",
      "Epoch 47/200 │ Loss: 0.0212\n",
      "Epoch 48/200 │ Loss: -0.0016\n",
      "Epoch 49/200 │ Loss: 0.0215\n",
      "Epoch 50/200 │ Loss: 0.0028\n",
      "Epoch 51/200 │ Loss: 0.0166\n",
      "Epoch 52/200 │ Loss: 0.0014\n",
      "Epoch 53/200 │ Loss: 0.0111\n",
      "Epoch 54/200 │ Loss: 0.0071\n",
      "Epoch 55/200 │ Loss: 0.0053\n",
      "Epoch 56/200 │ Loss: 0.0127\n",
      "Epoch 57/200 │ Loss: 0.0130\n",
      "Epoch 58/200 │ Loss: -0.0050\n",
      "Epoch 59/200 │ Loss: 0.0218\n",
      "Epoch 60/200 │ Loss: 0.0067\n",
      "Epoch 61/200 │ Loss: 0.0118\n",
      "Epoch 62/200 │ Loss: 0.0113\n",
      "Epoch 63/200 │ Loss: 0.0190\n",
      "Epoch 64/200 │ Loss: 0.0069\n",
      "Epoch 65/200 │ Loss: 0.0129\n",
      "Epoch 66/200 │ Loss: 0.0078\n",
      "Epoch 67/200 │ Loss: 0.0080\n",
      "Epoch 68/200 │ Loss: 0.0351\n",
      "Epoch 69/200 │ Loss: -0.0099\n",
      "Epoch 70/200 │ Loss: 0.0136\n",
      "Epoch 71/200 │ Loss: 0.0203\n",
      "Epoch 72/200 │ Loss: 0.0021\n",
      "Epoch 73/200 │ Loss: 0.0192\n",
      "Epoch 74/200 │ Loss: 0.0043\n",
      "Epoch 75/200 │ Loss: -0.0148\n",
      "Epoch 76/200 │ Loss: 0.0175\n",
      "Epoch 77/200 │ Loss: -0.0075\n",
      "Epoch 78/200 │ Loss: 0.0113\n",
      "Epoch 79/200 │ Loss: -0.0218\n",
      "Epoch 80/200 │ Loss: 0.0049\n",
      "Epoch 81/200 │ Loss: -0.0189\n",
      "Epoch 82/200 │ Loss: -0.0108\n",
      "Epoch 83/200 │ Loss: -0.0098\n",
      "Epoch 84/200 │ Loss: -0.0376\n",
      "Epoch 85/200 │ Loss: -0.0363\n",
      "Epoch 86/200 │ Loss: -0.0722\n",
      "Epoch 87/200 │ Loss: -0.0400\n",
      "Epoch 88/200 │ Loss: -0.0906\n",
      "Epoch 89/200 │ Loss: -0.1014\n",
      "Epoch 90/200 │ Loss: -0.1241\n",
      "Epoch 91/200 │ Loss: -0.1525\n",
      "Epoch 92/200 │ Loss: -0.1604\n",
      "Epoch 93/200 │ Loss: -0.2255\n",
      "Epoch 94/200 │ Loss: -0.2610\n",
      "Epoch 95/200 │ Loss: -0.3085\n",
      "Epoch 96/200 │ Loss: -0.3056\n",
      "Epoch 97/200 │ Loss: -0.3252\n",
      "Epoch 98/200 │ Loss: -0.3073\n",
      "Epoch 99/200 │ Loss: -0.3097\n",
      "Epoch 100/200 │ Loss: -0.2965\n",
      "Epoch 101/200 │ Loss: -0.3052\n",
      "Epoch 102/200 │ Loss: -0.2838\n",
      "Epoch 103/200 │ Loss: -0.2665\n",
      "Epoch 104/200 │ Loss: -0.2571\n",
      "Epoch 105/200 │ Loss: -0.2450\n",
      "Epoch 106/200 │ Loss: -0.2279\n",
      "Epoch 107/200 │ Loss: -0.2164\n",
      "Epoch 108/200 │ Loss: -0.1998\n",
      "Epoch 109/200 │ Loss: -0.1683\n",
      "Epoch 110/200 │ Loss: -0.1678\n",
      "Epoch 111/200 │ Loss: -0.1626\n",
      "Epoch 112/200 │ Loss: -0.1611\n",
      "Epoch 113/200 │ Loss: -0.1571\n",
      "Epoch 114/200 │ Loss: -0.1337\n",
      "Epoch 115/200 │ Loss: -0.1275\n",
      "Epoch 116/200 │ Loss: -0.1396\n",
      "Epoch 117/200 │ Loss: -0.1044\n",
      "Epoch 118/200 │ Loss: -0.1124\n",
      "Epoch 119/200 │ Loss: -0.1175\n",
      "Epoch 120/200 │ Loss: -0.0983\n",
      "Epoch 121/200 │ Loss: -0.1032\n",
      "Epoch 122/200 │ Loss: -0.0895\n",
      "Epoch 123/200 │ Loss: -0.0820\n",
      "Epoch 124/200 │ Loss: -0.0573\n",
      "Epoch 125/200 │ Loss: -0.0693\n",
      "Epoch 126/200 │ Loss: -0.0803\n",
      "Epoch 127/200 │ Loss: -0.0772\n",
      "Epoch 128/200 │ Loss: -0.0644\n",
      "Epoch 129/200 │ Loss: -0.0731\n",
      "Epoch 130/200 │ Loss: -0.0703\n",
      "Epoch 131/200 │ Loss: -0.0604\n",
      "Epoch 132/200 │ Loss: -0.0748\n",
      "Epoch 133/200 │ Loss: -0.0607\n",
      "Epoch 134/200 │ Loss: -0.0516\n",
      "Epoch 135/200 │ Loss: -0.0404\n",
      "Epoch 136/200 │ Loss: -0.0560\n",
      "Epoch 137/200 │ Loss: -0.0509\n",
      "Epoch 138/200 │ Loss: -0.0386\n",
      "Epoch 139/200 │ Loss: -0.0405\n",
      "Epoch 140/200 │ Loss: -0.0435\n",
      "Epoch 141/200 │ Loss: -0.0439\n",
      "Epoch 142/200 │ Loss: -0.0379\n",
      "Epoch 143/200 │ Loss: -0.0183\n",
      "Epoch 144/200 │ Loss: -0.0210\n",
      "Epoch 145/200 │ Loss: -0.0413\n",
      "Epoch 146/200 │ Loss: -0.0280\n",
      "Epoch 147/200 │ Loss: -0.0209\n",
      "Epoch 148/200 │ Loss: -0.0167\n",
      "Epoch 149/200 │ Loss: -0.0235\n",
      "Epoch 150/200 │ Loss: -0.0245\n",
      "Epoch 151/200 │ Loss: -0.0233\n",
      "Epoch 152/200 │ Loss: -0.0157\n",
      "Epoch 153/200 │ Loss: -0.0281\n",
      "Epoch 154/200 │ Loss: -0.0134\n",
      "Epoch 155/200 │ Loss: -0.0185\n",
      "Epoch 156/200 │ Loss: -0.0062\n",
      "Epoch 157/200 │ Loss: -0.0197\n",
      "Epoch 158/200 │ Loss: -0.0135\n",
      "Epoch 159/200 │ Loss: -0.0025\n",
      "Epoch 160/200 │ Loss: -0.0188\n",
      "Epoch 161/200 │ Loss: -0.0036\n",
      "Epoch 162/200 │ Loss: -0.0009\n",
      "Epoch 163/200 │ Loss: 0.0138\n",
      "Epoch 164/200 │ Loss: -0.0029\n",
      "Epoch 165/200 │ Loss: 0.0107\n",
      "Epoch 166/200 │ Loss: -0.0010\n",
      "Epoch 167/200 │ Loss: 0.0029\n",
      "Epoch 168/200 │ Loss: 0.0026\n",
      "Epoch 169/200 │ Loss: 0.0256\n",
      "Epoch 170/200 │ Loss: -0.0013\n",
      "Epoch 171/200 │ Loss: 0.0152\n",
      "Epoch 172/200 │ Loss: 0.0135\n",
      "Epoch 173/200 │ Loss: 0.0030\n",
      "Epoch 174/200 │ Loss: 0.0275\n",
      "Epoch 175/200 │ Loss: -0.0008\n",
      "Epoch 176/200 │ Loss: 0.0152\n",
      "Epoch 177/200 │ Loss: 0.0188\n",
      "Epoch 178/200 │ Loss: 0.0289\n",
      "Epoch 179/200 │ Loss: 0.0243\n",
      "Epoch 180/200 │ Loss: 0.0187\n",
      "Epoch 181/200 │ Loss: 0.0217\n",
      "Epoch 182/200 │ Loss: 0.0293\n",
      "Epoch 183/200 │ Loss: 0.0114\n",
      "Epoch 184/200 │ Loss: 0.0161\n",
      "Epoch 185/200 │ Loss: 0.0357\n",
      "Epoch 186/200 │ Loss: 0.0467\n",
      "Epoch 187/200 │ Loss: 0.0258\n",
      "Epoch 188/200 │ Loss: 0.0363\n",
      "Epoch 189/200 │ Loss: 0.0092\n",
      "Epoch 190/200 │ Loss: 0.0478\n",
      "Epoch 191/200 │ Loss: 0.0159\n",
      "Epoch 192/200 │ Loss: 0.0129\n",
      "Epoch 193/200 │ Loss: 0.0330\n",
      "Epoch 194/200 │ Loss: 0.0502\n",
      "Epoch 195/200 │ Loss: 0.0557\n",
      "Epoch 196/200 │ Loss: 0.0476\n",
      "Epoch 197/200 │ Loss: 0.0252\n",
      "Epoch 198/200 │ Loss: 0.0221\n",
      "Epoch 199/200 │ Loss: 0.0204\n",
      "Epoch 200/200 │ Loss: 0.0271\n",
      "CPU times: user 31.8 s, sys: 174 ms, total: 31.9 s\n",
      "Wall time: 32 s\n"
     ]
    }
   ],
   "execution_count": 116
  },
  {
   "metadata": {
    "ExecuteTime": {
     "end_time": "2025-06-01T15:11:00.813436Z",
     "start_time": "2025-06-01T15:11:00.740677Z"
    }
   },
   "cell_type": "code",
   "source": [
    "plt.plot([metrics_amp[epoch]['loss_amp'] for epoch in metrics_amp])\n",
    "plt.xlabel(\"Epoch\")\n",
    "plt.ylabel(\"Amplitude CD Loss\")\n",
    "plt.show()"
   ],
   "id": "318aa5b03902a1a9",
   "outputs": [
    {
     "data": {
      "text/plain": [
       "<Figure size 640x480 with 1 Axes>"
      ],
      "image/png": "[encoded data removed]"
     },
     "metadata": {},
     "output_type": "display_data"
    }
   ],
   "execution_count": 117
  },
  {
   "metadata": {
    "ExecuteTime": {
     "end_time": "2025-06-01T15:11:04.992116Z",
     "start_time": "2025-06-01T15:11:04.144147Z"
    }
   },
   "cell_type": "code",
   "source": [
    "key_sample = PRNGKey(1234)\n",
    "\n",
    "samples = model_amp.apply(\n",
    "    {\"params\": state_amp.params},\n",
    "    n_samples=10_000,\n",
    "    T_schedule=jnp.ones(300) * 1.2,\n",
    "    key=key_sample,\n",
    "    method=RBM.generate\n",
    ")\n",
    "\n",
    "rel_freq = samples.mean(0)\n",
    "rel_freq"
   ],
   "id": "44abdba35c6ed8bb",
   "outputs": [
    {
     "data": {
      "text/plain": [
       "Array([0.1047    , 0.0823    , 0.0865    , 0.1019    , 0.12379999,\n",
       "       0.088     , 0.0925    , 0.0941    , 0.11009999, 0.1166    ],      dtype=float32)"
      ]
     },
     "execution_count": 118,
     "metadata": {},
     "output_type": "execute_result"
    }
   ],
   "execution_count": 118
  },
  {
   "metadata": {
    "ExecuteTime": {
     "end_time": "2025-06-01T15:11:08.651906Z",
     "start_time": "2025-06-01T15:11:08.514681Z"
    }
   },
   "cell_type": "code",
   "source": [
    "spin_counts = samples.sum(axis=1)\n",
    "\n",
    "plt.figure(figsize=(8, 4))\n",
    "plt.hist(spin_counts, bins=range(22), align='left', edgecolor='black')\n",
    "plt.xticks(range(21))\n",
    "plt.xlabel(\"Number of spins up (1)\")\n",
    "plt.ylabel(\"Number of samples\")\n",
    "plt.title(\"Histogram of spin-up counts per sample\")\n",
    "plt.show()"
   ],
   "id": "42c830eaeaf8d8e",
   "outputs": [
    {
     "data": {
      "text/plain": [
       "<Figure size 800x400 with 1 Axes>"
      ],
      "image/png": "[encoded data removed]"
     },
     "metadata": {},
     "output_type": "display_data"
    }
   ],
   "execution_count": 119
  },
  {
   "metadata": {
    "ExecuteTime": {
     "end_time": "2025-06-01T15:11:11.028850Z",
     "start_time": "2025-06-01T15:11:10.994831Z"
    }
   },
   "cell_type": "code",
   "source": [
    "# compare with actual frequencies from first\n",
    "empirical_freq = jnp.zeros(visible_units)\n",
    "num_total = 0\n",
    "\n",
    "for batch in loader_amp:\n",
    "    for arr in batch.values():\n",
    "        empirical_freq += jnp.sum(arr, axis=0)\n",
    "        num_total += arr.shape[0]\n",
    "\n",
    "empirical_freq = empirical_freq / num_total\n",
    "empirical_freq"
   ],
   "id": "4039a1e16c670900",
   "outputs": [
    {
     "data": {
      "text/plain": [
       "Array([0.0959375 , 0.09953125, 0.09640625, 0.0984375 , 0.09984375,\n",
       "       0.10265625, 0.09671875, 0.101875  , 0.109375  , 0.09921875],      dtype=float32)"
      ]
     },
     "execution_count": 120,
     "metadata": {},
     "output_type": "execute_result"
    }
   ],
   "execution_count": 120
  },
  {
   "metadata": {
    "ExecuteTime": {
     "end_time": "2025-06-01T15:11:15.139557Z",
     "start_time": "2025-06-01T15:11:15.025127Z"
    }
   },
   "cell_type": "code",
   "source": [
    "# Plotting comparison\n",
    "plt.figure(figsize=(10, 5))\n",
    "x = np.arange(visible_units)\n",
    "width = 0.35\n",
    "\n",
    "plt.bar(x - width/2, empirical_freq, width, label=\"Empirical\", alpha=0.7)\n",
    "plt.bar(x + width/2, rel_freq, width, label=\"Sampled\", alpha=0.7)\n",
    "plt.axhline(1 / visible_units, linestyle='--', color='gray', label=f'1/{visible_units} reference')\n",
    "plt.xlabel(\"Visible Unit Index\")\n",
    "plt.ylabel(\"Mean Activation Probability\")\n",
    "plt.title(\"Comparison: Empirical vs Sampled Frequencies\")\n",
    "plt.legend()\n",
    "plt.grid(True)\n",
    "plt.tight_layout()\n",
    "plt.show()"
   ],
   "id": "f0c3c822d4059c8f",
   "outputs": [
    {
     "data": {
      "text/plain": [
       "<Figure size 1000x500 with 1 Axes>"
      ],
      "image/png": "[encoded data removed]"
     },
     "metadata": {},
     "output_type": "display_data"
    }
   ],
   "execution_count": 121
  }
 ],
 "metadata": {
  "kernelspec": {
   "display_name": "Python 3",
   "language": "python",
   "name": "python3"
  },
  "language_info": {
   "codemirror_mode": {
    "name": "ipython",
    "version": 2
   },
   "file_extension": ".py",
   "mimetype": "text/x-python",
   "name": "python",
   "nbconvert_exporter": "python",
   "pygments_lexer": "ipython2",
   "version": "2.7.6"
  }
 },
 "nbformat": 4,
 "nbformat_minor": 5
}
