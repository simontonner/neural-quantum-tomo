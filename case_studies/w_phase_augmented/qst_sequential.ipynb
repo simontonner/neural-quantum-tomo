{
 "cells": [
  {
   "metadata": {
    "ExecuteTime": {
     "end_time": "2025-05-22T08:47:25.329037Z",
     "start_time": "2025-05-22T08:47:25.324102Z"
    }
   },
   "cell_type": "code",
   "source": [
    "import numpy as np\n",
    "\n",
    "from itertools import product"
   ],
   "id": "65f9d8d7f90652d7",
   "outputs": [],
   "execution_count": 38
  },
  {
   "metadata": {},
   "cell_type": "code",
   "outputs": [],
   "execution_count": null,
   "source": [
    "\"\"\"\n",
    "In-place Pauli {Z,X,Y} measurement on the two slices of a qubit.\n",
    "Modifies plus_slice (for |0⟩ component) and minus_slice (for |1⟩ component) in place.\n",
    "\n",
    "Docstring convention from original: Returns 0 for +1 outcome (‘0’), 1 for −1 (‘1’).\n",
    "NOTE: The original code (and this revised version, to match behavior)\n",
    "has a specific convention for the 'Y' operator's returned bit:\n",
    "- Outcome 0 is associated with projection onto a state proportional to |0> - i*|1> (the -1 eigenstate |-i>).\n",
    "- Outcome 1 is associated with projection onto a state proportional to |0> + i*|1> (the +1 eigenstate |+i>).\n",
    "This means for 'Y', outcome 0 corresponds to eigenvalue -1, and outcome 1 to eigenvalue +1,\n",
    "which is inverted compared to the Z and X operators' outcome/eigenvalue mapping.\n",
    "\n",
    "This version also corrects a bug in the original 'X' and 'Y' probability\n",
    "calculations (must use np.abs(amplitude)**2 for complex amplitudes).\n",
    "\"\"\""
   ],
   "id": "9b7455b22771a908"
  },
  {
   "metadata": {
    "ExecuteTime": {
     "end_time": "2025-05-22T08:40:28.672991Z",
     "start_time": "2025-05-22T08:40:28.663087Z"
    }
   },
   "cell_type": "code",
   "source": [
    "def measure_qubit(plus_slice, minus_slice, op, rng):\n",
    "\n",
    "    if op not in ('I', 'Z', 'X', 'Y'):\n",
    "        raise ValueError(f\"Unsupported Pauli operator: {op}. Expected 'I', 'X', 'Y', or 'Z'.\")\n",
    "\n",
    "    if op == 'I':\n",
    "        # the identity operator does not overwrite the slices and thus lets the state unchanged\n",
    "        # we return 0 for the +1 eigenvalue as an arbitrary convention\n",
    "        return 0\n",
    "\n",
    "    INV_SQRT2 = 1.0 / np.sqrt(2.0)\n",
    "\n",
    "    plus_slice_tmp = plus_slice.copy()\n",
    "    minus_slice_tmp = minus_slice.copy()\n",
    "\n",
    "    # initialize with the Z basis\n",
    "    plus_ampl = plus_slice_tmp\n",
    "    minus_ampl = minus_slice_tmp\n",
    "\n",
    "    plus_eigvec = (1.0, 0.0)\n",
    "    minus_eigvec = (0.0, 1.0)\n",
    "\n",
    "\n",
    "    if op == 'X':\n",
    "        plus_ampl = (plus_slice_tmp + minus_slice_tmp) * INV_SQRT2\n",
    "        minus_ampl = (plus_slice_tmp - minus_slice_tmp) * INV_SQRT2\n",
    "\n",
    "        plus_eigvec = (INV_SQRT2, INV_SQRT2)\n",
    "        minus_eigvec = (INV_SQRT2, -INV_SQRT2)\n",
    "\n",
    "\n",
    "    if op == 'Y':\n",
    "        plus_ampl = (plus_slice_tmp - 1j * minus_slice_tmp) * INV_SQRT2\n",
    "        minus_ampl = (plus_slice_tmp + 1j * minus_slice_tmp) * INV_SQRT2\n",
    "\n",
    "        plus_eigvec = (INV_SQRT2, 1j * INV_SQRT2)\n",
    "        minus_eigvec = (INV_SQRT2, -1j * INV_SQRT2)\n",
    "\n",
    "\n",
    "    # we square up all amplitudes where we have 0 or 1 at the current index and sum them up\n",
    "    plus_prob = np.sum(np.abs(plus_ampl)**2)\n",
    "    plus_prob = np.clip(plus_prob, 0.0, 1.0)\n",
    "    minus_prob = 1.0 - plus_prob\n",
    "    plus_meas = rng.random() < plus_prob\n",
    "\n",
    "\n",
    "    chosen_ampl = (plus_ampl if plus_meas else minus_ampl)\n",
    "    chosen_eigvec = (plus_eigvec if plus_meas else minus_eigvec)\n",
    "    renorm_factor = np.sqrt(plus_prob if plus_meas else minus_prob)\n",
    "\n",
    "\n",
    "    # in case the is tiny, we need to do some special handling\n",
    "    # renorm_factor == 0 implies chosen_ampl is an array of zeros (assuming a valid normalized initial state).\n",
    "    if renorm_factor < 1e-12:\n",
    "        plus_slice[:] = 0.0\n",
    "        minus_slice[:] = 0.0\n",
    "\n",
    "        return 0 if plus_meas else 1\n",
    "\n",
    "\n",
    "    plus_slice[:] = (chosen_ampl * chosen_eigvec[0]) / renorm_factor\n",
    "    minus_slice[:] = (chosen_ampl * chosen_eigvec[1]) / renorm_factor\n",
    "    return 0 if plus_meas else 1\n",
    "\n",
    "\n",
    "def measure_state(state_vec, pauli_ops, rng):\n",
    "    num_qubits = len(pauli_ops)\n",
    "\n",
    "    # reshape the state vector in place to allow for multi-dimensional indexing\n",
    "    state_tensor = state_vec.reshape((2,) * num_qubits)\n",
    "    outcome_bits = []\n",
    "\n",
    "    for qubit_idx, pauli_op in enumerate(pauli_ops):\n",
    "        # we create only a view of the state tensor to be modified in place by the measure_one function\n",
    "        plus_slice  = state_tensor[(slice(None),) * qubit_idx + (0,)]\n",
    "        minus_slice = state_tensor[(slice(None),) * qubit_idx + (1,)]\n",
    "\n",
    "        outcome_bit = measure_qubit(plus_slice, minus_slice, pauli_op, rng)\n",
    "        outcome_bits.append(outcome_bit)\n",
    "\n",
    "    return outcome_bits"
   ],
   "id": "51a84e7f882afb7a",
   "outputs": [],
   "execution_count": 27
  },
  {
   "metadata": {
    "ExecuteTime": {
     "end_time": "2025-05-22T08:40:53.590517Z",
     "start_time": "2025-05-22T08:40:53.586223Z"
    }
   },
   "cell_type": "code",
   "source": [
    "class PauliOperator:\n",
    "    def __init__(self, matrix, eigenvalues, eigenvectors):\n",
    "        self.matrix = matrix\n",
    "        self.eigenvalues = eigenvalues\n",
    "        self.eigenvectors = eigenvectors\n",
    "\n",
    "\n",
    "SQRT2 = np.sqrt(2.0)\n",
    "sigma_0 = PauliOperator(np.eye(2), [1,1], [np.array([1,0]), np.array([0,1])])\n",
    "sigma_x = PauliOperator(np.array([[0,1],[1,0]]), [1,-1], [np.array([1,1])/SQRT2, np.array([1,-1])/SQRT2])\n",
    "sigma_y = PauliOperator(np.array([[0,-1j],[1j,0]]), [1,-1], [np.array([1,1j])/SQRT2, np.array([1,-1j])/SQRT2])\n",
    "sigma_z = PauliOperator(np.array([[1,0],[0,-1]]), [1,-1], [np.array([1,0]), np.array([0,1])])\n",
    "\n",
    "pauli_operators = { 'I': sigma_0, 'X': sigma_x, 'Y': sigma_y, 'Z': sigma_z }"
   ],
   "id": "8595263ddb626f3c",
   "outputs": [],
   "execution_count": 33
  },
  {
   "metadata": {
    "ExecuteTime": {
     "end_time": "2025-05-22T08:40:55.838591Z",
     "start_time": "2025-05-22T08:40:55.832748Z"
    }
   },
   "cell_type": "code",
   "source": [
    "def get_theo_exp(state_vec, pauli_ops):\n",
    "    ops = [pauli_operators[p] for p in pauli_ops]\n",
    "    vals, vecs = [], []\n",
    "    for addr in product([0,1], repeat=len(ops)):\n",
    "        e, v = 1.0, None\n",
    "        for op, a in zip(ops, addr):\n",
    "            e *= op.eigenvalues[a]\n",
    "            v = op.eigenvectors[a] if v is None else np.kron(v, op.eigenvectors[a])\n",
    "        vals.append(e)\n",
    "        vecs.append(v)\n",
    "\n",
    "    probs = [abs(np.vdot(v, state_vec))**2 for v in vecs]\n",
    "    return sum(e*p for e,p in zip(vals, probs))\n",
    "\n",
    "\n",
    "def get_obs_exp(state_vec, pauli_ops, num_samples=1000, rng=None):\n",
    "    rng = np.random.default_rng() if rng is None else rng\n",
    "    acc = 0.0\n",
    "    for _ in range(num_samples):\n",
    "        state_vec_copy = state_vec.copy()           # important, since we modify it in measure_state\n",
    "        outcome_bits = measure_state(state_vec_copy, pauli_ops, rng)\n",
    "        acc += (-1) ** np.sum(outcome_bits)\n",
    "    return acc / num_samples"
   ],
   "id": "464c355c80b5866e",
   "outputs": [],
   "execution_count": 34
  },
  {
   "metadata": {
    "ExecuteTime": {
     "end_time": "2025-05-22T08:40:58.690592Z",
     "start_time": "2025-05-22T08:40:58.686284Z"
    }
   },
   "cell_type": "code",
   "source": [
    "# construct the state\n",
    "\n",
    "num_qubits = 10\n",
    "\n",
    "state_dim = 1 << num_qubits                     # bit shifting a ...0001 bitstring is the same as 2**a\n",
    "psi = np.zeros(state_dim, dtype=complex)      # empty state vector\n",
    "\n",
    "# since the W state has only non-zero amplitudes for one-hot states, we only need num_qubits random phases\n",
    "rng = np.random.default_rng(42)\n",
    "thetas = rng.uniform(0, 2*np.pi, size=num_qubits)\n",
    "\n",
    "for j in range(num_qubits):\n",
    "    idx = 1 << (num_qubits - 1 - j)              # find indexing mask via bit shifting\n",
    "\n",
    "    # apply the phase to the corresponding amplitude coefficient\n",
    "    psi[idx] = np.exp(1j * thetas[j]) / np.sqrt(num_qubits)"
   ],
   "id": "6b00ee7ab3b14cae",
   "outputs": [],
   "execution_count": 35
  },
  {
   "metadata": {
    "ExecuteTime": {
     "end_time": "2025-05-22T08:41:04.320308Z",
     "start_time": "2025-05-22T08:41:01.485715Z"
    }
   },
   "cell_type": "code",
   "source": [
    "# let's use the complex state from above and reconstruct its density matrix\n",
    "\n",
    "\n",
    "test_measurements = [\n",
    "    ('Z', 'Z', 'Z', 'Z', 'Z', 'Z', 'Z', 'Z', 'Z', 'Z'),\n",
    "    ('X', 'X', 'X', 'X', 'X', 'X', 'X', 'X', 'X', 'X'),\n",
    "    ('Y', 'Y', 'Y', 'Y', 'Y', 'Y', 'Y', 'Y', 'Y', 'Y'),\n",
    "    ('Z', 'X', 'Y', 'Z', 'X', 'Y', 'Z', 'X', 'Y', 'Z'),\n",
    "    ('X', 'Y', 'Z', 'X', 'Y', 'Z', 'X', 'Y', 'Z', 'X'),\n",
    "    ('Z', 'Z', 'X', 'X', 'X', 'X', 'X', 'X', 'X', 'X'),\n",
    "    ('Z', 'X', 'X', 'X', 'X', 'X', 'X', 'X', 'X', 'X'),\n",
    "    ('X', 'X', 'X', 'X', 'X', 'Y', 'X', 'X', 'X', 'X')\n",
    "]\n",
    "\n",
    "num_samples = 1000\n",
    "\n",
    "\n",
    "print(\"Performing test measurements...\")\n",
    "theo_exp_dict = {}\n",
    "obs_exp_dict = {}\n",
    "\n",
    "for pauli_labels in test_measurements:\n",
    "    theo_exp = get_theo_exp(psi, pauli_labels)\n",
    "    obs_exp = get_obs_exp(psi, pauli_labels, num_samples=num_samples)\n",
    "    theo_exp_dict[pauli_labels] = theo_exp\n",
    "    obs_exp_dict[pauli_labels] = obs_exp\n",
    "\n",
    "print(\"Measurements completed.\")"
   ],
   "id": "b296f133a98fda70",
   "outputs": [
    {
     "name": "stdout",
     "output_type": "stream",
     "text": [
      "Performing test measurements...\n",
      "Measurements completed.\n"
     ]
    }
   ],
   "execution_count": 36
  },
  {
   "metadata": {
    "ExecuteTime": {
     "end_time": "2025-05-22T08:41:09.662212Z",
     "start_time": "2025-05-22T08:41:09.656378Z"
    }
   },
   "cell_type": "code",
   "source": [
    "print(f\"Pauli String | Theoretical Exp | Observed Exp   | Abs. Difference\")\n",
    "print(\"-\" * 70)\n",
    "\n",
    "differences = []\n",
    "for pauli_labels_tuple in test_measurements:\n",
    "    if pauli_labels_tuple in theo_exp_dict and pauli_labels_tuple in obs_exp_dict:\n",
    "        theo_val = theo_exp_dict[pauli_labels_tuple]\n",
    "        obs_val = obs_exp_dict[pauli_labels_tuple]\n",
    "        diff = np.abs(theo_val - obs_val)\n",
    "        differences.append(diff)\n",
    "\n",
    "        pauli_str = \"\".join(pauli_labels_tuple)\n",
    "        print(f\"{pauli_str}   | {theo_val:15.6f} | {obs_val:14.6f} | {diff:15.6f}\")\n",
    "\n",
    "\n",
    "max_diff = np.max(differences)\n",
    "avg_diff = np.mean(differences)\n",
    "std_diff = np.std(differences)\n",
    "\n",
    "\n",
    "print(f\"\\nNumber of samples per setting: {num_samples}\")\n",
    "print(f\"Maximum absolute difference:   {max_diff:.6f}\")\n",
    "print(f\"Average absolute difference:   {avg_diff:.6f}\")\n",
    "print(f\"Std. Dev. of differences:      {std_diff:.6f}\")"
   ],
   "id": "5d2bf7622d682069",
   "outputs": [
    {
     "name": "stdout",
     "output_type": "stream",
     "text": [
      "Pauli String | Theoretical Exp | Observed Exp   | Abs. Difference\n",
      "----------------------------------------------------------------------\n",
      "ZZZZZZZZZZ   |       -1.000000 |      -1.000000 |        0.000000\n",
      "XXXXXXXXXX   |       -0.000000 |       0.020000 |        0.020000\n",
      "YYYYYYYYYY   |       -0.000000 |       0.002000 |        0.002000\n",
      "ZXYZXYZXYZ   |       -0.000000 |       0.010000 |        0.010000\n",
      "XYZXYZXYZX   |        0.000000 |      -0.004000 |        0.004000\n",
      "ZZXXXXXXXX   |       -0.000000 |      -0.062000 |        0.062000\n",
      "ZXXXXXXXXX   |       -0.000000 |       0.044000 |        0.044000\n",
      "XXXXXYXXXX   |        0.000000 |      -0.066000 |        0.066000\n",
      "\n",
      "Number of samples per setting: 1000\n",
      "Maximum absolute difference:   0.066000\n",
      "Average absolute difference:   0.026000\n",
      "Std. Dev. of differences:      0.025612\n"
     ]
    }
   ],
   "execution_count": 37
  },
  {
   "metadata": {},
   "cell_type": "code",
   "outputs": [],
   "execution_count": null,
   "source": "",
   "id": "260aecd57d92bfd9"
  }
 ],
 "metadata": {
  "kernelspec": {
   "display_name": "Python 3",
   "language": "python",
   "name": "python3"
  },
  "language_info": {
   "codemirror_mode": {
    "name": "ipython",
    "version": 2
   },
   "file_extension": ".py",
   "mimetype": "text/x-python",
   "name": "python",
   "nbconvert_exporter": "python",
   "pygments_lexer": "ipython2",
   "version": "2.7.6"
  }
 },
 "nbformat": 4,
 "nbformat_minor": 5
}
