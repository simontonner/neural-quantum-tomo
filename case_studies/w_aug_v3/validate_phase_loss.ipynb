{
 "cells": [
  {
   "cell_type": "code",
   "metadata": {
    "ExecuteTime": {
     "end_time": "2025-06-04T10:16:45.887727Z",
     "start_time": "2025-06-04T10:16:45.518608Z"
    }
   },
   "source": [
    "import jax\n",
    "import jax.numpy as jnp"
   ],
   "id": "4b2c691793479ab4",
   "outputs": [],
   "execution_count": 1
  },
  {
   "metadata": {
    "ExecuteTime": {
     "end_time": "2025-06-04T10:16:56.023660Z",
     "start_time": "2025-06-04T10:16:55.961263Z"
    }
   },
   "cell_type": "code",
   "source": [
    "SQRT2 = jnp.sqrt(2.0)\n",
    "rot_X = jnp.array([[1, 1], [1, -1]], dtype=jnp.complex64) / SQRT2\n",
    "rot_Y = jnp.array([[1, -1j], [1, 1j]], dtype=jnp.complex64) / SQRT2\n",
    "combos = jnp.array([[0., 0.], [0., 1.], [1., 0.], [1., 1.]], dtype=jnp.float32)\n",
    "\n",
    "\n",
    "def dummy_free_energy_amp(v):\n",
    "    return jnp.sum(v * 0.5, axis=-1)\n",
    "\n",
    "def dummy_free_energy_pha(v):\n",
    "    return jnp.sum(v * 0.1, axis=-1)"
   ],
   "id": "e0aaf31876623594",
   "outputs": [],
   "execution_count": 2
  },
  {
   "cell_type": "code",
   "metadata": {
    "ExecuteTime": {
     "end_time": "2025-06-04T10:17:56.001309Z",
     "start_time": "2025-06-04T10:17:55.994995Z"
    }
   },
   "source": [
    "def compare_loss_expressions(data, basis_ids):\n",
    "    B, n = data.shape\n",
    "    j, k = jnp.nonzero(basis_ids != 0, size=2, fill_value=-1)[0]\n",
    "    b1, b2 = basis_ids[j], basis_ids[k]\n",
    "\n",
    "    Rj = jax.lax.switch(b1 - 1, [lambda: rot_X, lambda: rot_Y])\n",
    "    Rk = jax.lax.switch(b2 - 1, [lambda: rot_X, lambda: rot_Y])\n",
    "    U = jnp.kron(Rj, Rk)  # (4, 4)\n",
    "\n",
    "    sigma_b_tiled = jnp.tile(data[:, None, :], (1, 4, 1))\n",
    "    sigma_mod = sigma_b_tiled.at[:, :, [j, k]].set(combos[None, :, :])\n",
    "    sigma_flat = sigma_mod.reshape(B * 4, n)\n",
    "\n",
    "    F_amp = dummy_free_energy_amp(sigma_flat).reshape(B, 4)\n",
    "    F_pha = dummy_free_energy_pha(sigma_flat).reshape(B, 4)\n",
    "\n",
    "    # naive computation exactly like the formula\n",
    "    naive_scaled = jnp.exp(-0.5 * F_amp + 1j * -0.5 * F_pha)\n",
    "\n",
    "    idx_in = (data[:, j].astype(int) << 1) | data[:, k].astype(int)\n",
    "    U_cols = U[:, idx_in].T  # (B, 4)\n",
    "    naive_S = jnp.sum(U_cols * naive_scaled, axis=1)\n",
    "    naive_log_probs = jnp.log(jnp.abs(naive_S) ** 2)\n",
    "\n",
    "    # log-sum-exp trick\n",
    "    log_mag = -0.5 * F_amp\n",
    "    angle = -0.5 * F_pha\n",
    "    M = jnp.max(log_mag, axis=1, keepdims=True)\n",
    "    stable_scaled = jnp.exp(log_mag - M + 1j * angle)\n",
    "    stable_S = jnp.sum(U_cols * stable_scaled, axis=1)\n",
    "    stable_log_probs = 2.0 * (M.squeeze() + jnp.log(jnp.abs(stable_S) + 1e-12))\n",
    "\n",
    "    return naive_log_probs, stable_log_probs"
   ],
   "id": "f9391a1ef527bcfd",
   "outputs": [],
   "execution_count": 4
  },
  {
   "cell_type": "code",
   "metadata": {
    "ExecuteTime": {
     "end_time": "2025-06-04T10:19:27.870840Z",
     "start_time": "2025-06-04T10:19:27.513727Z"
    }
   },
   "source": [
    "key = jax.random.PRNGKey(0)\n",
    "B, n = 6, 8\n",
    "data = jax.random.bernoulli(key, p=0.5, shape=(B, n)).astype(jnp.float32)\n",
    "basis_ids = jnp.array([1, 2, 0, 0, 0, 0, 0, 0], dtype=jnp.int32)  # XYZZZZ\n",
    "\n",
    "naive, stable = compare_loss_expressions(data, basis_ids)\n",
    "print(\"Naive:\", naive)\n",
    "print(\"Stable:\", stable)\n",
    "print(\"Difference:\", naive - stable)"
   ],
   "id": "accb61ed4c5f96f6",
   "outputs": [
    {
     "name": "stdout",
     "output_type": "stream",
     "text": [
      "Naive: [-4.2134013  -4.713401   -9.343031   -4.213401   -0.08376761 -4.713401  ]\n",
      "Stable: [-4.213401   -4.713402   -9.343031   -4.213401   -0.08376765 -4.713401  ]\n",
      "Difference: [-4.7683716e-07  9.5367432e-07  0.0000000e+00  0.0000000e+00\n",
      "  4.4703484e-08  0.0000000e+00]\n"
     ]
    }
   ],
   "execution_count": 10
  },
  {
   "metadata": {},
   "cell_type": "code",
   "outputs": [],
   "execution_count": null,
   "source": "",
   "id": "c0f9423e34f7a5d8"
  }
 ],
 "metadata": {
  "kernelspec": {
   "display_name": "Python 3",
   "language": "python",
   "name": "python3"
  },
  "language_info": {
   "name": "python",
   "version": "3.9"
  }
 },
 "nbformat": 4,
 "nbformat_minor": 5
}
