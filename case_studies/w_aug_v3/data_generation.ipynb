{
 "cells": [
  {
   "cell_type": "code",
   "id": "initial_id",
   "metadata": {
    "collapsed": true,
    "ExecuteTime": {
     "end_time": "2025-06-14T21:42:48.143602Z",
     "start_time": "2025-06-14T21:42:48.136078Z"
    }
   },
   "source": [
    "from lib.measurement import MultiQubitMeasurement\n",
    "from lib.formatting import format_bytes, bitstring_to_filestring\n",
    "from lib.state_io import save_state_vector\n",
    "\n",
    "####\n",
    "\n",
    "from pathlib import Path\n",
    "from time import time\n",
    "\n",
    "import jax.numpy as jnp\n",
    "from jax import random\n",
    "\n",
    "\n",
    "rng_seed = 42\n",
    "\n",
    "data_dir = Path(\"data\")\n",
    "data_dir.mkdir(parents=True, exist_ok=True)\n",
    "\n",
    "print(f\"Random seed is {rng_seed}\")\n",
    "print(f\"Data will be saved to {data_dir.resolve()}\")"
   ],
   "outputs": [
    {
     "name": "stdout",
     "output_type": "stream",
     "text": [
      "Random seed is 42\n",
      "Data will be saved to /Users/Tonni/Desktop/master-code/neural-quantum-tomo/case_studies/w_aug_v3/data\n"
     ]
    }
   ],
   "execution_count": 6
  },
  {
   "metadata": {
    "ExecuteTime": {
     "end_time": "2025-06-14T21:42:49.383894Z",
     "start_time": "2025-06-14T21:42:49.374079Z"
    }
   },
   "cell_type": "code",
   "source": [
    "#### PHASE AUGMENTED W STATE\n",
    "\n",
    "num_qubits = 8\n",
    "\n",
    "state_dim = 1 << num_qubits                 # bit shifting a ...0001 bitstring is the same as 2**num_qubits\n",
    "\n",
    "rng_phase = random.PRNGKey(rng_seed)\n",
    "one_hot_thetas = random.uniform(rng_phase, shape=(num_qubits,), minval=0.0, maxval=2 * jnp.pi)\n",
    "one_hot_amplitudes = jnp.exp(1j * one_hot_thetas) / jnp.sqrt(num_qubits)\n",
    "\n",
    "one_hot_indices = 1 << jnp.arange(num_qubits - 1, -1, -1)   # we shift a single bit left with descending ints\n",
    "\n",
    "w_aug = jnp.zeros(state_dim, dtype=jnp.complex64).at[one_hot_indices].set(one_hot_amplitudes)\n",
    "\n",
    "print(\"First 10 amplitudes:\")\n",
    "for idx in range(10):\n",
    "    print(f\"{idx:0{num_qubits}b}: {w_aug[idx]:.8f}\")\n",
    "\n",
    "print(f\"\\nSize of state vector in memory: {format_bytes(w_aug.nbytes)} \\n\")"
   ],
   "id": "9dd9664914e32b3c",
   "outputs": [
    {
     "name": "stdout",
     "output_type": "stream",
     "text": [
      "First 10 amplitudes:\n",
      "00000000: 0.00000000+0.00000000j\n",
      "00000001: 0.35348165+0.00712282j\n",
      "00000010: 0.34222963+0.08876304j\n",
      "00000011: 0.00000000+0.00000000j\n",
      "00000100: -0.07679566+0.34511220j\n",
      "00000101: 0.00000000+0.00000000j\n",
      "00000110: 0.00000000+0.00000000j\n",
      "00000111: 0.00000000+0.00000000j\n",
      "00001000: 0.02867402-0.35238871j\n",
      "00001001: 0.00000000+0.00000000j\n",
      "\n",
      "Size of state vector in memory: 2.00 KB \n",
      "\n"
     ]
    }
   ],
   "execution_count": 7
  },
  {
   "metadata": {
    "ExecuteTime": {
     "end_time": "2025-06-14T21:42:51.126633Z",
     "start_time": "2025-06-14T21:42:51.109216Z"
    }
   },
   "cell_type": "code",
   "source": [
    "w_amp_file_name = f\"w_aug_{num_qubits}.txt\"\n",
    "w_amp_file_path = data_dir / w_amp_file_name\n",
    "save_state_vector(w_aug, w_amp_file_path)"
   ],
   "id": "fb1bf5d291a7dac9",
   "outputs": [
    {
     "name": "stdout",
     "output_type": "stream",
     "text": [
      "State vector written to data/w_aug_8.txt (8960 bytes)\n"
     ]
    }
   ],
   "execution_count": 8
  },
  {
   "metadata": {
    "ExecuteTime": {
     "end_time": "2025-06-14T21:42:53.040190Z",
     "start_time": "2025-06-14T21:42:53.036126Z"
    }
   },
   "cell_type": "code",
   "source": [
    "measurement_bases = []\n",
    "\n",
    "# all Z\n",
    "measurement_bases.append(['Z'] * num_qubits)\n",
    "\n",
    "# sliding XX window\n",
    "for i in range(num_qubits - 1):\n",
    "    basis_list = ['Z'] * num_qubits\n",
    "    basis_list[i] = 'X'\n",
    "    basis_list[i+1] = 'X'\n",
    "    measurement_bases.append(basis_list)\n",
    "\n",
    "# sliding XY window\n",
    "for i in range(num_qubits - 1):\n",
    "    basis_list = ['Z'] * num_qubits\n",
    "    basis_list[i] = 'X'\n",
    "    basis_list[i+1] = 'Y'\n",
    "    measurement_bases.append(basis_list)\n",
    "\n",
    "\n",
    "for i, basis in enumerate(measurement_bases):\n",
    "    print(f\"Basis {i:2d}: {''.join(basis)}\")"
   ],
   "id": "55d817b737e627e2",
   "outputs": [
    {
     "name": "stdout",
     "output_type": "stream",
     "text": [
      "Basis  0: ZZZZZZZZ\n",
      "Basis  1: XXZZZZZZ\n",
      "Basis  2: ZXXZZZZZ\n",
      "Basis  3: ZZXXZZZZ\n",
      "Basis  4: ZZZXXZZZ\n",
      "Basis  5: ZZZZXXZZ\n",
      "Basis  6: ZZZZZXXZ\n",
      "Basis  7: ZZZZZZXX\n",
      "Basis  8: XYZZZZZZ\n",
      "Basis  9: ZXYZZZZZ\n",
      "Basis 10: ZZXYZZZZ\n",
      "Basis 11: ZZZXYZZZ\n",
      "Basis 12: ZZZZXYZZ\n",
      "Basis 13: ZZZZZXYZ\n",
      "Basis 14: ZZZZZZXY\n"
     ]
    }
   ],
   "execution_count": 9
  },
  {
   "metadata": {
    "ExecuteTime": {
     "end_time": "2025-06-14T21:43:33.821127Z",
     "start_time": "2025-06-14T21:43:23.342593Z"
    }
   },
   "cell_type": "code",
   "source": [
    "samples_per_basis = 6400\n",
    "rng_samples = random.PRNGKey(rng_seed)\n",
    "\n",
    "for _, measurement_dirs in enumerate(measurement_bases):\n",
    "    measurement_dir_str = ''.join(measurement_dirs)\n",
    "    filename = data_dir / f\"w_aug_{measurement_dir_str}_{samples_per_basis}.txt\"\n",
    "\n",
    "    measurement = MultiQubitMeasurement(measurement_dirs)\n",
    "\n",
    "    start = time()\n",
    "    samples = measurement.sample_state(w_aug, samples_per_basis, rng=rng_samples)\n",
    "    print(f\"Sampling {samples_per_basis} samples took {time() - start:.2f} seconds.\")\n",
    "\n",
    "    with open(filename, 'w') as f_out:\n",
    "        for bitstring in samples:\n",
    "            formatted = bitstring_to_filestring(bitstring, measurement_dirs)\n",
    "            f_out.write(formatted + \"\\n\")\n",
    "\n",
    "    print(f\"Stored {samples_per_basis} samples to {filename.name}.\\n\")"
   ],
   "id": "b702cf89561a7c9a",
   "outputs": [
    {
     "name": "stderr",
     "output_type": "stream",
     "text": [
      "Constructing basis ZZZZZZZZ: 100%|██████████| 256/256 [00:00<00:00, 2596.53it/s]\n"
     ]
    },
    {
     "name": "stdout",
     "output_type": "stream",
     "text": [
      "Sampling 6400 samples took 0.02 seconds.\n",
      "Stored 6400 samples to w_aug_ZZZZZZZZ_6400.txt.\n",
      "\n"
     ]
    },
    {
     "name": "stderr",
     "output_type": "stream",
     "text": [
      "Constructing basis XXZZZZZZ: 100%|██████████| 256/256 [00:00<00:00, 2586.31it/s]"
     ]
    },
    {
     "name": "stdout",
     "output_type": "stream",
     "text": [
      "Sampling 6400 samples took 0.02 seconds.\n"
     ]
    },
    {
     "name": "stderr",
     "output_type": "stream",
     "text": [
      "\n"
     ]
    },
    {
     "name": "stdout",
     "output_type": "stream",
     "text": [
      "Stored 6400 samples to w_aug_XXZZZZZZ_6400.txt.\n",
      "\n"
     ]
    },
    {
     "name": "stderr",
     "output_type": "stream",
     "text": [
      "Constructing basis ZXXZZZZZ: 100%|██████████| 256/256 [00:00<00:00, 2654.97it/s]"
     ]
    },
    {
     "name": "stdout",
     "output_type": "stream",
     "text": [
      "Sampling 6400 samples took 0.02 seconds.\n"
     ]
    },
    {
     "name": "stderr",
     "output_type": "stream",
     "text": [
      "\n"
     ]
    },
    {
     "name": "stdout",
     "output_type": "stream",
     "text": [
      "Stored 6400 samples to w_aug_ZXXZZZZZ_6400.txt.\n",
      "\n"
     ]
    },
    {
     "name": "stderr",
     "output_type": "stream",
     "text": [
      "Constructing basis ZZXXZZZZ: 100%|██████████| 256/256 [00:00<00:00, 2722.48it/s]"
     ]
    },
    {
     "name": "stdout",
     "output_type": "stream",
     "text": [
      "Sampling 6400 samples took 0.02 seconds.\n"
     ]
    },
    {
     "name": "stderr",
     "output_type": "stream",
     "text": [
      "\n"
     ]
    },
    {
     "name": "stdout",
     "output_type": "stream",
     "text": [
      "Stored 6400 samples to w_aug_ZZXXZZZZ_6400.txt.\n",
      "\n"
     ]
    },
    {
     "name": "stderr",
     "output_type": "stream",
     "text": [
      "Constructing basis ZZZXXZZZ: 100%|██████████| 256/256 [00:00<00:00, 2613.88it/s]"
     ]
    },
    {
     "name": "stdout",
     "output_type": "stream",
     "text": [
      "Sampling 6400 samples took 0.02 seconds.\n"
     ]
    },
    {
     "name": "stderr",
     "output_type": "stream",
     "text": [
      "\n"
     ]
    },
    {
     "name": "stdout",
     "output_type": "stream",
     "text": [
      "Stored 6400 samples to w_aug_ZZZXXZZZ_6400.txt.\n",
      "\n"
     ]
    },
    {
     "name": "stderr",
     "output_type": "stream",
     "text": [
      "Constructing basis ZZZZXXZZ: 100%|██████████| 256/256 [00:00<00:00, 2685.21it/s]"
     ]
    },
    {
     "name": "stdout",
     "output_type": "stream",
     "text": [
      "Sampling 6400 samples took 0.02 seconds.\n"
     ]
    },
    {
     "name": "stderr",
     "output_type": "stream",
     "text": [
      "\n"
     ]
    },
    {
     "name": "stdout",
     "output_type": "stream",
     "text": [
      "Stored 6400 samples to w_aug_ZZZZXXZZ_6400.txt.\n",
      "\n"
     ]
    },
    {
     "name": "stderr",
     "output_type": "stream",
     "text": [
      "Constructing basis ZZZZZXXZ: 100%|██████████| 256/256 [00:00<00:00, 2679.39it/s]"
     ]
    },
    {
     "name": "stdout",
     "output_type": "stream",
     "text": [
      "Sampling 6400 samples took 0.02 seconds.\n"
     ]
    },
    {
     "name": "stderr",
     "output_type": "stream",
     "text": [
      "\n"
     ]
    },
    {
     "name": "stdout",
     "output_type": "stream",
     "text": [
      "Stored 6400 samples to w_aug_ZZZZZXXZ_6400.txt.\n",
      "\n"
     ]
    },
    {
     "name": "stderr",
     "output_type": "stream",
     "text": [
      "Constructing basis ZZZZZZXX: 100%|██████████| 256/256 [00:00<00:00, 2588.03it/s]"
     ]
    },
    {
     "name": "stdout",
     "output_type": "stream",
     "text": [
      "Sampling 6400 samples took 0.02 seconds.\n"
     ]
    },
    {
     "name": "stderr",
     "output_type": "stream",
     "text": [
      "\n"
     ]
    },
    {
     "name": "stdout",
     "output_type": "stream",
     "text": [
      "Stored 6400 samples to w_aug_ZZZZZZXX_6400.txt.\n",
      "\n"
     ]
    },
    {
     "name": "stderr",
     "output_type": "stream",
     "text": [
      "Constructing basis XYZZZZZZ: 100%|██████████| 256/256 [00:00<00:00, 2519.88it/s]"
     ]
    },
    {
     "name": "stdout",
     "output_type": "stream",
     "text": [
      "Sampling 6400 samples took 0.02 seconds.\n"
     ]
    },
    {
     "name": "stderr",
     "output_type": "stream",
     "text": [
      "\n"
     ]
    },
    {
     "name": "stdout",
     "output_type": "stream",
     "text": [
      "Stored 6400 samples to w_aug_XYZZZZZZ_6400.txt.\n",
      "\n"
     ]
    },
    {
     "name": "stderr",
     "output_type": "stream",
     "text": [
      "Constructing basis ZXYZZZZZ: 100%|██████████| 256/256 [00:00<00:00, 2557.22it/s]"
     ]
    },
    {
     "name": "stdout",
     "output_type": "stream",
     "text": [
      "Sampling 6400 samples took 0.02 seconds.\n"
     ]
    },
    {
     "name": "stderr",
     "output_type": "stream",
     "text": [
      "\n"
     ]
    },
    {
     "name": "stdout",
     "output_type": "stream",
     "text": [
      "Stored 6400 samples to w_aug_ZXYZZZZZ_6400.txt.\n",
      "\n"
     ]
    },
    {
     "name": "stderr",
     "output_type": "stream",
     "text": [
      "Constructing basis ZZXYZZZZ: 100%|██████████| 256/256 [00:00<00:00, 2519.76it/s]"
     ]
    },
    {
     "name": "stdout",
     "output_type": "stream",
     "text": [
      "Sampling 6400 samples took 0.02 seconds.\n"
     ]
    },
    {
     "name": "stderr",
     "output_type": "stream",
     "text": [
      "\n"
     ]
    },
    {
     "name": "stdout",
     "output_type": "stream",
     "text": [
      "Stored 6400 samples to w_aug_ZZXYZZZZ_6400.txt.\n",
      "\n"
     ]
    },
    {
     "name": "stderr",
     "output_type": "stream",
     "text": [
      "Constructing basis ZZZXYZZZ: 100%|██████████| 256/256 [00:00<00:00, 2706.47it/s]"
     ]
    },
    {
     "name": "stdout",
     "output_type": "stream",
     "text": [
      "Sampling 6400 samples took 0.02 seconds.\n"
     ]
    },
    {
     "name": "stderr",
     "output_type": "stream",
     "text": [
      "\n"
     ]
    },
    {
     "name": "stdout",
     "output_type": "stream",
     "text": [
      "Stored 6400 samples to w_aug_ZZZXYZZZ_6400.txt.\n",
      "\n"
     ]
    },
    {
     "name": "stderr",
     "output_type": "stream",
     "text": [
      "Constructing basis ZZZZXYZZ: 100%|██████████| 256/256 [00:00<00:00, 2630.93it/s]"
     ]
    },
    {
     "name": "stdout",
     "output_type": "stream",
     "text": [
      "Sampling 6400 samples took 0.02 seconds.\n"
     ]
    },
    {
     "name": "stderr",
     "output_type": "stream",
     "text": [
      "\n"
     ]
    },
    {
     "name": "stdout",
     "output_type": "stream",
     "text": [
      "Stored 6400 samples to w_aug_ZZZZXYZZ_6400.txt.\n",
      "\n"
     ]
    },
    {
     "name": "stderr",
     "output_type": "stream",
     "text": [
      "Constructing basis ZZZZZXYZ: 100%|██████████| 256/256 [00:00<00:00, 2563.35it/s]"
     ]
    },
    {
     "name": "stdout",
     "output_type": "stream",
     "text": [
      "Sampling 6400 samples took 0.02 seconds.\n"
     ]
    },
    {
     "name": "stderr",
     "output_type": "stream",
     "text": [
      "\n"
     ]
    },
    {
     "name": "stdout",
     "output_type": "stream",
     "text": [
      "Stored 6400 samples to w_aug_ZZZZZXYZ_6400.txt.\n",
      "\n"
     ]
    },
    {
     "name": "stderr",
     "output_type": "stream",
     "text": [
      "Constructing basis ZZZZZZXY: 100%|██████████| 256/256 [00:00<00:00, 2654.94it/s]"
     ]
    },
    {
     "name": "stdout",
     "output_type": "stream",
     "text": [
      "Sampling 6400 samples took 0.02 seconds.\n"
     ]
    },
    {
     "name": "stderr",
     "output_type": "stream",
     "text": [
      "\n"
     ]
    },
    {
     "name": "stdout",
     "output_type": "stream",
     "text": [
      "Stored 6400 samples to w_aug_ZZZZZZXY_6400.txt.\n",
      "\n"
     ]
    }
   ],
   "execution_count": 11
  },
  {
   "metadata": {},
   "cell_type": "code",
   "outputs": [],
   "execution_count": null,
   "source": "",
   "id": "1619918e1377e34a"
  }
 ],
 "metadata": {
  "kernelspec": {
   "display_name": "Python 3",
   "language": "python",
   "name": "python3"
  },
  "language_info": {
   "codemirror_mode": {
    "name": "ipython",
    "version": 2
   },
   "file_extension": ".py",
   "mimetype": "text/x-python",
   "name": "python",
   "nbconvert_exporter": "python",
   "pygments_lexer": "ipython2",
   "version": "2.7.6"
  }
 },
 "nbformat": 4,
 "nbformat_minor": 5
}
