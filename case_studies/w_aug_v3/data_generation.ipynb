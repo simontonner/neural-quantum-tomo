{
 "cells": [
  {
   "metadata": {
    "ExecuteTime": {
     "end_time": "2025-06-05T11:14:54.387933Z",
     "start_time": "2025-06-05T11:14:54.382518Z"
    }
   },
   "cell_type": "code",
   "source": [
    "from time import time\n",
    "from pathlib import Path\n",
    "from tqdm import tqdm\n",
    "\n",
    "from itertools import product\n",
    "\n",
    "import numpy as np\n",
    "\n",
    "data_dir = Path(\"data\")\n",
    "data_dir.mkdir(parents=True, exist_ok=True)\n",
    "\n",
    "rng_seed = 42\n",
    "\n",
    "print(f\"Data will be saved to {data_dir.resolve()}\")\n",
    "print(f\"Random seed is {rng_seed}\")"
   ],
   "id": "a7f45a14814b2bbc",
   "outputs": [
    {
     "name": "stdout",
     "output_type": "stream",
     "text": [
      "Data will be saved to /Users/Tonni/Desktop/master-code/neural-quantum-tomo/case_studies/w_aug_v3/data_small\n",
      "Random seed is 42\n"
     ]
    }
   ],
   "execution_count": 6
  },
  {
   "metadata": {
    "ExecuteTime": {
     "end_time": "2025-06-05T11:14:57.346866Z",
     "start_time": "2025-06-05T11:14:57.338338Z"
    }
   },
   "cell_type": "code",
   "source": [
    "# if we do just sampling, we actually don't need any eigenvalues\n",
    "\n",
    "class PauliOperator:\n",
    "    def __init__(self, matrix: np.ndarray, eigenvectors: list[np.ndarray]):\n",
    "        \"\"\"\n",
    "        Bundles the relevant information of a Pauli operator into a single object.\n",
    "\n",
    "        :param matrix: The matrix representation of the Pauli operator, shape (2, 2).\n",
    "        :param eigenvectors: The eigenvectors of the Pauli operator, shape (2, 2).\n",
    "        \"\"\"\n",
    "        self.matrix = matrix\n",
    "        self.eigenvectors = eigenvectors\n",
    "\n",
    "\n",
    "def construct_measurement_basis(pauli_ops: list[PauliOperator]) -> list[np.ndarray]:\n",
    "    \"\"\"\n",
    "    Constructs the full tensor product basis for a given list of Pauli operators.\n",
    "\n",
    "    :param pauli_ops: List of Pauli operators in order of qubit indices.\n",
    "\n",
    "    :return: List basis vectors to project onto, shape (2^num_qubits, 2^num_qubits).\n",
    "    \"\"\"\n",
    "    measurement_basis = []\n",
    "\n",
    "    # we simply build up all possible outcomes like 000, 001, 010, ... 111\n",
    "    outcome_bitstrings = list(product([0, 1], repeat=len(pauli_ops)))\n",
    "    for outcome_bitstring in tqdm(outcome_bitstrings, desc=\"Constructing measurement basis\"):\n",
    "        multi_qubit_eigenvector = None\n",
    "\n",
    "        # now we split up the bitstring and zip each qubit outcome with the corresponding Pauli operator\n",
    "        for pauli_op, outcome_bit in zip(pauli_ops, outcome_bitstring):\n",
    "            # we can directly misuse the outcome bit as index for accessing the state vector\n",
    "            eigenvector = pauli_op.eigenvectors[outcome_bit]\n",
    "\n",
    "            if multi_qubit_eigenvector is None:\n",
    "                multi_qubit_eigenvector = eigenvector\n",
    "                continue\n",
    "\n",
    "            # we build up the multi-qubit eigenvector by taking the tensor product of the single-qubit eigenvectors\n",
    "            multi_qubit_eigenvector = np.kron(multi_qubit_eigenvector, eigenvector)\n",
    "\n",
    "        # each outcome has its corresponding measurement basis vector\n",
    "        measurement_basis.append(multi_qubit_eigenvector)\n",
    "\n",
    "    return measurement_basis\n",
    "\n",
    "\n",
    "def sample_state(state_vec: np.ndarray, meas_dirs: list[str], num_samples: int = 1000, rng=None) -> np.ndarray:\n",
    "    \"\"\"\n",
    "    Samples `num_samples` bitstrings from the state for the given measurement directions.\n",
    "\n",
    "    :param state_vec: The state vector to sample from, shape (2^num_qubits,).\n",
    "    :param meas_dirs: A description of the measurement directions, e.g. ['Z', 'X', 'Y'], shape (num_qubits,).\n",
    "    :param num_samples: The number of samples to draw.\n",
    "    :param rng: Optional random number generator. If None, a new default_rng will be created.\n",
    "\n",
    "    :return: A list of sampled bitstrings, shape (num_samples, num_qubits).\n",
    "    \"\"\"\n",
    "    rng = np.random.default_rng() if rng is None else rng\n",
    "\n",
    "    # looking up the pauli operators, ignoring key errors at this point\n",
    "    pauli_ops = [pauli_operators[md] for md in meas_dirs]\n",
    "\n",
    "    basis_vecs = construct_measurement_basis(pauli_ops)\n",
    "\n",
    "    start_time = time()\n",
    "\n",
    "    # as soon as we have the basis vectors, we can apply the born rule spitting out the probabilities\n",
    "    probs = [abs(np.vdot(v, state_vec))**2 for v in basis_vecs]\n",
    "    probs = np.array(probs)\n",
    "    probs /= probs.sum()  # just in case\n",
    "\n",
    "    chosen_basis_indices = rng.choice(len(probs), size=num_samples, p=probs)\n",
    "    sampled_bitstrings = [list(map(int, f\"{basis_idx:0{len(pauli_ops)}b}\")) for basis_idx in chosen_basis_indices]\n",
    "\n",
    "    print(f\"Sampled {num_samples} bitstrings in {time() - start_time:.2f} seconds.\")\n",
    "    return np.array(sampled_bitstrings, dtype=np.uint8)"
   ],
   "id": "56b720d0efa1abc8",
   "outputs": [],
   "execution_count": 7
  },
  {
   "metadata": {
    "ExecuteTime": {
     "end_time": "2025-06-05T11:15:13.162665Z",
     "start_time": "2025-06-05T11:15:13.157817Z"
    }
   },
   "cell_type": "code",
   "source": [
    "def format_bytes(num_bytes):\n",
    "    \"\"\"Utility function to format bytes into KB, MB, GB, etc.\"\"\"\n",
    "    for unit in ['B', 'KB', 'MB', 'GB', 'TB']:\n",
    "        if num_bytes < 1024.0:\n",
    "            return f\"{num_bytes:.2f} {unit}\"\n",
    "        num_bytes /= 1024.0\n",
    "    return f\"{num_bytes:.2f} PB\"\n",
    "\n",
    "\n",
    "# construct the state\n",
    "\n",
    "num_qubits = 10\n",
    "\n",
    "state_dim = 1 << num_qubits                     # bit shifting a ...0001 bitstring is the same as 2**a\n",
    "w_aug = np.zeros(state_dim, dtype=complex)      # empty state vector\n",
    "\n",
    "# since the W state has only non-zero amplitudes for one-hot states, we only need num_qubits random phases\n",
    "rng = np.random.default_rng(42)\n",
    "thetas = rng.uniform(0, 2*np.pi, size=num_qubits)\n",
    "\n",
    "for j in range(num_qubits):\n",
    "    idx = 1 << (num_qubits - 1 - j)              # find indexing mask via bit shifting\n",
    "\n",
    "    # apply the phase to the corresponding amplitude coefficient\n",
    "    w_aug[idx] = np.exp(1j * thetas[j]) / np.sqrt(num_qubits)"
   ],
   "id": "3cbfed65a860f349",
   "outputs": [],
   "execution_count": 8
  },
  {
   "metadata": {
    "ExecuteTime": {
     "end_time": "2025-06-05T11:15:18.165954Z",
     "start_time": "2025-06-05T11:15:18.160487Z"
    }
   },
   "cell_type": "code",
   "source": [
    "from pathlib import Path\n",
    "import numpy as np\n",
    "\n",
    "def format_bytes(num_bytes):\n",
    "    return f\"{num_bytes / 1024:.2f} KB\"\n",
    "\n",
    "def save_state_vector(w_aug: np.ndarray, data_dir: Path):\n",
    "    # Ensure target directory exists\n",
    "    data_dir.mkdir(parents=True, exist_ok=True)\n",
    "\n",
    "    # Save human-readable version as .txt\n",
    "    file_path_txt = data_dir / \"w_aug_state.txt\"\n",
    "    n_visible = int(np.log2(len(w_aug)))\n",
    "\n",
    "    with open(file_path_txt, \"w\") as f:\n",
    "        for idx, amp in enumerate(w_aug):\n",
    "            bitstr = f\"{idx:0{n_visible}b}\"\n",
    "            re, im = amp.real, amp.imag\n",
    "            f.write(f\"{bitstr}: {re:+.8f}{im:+.8f}j\\n\")\n",
    "\n",
    "    print(f\"State vector written to {file_path_txt} ({format_bytes(file_path_txt.stat().st_size)})\")\n",
    "\n",
    "\n",
    "# Save the state vector to files\n",
    "save_state_vector(w_aug, data_dir)"
   ],
   "id": "aa9fca92e91418a5",
   "outputs": [
    {
     "name": "stdout",
     "output_type": "stream",
     "text": [
      "State vector written to data_small/w_aug_state.txt (0.97 KB)\n"
     ]
    }
   ],
   "execution_count": 9
  },
  {
   "metadata": {
    "ExecuteTime": {
     "end_time": "2025-06-05T11:15:22.142233Z",
     "start_time": "2025-06-05T11:15:22.138914Z"
    }
   },
   "cell_type": "code",
   "source": [
    "print(f\"Size of state vector in memory: {format_bytes(w_aug.nbytes)} \\n\")\n",
    "\n",
    "for i in range(10):\n",
    "    print(f\"{i:0{num_qubits}b}: {w_aug[i]:.8f}\")"
   ],
   "id": "6b00ee7ab3b14cae",
   "outputs": [
    {
     "name": "stdout",
     "output_type": "stream",
     "text": [
      "Size of state vector in memory: 0.50 KB \n",
      "\n",
      "00000: 0.00000000+0.00000000j\n",
      "00001: 0.37117604+0.24945611j\n",
      "00010: -0.14521106-0.42298197j\n",
      "00011: 0.00000000+0.00000000j\n",
      "00100: 0.28201803-0.34708188j\n",
      "00101: 0.00000000+0.00000000j\n",
      "00110: 0.00000000+0.00000000j\n",
      "00111: 0.00000000+0.00000000j\n",
      "01000: -0.41463823+0.16755638j\n",
      "01001: 0.00000000+0.00000000j\n"
     ]
    }
   ],
   "execution_count": 10
  },
  {
   "metadata": {
    "ExecuteTime": {
     "end_time": "2025-06-05T11:15:24.580331Z",
     "start_time": "2025-06-05T11:15:24.575370Z"
    }
   },
   "cell_type": "code",
   "source": [
    "pauli_operators = {\n",
    "    'I': PauliOperator(np.eye(2), [np.array([1, 0]), np.array([0, 1])]),\n",
    "    'X': PauliOperator(np.array([[0, 1], [1, 0]]), [np.array([1,  1]) / np.sqrt(2), np.array([1, -1]) / np.sqrt(2)]),\n",
    "    'Y': PauliOperator(np.array([[0, -1j], [1j, 0]]), [np.array([1,  1j]) / np.sqrt(2), np.array([1, -1j]) / np.sqrt(2)]),\n",
    "    'Z': PauliOperator(np.array([[1, 0], [0, -1]]), [np.array([1, 0]), np.array([0, 1])])\n",
    "}"
   ],
   "id": "f10ca3f2e45fa7f5",
   "outputs": [],
   "execution_count": 11
  },
  {
   "metadata": {
    "ExecuteTime": {
     "end_time": "2025-06-05T11:15:26.825366Z",
     "start_time": "2025-06-05T11:15:26.822155Z"
    }
   },
   "cell_type": "code",
   "source": [
    "measurement_dirs = []\n",
    "\n",
    "# all Z\n",
    "measurement_dirs.append(['Z'] * num_qubits)\n",
    "\n",
    "# sliding XX window\n",
    "for i in range(num_qubits - 1):\n",
    "    basis_list = ['Z'] * num_qubits\n",
    "    basis_list[i] = 'X'\n",
    "    basis_list[i+1] = 'X'\n",
    "    measurement_dirs.append(basis_list)\n",
    "\n",
    "# sliding XY window\n",
    "for i in range(num_qubits - 1):\n",
    "    basis_list = ['Z'] * num_qubits\n",
    "    basis_list[i] = 'X'\n",
    "    basis_list[i+1] = 'Y'\n",
    "    measurement_dirs.append(basis_list)\n",
    "\n",
    "\n",
    "for i, basis in enumerate(measurement_dirs):\n",
    "    print(f\"Basis {i:2d}: {''.join(basis)}\")"
   ],
   "id": "78515c8b04f9bb71",
   "outputs": [
    {
     "name": "stdout",
     "output_type": "stream",
     "text": [
      "Basis  0: ZZZZZ\n",
      "Basis  1: XXZZZ\n",
      "Basis  2: ZXXZZ\n",
      "Basis  3: ZZXXZ\n",
      "Basis  4: ZZZXX\n",
      "Basis  5: XYZZZ\n",
      "Basis  6: ZXYZZ\n",
      "Basis  7: ZZXYZ\n",
      "Basis  8: ZZZXY\n"
     ]
    }
   ],
   "execution_count": 12
  },
  {
   "metadata": {
    "ExecuteTime": {
     "end_time": "2025-06-05T11:15:30.179136Z",
     "start_time": "2025-06-05T11:15:29.600132Z"
    }
   },
   "cell_type": "code",
   "source": [
    "def format_measurement(bitstring, basis):\n",
    "    result = []\n",
    "    for bit, op in zip(bitstring, basis):\n",
    "        if bit == 0 or bit == '0':\n",
    "            result.append(op.upper())\n",
    "        elif bit == 1 or bit == '1':\n",
    "            result.append(op.lower())\n",
    "        else:\n",
    "            result.append('?')\n",
    "    return ''.join(result)\n",
    "\n",
    "\n",
    "samples_per_basis = 6400\n",
    "\n",
    "\n",
    "for _, pauli_ops in enumerate(measurement_dirs):\n",
    "    pauli_dirs_str = ''.join(pauli_ops)\n",
    "    filename = data_dir / f\"w_aug_{pauli_dirs_str}_{samples_per_basis}.txt\"\n",
    "\n",
    "    print(f\"Measuring in basis: {pauli_dirs_str}\")\n",
    "\n",
    "    samples = sample_state(w_aug, pauli_ops, samples_per_basis, rng=rng)\n",
    "\n",
    "    with open(filename, 'w') as f_out:\n",
    "        for bitstring in samples:\n",
    "            formatted = format_measurement(bitstring, pauli_ops)\n",
    "            f_out.write(formatted + \"\\n\")\n",
    "\n",
    "    print(f\"Stored {samples_per_basis} samples to {filename.name}.\")"
   ],
   "id": "1b92008f13c9bb19",
   "outputs": [
    {
     "name": "stdout",
     "output_type": "stream",
     "text": [
      "Measuring in basis: ZZZZZ\n"
     ]
    },
    {
     "name": "stderr",
     "output_type": "stream",
     "text": [
      "Constructing measurement basis: 100%|██████████| 32/32 [00:00<00:00, 16886.98it/s]\n"
     ]
    },
    {
     "name": "stdout",
     "output_type": "stream",
     "text": [
      "Sampled 6400 bitstrings in 0.01 seconds.\n",
      "Stored 6400 samples to w_aug_ZZZZZ_6400.txt.\n",
      "Measuring in basis: XXZZZ\n"
     ]
    },
    {
     "name": "stderr",
     "output_type": "stream",
     "text": [
      "Constructing measurement basis: 100%|██████████| 32/32 [00:00<00:00, 21334.88it/s]\n"
     ]
    },
    {
     "name": "stdout",
     "output_type": "stream",
     "text": [
      "Sampled 6400 bitstrings in 0.01 seconds.\n",
      "Stored 6400 samples to w_aug_XXZZZ_6400.txt.\n",
      "Measuring in basis: ZXXZZ\n"
     ]
    },
    {
     "name": "stderr",
     "output_type": "stream",
     "text": [
      "Constructing measurement basis: 100%|██████████| 32/32 [00:00<00:00, 22177.42it/s]"
     ]
    },
    {
     "name": "stdout",
     "output_type": "stream",
     "text": [
      "Sampled 6400 bitstrings in 0.03 seconds.\n"
     ]
    },
    {
     "name": "stderr",
     "output_type": "stream",
     "text": [
      "\n"
     ]
    },
    {
     "name": "stdout",
     "output_type": "stream",
     "text": [
      "Stored 6400 samples to w_aug_ZXXZZ_6400.txt.\n",
      "Measuring in basis: ZZXXZ\n"
     ]
    },
    {
     "name": "stderr",
     "output_type": "stream",
     "text": [
      "Constructing measurement basis: 100%|██████████| 32/32 [00:00<00:00, 22795.13it/s]\n"
     ]
    },
    {
     "name": "stdout",
     "output_type": "stream",
     "text": [
      "Sampled 6400 bitstrings in 0.01 seconds.\n",
      "Stored 6400 samples to w_aug_ZZXXZ_6400.txt.\n",
      "Measuring in basis: ZZZXX\n"
     ]
    },
    {
     "name": "stderr",
     "output_type": "stream",
     "text": [
      "Constructing measurement basis: 100%|██████████| 32/32 [00:00<00:00, 22395.75it/s]\n"
     ]
    },
    {
     "name": "stdout",
     "output_type": "stream",
     "text": [
      "Sampled 6400 bitstrings in 0.01 seconds.\n",
      "Stored 6400 samples to w_aug_ZZZXX_6400.txt.\n",
      "Measuring in basis: XYZZZ\n"
     ]
    },
    {
     "name": "stderr",
     "output_type": "stream",
     "text": [
      "Constructing measurement basis: 100%|██████████| 32/32 [00:00<00:00, 21375.65it/s]\n"
     ]
    },
    {
     "name": "stdout",
     "output_type": "stream",
     "text": [
      "Sampled 6400 bitstrings in 0.01 seconds.\n",
      "Stored 6400 samples to w_aug_XYZZZ_6400.txt.\n",
      "Measuring in basis: ZXYZZ\n"
     ]
    },
    {
     "name": "stderr",
     "output_type": "stream",
     "text": [
      "Constructing measurement basis: 100%|██████████| 32/32 [00:00<00:00, 22053.52it/s]"
     ]
    },
    {
     "name": "stdout",
     "output_type": "stream",
     "text": [
      "Sampled 6400 bitstrings in 0.01 seconds.\n"
     ]
    },
    {
     "name": "stderr",
     "output_type": "stream",
     "text": [
      "\n"
     ]
    },
    {
     "name": "stdout",
     "output_type": "stream",
     "text": [
      "Stored 6400 samples to w_aug_ZXYZZ_6400.txt.\n",
      "Measuring in basis: ZZXYZ\n"
     ]
    },
    {
     "name": "stderr",
     "output_type": "stream",
     "text": [
      "Constructing measurement basis: 100%|██████████| 32/32 [00:00<00:00, 20588.70it/s]"
     ]
    },
    {
     "name": "stdout",
     "output_type": "stream",
     "text": [
      "Sampled 6400 bitstrings in 0.01 seconds.\n"
     ]
    },
    {
     "name": "stderr",
     "output_type": "stream",
     "text": [
      "\n"
     ]
    },
    {
     "name": "stdout",
     "output_type": "stream",
     "text": [
      "Stored 6400 samples to w_aug_ZZXYZ_6400.txt.\n",
      "Measuring in basis: ZZZXY\n"
     ]
    },
    {
     "name": "stderr",
     "output_type": "stream",
     "text": [
      "Constructing measurement basis: 100%|██████████| 32/32 [00:00<00:00, 22082.55it/s]"
     ]
    },
    {
     "name": "stdout",
     "output_type": "stream",
     "text": [
      "Sampled 6400 bitstrings in 0.01 seconds.\n"
     ]
    },
    {
     "name": "stderr",
     "output_type": "stream",
     "text": [
      "\n"
     ]
    },
    {
     "name": "stdout",
     "output_type": "stream",
     "text": [
      "Stored 6400 samples to w_aug_ZZZXY_6400.txt.\n"
     ]
    }
   ],
   "execution_count": 13
  },
  {
   "metadata": {},
   "cell_type": "code",
   "source": "",
   "id": "7d36803685c28d34",
   "outputs": [],
   "execution_count": null
  }
 ],
 "metadata": {
  "kernelspec": {
   "display_name": "Python 3",
   "language": "python",
   "name": "python3"
  },
  "language_info": {
   "codemirror_mode": {
    "name": "ipython",
    "version": 2
   },
   "file_extension": ".py",
   "mimetype": "text/x-python",
   "name": "python",
   "nbconvert_exporter": "python",
   "pygments_lexer": "ipython2",
   "version": "2.7.6"
  }
 },
 "nbformat": 4,
 "nbformat_minor": 5
}
