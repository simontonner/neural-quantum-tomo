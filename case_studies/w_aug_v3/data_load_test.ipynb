{
 "cells": [
  {
   "cell_type": "code",
   "id": "initial_id",
   "metadata": {
    "collapsed": true,
    "ExecuteTime": {
     "end_time": "2025-06-14T22:19:28.099904Z",
     "start_time": "2025-06-14T22:19:28.065959Z"
    }
   },
   "source": [
    "%reload_ext autoreload\n",
    "%autoreload 2\n",
    "\n",
    "from lib.basis import construct_rotation_matrix\n",
    "from lib.formatting import bitstring_to_int\n",
    "from lib.data_loading import load_measurements, MixedDataLoader\n",
    "from lib.state_io import load_state_vector\n",
    "\n",
    "####\n",
    "\n",
    "import re\n",
    "from pathlib import Path\n",
    "from typing import Optional, Tuple, Dict, Any, Sequence, Callable\n",
    "\n",
    "import numpy as np\n",
    "\n",
    "import jax\n",
    "import jax.lax\n",
    "import jax.numpy as jnp\n",
    "import optax\n",
    "from flax.training.train_state import TrainState\n",
    "from flax.training import checkpoints\n",
    "from flax import linen as nn\n",
    "from jaxtyping import PyTree\n",
    "\n",
    "import matplotlib.pyplot as plt\n",
    "\n",
    "data_dir = Path(\"data\")\n",
    "model_dir = \"./models\"\n",
    "model_prefix = \"rbm_amp_202506150002_0\"\n",
    "\n",
    "print(f\"Data resides in                         : {data_dir}\")\n",
    "print(f\"Amplitude RBM checkpoint to be loaded   : {model_dir}/{model_prefix}\")"
   ],
   "outputs": [
    {
     "name": "stdout",
     "output_type": "stream",
     "text": [
      "Data resides in                         : data\n",
      "Amplitude RBM checkpoint to be loaded   : ./models/rbm_amp_202506150002_0\n"
     ]
    }
   ],
   "execution_count": 5
  },
  {
   "metadata": {
    "ExecuteTime": {
     "end_time": "2025-06-14T22:32:39.683254Z",
     "start_time": "2025-06-14T22:32:37.071919Z"
    }
   },
   "cell_type": "code",
   "source": [
    "file_pattern = re.compile(r\"^w_aug_ZZ.*(XX|XY).*ZZ_6400\\.txt$\")\n",
    "\n",
    "file_paths = [f for f in data_dir.iterdir() if f.is_file() and file_pattern.match(f.name)]\n",
    "\n",
    "data_bases = []\n",
    "for file_path in file_paths:\n",
    "    data_basis = load_measurements(file_path)\n",
    "    data_bases.append(data_basis)\n",
    "\n",
    "data = jnp.concatenate(data_bases, axis=0)"
   ],
   "id": "1cc38422be9a35c9",
   "outputs": [
    {
     "name": "stderr",
     "output_type": "stream",
     "text": [
      "Parsing measurements: 100%|██████████| 6400/6400 [00:00<00:00, 26619.20it/s]\n",
      "Parsing measurements: 100%|██████████| 6400/6400 [00:00<00:00, 27242.26it/s]\n",
      "Parsing measurements: 100%|██████████| 6400/6400 [00:00<00:00, 27320.76it/s]\n",
      "Parsing measurements: 100%|██████████| 6400/6400 [00:00<00:00, 27049.53it/s]\n",
      "Parsing measurements: 100%|██████████| 6400/6400 [00:00<00:00, 26943.40it/s]\n",
      "Parsing measurements: 100%|██████████| 6400/6400 [00:00<00:00, 27299.81it/s]\n"
     ]
    }
   ],
   "execution_count": 11
  },
  {
   "metadata": {
    "ExecuteTime": {
     "end_time": "2025-06-14T23:01:32.111427Z",
     "start_time": "2025-06-14T23:01:31.829749Z"
    }
   },
   "cell_type": "code",
   "source": [
    "from lib.basis import construct_rotation_matrix\n",
    "\n",
    "basis_int = jnp.array([1, 2, 3], dtype=jnp.int32)\n",
    "\n",
    "rot = construct_rotation_matrix(basis_int)\n",
    "print(rot)"
   ],
   "id": "4f2dedfeef0f2444",
   "outputs": [
    {
     "ename": "TypeError",
     "evalue": "Scanned function carry input and carry output must have equal types (e.g. shapes and dtypes of arrays), but they differ:\n  * the input carry component loop_carry[1] has type complex64[1,1] but the corresponding output carry component has type complex64[2,2], so the shapes do not match\n\nRevise the scanned function so that all output types (e.g. shapes and dtypes) match the corresponding input types.",
     "output_type": "error",
     "traceback": [
      "\u001B[0;31m---------------------------------------------------------------------------\u001B[0m",
      "\u001B[0;31mTypeError\u001B[0m                                 Traceback (most recent call last)",
      "Cell \u001B[0;32mIn[13], line 5\u001B[0m\n\u001B[1;32m      1\u001B[0m \u001B[38;5;28;01mfrom\u001B[39;00m \u001B[38;5;21;01mlib\u001B[39;00m\u001B[38;5;21;01m.\u001B[39;00m\u001B[38;5;21;01mbasis\u001B[39;00m \u001B[38;5;28;01mimport\u001B[39;00m construct_rotation_matrix\n\u001B[1;32m      3\u001B[0m basis_int \u001B[38;5;241m=\u001B[39m jnp\u001B[38;5;241m.\u001B[39marray([\u001B[38;5;241m1\u001B[39m, \u001B[38;5;241m2\u001B[39m, \u001B[38;5;241m3\u001B[39m], dtype\u001B[38;5;241m=\u001B[39mjnp\u001B[38;5;241m.\u001B[39mint32)\n\u001B[0;32m----> 5\u001B[0m rot \u001B[38;5;241m=\u001B[39m \u001B[43mconstruct_rotation_matrix\u001B[49m\u001B[43m(\u001B[49m\u001B[43mbasis_int\u001B[49m\u001B[43m)\u001B[49m\n\u001B[1;32m      6\u001B[0m \u001B[38;5;28mprint\u001B[39m(rot)\n",
      "File \u001B[0;32m~/Desktop/master-code/neural-quantum-tomo/case_studies/w_aug_v3/lib/basis.py:20\u001B[0m, in \u001B[0;36mconstruct_rotation_matrix\u001B[0;34m(basis_int)\u001B[0m\n\u001B[1;32m     16\u001B[0m rotator_array \u001B[38;5;241m=\u001B[39m jnp\u001B[38;5;241m.\u001B[39mstack([pauli_i\u001B[38;5;241m.\u001B[39mrotator_bras, pauli_x\u001B[38;5;241m.\u001B[39mrotator_bras, pauli_y\u001B[38;5;241m.\u001B[39mrotator_bras, pauli_z\u001B[38;5;241m.\u001B[39mrotator_bras])\n\u001B[1;32m     18\u001B[0m expand_tensor_fn \u001B[38;5;241m=\u001B[39m \u001B[38;5;28;01mlambda\u001B[39;00m i, rotation_matrix: jnp\u001B[38;5;241m.\u001B[39mkron(rotation_matrix, rotator_array[basis_int[i]])\n\u001B[0;32m---> 20\u001B[0m rotation_matrix \u001B[38;5;241m=\u001B[39m \u001B[43mjax\u001B[49m\u001B[38;5;241;43m.\u001B[39;49m\u001B[43mlax\u001B[49m\u001B[38;5;241;43m.\u001B[39;49m\u001B[43mfori_loop\u001B[49m\u001B[43m(\u001B[49m\u001B[38;5;241;43m0\u001B[39;49m\u001B[43m,\u001B[49m\u001B[43m \u001B[49m\u001B[43mbasis_int\u001B[49m\u001B[38;5;241;43m.\u001B[39;49m\u001B[43mshape\u001B[49m\u001B[43m[\u001B[49m\u001B[38;5;241;43m0\u001B[39;49m\u001B[43m]\u001B[49m\u001B[43m,\u001B[49m\u001B[43m \u001B[49m\u001B[43mexpand_tensor_fn\u001B[49m\u001B[43m,\u001B[49m\u001B[43m \u001B[49m\u001B[43mjnp\u001B[49m\u001B[38;5;241;43m.\u001B[39;49m\u001B[43meye\u001B[49m\u001B[43m(\u001B[49m\u001B[38;5;241;43m1\u001B[39;49m\u001B[43m,\u001B[49m\u001B[43m \u001B[49m\u001B[43mdtype\u001B[49m\u001B[38;5;241;43m=\u001B[39;49m\u001B[43mjnp\u001B[49m\u001B[38;5;241;43m.\u001B[39;49m\u001B[43mcomplex64\u001B[49m\u001B[43m)\u001B[49m\u001B[43m)\u001B[49m\n\u001B[1;32m     21\u001B[0m \u001B[38;5;28;01mreturn\u001B[39;00m rotation_matrix\n",
      "    \u001B[0;31m[... skipping hidden 4 frame]\u001B[0m\n",
      "File \u001B[0;32m~/miniforge3/envs/dlnn2/lib/python3.9/site-packages/jax/_src/lax/control_flow/loops.py:376\u001B[0m, in \u001B[0;36m_check_scan_carry_type\u001B[0;34m(body_fun, in_carry, out_carry_tree, out_avals)\u001B[0m\n\u001B[1;32m    369\u001B[0m \u001B[38;5;28;01mif\u001B[39;00m \u001B[38;5;129;01mnot\u001B[39;00m \u001B[38;5;28mall\u001B[39m(_map(core\u001B[38;5;241m.\u001B[39mtypematch, in_avals, out_avals)):\n\u001B[1;32m    370\u001B[0m   differences \u001B[38;5;241m=\u001B[39m \u001B[38;5;124m'\u001B[39m\u001B[38;5;130;01m\\n\u001B[39;00m\u001B[38;5;124m'\u001B[39m\u001B[38;5;241m.\u001B[39mjoin(\n\u001B[1;32m    371\u001B[0m       \u001B[38;5;124mf\u001B[39m\u001B[38;5;124m'\u001B[39m\u001B[38;5;124m  * \u001B[39m\u001B[38;5;132;01m{\u001B[39;00mcomponent(path)\u001B[38;5;132;01m}\u001B[39;00m\u001B[38;5;124m has type \u001B[39m\u001B[38;5;132;01m{\u001B[39;00min_aval\u001B[38;5;241m.\u001B[39mstr_short()\u001B[38;5;132;01m}\u001B[39;00m\u001B[38;5;124m'\u001B[39m\n\u001B[1;32m    372\u001B[0m       \u001B[38;5;124m'\u001B[39m\u001B[38;5;124m but the corresponding output carry component has type \u001B[39m\u001B[38;5;124m'\u001B[39m\n\u001B[1;32m    373\u001B[0m       \u001B[38;5;124mf\u001B[39m\u001B[38;5;124m'\u001B[39m\u001B[38;5;132;01m{\u001B[39;00mout_aval\u001B[38;5;241m.\u001B[39mstr_short()\u001B[38;5;132;01m}\u001B[39;00m\u001B[38;5;132;01m{\u001B[39;00m_aval_mismatch_extra(in_aval,\u001B[38;5;250m \u001B[39mout_aval)\u001B[38;5;132;01m}\u001B[39;00m\u001B[38;5;130;01m\\n\u001B[39;00m\u001B[38;5;124m'\u001B[39m\n\u001B[1;32m    374\u001B[0m       \u001B[38;5;28;01mfor\u001B[39;00m path, in_aval, out_aval \u001B[38;5;129;01min\u001B[39;00m \u001B[38;5;28mzip\u001B[39m(paths, in_avals, out_avals)\n\u001B[1;32m    375\u001B[0m       \u001B[38;5;28;01mif\u001B[39;00m \u001B[38;5;129;01mnot\u001B[39;00m core\u001B[38;5;241m.\u001B[39mtypematch(in_aval, out_aval))\n\u001B[0;32m--> 376\u001B[0m   \u001B[38;5;28;01mraise\u001B[39;00m \u001B[38;5;167;01mTypeError\u001B[39;00m(\n\u001B[1;32m    377\u001B[0m       \u001B[38;5;124m\"\u001B[39m\u001B[38;5;124mScanned function carry input and carry output must have equal types \u001B[39m\u001B[38;5;124m\"\u001B[39m\n\u001B[1;32m    378\u001B[0m       \u001B[38;5;124m\"\u001B[39m\u001B[38;5;124m(e.g. shapes and dtypes of arrays), \u001B[39m\u001B[38;5;124m\"\u001B[39m\n\u001B[1;32m    379\u001B[0m       \u001B[38;5;124m\"\u001B[39m\u001B[38;5;124mbut they differ:\u001B[39m\u001B[38;5;130;01m\\n\u001B[39;00m\u001B[38;5;124m\"\u001B[39m\n\u001B[1;32m    380\u001B[0m       \u001B[38;5;124mf\u001B[39m\u001B[38;5;124m\"\u001B[39m\u001B[38;5;132;01m{\u001B[39;00mdifferences\u001B[38;5;132;01m}\u001B[39;00m\u001B[38;5;130;01m\\n\u001B[39;00m\u001B[38;5;124m\"\u001B[39m\n\u001B[1;32m    381\u001B[0m       \u001B[38;5;124m\"\u001B[39m\u001B[38;5;124mRevise the scanned function so that all output types (e.g. shapes \u001B[39m\u001B[38;5;124m\"\u001B[39m\n\u001B[1;32m    382\u001B[0m       \u001B[38;5;124m\"\u001B[39m\u001B[38;5;124mand dtypes) match the corresponding input types.\u001B[39m\u001B[38;5;124m\"\u001B[39m\n\u001B[1;32m    383\u001B[0m   )\n",
      "\u001B[0;31mTypeError\u001B[0m: Scanned function carry input and carry output must have equal types (e.g. shapes and dtypes of arrays), but they differ:\n  * the input carry component loop_carry[1] has type complex64[1,1] but the corresponding output carry component has type complex64[2,2], so the shapes do not match\n\nRevise the scanned function so that all output types (e.g. shapes and dtypes) match the corresponding input types."
     ]
    }
   ],
   "execution_count": 13
  },
  {
   "metadata": {
    "ExecuteTime": {
     "end_time": "2025-06-14T22:33:02.992694Z",
     "start_time": "2025-06-14T22:33:02.948281Z"
    }
   },
   "cell_type": "code",
   "source": "loader = MixedDataLoader(data, batch_size=128, drop_last=True) # we need the last batch to match the chain dimension\n",
   "id": "88f3e03d96127a33",
   "outputs": [],
   "execution_count": 12
  }
 ],
 "metadata": {
  "kernelspec": {
   "display_name": "Python 3",
   "language": "python",
   "name": "python3"
  },
  "language_info": {
   "codemirror_mode": {
    "name": "ipython",
    "version": 2
   },
   "file_extension": ".py",
   "mimetype": "text/x-python",
   "name": "python",
   "nbconvert_exporter": "python",
   "pygments_lexer": "ipython2",
   "version": "2.7.6"
  }
 },
 "nbformat": 4,
 "nbformat_minor": 5
}
