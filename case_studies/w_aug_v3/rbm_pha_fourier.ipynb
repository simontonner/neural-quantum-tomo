{
 "cells": [
  {
   "metadata": {
    "ExecuteTime": {
     "end_time": "2025-06-15T00:29:01.516159Z",
     "start_time": "2025-06-15T00:29:01.432464Z"
    }
   },
   "cell_type": "code",
   "source": [
    "%reload_ext autoreload\n",
    "%autoreload 2\n",
    "\n",
    "from lib.basis import construct_rotation_matrix\n",
    "from lib.formatting import bitstring_to_int\n",
    "from lib.data_loading_legacy import load_measurements, MultiBasisDataLoader\n",
    "from lib.state_io import load_state_vector\n",
    "\n",
    "####\n",
    "\n",
    "import re\n",
    "from pathlib import Path\n",
    "from typing import Optional, Tuple, Dict, Any, Sequence, Callable\n",
    "\n",
    "import numpy as np\n",
    "\n",
    "import jax\n",
    "import jax.lax\n",
    "import jax.numpy as jnp\n",
    "import optax\n",
    "from flax.training.train_state import TrainState\n",
    "from flax.training import checkpoints\n",
    "from flax import linen as nn\n",
    "from jaxtyping import PyTree\n",
    "\n",
    "import matplotlib.pyplot as plt\n",
    "\n",
    "data_dir = \"data\"\n",
    "model_dir = \"./models\"\n",
    "model_prefix = \"rbm_amp_202506150002_0\"\n",
    "\n",
    "print(f\"Data resides in                         : {data_dir}\")\n",
    "print(f\"Amplitude RBM checkpoint to be loaded   : {model_dir}/{model_prefix}\")"
   ],
   "id": "cac0523cf96155b2",
   "outputs": [
    {
     "name": "stdout",
     "output_type": "stream",
     "text": [
      "Data resides in                         : data\n",
      "Amplitude RBM checkpoint to be loaded   : ./models/rbm_amp_202506150002_0\n"
     ]
    }
   ],
   "execution_count": 67
  },
  {
   "metadata": {
    "ExecuteTime": {
     "end_time": "2025-06-15T00:29:01.584413Z",
     "start_time": "2025-06-15T00:29:01.520305Z"
    }
   },
   "cell_type": "code",
   "source": [
    "from flax import linen as nn\n",
    "import jax\n",
    "import jax.numpy as jnp\n",
    "from typing import Tuple\n",
    "\n",
    "class PairPhaseRBM(nn.Module):\n",
    "    n_visible: int\n",
    "    n_hidden: int\n",
    "    n_fourier_terms: int = 16\n",
    "\n",
    "    def setup(self):\n",
    "        zeros = lambda shape: jnp.zeros(shape, dtype=jnp.float32)\n",
    "\n",
    "        self.W_amp = self.variable('amp', 'W_amp', zeros, (self.n_visible, self.n_hidden))\n",
    "        self.b_amp = self.variable('amp', 'b_amp', zeros, (self.n_visible,))\n",
    "        self.c_amp = self.variable('amp', 'c_amp', zeros, (self.n_hidden,))\n",
    "\n",
    "        self.w_pha = self.param('w_pha', nn.initializers.normal(0.3), (self.n_fourier_terms, self.n_visible))\n",
    "        self.a_pha = self.param('a_pha', nn.initializers.normal(0.01), (self.n_fourier_terms,))\n",
    "        self.b_pha = self.param('b_pha', nn.initializers.normal(0.01), (self.n_fourier_terms,))\n",
    "        self.c_pha = self.param('c_pha', nn.initializers.normal(0.01), (self.n_fourier_terms,))\n",
    "        self.d_pha = self.param('d_pha', nn.initializers.normal(0.01), (self.n_fourier_terms,))\n",
    "\n",
    "    def _free_energy_amp(self, v):\n",
    "        return -(v @ self.b_amp.value) - jnp.sum(jax.nn.softplus(v @ self.W_amp.value + self.c_amp.value), -1)\n",
    "\n",
    "    def _free_energy_pha(self, v):\n",
    "        # Fourier-style phase energy\n",
    "        proj = v @ self.w_pha.T  # (batch, n_terms)\n",
    "        sin_part = self.a_pha * jnp.sin(proj + self.b_pha)\n",
    "        cos_part = self.c_pha * jnp.cos(proj + self.d_pha)\n",
    "        return jnp.sum(sin_part + cos_part, axis=-1)\n",
    "\n",
    "    def compute_phase(self, v: jnp.ndarray) -> jnp.ndarray:\n",
    "        return -self._free_energy_pha(v)\n",
    "\n",
    "    @staticmethod\n",
    "    def rotated_log_prob(rotation_weights, free_energy_lambda, free_energy_mu):\n",
    "        computational_log_magnitudes = -0.5 * free_energy_lambda\n",
    "        computational_phases = -0.5j * free_energy_mu\n",
    "\n",
    "        max_log_magnitude = jnp.max(computational_log_magnitudes)\n",
    "        scaled_amplitudes = jnp.exp(computational_log_magnitudes - max_log_magnitude + computational_phases)\n",
    "\n",
    "        scaled_measurement_amplitude = jnp.vdot(rotation_weights, scaled_amplitudes)\n",
    "        #log_measurement_amplitude = max_log_magnitude + jnp.log(jnp.abs(scaled_measurement_amplitude) + 1e-30)\n",
    "        log_measurement_amplitude = max_log_magnitude + jnp.real(jnp.log(scaled_measurement_amplitude + 1e-30))\n",
    "\n",
    "        return 2 * log_measurement_amplitude\n",
    "\n",
    "    def __call__(self, measurement_tuple: Tuple, aux_vars) -> jnp.ndarray:\n",
    "        measurement, basis = measurement_tuple\n",
    "        local_indices = jnp.array(jnp.nonzero(basis != 0, size=2, fill_value=-1)[0])\n",
    "\n",
    "        local_rotation_matrix = construct_rotation_matrix(basis[local_indices])\n",
    "        local_rotation_weights = local_rotation_matrix[bitstring_to_int(measurement[local_indices])]\n",
    "\n",
    "        local_measurement_combos = jnp.array([[0,0], [0,1], [1,0], [1,1]], dtype=measurement.dtype)\n",
    "        local_basis_vectors = jnp.tile(measurement, (4, 1)).at[:, local_indices].set(local_measurement_combos)\n",
    "\n",
    "        free_energy_lambda = self._free_energy_amp(local_basis_vectors)\n",
    "        free_energy_mu = self._free_energy_pha(local_basis_vectors)\n",
    "\n",
    "        log_amp_no_phase = jnp.log(jnp.vdot(local_rotation_weights, jnp.exp(-0.5 * free_energy_lambda)) + 1e-30)\n",
    "        log_amp_with_phase = jnp.log(jnp.vdot(local_rotation_weights, jnp.exp(-0.5 * free_energy_lambda - 0.5j * free_energy_mu)) + 1e-30)\n",
    "\n",
    "        aux_vars['log_amp_no_phase'] = log_amp_no_phase\n",
    "        aux_vars['log_amp_with_phase'] = log_amp_with_phase\n",
    "\n",
    "        return self.rotated_log_prob(local_rotation_weights, free_energy_lambda, free_energy_mu), aux_vars"
   ],
   "id": "3fed4709083650a5",
   "outputs": [],
   "execution_count": 68
  },
  {
   "metadata": {
    "ExecuteTime": {
     "end_time": "2025-06-15T00:38:05.332576Z",
     "start_time": "2025-06-15T00:38:05.259807Z"
    }
   },
   "cell_type": "code",
   "source": [
    "def full_basis_loss(\n",
    "        params: PyTree,\n",
    "        apply_fn: Callable,\n",
    "        amp_vars: Dict[str, jnp.ndarray],\n",
    "        data_tuple: Tuple[jnp.ndarray, jnp.ndarray]\n",
    ") -> Tuple[jnp.ndarray, Dict[str, Any]]:\n",
    "\n",
    "    basis_measurements, bases = data_tuple\n",
    "\n",
    "    def single_sample_loss(meas, basis):\n",
    "        aux_vars = {}\n",
    "        loss, aux_out = apply_fn({'params': params, 'amp': amp_vars}, meas, basis, aux_vars)\n",
    "        return loss, aux_out\n",
    "\n",
    "    def single_basis_loss(meas_batch, basis):\n",
    "        losses, auxs = jax.vmap(lambda m: single_sample_loss(m, basis))(meas_batch)\n",
    "        return jnp.mean(losses), auxs  # auxs is a dict of per-sample aux\n",
    "\n",
    "    # vmapping over all bases\n",
    "    loss_vals, aux_vals_nested = jax.vmap(single_basis_loss)(basis_measurements, bases)\n",
    "\n",
    "    # You can stack aux values over all basis batches:\n",
    "    aux = {\n",
    "        'log_amp_no_phase': jnp.concatenate([a['log_amp_no_phase'][None] for a in aux_vals_nested]),\n",
    "        'log_amp_with_phase': jnp.concatenate([a['log_amp_with_phase'][None] for a in aux_vals_nested]),\n",
    "    }\n",
    "\n",
    "    return -jnp.sum(loss_vals), aux\n",
    "\n",
    "\n",
    "\n",
    "#@jax.jit\n",
    "def train_step_sgd(state: TrainState, amp_vars: dict, data_tuple: Tuple[jnp.ndarray, jnp.ndarray]) -> Tuple[TrainState, jnp.ndarray]:\n",
    "    loss_fn = lambda params: full_basis_loss(params, state.apply_fn, amp_vars, data_tuple)\n",
    "\n",
    "    (loss, aux_vars), grads = jax.value_and_grad(loss_fn, has_aux=True)(state.params)\n",
    "    new_state = state.apply_gradients(grads=grads)\n",
    "    return new_state, loss, aux_vars\n",
    "\n",
    "\n",
    "def train_rbm_pha(\n",
    "        state:   TrainState,\n",
    "        amp_vars: Dict[str, jnp.ndarray],\n",
    "        loader:  \"MultiBasisDataLoader\",\n",
    "        num_epochs: int) -> Tuple[TrainState, Dict[int, float]]:\n",
    "\n",
    "    metrics: Dict[str, float] = {}\n",
    "\n",
    "    for epoch in range(num_epochs):\n",
    "        tot_loss  = 0.0\n",
    "        n_batches = 0\n",
    "\n",
    "        for data_tuple in loader:\n",
    "            state, loss, = train_step_sgd(state, amp_vars, data_tuple)\n",
    "            tot_loss  += loss\n",
    "            n_batches += 1\n",
    "\n",
    "        avg_loss = float(tot_loss / n_batches)\n",
    "\n",
    "        metrics[epoch] = dict(loss=avg_loss)\n",
    "\n",
    "        print(f\"Epoch {epoch+1}/{num_epochs} │ Loss: {avg_loss:.4f} │ \"\n",
    "              f\"Log Amp No Phase: {state.aux_vars['log_amp_no_phase']:.4f} │ \"\n",
    "              f\"Log Amp With Phase: {state.aux_vars['log_amp_with_phase']:.4f}\")\n",
    "\n",
    "    return state, metrics"
   ],
   "id": "195e1d9677829148",
   "outputs": [],
   "execution_count": 95
  },
  {
   "metadata": {
    "ExecuteTime": {
     "end_time": "2025-06-15T00:38:08.691646Z",
     "start_time": "2025-06-15T00:38:08.143473Z"
    }
   },
   "cell_type": "code",
   "source": [
    "data_dict = load_measurements(data_dir, \"w_*.txt\")\n",
    "\n",
    "keys_pha = [k for k in data_dict if 'Z' in k and re.search(r'[XY]', k)]\n",
    "dict_pha = {k: data_dict[k] for k in keys_pha}"
   ],
   "id": "4810713cb617047",
   "outputs": [],
   "execution_count": 96
  },
  {
   "metadata": {
    "ExecuteTime": {
     "end_time": "2025-06-15T00:38:09.434460Z",
     "start_time": "2025-06-15T00:38:09.359326Z"
    }
   },
   "cell_type": "code",
   "source": [
    "params_amp = checkpoints.restore_checkpoint(ckpt_dir=str(Path(model_dir).resolve()), target=None, prefix=model_prefix)\n",
    "\n",
    "amp_vars = {\"W_amp\": params_amp[\"W\"], \"b_amp\": params_amp[\"b\"], \"c_amp\": params_amp[\"c\"]}"
   ],
   "id": "afa1334f42881846",
   "outputs": [
    {
     "name": "stderr",
     "output_type": "stream",
     "text": [
      "/Users/Tonni/miniforge3/envs/dlnn2/lib/python3.9/site-packages/orbax/checkpoint/type_handlers.py:1330: UserWarning: Couldn't find sharding info under RestoreArgs. Populating sharding info from sharding file. Please note restoration time will be slightly increased due to reading from file instead of directly from RestoreArgs. Note also that this option is unsafe when restoring on a different topology than the checkpoint was saved with.\n",
      "  warnings.warn(\n"
     ]
    }
   ],
   "execution_count": 97
  },
  {
   "metadata": {
    "ExecuteTime": {
     "end_time": "2025-06-15T00:38:10.750406Z",
     "start_time": "2025-06-15T00:38:10.683446Z"
    }
   },
   "cell_type": "code",
   "source": [
    "import jax.numpy as jnp\n",
    "\n",
    "# Inspect magnitude of loaded amplitude weights\n",
    "for name, var in amp_vars.items():\n",
    "    l2 = jnp.linalg.norm(var)\n",
    "    l1 = jnp.sum(jnp.abs(var))\n",
    "    print(f\"{name}: L2 norm = {l2:.4f}, L1 norm = {l1:.4f}\")"
   ],
   "id": "d3799a2ad164fedd",
   "outputs": [
    {
     "name": "stdout",
     "output_type": "stream",
     "text": [
      "W_amp: L2 norm = 30.4911, L1 norm = 234.3452\n",
      "b_amp: L2 norm = 12.9243, L1 norm = 34.7823\n",
      "c_amp: L2 norm = 1.3821, L1 norm = 3.6596\n"
     ]
    }
   ],
   "execution_count": 98
  },
  {
   "metadata": {
    "ExecuteTime": {
     "end_time": "2025-06-15T00:38:12.315450Z",
     "start_time": "2025-06-15T00:38:12.137957Z"
    }
   },
   "cell_type": "code",
   "source": [
    "batch_size    = 6400\n",
    "visible_units = 8\n",
    "hidden_units  = 16\n",
    "num_epochs    = 1000\n",
    "init_lr       = 1e-3\n",
    "weight_decay  = 1e-5\n",
    "\n",
    "key = jax.random.PRNGKey(0)\n",
    "\n",
    "model_pha = PairPhaseRBM(n_visible=visible_units, n_hidden=hidden_units)\n",
    "\n",
    "dummy_meas  = jnp.zeros((visible_units,), dtype=jnp.float32)\n",
    "dummy_basis = jnp.zeros((visible_units,), dtype=jnp.int8)\n",
    "dummy_aux_vars = {'log_amp_no_phase': jnp.zeros((), dtype=jnp.float32),\n",
    "                        'log_amp_with_phase': jnp.zeros((), dtype=jnp.float32)}\n",
    "\n",
    "\n",
    "vars_pha = model_pha.init({\"params\": key}, (dummy_meas, dummy_basis), dummy_aux_vars)\n",
    "\n",
    "optim = optax.adamw(init_lr, weight_decay=weight_decay)\n",
    "\n",
    "state_pha = TrainState.create(apply_fn=model_pha.apply, params=vars_pha['params'], tx=optim)\n",
    "\n",
    "loader_pha = MultiBasisDataLoader(dict_pha, batch_size=batch_size, basis_encoding={'Z': 0, 'X': 1, 'Y': 2}, shuffle=True)\n",
    "\n",
    "%time state_pha, metrics_pha = train_rbm_pha(state_pha, amp_vars, loader_pha, num_epochs)"
   ],
   "id": "ff52dfd0a3cbe4dc",
   "outputs": [
    {
     "ename": "TypeError",
     "evalue": "__call__() takes 3 positional arguments but 4 were given",
     "output_type": "error",
     "traceback": [
      "\u001B[0;31m---------------------------------------------------------------------------\u001B[0m",
      "\u001B[0;31mTypeError\u001B[0m                                 Traceback (most recent call last)",
      "File \u001B[0;32m<timed exec>:1\u001B[0m\n",
      "Cell \u001B[0;32mIn[95], line 54\u001B[0m, in \u001B[0;36mtrain_rbm_pha\u001B[0;34m(state, amp_vars, loader, num_epochs)\u001B[0m\n\u001B[1;32m     51\u001B[0m n_batches \u001B[38;5;241m=\u001B[39m \u001B[38;5;241m0\u001B[39m\n\u001B[1;32m     53\u001B[0m \u001B[38;5;28;01mfor\u001B[39;00m data_tuple \u001B[38;5;129;01min\u001B[39;00m loader:\n\u001B[0;32m---> 54\u001B[0m     state, loss, \u001B[38;5;241m=\u001B[39m \u001B[43mtrain_step_sgd\u001B[49m\u001B[43m(\u001B[49m\u001B[43mstate\u001B[49m\u001B[43m,\u001B[49m\u001B[43m \u001B[49m\u001B[43mamp_vars\u001B[49m\u001B[43m,\u001B[49m\u001B[43m \u001B[49m\u001B[43mdata_tuple\u001B[49m\u001B[43m)\u001B[49m\n\u001B[1;32m     55\u001B[0m     tot_loss  \u001B[38;5;241m+\u001B[39m\u001B[38;5;241m=\u001B[39m loss\n\u001B[1;32m     56\u001B[0m     n_batches \u001B[38;5;241m+\u001B[39m\u001B[38;5;241m=\u001B[39m \u001B[38;5;241m1\u001B[39m\n",
      "Cell \u001B[0;32mIn[95], line 36\u001B[0m, in \u001B[0;36mtrain_step_sgd\u001B[0;34m(state, amp_vars, data_tuple)\u001B[0m\n\u001B[1;32m     33\u001B[0m \u001B[38;5;28;01mdef\u001B[39;00m \u001B[38;5;21mtrain_step_sgd\u001B[39m(state: TrainState, amp_vars: \u001B[38;5;28mdict\u001B[39m, data_tuple: Tuple[jnp\u001B[38;5;241m.\u001B[39mndarray, jnp\u001B[38;5;241m.\u001B[39mndarray]) \u001B[38;5;241m-\u001B[39m\u001B[38;5;241m>\u001B[39m Tuple[TrainState, jnp\u001B[38;5;241m.\u001B[39mndarray]:\n\u001B[1;32m     34\u001B[0m     loss_fn \u001B[38;5;241m=\u001B[39m \u001B[38;5;28;01mlambda\u001B[39;00m params: full_basis_loss(params, state\u001B[38;5;241m.\u001B[39mapply_fn, amp_vars, data_tuple)\n\u001B[0;32m---> 36\u001B[0m     (loss, aux_vars), grads \u001B[38;5;241m=\u001B[39m \u001B[43mjax\u001B[49m\u001B[38;5;241;43m.\u001B[39;49m\u001B[43mvalue_and_grad\u001B[49m\u001B[43m(\u001B[49m\u001B[43mloss_fn\u001B[49m\u001B[43m,\u001B[49m\u001B[43m \u001B[49m\u001B[43mhas_aux\u001B[49m\u001B[38;5;241;43m=\u001B[39;49m\u001B[38;5;28;43;01mTrue\u001B[39;49;00m\u001B[43m)\u001B[49m\u001B[43m(\u001B[49m\u001B[43mstate\u001B[49m\u001B[38;5;241;43m.\u001B[39;49m\u001B[43mparams\u001B[49m\u001B[43m)\u001B[49m\n\u001B[1;32m     37\u001B[0m     new_state \u001B[38;5;241m=\u001B[39m state\u001B[38;5;241m.\u001B[39mapply_gradients(grads\u001B[38;5;241m=\u001B[39mgrads)\n\u001B[1;32m     38\u001B[0m     \u001B[38;5;28;01mreturn\u001B[39;00m new_state, loss, aux_vars\n",
      "    \u001B[0;31m[... skipping hidden 8 frame]\u001B[0m\n",
      "Cell \u001B[0;32mIn[95], line 34\u001B[0m, in \u001B[0;36mtrain_step_sgd.<locals>.<lambda>\u001B[0;34m(params)\u001B[0m\n\u001B[1;32m     33\u001B[0m \u001B[38;5;28;01mdef\u001B[39;00m \u001B[38;5;21mtrain_step_sgd\u001B[39m(state: TrainState, amp_vars: \u001B[38;5;28mdict\u001B[39m, data_tuple: Tuple[jnp\u001B[38;5;241m.\u001B[39mndarray, jnp\u001B[38;5;241m.\u001B[39mndarray]) \u001B[38;5;241m-\u001B[39m\u001B[38;5;241m>\u001B[39m Tuple[TrainState, jnp\u001B[38;5;241m.\u001B[39mndarray]:\n\u001B[0;32m---> 34\u001B[0m     loss_fn \u001B[38;5;241m=\u001B[39m \u001B[38;5;28;01mlambda\u001B[39;00m params: \u001B[43mfull_basis_loss\u001B[49m\u001B[43m(\u001B[49m\u001B[43mparams\u001B[49m\u001B[43m,\u001B[49m\u001B[43m \u001B[49m\u001B[43mstate\u001B[49m\u001B[38;5;241;43m.\u001B[39;49m\u001B[43mapply_fn\u001B[49m\u001B[43m,\u001B[49m\u001B[43m \u001B[49m\u001B[43mamp_vars\u001B[49m\u001B[43m,\u001B[49m\u001B[43m \u001B[49m\u001B[43mdata_tuple\u001B[49m\u001B[43m)\u001B[49m\n\u001B[1;32m     36\u001B[0m     (loss, aux_vars), grads \u001B[38;5;241m=\u001B[39m jax\u001B[38;5;241m.\u001B[39mvalue_and_grad(loss_fn, has_aux\u001B[38;5;241m=\u001B[39m\u001B[38;5;28;01mTrue\u001B[39;00m)(state\u001B[38;5;241m.\u001B[39mparams)\n\u001B[1;32m     37\u001B[0m     new_state \u001B[38;5;241m=\u001B[39m state\u001B[38;5;241m.\u001B[39mapply_gradients(grads\u001B[38;5;241m=\u001B[39mgrads)\n",
      "Cell \u001B[0;32mIn[95], line 20\u001B[0m, in \u001B[0;36mfull_basis_loss\u001B[0;34m(params, apply_fn, amp_vars, data_tuple)\u001B[0m\n\u001B[1;32m     17\u001B[0m     \u001B[38;5;28;01mreturn\u001B[39;00m jnp\u001B[38;5;241m.\u001B[39mmean(losses), auxs  \u001B[38;5;66;03m# auxs is a dict of per-sample aux\u001B[39;00m\n\u001B[1;32m     19\u001B[0m \u001B[38;5;66;03m# vmapping over all bases\u001B[39;00m\n\u001B[0;32m---> 20\u001B[0m loss_vals, aux_vals_nested \u001B[38;5;241m=\u001B[39m \u001B[43mjax\u001B[49m\u001B[38;5;241;43m.\u001B[39;49m\u001B[43mvmap\u001B[49m\u001B[43m(\u001B[49m\u001B[43msingle_basis_loss\u001B[49m\u001B[43m)\u001B[49m\u001B[43m(\u001B[49m\u001B[43mbasis_measurements\u001B[49m\u001B[43m,\u001B[49m\u001B[43m \u001B[49m\u001B[43mbases\u001B[49m\u001B[43m)\u001B[49m\n\u001B[1;32m     22\u001B[0m \u001B[38;5;66;03m# You can stack aux values over all basis batches:\u001B[39;00m\n\u001B[1;32m     23\u001B[0m aux \u001B[38;5;241m=\u001B[39m {\n\u001B[1;32m     24\u001B[0m     \u001B[38;5;124m'\u001B[39m\u001B[38;5;124mlog_amp_no_phase\u001B[39m\u001B[38;5;124m'\u001B[39m: jnp\u001B[38;5;241m.\u001B[39mconcatenate([a[\u001B[38;5;124m'\u001B[39m\u001B[38;5;124mlog_amp_no_phase\u001B[39m\u001B[38;5;124m'\u001B[39m][\u001B[38;5;28;01mNone\u001B[39;00m] \u001B[38;5;28;01mfor\u001B[39;00m a \u001B[38;5;129;01min\u001B[39;00m aux_vals_nested]),\n\u001B[1;32m     25\u001B[0m     \u001B[38;5;124m'\u001B[39m\u001B[38;5;124mlog_amp_with_phase\u001B[39m\u001B[38;5;124m'\u001B[39m: jnp\u001B[38;5;241m.\u001B[39mconcatenate([a[\u001B[38;5;124m'\u001B[39m\u001B[38;5;124mlog_amp_with_phase\u001B[39m\u001B[38;5;124m'\u001B[39m][\u001B[38;5;28;01mNone\u001B[39;00m] \u001B[38;5;28;01mfor\u001B[39;00m a \u001B[38;5;129;01min\u001B[39;00m aux_vals_nested]),\n\u001B[1;32m     26\u001B[0m }\n",
      "    \u001B[0;31m[... skipping hidden 3 frame]\u001B[0m\n",
      "Cell \u001B[0;32mIn[95], line 16\u001B[0m, in \u001B[0;36mfull_basis_loss.<locals>.single_basis_loss\u001B[0;34m(meas_batch, basis)\u001B[0m\n\u001B[1;32m     15\u001B[0m \u001B[38;5;28;01mdef\u001B[39;00m \u001B[38;5;21msingle_basis_loss\u001B[39m(meas_batch, basis):\n\u001B[0;32m---> 16\u001B[0m     losses, auxs \u001B[38;5;241m=\u001B[39m \u001B[43mjax\u001B[49m\u001B[38;5;241;43m.\u001B[39;49m\u001B[43mvmap\u001B[49m\u001B[43m(\u001B[49m\u001B[38;5;28;43;01mlambda\u001B[39;49;00m\u001B[43m \u001B[49m\u001B[43mm\u001B[49m\u001B[43m:\u001B[49m\u001B[43m \u001B[49m\u001B[43msingle_sample_loss\u001B[49m\u001B[43m(\u001B[49m\u001B[43mm\u001B[49m\u001B[43m,\u001B[49m\u001B[43m \u001B[49m\u001B[43mbasis\u001B[49m\u001B[43m)\u001B[49m\u001B[43m)\u001B[49m\u001B[43m(\u001B[49m\u001B[43mmeas_batch\u001B[49m\u001B[43m)\u001B[49m\n\u001B[1;32m     17\u001B[0m     \u001B[38;5;28;01mreturn\u001B[39;00m jnp\u001B[38;5;241m.\u001B[39mmean(losses), auxs\n",
      "    \u001B[0;31m[... skipping hidden 3 frame]\u001B[0m\n",
      "Cell \u001B[0;32mIn[95], line 16\u001B[0m, in \u001B[0;36mfull_basis_loss.<locals>.single_basis_loss.<locals>.<lambda>\u001B[0;34m(m)\u001B[0m\n\u001B[1;32m     15\u001B[0m \u001B[38;5;28;01mdef\u001B[39;00m \u001B[38;5;21msingle_basis_loss\u001B[39m(meas_batch, basis):\n\u001B[0;32m---> 16\u001B[0m     losses, auxs \u001B[38;5;241m=\u001B[39m jax\u001B[38;5;241m.\u001B[39mvmap(\u001B[38;5;28;01mlambda\u001B[39;00m m: \u001B[43msingle_sample_loss\u001B[49m\u001B[43m(\u001B[49m\u001B[43mm\u001B[49m\u001B[43m,\u001B[49m\u001B[43m \u001B[49m\u001B[43mbasis\u001B[49m\u001B[43m)\u001B[49m)(meas_batch)\n\u001B[1;32m     17\u001B[0m     \u001B[38;5;28;01mreturn\u001B[39;00m jnp\u001B[38;5;241m.\u001B[39mmean(losses), auxs\n",
      "Cell \u001B[0;32mIn[95], line 12\u001B[0m, in \u001B[0;36mfull_basis_loss.<locals>.single_sample_loss\u001B[0;34m(meas, basis)\u001B[0m\n\u001B[1;32m     10\u001B[0m \u001B[38;5;28;01mdef\u001B[39;00m \u001B[38;5;21msingle_sample_loss\u001B[39m(meas, basis):\n\u001B[1;32m     11\u001B[0m     aux_vars \u001B[38;5;241m=\u001B[39m {}\n\u001B[0;32m---> 12\u001B[0m     loss, aux_out \u001B[38;5;241m=\u001B[39m \u001B[43mapply_fn\u001B[49m\u001B[43m(\u001B[49m\u001B[43m{\u001B[49m\u001B[38;5;124;43m'\u001B[39;49m\u001B[38;5;124;43mparams\u001B[39;49m\u001B[38;5;124;43m'\u001B[39;49m\u001B[43m:\u001B[49m\u001B[43m \u001B[49m\u001B[43mparams\u001B[49m\u001B[43m,\u001B[49m\u001B[43m \u001B[49m\u001B[38;5;124;43m'\u001B[39;49m\u001B[38;5;124;43mamp\u001B[39;49m\u001B[38;5;124;43m'\u001B[39;49m\u001B[43m:\u001B[49m\u001B[43m \u001B[49m\u001B[43mamp_vars\u001B[49m\u001B[43m}\u001B[49m\u001B[43m,\u001B[49m\u001B[43m \u001B[49m\u001B[43mmeas\u001B[49m\u001B[43m,\u001B[49m\u001B[43m \u001B[49m\u001B[43mbasis\u001B[49m\u001B[43m,\u001B[49m\u001B[43m \u001B[49m\u001B[43maux_vars\u001B[49m\u001B[43m)\u001B[49m\n\u001B[1;32m     13\u001B[0m     \u001B[38;5;28;01mreturn\u001B[39;00m loss, aux_out\n",
      "    \u001B[0;31m[... skipping hidden 5 frame]\u001B[0m\n",
      "File \u001B[0;32m~/miniforge3/envs/dlnn2/lib/python3.9/site-packages/flax/linen/module.py:1233\u001B[0m, in \u001B[0;36mModule._call_wrapped_method\u001B[0;34m(self, fun, args, kwargs)\u001B[0m\n\u001B[1;32m   1231\u001B[0m \u001B[38;5;28;01mif\u001B[39;00m _use_named_call:\n\u001B[1;32m   1232\u001B[0m   \u001B[38;5;28;01mwith\u001B[39;00m jax\u001B[38;5;241m.\u001B[39mnamed_scope(_derive_profiling_name(\u001B[38;5;28mself\u001B[39m, fun)):\n\u001B[0;32m-> 1233\u001B[0m     y \u001B[38;5;241m=\u001B[39m \u001B[43mrun_fun\u001B[49m\u001B[43m(\u001B[49m\u001B[38;5;28;43mself\u001B[39;49m\u001B[43m,\u001B[49m\u001B[43m \u001B[49m\u001B[38;5;241;43m*\u001B[39;49m\u001B[43margs\u001B[49m\u001B[43m,\u001B[49m\u001B[43m \u001B[49m\u001B[38;5;241;43m*\u001B[39;49m\u001B[38;5;241;43m*\u001B[39;49m\u001B[43mkwargs\u001B[49m\u001B[43m)\u001B[49m\n\u001B[1;32m   1234\u001B[0m \u001B[38;5;28;01melse\u001B[39;00m:\n\u001B[1;32m   1235\u001B[0m   y \u001B[38;5;241m=\u001B[39m run_fun(\u001B[38;5;28mself\u001B[39m, \u001B[38;5;241m*\u001B[39margs, \u001B[38;5;241m*\u001B[39m\u001B[38;5;241m*\u001B[39mkwargs)\n",
      "\u001B[0;31mTypeError\u001B[0m: __call__() takes 3 positional arguments but 4 were given"
     ]
    }
   ],
   "execution_count": 99
  },
  {
   "metadata": {
    "ExecuteTime": {
     "end_time": "2025-06-15T00:17:27.578642Z",
     "start_time": "2025-06-15T00:17:27.474331Z"
    }
   },
   "cell_type": "code",
   "source": [
    "epochs = list(metrics_pha.keys())\n",
    "loss_vals = [metrics_pha[e]['loss'] for e in epochs]\n",
    "\n",
    "fig, ax1 = plt.subplots()\n",
    "\n",
    "ax1.plot(epochs, loss_vals, label=\"Amplitude CD Loss\", color=\"tab:blue\")\n",
    "ax1.set_xlabel(\"Epoch\")\n",
    "ax1.set_ylabel(\"Phase Loss\", color=\"tab:blue\")\n",
    "ax1.tick_params(axis=\"y\", labelcolor=\"tab:blue\")\n",
    "\n",
    "plt.title(\"Loss\")\n",
    "plt.show()"
   ],
   "id": "d23a12a8195394fc",
   "outputs": [
    {
     "data": {
      "text/plain": [
       "<Figure size 640x480 with 1 Axes>"
      ],
      "image/png": "[encoded data removed]"
     },
     "metadata": {},
     "output_type": "display_data"
    }
   ],
   "execution_count": 49
  },
  {
   "metadata": {
    "ExecuteTime": {
     "end_time": "2025-06-15T00:17:30.850431Z",
     "start_time": "2025-06-15T00:17:30.795829Z"
    }
   },
   "cell_type": "code",
   "source": [
    "one_hot_states = jnp.eye(visible_units, dtype=jnp.float32)\n",
    "one_hot_bitstrings = [''.join('1' if s > 0 else '0' for s in state) for state in one_hot_states]\n",
    "\n",
    "model_phases_raw = model_pha.apply({\"params\": state_pha.params, \"amp\": amp_vars}, one_hot_states, method=model_pha.compute_phase)\n",
    "model_phases_norm = model_phases_raw - model_phases_raw[-1]\n",
    "model_phases_wrapped = model_phases_norm % (2 * jnp.pi)\n",
    "\n",
    "model_phase_tuples = sorted(zip(one_hot_bitstrings, model_phases_raw, model_phases_wrapped), key=lambda x: int(x[0], 2))\n",
    "\n",
    "for bitstring, phase_raw, phase_wrapped in model_phase_tuples:\n",
    "    print(f\"{bitstring}: {phase_raw:.4f} (raw), {phase_wrapped:.4f} (wrapped)\")"
   ],
   "id": "cf3481d2087fb107",
   "outputs": [
    {
     "name": "stdout",
     "output_type": "stream",
     "text": [
      "00000001: 1.7048 (raw), 0.0000 (wrapped)\n",
      "00000010: 1.3653 (raw), 5.9437 (wrapped)\n",
      "00000100: -1.7205 (raw), 2.8579 (wrapped)\n",
      "00001000: 4.6496 (raw), 2.9449 (wrapped)\n",
      "00010000: 2.1726 (raw), 0.4678 (wrapped)\n",
      "00100000: 2.0612 (raw), 0.3564 (wrapped)\n",
      "01000000: -1.4377 (raw), 3.1407 (wrapped)\n",
      "10000000: -1.8753 (raw), 2.7032 (wrapped)\n"
     ]
    }
   ],
   "execution_count": 50
  },
  {
   "metadata": {
    "ExecuteTime": {
     "end_time": "2025-06-15T00:17:33.870287Z",
     "start_time": "2025-06-15T00:17:33.745733Z"
    }
   },
   "cell_type": "code",
   "source": [
    "fig, ax = plt.subplots(figsize=(8, 4))\n",
    "ax.bar([t[0] for t in model_phase_tuples], [t[2] for t in model_phase_tuples])\n",
    "ax.set_xlabel(\"one-hot W basis vector\")\n",
    "ax.set_ylabel(\"phase (radians)\")\n",
    "ax.set_title(\"Predicted phases\")\n",
    "ax.set_ylim(0, 2 * jnp.pi)\n",
    "plt.xticks(rotation=45)\n",
    "plt.tight_layout()\n",
    "plt.show()"
   ],
   "id": "bc1d37b1118b9997",
   "outputs": [
    {
     "data": {
      "text/plain": [
       "<Figure size 800x400 with 1 Axes>"
      ],
      "image/png": "[encoded data removed]"
     },
     "metadata": {},
     "output_type": "display_data"
    }
   ],
   "execution_count": 51
  },
  {
   "metadata": {
    "ExecuteTime": {
     "end_time": "2025-06-14T23:20:04.071031Z",
     "start_time": "2025-06-14T23:20:04.034145Z"
    }
   },
   "cell_type": "code",
   "source": [
    "w_aug_file_path = Path(data_dir) / f\"w_aug_{visible_units}.txt\"\n",
    "w_aug_state_dict = load_state_vector(w_aug_file_path)\n",
    "\n",
    "phase_offset = np.angle(w_aug_state_dict[one_hot_bitstrings[-1]])\n",
    "\n",
    "original_phase_tuples = []\n",
    "for bs in sorted(one_hot_bitstrings, key=lambda x: int(x, 2)):\n",
    "\n",
    "    amplitude = w_aug_state_dict[bs]\n",
    "    phase_raw = np.angle(amplitude)  # get raw phase in radians\n",
    "    phase_norm = phase_raw - phase_offset  # normalize by the last one-hot state\n",
    "    phase_wrapped = phase_norm % (2 * jnp.pi)\n",
    "\n",
    "    original_phase_tuples.append((bs, amplitude, phase_raw, phase_wrapped))\n",
    "\n",
    "for bitstring, amp, phase_raw, phase_wrapped in original_phase_tuples:\n",
    "    print(f\"{bitstring}: {amp:.8f} (ampl), {phase_raw:.4f} (raw), {phase_wrapped:.4f} (wrapped)\")"
   ],
   "id": "79b74609cb79787",
   "outputs": [
    {
     "name": "stdout",
     "output_type": "stream",
     "text": [
      "00000001: 0.35348165+0.00712282j (ampl), 0.0201 (raw), 0.0000 (wrapped)\n",
      "00000010: 0.34222963+0.08876304j (ampl), 0.2538 (raw), 0.2336 (wrapped)\n",
      "00000100: -0.07679566+0.34511220j (ampl), 1.7898 (raw), 1.7696 (wrapped)\n",
      "00001000: 0.02867402-0.35238871j (ampl), -1.4896 (raw), 4.7734 (wrapped)\n",
      "00010000: 0.01964585+0.35300714j (ampl), 1.5152 (raw), 1.4951 (wrapped)\n",
      "00100000: -0.03371835+0.35194188j (ampl), 1.6663 (raw), 1.6462 (wrapped)\n",
      "01000000: -0.28657940-0.20705615j (ampl), -2.5159 (raw), 3.7471 (wrapped)\n",
      "10000000: -0.13468251-0.32689542j (ampl), -1.9616 (raw), 4.3014 (wrapped)\n"
     ]
    }
   ],
   "execution_count": 28
  },
  {
   "metadata": {
    "ExecuteTime": {
     "end_time": "2025-06-14T23:20:05.718155Z",
     "start_time": "2025-06-14T23:20:05.605002Z"
    }
   },
   "cell_type": "code",
   "source": [
    "fig, ax = plt.subplots(figsize=(8, 4))\n",
    "ax.bar([t[0] for t in original_phase_tuples], [t[3] for t in original_phase_tuples])\n",
    "ax.set_xlabel(\"one-hot W basis vector\")\n",
    "ax.set_ylabel(\"phase (radians)\")\n",
    "ax.set_title(\"Original phases\")\n",
    "ax.set_ylim(0, 2 * jnp.pi)\n",
    "plt.xticks(rotation=45)\n",
    "plt.tight_layout()\n",
    "plt.show()"
   ],
   "id": "c1ba8953270b483a",
   "outputs": [
    {
     "data": {
      "text/plain": [
       "<Figure size 800x400 with 1 Axes>"
      ],
      "image/png": "[encoded data removed]"
     },
     "metadata": {},
     "output_type": "display_data"
    }
   ],
   "execution_count": 29
  },
  {
   "metadata": {},
   "cell_type": "code",
   "outputs": [],
   "execution_count": null,
   "source": "",
   "id": "e42a3363224f29c"
  }
 ],
 "metadata": {
  "kernelspec": {
   "display_name": "Python 3",
   "language": "python",
   "name": "python3"
  },
  "language_info": {
   "codemirror_mode": {
    "name": "ipython",
    "version": 2
   },
   "file_extension": ".py",
   "mimetype": "text/x-python",
   "name": "python",
   "nbconvert_exporter": "python",
   "pygments_lexer": "ipython2",
   "version": "2.7.6"
  }
 },
 "nbformat": 4,
 "nbformat_minor": 5
}
