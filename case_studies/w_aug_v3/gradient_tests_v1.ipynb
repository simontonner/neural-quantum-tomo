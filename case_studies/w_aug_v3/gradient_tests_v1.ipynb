{
 "cells": [
  {
   "cell_type": "code",
   "id": "initial_id",
   "metadata": {
    "collapsed": true,
    "ExecuteTime": {
     "end_time": "2025-06-05T21:28:40.234890Z",
     "start_time": "2025-06-05T21:28:40.231066Z"
    }
   },
   "source": [
    "import jax\n",
    "import jax.numpy as jnp\n",
    "from jax.nn import softmax\n",
    "from jax.scipy.special import logsumexp\n",
    "from jax import tree"
   ],
   "outputs": [],
   "execution_count": 29
  },
  {
   "metadata": {
    "ExecuteTime": {
     "end_time": "2025-06-05T21:28:40.939778Z",
     "start_time": "2025-06-05T21:28:40.928585Z"
    }
   },
   "cell_type": "code",
   "source": [
    "#### RECURRING HELPERS FOR ROTATION MATRIX\n",
    "\n",
    "def get_computational_basis_vectors(num_qubits: int) -> jnp.ndarray:\n",
    "    indices = jnp.arange(2 ** num_qubits, dtype=jnp.uint32)  # shape (2**n,)\n",
    "    powers = 2 ** jnp.arange(num_qubits - 1, -1, -1, dtype=jnp.uint32)  # shape (n,)\n",
    "    bits = (indices[:, None] & powers) > 0  # shape (2**n, n), bool\n",
    "    return bits.astype(jnp.float32)\n",
    "\n",
    "def construct_rotation_matrix(measurement_basis: tuple[int, ...]) -> jnp.ndarray:\n",
    "    SQRT2 = jnp.sqrt(2.0)\n",
    "    single_qubit_rotation_matrices = [\n",
    "        jnp.array([[1, 0], [0, 1]], dtype=jnp.complex64),               # Z\n",
    "        jnp.array([[1, 1], [1, -1]], dtype=jnp.complex64) / SQRT2,      # X\n",
    "        jnp.array([[1, -1j], [1j, -1]], dtype=jnp.complex64) / SQRT2    # Y\n",
    "    ]\n",
    "\n",
    "    rotation_matrix = jnp.array([1.0+0j], dtype=jnp.complex64).reshape((1, 1))\n",
    "    for idx in measurement_basis:\n",
    "        rotation_matrix = jnp.kron(rotation_matrix, single_qubit_rotation_matrices[idx])\n",
    "    return rotation_matrix # (2**n, 2**n)\n",
    "\n",
    "def bitstring_to_int(bitstring: jnp.ndarray) -> jnp.ndarray:\n",
    "    powers = 2 ** jnp.arange(bitstring.shape[-1] - 1, -1, -1)\n",
    "    return jnp.sum(bitstring * powers, axis=-1).astype(jnp.int32)\n",
    "\n",
    "def multiply_with_leaf(factor, leaf):\n",
    "    if leaf.ndim == 1:\n",
    "        return factor * leaf\n",
    "    else:\n",
    "        return factor[:, None] * leaf\n",
    "\n",
    "\n",
    "#### MOCKING FREE ENERGY FUNCTIONS\n",
    "\n",
    "def dummy_free_energy(sigma: jnp.ndarray, params: dict) -> jnp.ndarray:\n",
    "    return jnp.dot(sigma, params[\"W\"]) + params[\"b\"]  # (2**n,)\n",
    "\n",
    "\n",
    "#### TEST VARIABLES\n",
    "\n",
    "measurement_basis = (1, 0, 2, 1)  # X Z Y X\n",
    "measurements = jnp.array([\n",
    "    [0,0,0,0],\n",
    "    [1,1,1,1],\n",
    "    [0,1,0,1],\n",
    "    [1,0,1,0],\n",
    "], dtype=jnp.int32)\n",
    "\n",
    "params_lambda = {\n",
    "    \"W\": jnp.linspace(0.05, 0.15, 4, dtype=jnp.float32),\n",
    "    \"b\": jnp.array(0.3, dtype=jnp.float32)\n",
    "}\n",
    "params_mu = {\n",
    "    \"W\": jnp.linspace(0.05, 0.15, 4, dtype=jnp.float32),\n",
    "    \"b\": jnp.array(0.3, dtype=jnp.float32)\n",
    "}"
   ],
   "id": "16f614cd7740125a",
   "outputs": [],
   "execution_count": 30
  },
  {
   "metadata": {
    "ExecuteTime": {
     "end_time": "2025-06-05T21:28:41.864289Z",
     "start_time": "2025-06-05T21:28:41.842480Z"
    }
   },
   "cell_type": "code",
   "source": [
    "#### GRADIENTS FROM AUTODIFF OF LOSS FUNCTION\n",
    "\n",
    "def loss_fn(\n",
    "        measurements: jnp.ndarray,\n",
    "        measurement_basis: tuple[int, ...],\n",
    "        params_lambda: dict,\n",
    "        params_mu: dict) -> jnp.ndarray:\n",
    "\n",
    "    computational_basis_vectors = get_computational_basis_vectors(measurements.shape[1])  # (2**n, n)\n",
    "    free_energy_lambda = jax.vmap(dummy_free_energy, (0, None))(computational_basis_vectors, params_lambda) # (2**n,)\n",
    "    free_energy_mu  = jax.vmap(dummy_free_energy, (0, None))(computational_basis_vectors, params_mu) # (2**n,)\n",
    "\n",
    "    unnormalized_amplitude = jnp.exp(-0.5 * free_energy_lambda - 0.5j * free_energy_mu)  # (2**n,)\n",
    "\n",
    "    rotation_matrix = construct_rotation_matrix(measurement_basis)  # (2**n, 2**n)\n",
    "\n",
    "    def get_log_probability(measurement):\n",
    "        idx = bitstring_to_int(measurement)\n",
    "        unnormalized_rotated_amplitude = jnp.vdot(rotation_matrix[idx], unnormalized_amplitude)\n",
    "        log_probability = jnp.log(jnp.abs(unnormalized_rotated_amplitude)**2 + 1e-30)\n",
    "        return log_probability\n",
    "\n",
    "    log_probs = jax.vmap(get_log_probability)(measurements)\n",
    "    loss = -jnp.mean(log_probs)\n",
    "    return loss\n",
    "\n",
    "\n",
    "autodiff_grad_fn = jax.grad(loss_fn, argnums=3)\n",
    "\n",
    "autodiff_grad = autodiff_grad_fn(measurements, measurement_basis, params_lambda, params_mu)\n",
    "autodiff_grad"
   ],
   "id": "e235df13fc429dad",
   "outputs": [
    {
     "data": {
      "text/plain": [
       "{'W': Array([-9.9958172e+00, -3.8146973e-06,  2.9100418e-02, -3.3208370e+00],      dtype=float32),\n",
       " 'b': Array(-5.722046e-06, dtype=float32)}"
      ]
     },
     "execution_count": 31,
     "metadata": {},
     "output_type": "execute_result"
    }
   ],
   "execution_count": 31
  },
  {
   "metadata": {
    "ExecuteTime": {
     "end_time": "2025-06-05T21:32:42.385876Z",
     "start_time": "2025-06-05T21:32:42.365317Z"
    }
   },
   "cell_type": "code",
   "source": [
    "#### EXPLICIT GRADIENTS\n",
    "\n",
    "def grad_fn(measurements, basis, params_lambda, params_mu):\n",
    "    computational_basis_vectors = get_computational_basis_vectors(measurements.shape[1])\n",
    "\n",
    "    free_energy_lambda = jax.vmap(dummy_free_energy, (0, None))(computational_basis_vectors, params_lambda)\n",
    "    free_energy_mu = jax.vmap(dummy_free_energy, (0, None))(computational_basis_vectors, params_mu)\n",
    "    free_energy_mu_grads = jax.vmap(lambda s: jax.grad(lambda p: dummy_free_energy(s, p))(params_mu))(computational_basis_vectors)\n",
    "\n",
    "    rotation_matrix = construct_rotation_matrix(basis)\n",
    "\n",
    "    def per_sample(bits):\n",
    "        idx = bitstring_to_int(bits)\n",
    "        rotated_exponent = jnp.log(rotation_matrix[idx]) - 0.5 * free_energy_lambda - 0.5j * free_energy_mu\n",
    "        rotated_exponent = jnp.where(jnp.isfinite(rotated_exponent), rotated_exponent, -1e30 + 0j)  # safety\n",
    "        gradient_weights = jnp.imag(softmax(rotated_exponent))\n",
    "\n",
    "        def apply_to_leaf(leaf):\n",
    "            if leaf.ndim == 1:             # bias gradient\n",
    "                return -jnp.sum(gradient_weights * leaf)\n",
    "            else:                          # weight gradient\n",
    "                return -jnp.sum(gradient_weights[:, None] * leaf, axis=0)\n",
    "\n",
    "        return tree.map(apply_to_leaf, free_energy_mu_grads)\n",
    "\n",
    "    grads_batch = jax.vmap(per_sample)(measurements)         # stacked pytree\n",
    "    return tree.map(lambda x: jnp.mean(x, 0), grads_batch)\n",
    "\n",
    "\n",
    "\n",
    "explicit_grad = grad_fn(measurements, measurement_basis, params_lambda, params_mu)\n",
    "\n",
    "print(\"explicit :\", explicit_grad)\n",
    "print(\"autodiff :\", autodiff_grad)\n",
    "print(\"close    :\", tree.all(tree.map(lambda a, b: jnp.allclose(a, b, rtol=1e-3, atol=1e-5), explicit_grad, autodiff_grad)))"
   ],
   "id": "2e9da81002314183",
   "outputs": [
    {
     "name": "stdout",
     "output_type": "stream",
     "text": [
      "explicit : {'W': Array([-9.9956303e+00, -1.7881393e-06,  2.9097542e-02, -3.3207827e+00],      dtype=float32), 'b': Array(2.1606684e-07, dtype=float32)}\n",
      "autodiff : {'W': Array([-9.9958172e+00, -3.8146973e-06,  2.9100418e-02, -3.3208370e+00],      dtype=float32), 'b': Array(-5.722046e-06, dtype=float32)}\n",
      "close    : True\n"
     ]
    }
   ],
   "execution_count": 41
  },
  {
   "metadata": {},
   "cell_type": "code",
   "outputs": [],
   "execution_count": null,
   "source": "",
   "id": "a1f46c51a765f1d"
  }
 ],
 "metadata": {
  "kernelspec": {
   "display_name": "Python 3",
   "language": "python",
   "name": "python3"
  },
  "language_info": {
   "codemirror_mode": {
    "name": "ipython",
    "version": 2
   },
   "file_extension": ".py",
   "mimetype": "text/x-python",
   "name": "python",
   "nbconvert_exporter": "python",
   "pygments_lexer": "ipython2",
   "version": "2.7.6"
  }
 },
 "nbformat": 4,
 "nbformat_minor": 5
}
