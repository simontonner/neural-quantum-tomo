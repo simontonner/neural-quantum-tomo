{
 "cells": [
  {
   "metadata": {
    "ExecuteTime": {
     "end_time": "2025-06-14T23:27:18.528547Z",
     "start_time": "2025-06-14T23:27:18.497183Z"
    }
   },
   "cell_type": "code",
   "source": [
    "%reload_ext autoreload\n",
    "%autoreload 2\n",
    "\n",
    "from lib.basis import construct_rotation_matrix\n",
    "from lib.formatting import bitstring_to_int\n",
    "from lib.data_loading_legacy import load_measurements, MultiBasisDataLoader\n",
    "from lib.state_io import load_state_vector\n",
    "\n",
    "####\n",
    "\n",
    "import re\n",
    "from pathlib import Path\n",
    "from typing import Optional, Tuple, Dict, Any, Sequence, Callable\n",
    "\n",
    "import numpy as np\n",
    "\n",
    "import jax\n",
    "import jax.lax\n",
    "import jax.numpy as jnp\n",
    "import optax\n",
    "from flax.training.train_state import TrainState\n",
    "from flax.training import checkpoints\n",
    "from flax import linen as nn\n",
    "from jaxtyping import PyTree\n",
    "from jax.flatten_util import ravel_pytree\n",
    "\n",
    "import matplotlib.pyplot as plt\n",
    "\n",
    "data_dir = \"data\"\n",
    "model_dir = \"./models\"\n",
    "model_prefix = \"rbm_amp_202506150002_0\"\n",
    "\n",
    "print(f\"Data resides in                         : {data_dir}\")\n",
    "print(f\"Amplitude RBM checkpoint to be loaded   : {model_dir}/{model_prefix}\")"
   ],
   "id": "cac0523cf96155b2",
   "outputs": [
    {
     "name": "stdout",
     "output_type": "stream",
     "text": [
      "Data resides in                         : data\n",
      "Amplitude RBM checkpoint to be loaded   : ./models/rbm_amp_202506150002_0\n"
     ]
    }
   ],
   "execution_count": 6
  },
  {
   "metadata": {
    "ExecuteTime": {
     "end_time": "2025-06-14T23:27:20.168858Z",
     "start_time": "2025-06-14T23:27:20.135568Z"
    }
   },
   "cell_type": "code",
   "source": [
    "class PairPhaseRBM(nn.Module):\n",
    "    n_visible: int\n",
    "    n_hidden: int\n",
    "\n",
    "    def setup(self):\n",
    "        zeros = lambda shape: jnp.zeros(shape, dtype=jnp.float32)\n",
    "        self.W_amp = self.variable('amp', 'W_amp', zeros, (self.n_visible, self.n_hidden))\n",
    "        self.b_amp = self.variable('amp', 'b_amp', zeros, (self.n_visible,))\n",
    "        self.c_amp = self.variable('amp', 'c_amp', zeros, (self.n_hidden,))\n",
    "\n",
    "        self.W_pha = self.param('W_pha', nn.initializers.normal(0.01), (self.n_visible, self.n_hidden))\n",
    "        self.b_pha = self.param('b_pha', nn.initializers.zeros, (self.n_visible,))\n",
    "        self.c_pha = self.param('c_pha', nn.initializers.zeros, (self.n_hidden,))\n",
    "\n",
    "    def _free_energy_amp(self, v):\n",
    "        return -(v @ self.b_amp.value) - jnp.sum(jax.nn.softplus(v @ self.W_amp.value + self.c_amp.value), -1)\n",
    "\n",
    "    def _free_energy_pha(self, v):\n",
    "        return -(v @ self.b_pha) - jnp.sum(jax.nn.softplus(v @ self.W_pha + self.c_pha), -1)\n",
    "\n",
    "    def compute_phase(self, v: jnp.ndarray) -> jnp.ndarray:\n",
    "        return -self._free_energy_pha(v)\n",
    "\n",
    "    @staticmethod\n",
    "    def rotated_log_prob(rotation_weights, free_energy_lambda, free_energy_mu):\n",
    "        # weights are stable known values and the phase part is bounded by +-1. We do log_sum_exp only the real part\n",
    "\n",
    "        computational_log_magnitudes = -0.5 * free_energy_lambda\n",
    "        computational_phases = -0.5j * free_energy_mu\n",
    "\n",
    "        max_computational_log_magnitude = jnp.max(computational_log_magnitudes)\n",
    "\n",
    "        scaled_computational_amplitudes = jnp.exp(computational_log_magnitudes - max_computational_log_magnitude + computational_phases)\n",
    "\n",
    "        scaled_measurement_amplitude = jnp.vdot(rotation_weights, scaled_computational_amplitudes)\n",
    "\n",
    "        log_measurement_amplitude = max_computational_log_magnitude + jnp.log(jnp.abs(scaled_measurement_amplitude) + 1e-30)\n",
    "        return 2 * log_measurement_amplitude\n",
    "\n",
    "\n",
    "    def __call__(self, measurement_tuple: Tuple) -> jnp.ndarray:\n",
    "        measurement, basis = measurement_tuple\n",
    "\n",
    "        local_indices = jnp.array(jnp.nonzero(basis != 0, size=2, fill_value=-1)[0])\n",
    "\n",
    "        # get the free energies for all computational basis vectors to construct the full state vector\n",
    "        local_rotation_matrix = construct_rotation_matrix(basis[local_indices])\n",
    "\n",
    "        # for outcome 00 we pick first row, for 01 second row, etc.\n",
    "        local_rotation_weights = local_rotation_matrix[bitstring_to_int(measurement[local_indices])]\n",
    "\n",
    "        # amplitudes mismatching with our Z measurements are 0. There are only 4 remaining amplitudes with the local variations\n",
    "        local_measurement_combos = jnp.array([[0,0], [0,1], [1,0], [1,1]], dtype=measurement.dtype)\n",
    "        local_computational_basis_vectors = jnp.tile(measurement, (4, 1)).at[:, local_indices].set(local_measurement_combos)  # (4, n)\n",
    "\n",
    "        local_free_energy_lambda = self._free_energy_amp(local_computational_basis_vectors)\n",
    "        local_free_energy_mu = self._free_energy_pha(local_computational_basis_vectors)\n",
    "\n",
    "        rotated_log_prob = self.rotated_log_prob(local_rotation_weights, local_free_energy_lambda, local_free_energy_mu)\n",
    "        return rotated_log_prob"
   ],
   "id": "3fed4709083650a5",
   "outputs": [],
   "execution_count": 7
  },
  {
   "metadata": {
    "ExecuteTime": {
     "end_time": "2025-06-14T23:27:22.780733Z",
     "start_time": "2025-06-14T23:27:22.754319Z"
    }
   },
   "cell_type": "code",
   "source": [
    "def full_basis_loss(\n",
    "        params: PyTree,\n",
    "        apply_fn: Callable,\n",
    "        amp_vars: Dict[str, jnp.ndarray],\n",
    "        data_tuple: Tuple[jnp.ndarray, jnp.ndarray]) -> jnp.ndarray:\n",
    "\n",
    "    basis_measurements, bases = data_tuple\n",
    "\n",
    "    single_sample_loss = lambda m, b: apply_fn({'params': params, 'amp': amp_vars}, (m, b))\n",
    "    single_basis_loss = lambda ms, b: jnp.mean(jax.vmap(lambda m: single_sample_loss(m, b))(ms))\n",
    "\n",
    "    return -jnp.sum(jax.vmap(lambda ms, b: single_basis_loss(ms, b))(basis_measurements, bases))\n",
    "\n",
    "\n",
    "@jax.jit\n",
    "def train_step_natural(\n",
    "        state: \"TrainState\",\n",
    "        amp_vars: dict,\n",
    "        data_tuple: tuple,\n",
    "        eps: float = 1e-6) -> tuple:\n",
    "\n",
    "    loss = full_basis_loss(state.params, state.apply_fn, amp_vars, data_tuple)\n",
    "\n",
    "    base_measurements, bases = data_tuple\n",
    "    num_bases, batch_size, num_qubits = base_measurements.shape\n",
    "    num_samples = num_bases * batch_size\n",
    "\n",
    "    measurements_flat = base_measurements.reshape((num_samples, num_qubits))\n",
    "    bases_flat = bases.repeat(batch_size, axis=0)\n",
    "\n",
    "    single_sample_loss_fn = lambda params, b, m: state.apply_fn({'params': state.params, 'amp': amp_vars}, (m, b))\n",
    "    single_sample_grad_fn = lambda params, b, m: jax.grad(single_sample_loss_fn)(params, b, m)\n",
    "\n",
    "    grads_flat_pytree = jax.vmap(lambda m, b: single_sample_grad_fn(state.params, b, m))(measurements_flat, bases_flat)\n",
    "    mean_grad_pytree = jax.tree.map(lambda g: jnp.mean(g, axis=0), grads_flat_pytree)\n",
    "\n",
    "    # once we have our gradients we ravel the PyTree to get a flat parameter dimension\n",
    "    mean_grad, unravel_fn = ravel_pytree(mean_grad_pytree)\n",
    "    grads_flat   = jax.vmap(lambda g: ravel_pytree(g)[0])(grads_flat_pytree)\n",
    "\n",
    "    # calculate the full fisher matrix as outer\n",
    "    fisher_matrix = (grads_flat.T @ grads_flat) / grads_flat.shape[0]\n",
    "    fisher_matrix += eps * jnp.eye(fisher_matrix.shape[0], dtype=fisher_matrix.dtype) # regularize diagonal\n",
    "\n",
    "    # solving the linear system fisher_matrix @ nat_grad_flat = mean_grad is more stable than inverting the matrix\n",
    "    nat_grad_flat = jnp.linalg.solve(fisher_matrix, mean_grad)\n",
    "\n",
    "    # implement the learning rate normalization form the paper\n",
    "    fisher_matrix_norm = jnp.dot(mean_grad, jnp.dot(fisher_matrix, mean_grad))\n",
    "    lr_magnitude = 1 / jnp.sqrt(fisher_matrix_norm + eps)\n",
    "    nat_grad_flat *= lr_magnitude\n",
    "\n",
    "    # the optimizer again needs our PyTree structure to apply the gradients\n",
    "    nat_grad_pytree = unravel_fn(nat_grad_flat)\n",
    "    new_state = state.apply_gradients(grads=nat_grad_pytree)\n",
    "    return new_state, loss\n",
    "\n",
    "\n",
    "def train_rbm_natural(\n",
    "        state:   TrainState,\n",
    "        amp_vars: Dict[str, jnp.ndarray],\n",
    "        loader:  \"MultiBasisDataLoader\",\n",
    "        num_epochs: int,\n",
    "        eps: float = 1e-8) -> Tuple[TrainState, Dict[int, float]]:\n",
    "\n",
    "    metrics: Dict[str, float] = {}\n",
    "\n",
    "    for epoch in range(num_epochs):\n",
    "        tot_loss  = 0.0\n",
    "        n_batches = 0\n",
    "\n",
    "        for data_tuple in loader:\n",
    "            state, loss = train_step_natural(state, amp_vars, data_tuple, eps=eps)\n",
    "            tot_loss  += loss\n",
    "            n_batches += 1\n",
    "\n",
    "        avg_loss = float(tot_loss / n_batches)\n",
    "\n",
    "        metrics[epoch] = dict(loss=avg_loss)\n",
    "\n",
    "        print(f\"Epoch {epoch+1}/{num_epochs} │ Loss: {avg_loss:.4f}\")\n",
    "\n",
    "    return state, metrics"
   ],
   "id": "7d9688c41eb789eb",
   "outputs": [],
   "execution_count": 8
  },
  {
   "metadata": {
    "ExecuteTime": {
     "end_time": "2025-06-14T23:27:26.630338Z",
     "start_time": "2025-06-14T23:27:26.163091Z"
    }
   },
   "cell_type": "code",
   "source": [
    "data_dict = load_measurements(data_dir, \"w_*.txt\")\n",
    "\n",
    "keys_pha = [k for k in data_dict if 'Z' in k and re.search(r'[XY]', k)]\n",
    "dict_pha = {k: data_dict[k] for k in keys_pha}"
   ],
   "id": "4810713cb617047",
   "outputs": [],
   "execution_count": 9
  },
  {
   "metadata": {
    "ExecuteTime": {
     "end_time": "2025-06-14T23:27:27.958005Z",
     "start_time": "2025-06-14T23:27:27.922853Z"
    }
   },
   "cell_type": "code",
   "source": [
    "params_amp = checkpoints.restore_checkpoint(ckpt_dir=str(Path(model_dir).resolve()), target=None, prefix=model_prefix)\n",
    "\n",
    "amp_vars = {\"W_amp\": params_amp[\"W\"], \"b_amp\": params_amp[\"b\"], \"c_amp\": params_amp[\"c\"]}"
   ],
   "id": "afa1334f42881846",
   "outputs": [
    {
     "name": "stderr",
     "output_type": "stream",
     "text": [
      "/Users/Tonni/miniforge3/envs/dlnn2/lib/python3.9/site-packages/orbax/checkpoint/type_handlers.py:1330: UserWarning: Couldn't find sharding info under RestoreArgs. Populating sharding info from sharding file. Please note restoration time will be slightly increased due to reading from file instead of directly from RestoreArgs. Note also that this option is unsafe when restoring on a different topology than the checkpoint was saved with.\n",
      "  warnings.warn(\n"
     ]
    }
   ],
   "execution_count": 10
  },
  {
   "metadata": {
    "ExecuteTime": {
     "end_time": "2025-06-14T23:27:47.896249Z",
     "start_time": "2025-06-14T23:27:29.721954Z"
    }
   },
   "cell_type": "code",
   "source": [
    "batch_size    = 6400\n",
    "visible_units = 8\n",
    "hidden_units  = 16\n",
    "num_epochs    = 200\n",
    "lr       = 1e-2\n",
    "eps = 1e-2\n",
    "\n",
    "key = jax.random.PRNGKey(0)\n",
    "\n",
    "model_pha = PairPhaseRBM(n_visible=visible_units, n_hidden=hidden_units)\n",
    "\n",
    "dummy_meas  = jnp.zeros((visible_units,), dtype=jnp.float32)\n",
    "dummy_basis = jnp.zeros((visible_units,), dtype=jnp.int8)\n",
    "\n",
    "vars_pha = model_pha.init(key, (dummy_meas, dummy_basis))\n",
    "\n",
    "dummy_optim = optax.sgd(lr)\n",
    "state_pha = TrainState.create(apply_fn=model_pha.apply, params=vars_pha['params'], tx=dummy_optim)\n",
    "\n",
    "loader_pha = MultiBasisDataLoader(dict_pha, batch_size=batch_size, basis_encoding={'Z': 0, 'X': 1, 'Y': 2}, shuffle=True)\n",
    "\n",
    "%time state_pha, metrics_pha = train_rbm_natural(state_pha, amp_vars, loader_pha, num_epochs, eps=eps)"
   ],
   "id": "ff52dfd0a3cbe4dc",
   "outputs": [
    {
     "name": "stdout",
     "output_type": "stream",
     "text": [
      "Epoch 1/200 │ Loss: -102.2758\n",
      "Epoch 2/200 │ Loss: -102.2758\n",
      "Epoch 3/200 │ Loss: -102.2758\n",
      "Epoch 4/200 │ Loss: -102.2758\n",
      "Epoch 5/200 │ Loss: -102.2758\n",
      "Epoch 6/200 │ Loss: -102.2758\n",
      "Epoch 7/200 │ Loss: -102.2758\n",
      "Epoch 8/200 │ Loss: -102.2758\n",
      "Epoch 9/200 │ Loss: -102.2758\n",
      "Epoch 10/200 │ Loss: -102.2758\n",
      "Epoch 11/200 │ Loss: -102.2758\n",
      "Epoch 12/200 │ Loss: -102.2758\n",
      "Epoch 13/200 │ Loss: -102.2758\n",
      "Epoch 14/200 │ Loss: -102.2758\n",
      "Epoch 15/200 │ Loss: -102.2758\n",
      "Epoch 16/200 │ Loss: -102.2758\n",
      "Epoch 17/200 │ Loss: -102.2758\n",
      "Epoch 18/200 │ Loss: -102.2758\n",
      "Epoch 19/200 │ Loss: -102.2758\n",
      "Epoch 20/200 │ Loss: -102.2758\n",
      "Epoch 21/200 │ Loss: -102.2758\n",
      "Epoch 22/200 │ Loss: -102.2758\n",
      "Epoch 23/200 │ Loss: -102.2758\n",
      "Epoch 24/200 │ Loss: -102.2758\n",
      "Epoch 25/200 │ Loss: -102.2758\n",
      "Epoch 26/200 │ Loss: -102.2758\n",
      "Epoch 27/200 │ Loss: -102.2758\n",
      "Epoch 28/200 │ Loss: -102.2758\n",
      "Epoch 29/200 │ Loss: -102.2758\n",
      "Epoch 30/200 │ Loss: -102.2758\n",
      "Epoch 31/200 │ Loss: -102.2758\n",
      "Epoch 32/200 │ Loss: -102.2758\n",
      "Epoch 33/200 │ Loss: -102.2758\n",
      "Epoch 34/200 │ Loss: -102.2758\n",
      "Epoch 35/200 │ Loss: -102.2758\n",
      "Epoch 36/200 │ Loss: -102.2758\n",
      "Epoch 37/200 │ Loss: -102.2758\n",
      "Epoch 38/200 │ Loss: -102.2758\n",
      "Epoch 39/200 │ Loss: -102.2758\n",
      "Epoch 40/200 │ Loss: -102.2758\n",
      "Epoch 41/200 │ Loss: -102.2758\n",
      "Epoch 42/200 │ Loss: -102.2758\n",
      "Epoch 43/200 │ Loss: -102.2758\n",
      "Epoch 44/200 │ Loss: -102.2758\n",
      "Epoch 45/200 │ Loss: -102.2758\n",
      "Epoch 46/200 │ Loss: -102.2758\n",
      "Epoch 47/200 │ Loss: -102.2758\n",
      "Epoch 48/200 │ Loss: -102.2758\n",
      "Epoch 49/200 │ Loss: -102.2758\n",
      "Epoch 50/200 │ Loss: -102.2758\n",
      "Epoch 51/200 │ Loss: -102.2758\n",
      "Epoch 52/200 │ Loss: -102.2758\n",
      "Epoch 53/200 │ Loss: -102.2758\n",
      "Epoch 54/200 │ Loss: -102.2758\n",
      "Epoch 55/200 │ Loss: -102.2758\n",
      "Epoch 56/200 │ Loss: -102.2758\n",
      "Epoch 57/200 │ Loss: -102.2758\n",
      "Epoch 58/200 │ Loss: -102.2758\n",
      "Epoch 59/200 │ Loss: -102.2758\n",
      "Epoch 60/200 │ Loss: -102.2758\n",
      "Epoch 61/200 │ Loss: -102.2758\n",
      "Epoch 62/200 │ Loss: -102.2758\n",
      "Epoch 63/200 │ Loss: -102.2758\n",
      "Epoch 64/200 │ Loss: -102.2758\n",
      "Epoch 65/200 │ Loss: -102.2758\n",
      "Epoch 66/200 │ Loss: -102.2758\n",
      "Epoch 67/200 │ Loss: -102.2758\n",
      "Epoch 68/200 │ Loss: -102.2758\n",
      "Epoch 69/200 │ Loss: -102.2758\n",
      "Epoch 70/200 │ Loss: -102.2758\n",
      "Epoch 71/200 │ Loss: -102.2758\n",
      "Epoch 72/200 │ Loss: -102.2758\n",
      "Epoch 73/200 │ Loss: -102.2758\n",
      "Epoch 74/200 │ Loss: -102.2758\n",
      "Epoch 75/200 │ Loss: -102.2758\n",
      "Epoch 76/200 │ Loss: -102.2758\n",
      "Epoch 77/200 │ Loss: -102.2758\n",
      "Epoch 78/200 │ Loss: -102.2758\n",
      "Epoch 79/200 │ Loss: -102.2758\n",
      "Epoch 80/200 │ Loss: -102.2758\n",
      "Epoch 81/200 │ Loss: -102.2758\n",
      "Epoch 82/200 │ Loss: -102.2758\n",
      "Epoch 83/200 │ Loss: -102.2758\n",
      "Epoch 84/200 │ Loss: -102.2758\n",
      "Epoch 85/200 │ Loss: -102.2758\n",
      "Epoch 86/200 │ Loss: -102.2758\n",
      "Epoch 87/200 │ Loss: -102.2758\n",
      "Epoch 88/200 │ Loss: -102.2758\n",
      "Epoch 89/200 │ Loss: -102.2758\n",
      "Epoch 90/200 │ Loss: -102.2758\n",
      "Epoch 91/200 │ Loss: -102.2758\n",
      "Epoch 92/200 │ Loss: -102.2758\n",
      "Epoch 93/200 │ Loss: -102.2758\n",
      "Epoch 94/200 │ Loss: -102.2758\n",
      "Epoch 95/200 │ Loss: -102.2758\n",
      "Epoch 96/200 │ Loss: -102.2758\n",
      "Epoch 97/200 │ Loss: -102.2758\n",
      "Epoch 98/200 │ Loss: -102.2758\n",
      "Epoch 99/200 │ Loss: -102.2758\n",
      "Epoch 100/200 │ Loss: -102.2758\n",
      "Epoch 101/200 │ Loss: -102.2758\n",
      "Epoch 102/200 │ Loss: -102.2758\n",
      "Epoch 103/200 │ Loss: -102.2758\n",
      "Epoch 104/200 │ Loss: -102.2758\n",
      "Epoch 105/200 │ Loss: -102.2758\n",
      "Epoch 106/200 │ Loss: -102.2758\n",
      "Epoch 107/200 │ Loss: -102.2758\n",
      "Epoch 108/200 │ Loss: -102.2758\n",
      "Epoch 109/200 │ Loss: -102.2758\n",
      "Epoch 110/200 │ Loss: -102.2758\n",
      "Epoch 111/200 │ Loss: -102.2758\n",
      "Epoch 112/200 │ Loss: -102.2758\n",
      "Epoch 113/200 │ Loss: -102.2758\n",
      "Epoch 114/200 │ Loss: -102.2758\n",
      "Epoch 115/200 │ Loss: -102.2758\n",
      "Epoch 116/200 │ Loss: -102.2758\n",
      "Epoch 117/200 │ Loss: -102.2758\n",
      "Epoch 118/200 │ Loss: -102.2758\n",
      "Epoch 119/200 │ Loss: -102.2758\n",
      "Epoch 120/200 │ Loss: -102.2758\n",
      "Epoch 121/200 │ Loss: -102.2758\n",
      "Epoch 122/200 │ Loss: -102.2758\n",
      "Epoch 123/200 │ Loss: -102.2758\n",
      "Epoch 124/200 │ Loss: -102.2758\n",
      "Epoch 125/200 │ Loss: -102.2758\n",
      "Epoch 126/200 │ Loss: -102.2758\n",
      "Epoch 127/200 │ Loss: -102.2758\n",
      "Epoch 128/200 │ Loss: -102.2758\n",
      "Epoch 129/200 │ Loss: -102.2758\n",
      "Epoch 130/200 │ Loss: -102.2758\n",
      "Epoch 131/200 │ Loss: -102.2758\n",
      "Epoch 132/200 │ Loss: -102.2758\n",
      "Epoch 133/200 │ Loss: -102.2758\n",
      "Epoch 134/200 │ Loss: -102.2758\n",
      "Epoch 135/200 │ Loss: -102.2758\n",
      "Epoch 136/200 │ Loss: -102.2758\n",
      "Epoch 137/200 │ Loss: -102.2758\n",
      "Epoch 138/200 │ Loss: -102.2758\n",
      "Epoch 139/200 │ Loss: -102.2758\n",
      "Epoch 140/200 │ Loss: -102.2758\n",
      "Epoch 141/200 │ Loss: -102.2758\n",
      "Epoch 142/200 │ Loss: -102.2758\n",
      "Epoch 143/200 │ Loss: -102.2758\n",
      "Epoch 144/200 │ Loss: -102.2758\n",
      "Epoch 145/200 │ Loss: -102.2758\n",
      "Epoch 146/200 │ Loss: -102.2758\n",
      "Epoch 147/200 │ Loss: -102.2758\n",
      "Epoch 148/200 │ Loss: -102.2758\n",
      "Epoch 149/200 │ Loss: -102.2758\n",
      "Epoch 150/200 │ Loss: -102.2758\n",
      "Epoch 151/200 │ Loss: -102.2758\n",
      "Epoch 152/200 │ Loss: -102.2758\n",
      "Epoch 153/200 │ Loss: -102.2758\n",
      "Epoch 154/200 │ Loss: -102.2758\n",
      "Epoch 155/200 │ Loss: -102.2758\n",
      "Epoch 156/200 │ Loss: -102.2758\n",
      "Epoch 157/200 │ Loss: -102.2758\n",
      "Epoch 158/200 │ Loss: -102.2758\n",
      "Epoch 159/200 │ Loss: -102.2758\n",
      "Epoch 160/200 │ Loss: -102.2758\n",
      "Epoch 161/200 │ Loss: -102.2758\n",
      "Epoch 162/200 │ Loss: -102.2758\n",
      "Epoch 163/200 │ Loss: -102.2758\n",
      "Epoch 164/200 │ Loss: -102.2758\n",
      "Epoch 165/200 │ Loss: -102.2758\n",
      "Epoch 166/200 │ Loss: -102.2758\n",
      "Epoch 167/200 │ Loss: -102.2758\n",
      "Epoch 168/200 │ Loss: -102.2758\n",
      "Epoch 169/200 │ Loss: -102.2758\n",
      "Epoch 170/200 │ Loss: -102.2758\n",
      "Epoch 171/200 │ Loss: -102.2758\n",
      "Epoch 172/200 │ Loss: -102.2758\n",
      "Epoch 173/200 │ Loss: -102.2758\n",
      "Epoch 174/200 │ Loss: -102.2758\n",
      "Epoch 175/200 │ Loss: -102.2758\n",
      "Epoch 176/200 │ Loss: -102.2758\n",
      "Epoch 177/200 │ Loss: -102.2758\n",
      "Epoch 178/200 │ Loss: -102.2758\n",
      "Epoch 179/200 │ Loss: -102.2758\n",
      "Epoch 180/200 │ Loss: -102.2758\n",
      "Epoch 181/200 │ Loss: -102.2758\n",
      "Epoch 182/200 │ Loss: -102.2758\n",
      "Epoch 183/200 │ Loss: -102.2758\n",
      "Epoch 184/200 │ Loss: -102.2758\n",
      "Epoch 185/200 │ Loss: -102.2758\n",
      "Epoch 186/200 │ Loss: -102.2758\n",
      "Epoch 187/200 │ Loss: -102.2758\n",
      "Epoch 188/200 │ Loss: -102.2758\n",
      "Epoch 189/200 │ Loss: -102.2758\n",
      "Epoch 190/200 │ Loss: -102.2758\n",
      "Epoch 191/200 │ Loss: -102.2758\n",
      "Epoch 192/200 │ Loss: -102.2758\n",
      "Epoch 193/200 │ Loss: -102.2758\n",
      "Epoch 194/200 │ Loss: -102.2758\n",
      "Epoch 195/200 │ Loss: -102.2758\n",
      "Epoch 196/200 │ Loss: -102.2758\n",
      "Epoch 197/200 │ Loss: -102.2758\n",
      "Epoch 198/200 │ Loss: -102.2758\n",
      "Epoch 199/200 │ Loss: -102.2758\n",
      "Epoch 200/200 │ Loss: -102.2758\n",
      "CPU times: user 37.6 s, sys: 5.8 s, total: 43.4 s\n",
      "Wall time: 17.3 s\n"
     ]
    }
   ],
   "execution_count": 11
  },
  {
   "metadata": {
    "ExecuteTime": {
     "end_time": "2025-06-14T23:27:50.450867Z",
     "start_time": "2025-06-14T23:27:50.329429Z"
    }
   },
   "cell_type": "code",
   "source": [
    "epochs = list(metrics_pha.keys())\n",
    "loss_vals = [metrics_pha[e]['loss'] for e in epochs]\n",
    "\n",
    "fig, ax1 = plt.subplots()\n",
    "\n",
    "ax1.plot(epochs, loss_vals, label=\"Amplitude CD Loss\", color=\"tab:blue\")\n",
    "ax1.set_xlabel(\"Epoch\")\n",
    "ax1.set_ylabel(\"Phase Loss\", color=\"tab:blue\")\n",
    "ax1.tick_params(axis=\"y\", labelcolor=\"tab:blue\")\n",
    "\n",
    "plt.title(\"Loss\")\n",
    "plt.show()"
   ],
   "id": "d23a12a8195394fc",
   "outputs": [
    {
     "data": {
      "text/plain": [
       "<Figure size 640x480 with 1 Axes>"
      ],
      "image/png": "[encoded data removed]"
     },
     "metadata": {},
     "output_type": "display_data"
    }
   ],
   "execution_count": 12
  },
  {
   "metadata": {
    "ExecuteTime": {
     "end_time": "2025-06-14T23:27:57.669439Z",
     "start_time": "2025-06-14T23:27:57.468460Z"
    }
   },
   "cell_type": "code",
   "source": [
    "one_hot_states = jnp.eye(visible_units, dtype=jnp.float32)\n",
    "one_hot_bitstrings = [''.join('1' if s > 0 else '0' for s in state) for state in one_hot_states]\n",
    "\n",
    "model_phases_raw = model_pha.apply({\"params\": state_pha.params, \"amp\": amp_vars}, one_hot_states, method=model_pha.compute_phase)\n",
    "model_phases_norm = model_phases_raw - model_phases_raw[-1]\n",
    "model_phases_wrapped = model_phases_norm % (2 * jnp.pi)\n",
    "\n",
    "model_phase_tuples = sorted(zip(one_hot_bitstrings, model_phases_raw, model_phases_wrapped), key=lambda x: int(x[0], 2))\n",
    "\n",
    "for bitstring, phase_raw, phase_wrapped in model_phase_tuples:\n",
    "    print(f\"{bitstring}: {phase_raw:.4f} (raw), {phase_wrapped:.4f} (wrapped)\")"
   ],
   "id": "cf3481d2087fb107",
   "outputs": [
    {
     "name": "stdout",
     "output_type": "stream",
     "text": [
      "00000001: 11.0818 (raw), 0.0000 (wrapped)\n",
      "00000010: 11.0845 (raw), 0.0027 (wrapped)\n",
      "00000100: 11.1164 (raw), 0.0347 (wrapped)\n",
      "00001000: 11.0941 (raw), 0.0123 (wrapped)\n",
      "00010000: 11.1097 (raw), 0.0279 (wrapped)\n",
      "00100000: 11.0797 (raw), 6.2811 (wrapped)\n",
      "01000000: 11.0943 (raw), 0.0126 (wrapped)\n",
      "10000000: 11.0868 (raw), 0.0050 (wrapped)\n"
     ]
    }
   ],
   "execution_count": 13
  },
  {
   "metadata": {
    "ExecuteTime": {
     "end_time": "2025-06-14T23:27:59.550240Z",
     "start_time": "2025-06-14T23:27:59.427852Z"
    }
   },
   "cell_type": "code",
   "source": [
    "fig, ax = plt.subplots(figsize=(8, 4))\n",
    "ax.bar([t[0] for t in model_phase_tuples], [t[2] for t in model_phase_tuples])\n",
    "ax.set_xlabel(\"one-hot W basis vector\")\n",
    "ax.set_ylabel(\"phase (radians)\")\n",
    "ax.set_title(\"Predicted phases\")\n",
    "ax.set_ylim(0, 2 * jnp.pi)\n",
    "plt.xticks(rotation=45)\n",
    "plt.tight_layout()\n",
    "plt.show()"
   ],
   "id": "bc1d37b1118b9997",
   "outputs": [
    {
     "data": {
      "text/plain": [
       "<Figure size 800x400 with 1 Axes>"
      ],
      "image/png": "[encoded data removed]"
     },
     "metadata": {},
     "output_type": "display_data"
    }
   ],
   "execution_count": 14
  },
  {
   "metadata": {
    "ExecuteTime": {
     "end_time": "2025-06-14T23:28:02.753466Z",
     "start_time": "2025-06-14T23:28:02.723601Z"
    }
   },
   "cell_type": "code",
   "source": [
    "w_aug_file_path = Path(data_dir) / f\"w_aug_{visible_units}.txt\"\n",
    "w_aug_state_dict = load_state_vector(w_aug_file_path)\n",
    "\n",
    "phase_offset = np.angle(w_aug_state_dict[one_hot_bitstrings[-1]])\n",
    "\n",
    "original_phase_tuples = []\n",
    "for bs in sorted(one_hot_bitstrings, key=lambda x: int(x, 2)):\n",
    "\n",
    "    amplitude = w_aug_state_dict[bs]\n",
    "    phase_raw = np.angle(amplitude)  # get raw phase in radians\n",
    "    phase_norm = phase_raw - phase_offset  # normalize by the last one-hot state\n",
    "    phase_wrapped = phase_norm % (2 * jnp.pi)\n",
    "\n",
    "    original_phase_tuples.append((bs, amplitude, phase_raw, phase_wrapped))\n",
    "\n",
    "for bitstring, amp, phase_raw, phase_wrapped in original_phase_tuples:\n",
    "    print(f\"{bitstring}: {amp:.8f} (ampl), {phase_raw:.4f} (raw), {phase_wrapped:.4f} (wrapped)\")"
   ],
   "id": "79b74609cb79787",
   "outputs": [
    {
     "name": "stdout",
     "output_type": "stream",
     "text": [
      "00000001: 0.35348165+0.00712282j (ampl), 0.0201 (raw), 0.0000 (wrapped)\n",
      "00000010: 0.34222963+0.08876304j (ampl), 0.2538 (raw), 0.2336 (wrapped)\n",
      "00000100: -0.07679566+0.34511220j (ampl), 1.7898 (raw), 1.7696 (wrapped)\n",
      "00001000: 0.02867402-0.35238871j (ampl), -1.4896 (raw), 4.7734 (wrapped)\n",
      "00010000: 0.01964585+0.35300714j (ampl), 1.5152 (raw), 1.4951 (wrapped)\n",
      "00100000: -0.03371835+0.35194188j (ampl), 1.6663 (raw), 1.6462 (wrapped)\n",
      "01000000: -0.28657940-0.20705615j (ampl), -2.5159 (raw), 3.7471 (wrapped)\n",
      "10000000: -0.13468251-0.32689542j (ampl), -1.9616 (raw), 4.3014 (wrapped)\n"
     ]
    }
   ],
   "execution_count": 15
  },
  {
   "metadata": {
    "ExecuteTime": {
     "end_time": "2025-06-10T14:34:13.125493Z",
     "start_time": "2025-06-10T14:34:13.033206Z"
    }
   },
   "cell_type": "code",
   "source": [
    "fig, ax = plt.subplots(figsize=(8, 4))\n",
    "ax.bar([t[0] for t in original_phase_tuples], [t[3] for t in original_phase_tuples])\n",
    "ax.set_xlabel(\"one-hot W basis vector\")\n",
    "ax.set_ylabel(\"phase (radians)\")\n",
    "ax.set_title(\"Original phases\")\n",
    "ax.set_ylim(0, 2 * jnp.pi)\n",
    "plt.xticks(rotation=45)\n",
    "plt.tight_layout()\n",
    "plt.show()"
   ],
   "id": "c1ba8953270b483a",
   "outputs": [
    {
     "data": {
      "text/plain": [
       "<Figure size 800x400 with 1 Axes>"
      ],
      "image/png": "[encoded data removed]"
     },
     "metadata": {},
     "output_type": "display_data"
    }
   ],
   "execution_count": 12
  },
  {
   "metadata": {},
   "cell_type": "code",
   "outputs": [],
   "execution_count": null,
   "source": "",
   "id": "e42a3363224f29c"
  }
 ],
 "metadata": {
  "kernelspec": {
   "display_name": "Python 3",
   "language": "python",
   "name": "python3"
  },
  "language_info": {
   "codemirror_mode": {
    "name": "ipython",
    "version": 2
   },
   "file_extension": ".py",
   "mimetype": "text/x-python",
   "name": "python",
   "nbconvert_exporter": "python",
   "pygments_lexer": "ipython2",
   "version": "2.7.6"
  }
 },
 "nbformat": 4,
 "nbformat_minor": 5
}
