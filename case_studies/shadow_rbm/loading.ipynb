{
 "cells": [
  {
   "cell_type": "code",
   "id": "initial_id",
   "metadata": {
    "collapsed": true,
    "ExecuteTime": {
     "end_time": "2025-06-10T20:59:51.555347Z",
     "start_time": "2025-06-10T20:59:51.461882Z"
    }
   },
   "source": [
    "%reload_ext autoreload\n",
    "%autoreload 2\n",
    "\n",
    "from lib.data_loading import load_measurements, CombinedDataLoader\n",
    "\n",
    "####\n",
    "\n",
    "from pathlib import Path\n",
    "\n",
    "from jax.random import PRNGKey, split, permutation"
   ],
   "outputs": [],
   "execution_count": 11
  },
  {
   "metadata": {
    "ExecuteTime": {
     "end_time": "2025-06-10T21:02:59.072045Z",
     "start_time": "2025-06-10T21:02:57.516021Z"
    }
   },
   "cell_type": "code",
   "source": [
    "file_path = Path(\"data/w_aug_combined.txt\")\n",
    "data = load_measurements(file_path)\n",
    "\n",
    "train_portion = 0.9\n",
    "split_idx = int(len(data) * train_portion)\n",
    "train_data = data[:split_idx]\n",
    "test_data = data[split_idx:]\n",
    "\n",
    "loader = CombinedDataLoader(\n",
    "    data=train_data,\n",
    "    batch_size=128,\n",
    "    shuffle=True,\n",
    "    drop_last=False,\n",
    "    rng=PRNGKey(42)\n",
    ")\n",
    "\n",
    "print(\"Batch shape:\", next(iter(loader)).shape)\n",
    "print(\"Loader length:\", len(loader))"
   ],
   "id": "a8d8ac3e5a5bae38",
   "outputs": [
    {
     "name": "stderr",
     "output_type": "stream",
     "text": [
      "Parsing measurements: 100%|██████████| 20000/20000 [00:00<00:00, 23744.23it/s]\n"
     ]
    },
    {
     "name": "stdout",
     "output_type": "stream",
     "text": [
      "Batch shape: (128, 8, 3)\n",
      "Loader length: 141\n"
     ]
    }
   ],
   "execution_count": 19
  }
 ],
 "metadata": {
  "kernelspec": {
   "display_name": "Python 3",
   "language": "python",
   "name": "python3"
  },
  "language_info": {
   "codemirror_mode": {
    "name": "ipython",
    "version": 2
   },
   "file_extension": ".py",
   "mimetype": "text/x-python",
   "name": "python",
   "nbconvert_exporter": "python",
   "pygments_lexer": "ipython2",
   "version": "2.7.6"
  }
 },
 "nbformat": 4,
 "nbformat_minor": 5
}
