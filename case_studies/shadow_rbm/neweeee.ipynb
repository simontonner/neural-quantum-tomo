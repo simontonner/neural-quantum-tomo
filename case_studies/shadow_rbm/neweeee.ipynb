{
 "cells": [
  {
   "cell_type": "code",
   "execution_count": null,
   "id": "initial_id",
   "metadata": {
    "collapsed": true
   },
   "outputs": [],
   "source": [
    "class ConditionalRBM(nn.Module):\n",
    "    # ... (same as before) ...\n",
    "    film_width: int = 64\n",
    "    λ_l2: float = 1e-4\n",
    "\n",
    "    @nn.compact\n",
    "    def _conditioner(self, cond_flat: jnp.ndarray) -> Tuple[jnp.ndarray, jnp.ndarray, jnp.ndarray, jnp.ndarray]:\n",
    "        # now output four vectors: γ_b, β_b, γ_c, β_c\n",
    "        x = nn.Dense(self.film_width)(cond_flat)\n",
    "        x = nn.tanh(x)\n",
    "        x = nn.Dense(2*(self.num_visible + self.num_hidden))(x)\n",
    "        gamma_b, beta_b, gamma_c, beta_c = jnp.split(x,\n",
    "                                                     [self.num_visible, 2*self.num_visible,\n",
    "                                                      2*self.num_visible + self.num_hidden], axis=-1)\n",
    "        return gamma_b, beta_b, gamma_c, beta_c\n",
    "\n",
    "    def __call__(self, batch: jnp.ndarray, aux_vars: Dict[str, Any]) -> Tuple[jnp.ndarray, PRNGKey]:\n",
    "        mode, key = aux_vars[\"mode\"], aux_vars[\"key\"]\n",
    "        data = batch[...,0].astype(jnp.float32)   # (B,N)\n",
    "        cond = batch[...,1:].reshape(data.shape[0], -1)  # (B, N*C)\n",
    "\n",
    "        # base params\n",
    "        W0, b0, c0 = self.W, self.b, self.c0\n",
    "        if mode == TrainingMode.RBM_ONLY:\n",
    "            W, b, c = W0, b0, c0\n",
    "            reg = 0.0\n",
    "        else:\n",
    "            # stop gradients on base if COND_ONLY\n",
    "            if mode == TrainingMode.COND_ONLY:\n",
    "                W0, b0, c0 = jax.lax.stop_gradient(W0), jax.lax.stop_gradient(b0), jax.lax.stop_gradient(c0)\n",
    "            γ_b, β_b, γ_c, β_c = self._conditioner(cond)\n",
    "            b = (1+γ_b) * b0 + β_b         # conditioned visible biases\n",
    "            c = (1+γ_c) * c0 + β_c         # conditioned hidden biases\n",
    "            # L2 regularization on shifts β_b, β_c\n",
    "            reg = self.λ_l2 * (jnp.sum(β_b**2) + jnp.sum(β_c**2))\n",
    "\n",
    "        # positive phase\n",
    "        F_pos = jnp.mean(self._free_energy(data, W0, b, c))\n",
    "\n",
    "        # negative phase via CD-k\n",
    "        key, k1 = jax.random.split(key)\n",
    "        v_neg = jax.random.bernoulli(k1, 0.5, data.shape).astype(jnp.float32)\n",
    "        def step(state, _):\n",
    "            v, k = state\n",
    "            return self._gibbs_step((v, k), W0, b, c, temp=self.T), None\n",
    "        (v_k, _), _ = jax.lax.scan(step, (v_neg, key), None, length=self.k)\n",
    "        F_neg = jnp.mean(self._free_energy(v_k, W0, b, c))\n",
    "\n",
    "        loss = (F_pos - F_neg) + reg\n",
    "        return loss, {\"mode\": mode, \"key\": key}"
   ]
  }
 ],
 "metadata": {
  "kernelspec": {
   "display_name": "Python 3",
   "language": "python",
   "name": "python3"
  },
  "language_info": {
   "codemirror_mode": {
    "name": "ipython",
    "version": 2
   },
   "file_extension": ".py",
   "mimetype": "text/x-python",
   "name": "python",
   "nbconvert_exporter": "python",
   "pygments_lexer": "ipython2",
   "version": "2.7.6"
  }
 },
 "nbformat": 4,
 "nbformat_minor": 5
}
