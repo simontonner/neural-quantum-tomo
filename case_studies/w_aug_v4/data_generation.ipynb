{
 "cells": [
  {
   "cell_type": "code",
   "id": "initial_id",
   "metadata": {
    "collapsed": true,
    "ExecuteTime": {
     "end_time": "2025-06-08T14:26:21.032146Z",
     "start_time": "2025-06-08T14:26:20.985809Z"
    }
   },
   "source": [
    "from lib.measurement import MultiQubitMeasurement\n",
    "from lib.formatting import format_bytes, bitstring_to_filestring\n",
    "from lib.state_io import save_state_vector\n",
    "\n",
    "####\n",
    "\n",
    "from time import time\n",
    "from pathlib import Path\n",
    "\n",
    "import jax.numpy as jnp\n",
    "from jax import random\n",
    "\n",
    "\n",
    "rng_seed = 42\n",
    "\n",
    "data_dir = Path(\"data\")\n",
    "data_dir.mkdir(parents=True, exist_ok=True)\n",
    "\n",
    "print(f\"Random seed is {rng_seed}\")\n",
    "print(f\"Data will be saved to {data_dir.resolve()}\")"
   ],
   "outputs": [
    {
     "name": "stdout",
     "output_type": "stream",
     "text": [
      "Random seed is 42\n",
      "Data will be saved to /Users/Tonni/Desktop/master-code/neural-quantum-tomo/case_studies/w_aug_v4/data\n"
     ]
    }
   ],
   "execution_count": 6
  },
  {
   "metadata": {
    "ExecuteTime": {
     "end_time": "2025-06-08T13:16:43.898604Z",
     "start_time": "2025-06-08T13:16:43.696449Z"
    }
   },
   "cell_type": "code",
   "source": [
    "#### PHASE AUGMENTED W STATE\n",
    "\n",
    "num_qubits = 8\n",
    "\n",
    "state_dim = 1 << num_qubits                 # bit shifting a ...0001 bitstring is the same as 2**num_qubits\n",
    "\n",
    "rng_phase = random.PRNGKey(rng_seed)\n",
    "one_hot_thetas = random.uniform(rng_phase, shape=(num_qubits,), minval=0.0, maxval=2 * jnp.pi)\n",
    "one_hot_amplitudes = jnp.exp(1j * one_hot_thetas) / jnp.sqrt(num_qubits)\n",
    "\n",
    "one_hot_indices = 1 << jnp.arange(num_qubits - 1, -1, -1)   # we shift a single bit left with descending ints\n",
    "\n",
    "w_aug = jnp.zeros(state_dim, dtype=jnp.complex64).at[one_hot_indices].set(one_hot_amplitudes)\n",
    "\n",
    "print(\"First 10 amplitudes:\")\n",
    "for idx in range(10):\n",
    "    print(f\"{idx:0{num_qubits}b}: {w_aug[idx]:.8f}\")\n",
    "\n",
    "print(f\"\\nSize of state vector in memory: {format_bytes(w_aug.nbytes)} \\n\")"
   ],
   "id": "9dd9664914e32b3c",
   "outputs": [
    {
     "name": "stdout",
     "output_type": "stream",
     "text": [
      "First 10 amplitudes:\n",
      "00000000: 0.00000000+0.00000000j\n",
      "00000001: 0.35348165+0.00712282j\n",
      "00000010: 0.34222963+0.08876304j\n",
      "00000011: 0.00000000+0.00000000j\n",
      "00000100: -0.07679566+0.34511220j\n",
      "00000101: 0.00000000+0.00000000j\n",
      "00000110: 0.00000000+0.00000000j\n",
      "00000111: 0.00000000+0.00000000j\n",
      "00001000: 0.02867402-0.35238871j\n",
      "00001001: 0.00000000+0.00000000j\n",
      "\n",
      "Size of state vector in memory: 2.00 KB \n",
      "\n"
     ]
    }
   ],
   "execution_count": 2
  },
  {
   "metadata": {
    "ExecuteTime": {
     "end_time": "2025-06-08T13:16:45.023995Z",
     "start_time": "2025-06-08T13:16:44.976458Z"
    }
   },
   "cell_type": "code",
   "source": [
    "w_amp_file_name = f\"w_aug_{num_qubits}.txt\"\n",
    "w_amp_file_path = data_dir / w_amp_file_name\n",
    "save_state_vector(w_aug, w_amp_file_path)"
   ],
   "id": "fb1bf5d291a7dac9",
   "outputs": [
    {
     "name": "stdout",
     "output_type": "stream",
     "text": [
      "State vector written to data/w_aug_8.txt (8960 bytes)\n"
     ]
    }
   ],
   "execution_count": 3
  },
  {
   "metadata": {
    "ExecuteTime": {
     "end_time": "2025-06-08T13:16:46.077925Z",
     "start_time": "2025-06-08T13:16:46.073300Z"
    }
   },
   "cell_type": "code",
   "source": [
    "measurement_bases = []\n",
    "\n",
    "# all Z\n",
    "measurement_bases.append(['Z'] * num_qubits)\n",
    "\n",
    "# sliding XX window\n",
    "for i in range(num_qubits - 1):\n",
    "    basis_list = ['Z'] * num_qubits\n",
    "    basis_list[i] = 'X'\n",
    "    basis_list[i+1] = 'X'\n",
    "    measurement_bases.append(basis_list)\n",
    "\n",
    "# sliding XY window\n",
    "for i in range(num_qubits - 1):\n",
    "    basis_list = ['Z'] * num_qubits\n",
    "    basis_list[i] = 'X'\n",
    "    basis_list[i+1] = 'Y'\n",
    "    measurement_bases.append(basis_list)\n",
    "\n",
    "\n",
    "for i, basis in enumerate(measurement_bases):\n",
    "    print(f\"Basis {i:2d}: {''.join(basis)}\")"
   ],
   "id": "872ebf7fbf59463c",
   "outputs": [
    {
     "name": "stdout",
     "output_type": "stream",
     "text": [
      "Basis  0: ZZZZZZZZ\n",
      "Basis  1: XXZZZZZZ\n",
      "Basis  2: ZXXZZZZZ\n",
      "Basis  3: ZZXXZZZZ\n",
      "Basis  4: ZZZXXZZZ\n",
      "Basis  5: ZZZZXXZZ\n",
      "Basis  6: ZZZZZXXZ\n",
      "Basis  7: ZZZZZZXX\n",
      "Basis  8: XYZZZZZZ\n",
      "Basis  9: ZXYZZZZZ\n",
      "Basis 10: ZZXYZZZZ\n",
      "Basis 11: ZZZXYZZZ\n",
      "Basis 12: ZZZZXYZZ\n",
      "Basis 13: ZZZZZXYZ\n",
      "Basis 14: ZZZZZZXY\n"
     ]
    }
   ],
   "execution_count": 4
  },
  {
   "metadata": {
    "ExecuteTime": {
     "end_time": "2025-06-08T13:17:22.407489Z",
     "start_time": "2025-06-08T13:17:03.076400Z"
    }
   },
   "cell_type": "code",
   "source": [
    "samples_per_basis = 6400\n",
    "rng_samples = random.PRNGKey(rng_seed)\n",
    "\n",
    "for _, measurement_dirs in enumerate(measurement_bases):\n",
    "    measurement_dir_str = ''.join(measurement_dirs)\n",
    "    filename = data_dir / f\"w_aug_{measurement_dir_str}_{samples_per_basis}.txt\"\n",
    "\n",
    "    measurement = MultiQubitMeasurement(measurement_dirs)\n",
    "\n",
    "    start = time()\n",
    "    samples = measurement.sample_state(w_aug, samples_per_basis, rng=rng_samples)\n",
    "    print(f\"Sampling {samples_per_basis} samples took {time() - start:.2f} seconds.\")\n",
    "\n",
    "    with open(filename, 'w') as f_out:\n",
    "        for bitstring in samples:\n",
    "            formatted = bitstring_to_filestring(bitstring, measurement_dirs)\n",
    "            f_out.write(formatted + \"\\n\")\n",
    "\n",
    "    print(f\"Stored {samples_per_basis} samples to {filename.name}.\")"
   ],
   "id": "b702cf89561a7c9a",
   "outputs": [
    {
     "name": "stderr",
     "output_type": "stream",
     "text": [
      "Constructing basis ZZZZZZZZ: 100%|██████████| 256/256 [00:00<00:00, 1342.12it/s]\n"
     ]
    },
    {
     "name": "stdout",
     "output_type": "stream",
     "text": [
      "Sampling 12800 samples took 0.30 seconds.\n",
      "Stored 12800 samples to w_aug_ZZZZZZZZ_12800.txt.\n"
     ]
    },
    {
     "name": "stderr",
     "output_type": "stream",
     "text": [
      "Constructing basis XXZZZZZZ: 100%|██████████| 256/256 [00:00<00:00, 2686.54it/s]"
     ]
    },
    {
     "name": "stdout",
     "output_type": "stream",
     "text": [
      "Sampling 12800 samples took 0.02 seconds.\n"
     ]
    },
    {
     "name": "stderr",
     "output_type": "stream",
     "text": [
      "\n"
     ]
    },
    {
     "name": "stdout",
     "output_type": "stream",
     "text": [
      "Stored 12800 samples to w_aug_XXZZZZZZ_12800.txt.\n"
     ]
    },
    {
     "name": "stderr",
     "output_type": "stream",
     "text": [
      "Constructing basis ZXXZZZZZ: 100%|██████████| 256/256 [00:00<00:00, 2718.51it/s]"
     ]
    },
    {
     "name": "stdout",
     "output_type": "stream",
     "text": [
      "Sampling 12800 samples took 0.02 seconds.\n"
     ]
    },
    {
     "name": "stderr",
     "output_type": "stream",
     "text": [
      "\n"
     ]
    },
    {
     "name": "stdout",
     "output_type": "stream",
     "text": [
      "Stored 12800 samples to w_aug_ZXXZZZZZ_12800.txt.\n"
     ]
    },
    {
     "name": "stderr",
     "output_type": "stream",
     "text": [
      "Constructing basis ZZXXZZZZ: 100%|██████████| 256/256 [00:00<00:00, 2731.57it/s]"
     ]
    },
    {
     "name": "stdout",
     "output_type": "stream",
     "text": [
      "Sampling 12800 samples took 0.02 seconds.\n"
     ]
    },
    {
     "name": "stderr",
     "output_type": "stream",
     "text": [
      "\n"
     ]
    },
    {
     "name": "stdout",
     "output_type": "stream",
     "text": [
      "Stored 12800 samples to w_aug_ZZXXZZZZ_12800.txt.\n"
     ]
    },
    {
     "name": "stderr",
     "output_type": "stream",
     "text": [
      "Constructing basis ZZZXXZZZ: 100%|██████████| 256/256 [00:00<00:00, 2733.73it/s]"
     ]
    },
    {
     "name": "stdout",
     "output_type": "stream",
     "text": [
      "Sampling 12800 samples took 0.02 seconds.\n"
     ]
    },
    {
     "name": "stderr",
     "output_type": "stream",
     "text": [
      "\n"
     ]
    },
    {
     "name": "stdout",
     "output_type": "stream",
     "text": [
      "Stored 12800 samples to w_aug_ZZZXXZZZ_12800.txt.\n"
     ]
    },
    {
     "name": "stderr",
     "output_type": "stream",
     "text": [
      "Constructing basis ZZZZXXZZ: 100%|██████████| 256/256 [00:00<00:00, 2757.84it/s]"
     ]
    },
    {
     "name": "stdout",
     "output_type": "stream",
     "text": [
      "Sampling 12800 samples took 0.02 seconds.\n"
     ]
    },
    {
     "name": "stderr",
     "output_type": "stream",
     "text": [
      "\n"
     ]
    },
    {
     "name": "stdout",
     "output_type": "stream",
     "text": [
      "Stored 12800 samples to w_aug_ZZZZXXZZ_12800.txt.\n"
     ]
    },
    {
     "name": "stderr",
     "output_type": "stream",
     "text": [
      "Constructing basis ZZZZZXXZ: 100%|██████████| 256/256 [00:00<00:00, 2815.42it/s]"
     ]
    },
    {
     "name": "stdout",
     "output_type": "stream",
     "text": [
      "Sampling 12800 samples took 0.02 seconds.\n"
     ]
    },
    {
     "name": "stderr",
     "output_type": "stream",
     "text": [
      "\n"
     ]
    },
    {
     "name": "stdout",
     "output_type": "stream",
     "text": [
      "Stored 12800 samples to w_aug_ZZZZZXXZ_12800.txt.\n"
     ]
    },
    {
     "name": "stderr",
     "output_type": "stream",
     "text": [
      "Constructing basis ZZZZZZXX: 100%|██████████| 256/256 [00:00<00:00, 2641.36it/s]"
     ]
    },
    {
     "name": "stdout",
     "output_type": "stream",
     "text": [
      "Sampling 12800 samples took 0.02 seconds.\n"
     ]
    },
    {
     "name": "stderr",
     "output_type": "stream",
     "text": [
      "\n"
     ]
    },
    {
     "name": "stdout",
     "output_type": "stream",
     "text": [
      "Stored 12800 samples to w_aug_ZZZZZZXX_12800.txt.\n"
     ]
    },
    {
     "name": "stderr",
     "output_type": "stream",
     "text": [
      "Constructing basis XYZZZZZZ: 100%|██████████| 256/256 [00:00<00:00, 2721.69it/s]"
     ]
    },
    {
     "name": "stdout",
     "output_type": "stream",
     "text": [
      "Sampling 12800 samples took 0.02 seconds.\n"
     ]
    },
    {
     "name": "stderr",
     "output_type": "stream",
     "text": [
      "\n"
     ]
    },
    {
     "name": "stdout",
     "output_type": "stream",
     "text": [
      "Stored 12800 samples to w_aug_XYZZZZZZ_12800.txt.\n"
     ]
    },
    {
     "name": "stderr",
     "output_type": "stream",
     "text": [
      "Constructing basis ZXYZZZZZ: 100%|██████████| 256/256 [00:00<00:00, 2737.59it/s]"
     ]
    },
    {
     "name": "stdout",
     "output_type": "stream",
     "text": [
      "Sampling 12800 samples took 0.02 seconds.\n"
     ]
    },
    {
     "name": "stderr",
     "output_type": "stream",
     "text": [
      "\n"
     ]
    },
    {
     "name": "stdout",
     "output_type": "stream",
     "text": [
      "Stored 12800 samples to w_aug_ZXYZZZZZ_12800.txt.\n"
     ]
    },
    {
     "name": "stderr",
     "output_type": "stream",
     "text": [
      "Constructing basis ZZXYZZZZ: 100%|██████████| 256/256 [00:00<00:00, 2588.87it/s]"
     ]
    },
    {
     "name": "stdout",
     "output_type": "stream",
     "text": [
      "Sampling 12800 samples took 0.02 seconds.\n"
     ]
    },
    {
     "name": "stderr",
     "output_type": "stream",
     "text": [
      "\n"
     ]
    },
    {
     "name": "stdout",
     "output_type": "stream",
     "text": [
      "Stored 12800 samples to w_aug_ZZXYZZZZ_12800.txt.\n"
     ]
    },
    {
     "name": "stderr",
     "output_type": "stream",
     "text": [
      "Constructing basis ZZZXYZZZ: 100%|██████████| 256/256 [00:00<00:00, 2736.91it/s]"
     ]
    },
    {
     "name": "stdout",
     "output_type": "stream",
     "text": [
      "Sampling 12800 samples took 0.02 seconds.\n"
     ]
    },
    {
     "name": "stderr",
     "output_type": "stream",
     "text": [
      "\n"
     ]
    },
    {
     "name": "stdout",
     "output_type": "stream",
     "text": [
      "Stored 12800 samples to w_aug_ZZZXYZZZ_12800.txt.\n"
     ]
    },
    {
     "name": "stderr",
     "output_type": "stream",
     "text": [
      "Constructing basis ZZZZXYZZ: 100%|██████████| 256/256 [00:00<00:00, 2809.08it/s]"
     ]
    },
    {
     "name": "stdout",
     "output_type": "stream",
     "text": [
      "Sampling 12800 samples took 0.02 seconds.\n"
     ]
    },
    {
     "name": "stderr",
     "output_type": "stream",
     "text": [
      "\n"
     ]
    },
    {
     "name": "stdout",
     "output_type": "stream",
     "text": [
      "Stored 12800 samples to w_aug_ZZZZXYZZ_12800.txt.\n"
     ]
    },
    {
     "name": "stderr",
     "output_type": "stream",
     "text": [
      "Constructing basis ZZZZZXYZ: 100%|██████████| 256/256 [00:00<00:00, 2749.46it/s]"
     ]
    },
    {
     "name": "stdout",
     "output_type": "stream",
     "text": [
      "Sampling 12800 samples took 0.02 seconds.\n"
     ]
    },
    {
     "name": "stderr",
     "output_type": "stream",
     "text": [
      "\n"
     ]
    },
    {
     "name": "stdout",
     "output_type": "stream",
     "text": [
      "Stored 12800 samples to w_aug_ZZZZZXYZ_12800.txt.\n"
     ]
    },
    {
     "name": "stderr",
     "output_type": "stream",
     "text": [
      "Constructing basis ZZZZZZXY: 100%|██████████| 256/256 [00:00<00:00, 2771.59it/s]"
     ]
    },
    {
     "name": "stdout",
     "output_type": "stream",
     "text": [
      "Sampling 12800 samples took 0.02 seconds.\n"
     ]
    },
    {
     "name": "stderr",
     "output_type": "stream",
     "text": [
      "\n"
     ]
    },
    {
     "name": "stdout",
     "output_type": "stream",
     "text": [
      "Stored 12800 samples to w_aug_ZZZZZZXY_12800.txt.\n"
     ]
    }
   ],
   "execution_count": 5
  },
  {
   "metadata": {},
   "cell_type": "code",
   "outputs": [],
   "execution_count": null,
   "source": "",
   "id": "1619918e1377e34a"
  }
 ],
 "metadata": {
  "kernelspec": {
   "display_name": "Python 3",
   "language": "python",
   "name": "python3"
  },
  "language_info": {
   "codemirror_mode": {
    "name": "ipython",
    "version": 2
   },
   "file_extension": ".py",
   "mimetype": "text/x-python",
   "name": "python",
   "nbconvert_exporter": "python",
   "pygments_lexer": "ipython2",
   "version": "2.7.6"
  }
 },
 "nbformat": 4,
 "nbformat_minor": 5
}
