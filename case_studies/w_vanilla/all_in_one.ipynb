{
 "cells": [
  {
   "metadata": {
    "ExecuteTime": {
     "end_time": "2025-05-06T18:48:11.458177Z",
     "start_time": "2025-05-06T18:48:11.450350Z"
    }
   },
   "cell_type": "code",
   "source": [
    "import os\n",
    "import gzip\n",
    "import requests\n",
    "import numpy as np\n",
    "from tqdm import tqdm\n",
    "\n",
    "import jax\n",
    "import jax.lax\n",
    "from jax.random import PRNGKey\n",
    "import jax.numpy as jnp\n",
    "import flax.linen as nn\n",
    "import optax\n",
    "from flax.training import train_state\n",
    "\n",
    "import functools\n",
    "\n",
    "import matplotlib.pyplot as plt\n",
    "from matplotlib.colors import ListedColormap\n",
    "import matplotlib.patches as mpatches\n",
    "\n",
    "\n",
    "data_dir = \"./data\"\n",
    "device = jax.devices('cpu')[0]\n",
    "\n",
    "print(f\"Data resides in        : {data_dir}\")\n",
    "print(f\"Training model on      : {str(device)}\")"
   ],
   "id": "27c3d547f23b4972",
   "outputs": [
    {
     "name": "stdout",
     "output_type": "stream",
     "text": [
      "Data resides in        : ./data\n",
      "Training model on      : TFRT_CPU_0\n"
     ]
    }
   ],
   "execution_count": 46
  },
  {
   "metadata": {
    "ExecuteTime": {
     "end_time": "2025-05-06T18:48:41.625175Z",
     "start_time": "2025-05-06T18:48:41.554911Z"
    }
   },
   "cell_type": "code",
   "source": [
    "def z_meas_to_binary(line: str) -> np.ndarray:\n",
    "    binary_array = [c == \"Z\" for c in line.strip()]\n",
    "    return np.array(binary_array, dtype=np.float32).reshape(-1)\n",
    "\n",
    "data_file = os.path.join(data_dir, \"w_vanilla_20_20000.txt\")\n",
    "\n",
    "with open(data_file) as f:\n",
    "    data = np.stack([z_meas_to_binary(l) for l in f])\n",
    "\n",
    "print(f\"Loaded {len(data)} samples, each of length {data.shape[1]} into numpy array of type {data.dtype}.\")\n",
    "\n",
    "num_train_samples = 1000\n",
    "rng = PRNGKey(0)\n",
    "\n",
    "data_subset = jax.random.choice(rng, data, (num_train_samples,), replace=False)\n",
    "\n",
    "print(f\"Subset shape: {data_subset.shape}\")"
   ],
   "id": "ec9a5547b9a520a3",
   "outputs": [
    {
     "name": "stdout",
     "output_type": "stream",
     "text": [
      "Loaded 20000 samples, each of length 20 into numpy array of type float32.\n",
      "Subset shape: (1000, 20)\n"
     ]
    }
   ],
   "execution_count": 49
  },
  {
   "metadata": {
    "ExecuteTime": {
     "end_time": "2025-05-06T18:53:34.829264Z",
     "start_time": "2025-05-06T18:53:34.809270Z"
    }
   },
   "cell_type": "code",
   "source": [
    "# relative frequency of up-spin\n",
    "rel_freq = data_subset.mean(axis=0)\n",
    "rel_freq"
   ],
   "id": "feb238cae216b9e0",
   "outputs": [
    {
     "data": {
      "text/plain": [
       "Array([0.058, 0.054, 0.034, 0.038, 0.039, 0.051, 0.045, 0.04 , 0.054,\n",
       "       0.056, 0.05 , 0.062, 0.06 , 0.053, 0.062, 0.051, 0.045, 0.051,\n",
       "       0.046, 0.051], dtype=float32)"
      ]
     },
     "execution_count": 83,
     "metadata": {},
     "output_type": "execute_result"
    }
   ],
   "execution_count": 83
  },
  {
   "metadata": {
    "ExecuteTime": {
     "end_time": "2025-05-06T18:48:43.971195Z",
     "start_time": "2025-05-06T18:48:43.879819Z"
    }
   },
   "cell_type": "code",
   "source": [
    "cols = 10\n",
    "rows = data_subset.shape[0] // cols\n",
    "panel_width = data_subset.shape[1]\n",
    "spacer = 4\n",
    "left_padding = 10\n",
    "right_padding = 10\n",
    "\n",
    "canvas_width = (left_padding + cols * panel_width + (cols - 1) * spacer + right_padding)\n",
    "\n",
    "bright_red = \"darkred\"\n",
    "dark_red = \"#ffcccc\"\n",
    "flip_red_cmap = ListedColormap([bright_red, dark_red])\n",
    "flip_red_cmap.set_bad(\"white\")\n",
    "\n",
    "canvas = np.full((rows, canvas_width), np.nan, dtype=np.float32)\n",
    "for i in range(cols):\n",
    "    start_x = left_padding + i * (panel_width + spacer)\n",
    "    block = data_subset[i * rows:(i + 1) * rows, :]\n",
    "    canvas[:, start_x:start_x + panel_width] = block\n",
    "\n",
    "plt.figure(figsize=(12, 6))\n",
    "img = plt.imshow(canvas, cmap=flip_red_cmap, interpolation='nearest', aspect='auto')\n",
    "plt.axis('off')\n",
    "\n",
    "dark_patch = mpatches.Patch(color=dark_red, label=\"1 (+Z)\")\n",
    "bright_patch = mpatches.Patch(color=bright_red, label=\"0 (−Z)\")\n",
    "plt.legend(\n",
    "    handles=[dark_patch, bright_patch],\n",
    "    loc=\"center right\",\n",
    "    bbox_to_anchor=(1.1, 0.5),\n",
    "    frameon=False\n",
    ")\n",
    "\n",
    "plt.tight_layout()\n",
    "plt.show()"
   ],
   "id": "5abc59b31547bf19",
   "outputs": [
    {
     "data": {
      "text/plain": [
       "<Figure size 1200x600 with 1 Axes>"
      ],
      "image/png": "[encoded data removed]"
     },
     "metadata": {},
     "output_type": "display_data"
    }
   ],
   "execution_count": 50
  },
  {
   "metadata": {
    "ExecuteTime": {
     "end_time": "2025-05-06T18:48:48.134334Z",
     "start_time": "2025-05-06T18:48:48.129209Z"
    }
   },
   "cell_type": "code",
   "source": [
    "class DataLoader:\n",
    "    def __init__(self, dataset, batch_size=128, shuffle=True, drop_last=False):\n",
    "        self.x         = dataset\n",
    "        self.bs        = batch_size\n",
    "        self.shuffle   = shuffle\n",
    "        self.drop_last = drop_last\n",
    "\n",
    "        n_samples = len(self.x)\n",
    "        self.idx_slices = [\n",
    "            (i, i + batch_size)\n",
    "            for i in range(0, n_samples, batch_size)\n",
    "            if not drop_last or i + batch_size <= n_samples\n",
    "        ]\n",
    "\n",
    "    def __iter__(self):\n",
    "        order = np.arange(len(self.x))\n",
    "        if self.shuffle:\n",
    "            np.random.shuffle(order)\n",
    "        for s, e in self.idx_slices:\n",
    "            yield self.x[order[s:e]]\n",
    "\n",
    "    def __len__(self):\n",
    "        return len(self.idx_slices)"
   ],
   "id": "9909cdbb13f686be",
   "outputs": [],
   "execution_count": 51
  },
  {
   "metadata": {
    "ExecuteTime": {
     "end_time": "2025-05-06T18:48:49.400104Z",
     "start_time": "2025-05-06T18:48:49.385279Z"
    }
   },
   "cell_type": "code",
   "source": [
    "class RBM(nn.Module):\n",
    "    n_visible: int\n",
    "    n_hidden: int\n",
    "    k: int = 1\n",
    "\n",
    "    @nn.compact\n",
    "    def __call__(self, data_batch: jnp.ndarray, v_persistent: jnp.ndarray, rng: PRNGKey) -> (jnp.ndarray, jnp.ndarray):\n",
    "        # in flax, __call__ is the main computation to be differentiated.\n",
    "\n",
    "        # initialize parameters in @nn.compact style:\n",
    "        W = self.param(\"W\", nn.initializers.normal(0.01), (self.n_visible, self.n_hidden))\n",
    "        b = self.param(\"b\", nn.initializers.zeros,        (self.n_visible,))\n",
    "        c = self.param(\"c\", nn.initializers.zeros,        (self.n_hidden,))\n",
    "        params = {\"W\": W, \"b\": b, \"c\": c}\n",
    "\n",
    "        # gibbs sampling only refines the fantasy particles, we are actually not interested in the gradients\n",
    "        v_k, key = self._gibbs_sample(params, v_persistent, rng, k=self.k)\n",
    "        v_k = jax.lax.stop_gradient(v_k)\n",
    "\n",
    "        # we are interested in the gradients of the free energy w.r.t. the parameters\n",
    "        free_energy_data  = self._free_energy(params, data_batch)\n",
    "        free_energy_model = self._free_energy(params, v_k)\n",
    "\n",
    "        pcd_loss = jnp.mean(free_energy_data) - jnp.mean(free_energy_model)\n",
    "        # since this is a pcd loss function, we also return the updated fantasy particles. and we also pass through the key\n",
    "        # since JAX’s tree utilities flatten nested tuples we need to wrap the auxiliary variables in a container\n",
    "        aux_vars = {\"v_persistent\": v_k, \"key\": key}\n",
    "\n",
    "        return pcd_loss, aux_vars\n",
    "\n",
    "    @staticmethod\n",
    "    def _free_energy(params, v):\n",
    "        W, b, c = params[\"W\"], params[\"b\"], params[\"c\"]\n",
    "\n",
    "        visible_term = jnp.dot(v, b)\n",
    "        hidden_term  = jnp.sum(jax.nn.softplus(v @ W + c), axis=-1)\n",
    "        free_energy = -visible_term - hidden_term\n",
    "        return free_energy\n",
    "\n",
    "    @staticmethod\n",
    "    def _gibbs_step(i, state, params, T=1.0):\n",
    "        v, key = state\n",
    "        W, b, c = params[\"W\"], params[\"b\"], params[\"c\"]\n",
    "\n",
    "        # splitting generates different random numbers for each step, one of them is passed on\n",
    "        key, h_key, v_key = jax.random.split(key, 3)\n",
    "\n",
    "        h_logits = (v @ W + c) / T\n",
    "        h_probs = jax.nn.sigmoid(h_logits)\n",
    "        h = jax.random.bernoulli(h_key, h_probs).astype(jnp.float32)\n",
    "\n",
    "        v_logits = (h @ W.T + b) / T\n",
    "        v_probs = jax.nn.sigmoid(v_logits)\n",
    "        v = jax.random.bernoulli(v_key, v_probs).astype(jnp.float32)\n",
    "        return v, key\n",
    "\n",
    "    @staticmethod\n",
    "    def _gibbs_sample(params, v_init, rng, k=1, T=1.0):\n",
    "        # the fori_loop enables JIT compilation of loops. It basically unrolls the loop over the fixed length k.\n",
    "\n",
    "        body_fun = lambda i, state: RBM._gibbs_step(i, state, params, T)\n",
    "        v_final, key = jax.lax.fori_loop(0, k, body_fun, (v_init, rng))\n",
    "        return v_final, key\n",
    "\n",
    "    @staticmethod\n",
    "    def _annealing_step(i, state, params, T_schedule):\n",
    "        v, rng = state\n",
    "        T = T_schedule[i]\n",
    "        # Perform one Gibbs step using the current temperature T.\n",
    "        # Note: _gibbs_sample already handles k=1 and T\n",
    "        v_next, rng_next = RBM._gibbs_sample(params, v, rng, k=1, T=T)\n",
    "        return (v_next, rng_next)\n",
    "\n",
    "    # the nowrap attribute basically tells JAX to not do the magic wrapping, which injects the params argument\n",
    "    @nn.nowrap\n",
    "    def generate(self, params: dict, n_samples: int, T_schedule: jnp.ndarray, rng: PRNGKey) -> jnp.ndarray:\n",
    "\n",
    "        # get the initial state and perform initial key splitting\n",
    "        rng, init_key = jax.random.split(rng)\n",
    "        v = jax.random.bernoulli(init_key, p=0.5, shape=(n_samples, self.n_visible)).astype(jnp.float32)\n",
    "        init_state = (v, rng)\n",
    "\n",
    "        body_fun = lambda i, state: RBM._gibbs_step(i, state, params, T_schedule[i])\n",
    "\n",
    "        # the fori_loop is still required, since this function will also be JIT-compiled\n",
    "        v_final, _ = jax.lax.fori_loop(0, len(T_schedule), body_fun, init_state)\n",
    "        return v_final"
   ],
   "id": "3d8fb14ccceb3134",
   "outputs": [],
   "execution_count": 52
  },
  {
   "metadata": {
    "ExecuteTime": {
     "end_time": "2025-05-06T18:48:50.796328Z",
     "start_time": "2025-05-06T18:48:50.772127Z"
    }
   },
   "cell_type": "code",
   "source": [
    "class RBMTrainState(train_state.TrainState):\n",
    "    \"\"\"\n",
    "    A value object bundling parameters and optimizer state for training.\n",
    "    It has a few pre-defined fields to be used in the training loop.\n",
    "    Since it is immutable, the training function needs to return a new instance after each update step.\n",
    "    \"\"\"\n",
    "    pass\n",
    "\n",
    "\n",
    "@functools.partial(jax.jit)\n",
    "def train_step(state: RBMTrainState, data_batch: jnp.ndarray, v_persistent: jnp.ndarray, key: PRNGKey):\n",
    "\n",
    "    # only the 'params' argument remains a variable to be differentiated\n",
    "    pcd_loss_fn = lambda params: state.apply_fn({'params': params}, data_batch, v_persistent, key)\n",
    "\n",
    "    # since our pc_loss_fn also returns the updated fantasy particles, we need to use has_aux=True\n",
    "    value_and_grad_fn = jax.value_and_grad(pcd_loss_fn, has_aux=True)\n",
    "    (pcd_loss, aux_vars), pdc_loss_grads = value_and_grad_fn(state.params)\n",
    "\n",
    "    # apply the gradients to the state, this actually updates the optimizer state\n",
    "    new_state = state.apply_gradients(grads=pdc_loss_grads)\n",
    "    v_persistent = aux_vars[\"v_persistent\"]\n",
    "    key = aux_vars[\"key\"]\n",
    "\n",
    "    return new_state, pcd_loss, v_persistent, key\n",
    "\n",
    "\n",
    "def train_rbm(state: RBMTrainState, train_loader, num_epochs: int, rng: PRNGKey, pcd_reset: int = 5, scheduler=None):\n",
    "    metrics = {}\n",
    "\n",
    "    for epoch in range(num_epochs):\n",
    "        total_loss = 0.0\n",
    "        batch_count = 0\n",
    "\n",
    "        for batch_idx, data in enumerate(train_loader):\n",
    "\n",
    "            if batch_idx % pcd_reset == 0:\n",
    "                rng, subkey = jax.random.split(rng)\n",
    "                v_persistent = jax.random.bernoulli(subkey, p=0.5, shape=data.shape).astype(jnp.float32)\n",
    "\n",
    "            state, loss, v_persistent, rng = train_step(state, data, v_persistent, rng)\n",
    "            total_loss += loss\n",
    "            batch_count += 1\n",
    "\n",
    "        avg_loss = total_loss / len(train_loader)\n",
    "        metrics[epoch] = {\"free_energy_loss\": float(avg_loss)}\n",
    "        print(f\"Epoch [{epoch+1}/{num_epochs}] - Free Energy Loss: {avg_loss:.4f}\")\n",
    "\n",
    "    return state, metrics, rng"
   ],
   "id": "1b51378d6510ce29",
   "outputs": [],
   "execution_count": 53
  },
  {
   "metadata": {
    "ExecuteTime": {
     "end_time": "2025-05-06T18:52:30.281874Z",
     "start_time": "2025-05-06T18:52:23.915375Z"
    }
   },
   "cell_type": "code",
   "source": [
    "# ACTUAL TRAINING\n",
    "batch_size    = 128\n",
    "visible_units = 20\n",
    "hidden_units  = 512\n",
    "k_steps       = 20\n",
    "lr            = 1e-3\n",
    "num_epochs    = 50\n",
    "pcd_reset     = 75        # reset persistent chain every N batches\n",
    "weight_decay  = 1e-5      # if needed; see optax.add_decayed_weights\n",
    "lr_decay      = 0.95      # not used explicitly here\n",
    "\n",
    "\n",
    "# start of our random key-chain, it will be updated by regular splits (typically at each bernoulli sampling)\n",
    "rng = PRNGKey(0)\n",
    "\n",
    "# instantiate the optimizer and the RBM\n",
    "train_loader = DataLoader(data_subset, batch_size=batch_size, shuffle=True)\n",
    "lr_schedule = optax.exponential_decay(init_value=lr, transition_steps=len(train_loader), decay_rate=lr_decay, staircase=True)\n",
    "\n",
    "\n",
    "optimizer = optax.chain(\n",
    "    optax.add_decayed_weights(1e-4),   # weight_decay = 10⁻⁴\n",
    "    optax.adam(lr_schedule),\n",
    ")\n",
    "\n",
    "#optimizer = optax.adam(learning_rate=lr_schedule)\n",
    "rbm = RBM(n_visible=visible_units, n_hidden=hidden_units, k=k_steps)\n",
    "\n",
    "# initialize RBM parameters and create the training state\n",
    "dummy_batch = data_subset[:batch_size]\n",
    "rng, subkey = jax.random.split(rng)\n",
    "v_persistent = jax.random.bernoulli(subkey, p=0.5, shape=dummy_batch.shape).astype(jnp.float32)\n",
    "params = rbm.init(rng, dummy_batch, v_persistent, rng)['params']\n",
    "state = RBMTrainState.create(apply_fn=rbm.apply, params=params, tx=optimizer)\n",
    "\n",
    "state, metrics, rng = train_rbm(state, train_loader, num_epochs, rng, pcd_reset=pcd_reset, scheduler=lr_schedule)"
   ],
   "id": "41c273ad84c699a9",
   "outputs": [
    {
     "name": "stdout",
     "output_type": "stream",
     "text": [
      "Epoch [1/50] - Free Energy Loss: -3.1732\n",
      "Epoch [2/50] - Free Energy Loss: -1.2861\n",
      "Epoch [3/50] - Free Energy Loss: 0.6834\n",
      "Epoch [4/50] - Free Energy Loss: 1.5847\n",
      "Epoch [5/50] - Free Energy Loss: 1.6007\n",
      "Epoch [6/50] - Free Energy Loss: 1.1482\n",
      "Epoch [7/50] - Free Energy Loss: 0.4402\n",
      "Epoch [8/50] - Free Energy Loss: 0.2718\n",
      "Epoch [9/50] - Free Energy Loss: -0.0690\n",
      "Epoch [10/50] - Free Energy Loss: -0.1942\n",
      "Epoch [11/50] - Free Energy Loss: -0.1505\n",
      "Epoch [12/50] - Free Energy Loss: 0.1544\n",
      "Epoch [13/50] - Free Energy Loss: -0.0358\n",
      "Epoch [14/50] - Free Energy Loss: 0.0381\n",
      "Epoch [15/50] - Free Energy Loss: 0.1863\n",
      "Epoch [16/50] - Free Energy Loss: -0.0549\n",
      "Epoch [17/50] - Free Energy Loss: -0.0763\n",
      "Epoch [18/50] - Free Energy Loss: -0.0715\n",
      "Epoch [19/50] - Free Energy Loss: -0.0442\n",
      "Epoch [20/50] - Free Energy Loss: -0.1005\n",
      "Epoch [21/50] - Free Energy Loss: 0.0274\n",
      "Epoch [22/50] - Free Energy Loss: 0.1577\n",
      "Epoch [23/50] - Free Energy Loss: 0.1850\n",
      "Epoch [24/50] - Free Energy Loss: -0.2154\n",
      "Epoch [25/50] - Free Energy Loss: 0.0810\n",
      "Epoch [26/50] - Free Energy Loss: -0.1519\n",
      "Epoch [27/50] - Free Energy Loss: 0.0490\n",
      "Epoch [28/50] - Free Energy Loss: 0.0518\n",
      "Epoch [29/50] - Free Energy Loss: -0.1449\n",
      "Epoch [30/50] - Free Energy Loss: -0.0536\n",
      "Epoch [31/50] - Free Energy Loss: 0.0415\n",
      "Epoch [32/50] - Free Energy Loss: -0.0153\n",
      "Epoch [33/50] - Free Energy Loss: 0.0987\n",
      "Epoch [34/50] - Free Energy Loss: -0.0797\n",
      "Epoch [35/50] - Free Energy Loss: 0.0502\n",
      "Epoch [36/50] - Free Energy Loss: 0.1974\n",
      "Epoch [37/50] - Free Energy Loss: -0.2228\n",
      "Epoch [38/50] - Free Energy Loss: -0.1494\n",
      "Epoch [39/50] - Free Energy Loss: -0.0170\n",
      "Epoch [40/50] - Free Energy Loss: -0.0013\n",
      "Epoch [41/50] - Free Energy Loss: 0.0453\n",
      "Epoch [42/50] - Free Energy Loss: 0.0219\n",
      "Epoch [43/50] - Free Energy Loss: 0.0059\n",
      "Epoch [44/50] - Free Energy Loss: 0.0738\n",
      "Epoch [45/50] - Free Energy Loss: -0.0910\n",
      "Epoch [46/50] - Free Energy Loss: -0.1165\n",
      "Epoch [47/50] - Free Energy Loss: -0.0712\n",
      "Epoch [48/50] - Free Energy Loss: 0.1295\n",
      "Epoch [49/50] - Free Energy Loss: -0.0026\n",
      "Epoch [50/50] - Free Energy Loss: 0.1933\n"
     ]
    }
   ],
   "execution_count": 78
  },
  {
   "metadata": {
    "ExecuteTime": {
     "end_time": "2025-05-06T18:52:31.815600Z",
     "start_time": "2025-05-06T18:52:31.744826Z"
    }
   },
   "cell_type": "code",
   "source": [
    "plt.plot([abs(metrics[epoch]['free_energy_loss']) for epoch in metrics])\n",
    "plt.xlabel(\"Epoch\")\n",
    "plt.ylabel(\"Free Energy Loss\")"
   ],
   "id": "839b99523b0b423f",
   "outputs": [
    {
     "data": {
      "text/plain": [
       "Text(0, 0.5, 'Free Energy Loss')"
      ]
     },
     "execution_count": 79,
     "metadata": {},
     "output_type": "execute_result"
    },
    {
     "data": {
      "text/plain": [
       "<Figure size 640x480 with 1 Axes>"
      ],
      "image/png": "[encoded data removed]"
     },
     "metadata": {},
     "output_type": "display_data"
    }
   ],
   "execution_count": 79
  },
  {
   "metadata": {
    "ExecuteTime": {
     "end_time": "2025-05-06T18:52:35.096762Z",
     "start_time": "2025-05-06T18:52:34.904992Z"
    }
   },
   "cell_type": "code",
   "source": [
    "def get_cosine_schedule(T_high, T_low, n_steps):\n",
    "    steps = jnp.arange(n_steps, dtype=jnp.float32)\n",
    "    cos = 0.5 * (1 + jnp.cos(jnp.pi * steps / (n_steps - 1)))\n",
    "    return T_low + (T_high - T_low) * cos\n",
    "\n",
    "\n",
    "cosine_schedule = get_cosine_schedule(4.0, 0.4, 10)\n",
    "samples = rbm.generate(params = state.params, n_samples=30, T_schedule=cosine_schedule, rng=rng)\n",
    "samples"
   ],
   "id": "dbd2faff7d5eeec",
   "outputs": [
    {
     "data": {
      "text/plain": [
       "Array([[0., 0., 0., 0., 0., 0., 0., 0., 0., 0., 0., 0., 0., 0., 0., 0.,\n",
       "        0., 0., 0., 0.],\n",
       "       [0., 0., 0., 0., 0., 0., 0., 0., 0., 0., 0., 0., 0., 0., 0., 0.,\n",
       "        0., 0., 0., 0.],\n",
       "       [0., 0., 0., 0., 0., 0., 0., 0., 0., 0., 0., 0., 0., 0., 0., 0.,\n",
       "        0., 0., 0., 0.],\n",
       "       [0., 0., 0., 0., 0., 0., 0., 0., 0., 0., 0., 0., 0., 0., 0., 0.,\n",
       "        0., 0., 0., 0.],\n",
       "       [0., 0., 0., 0., 0., 0., 0., 0., 0., 0., 0., 0., 0., 0., 0., 0.,\n",
       "        0., 0., 0., 0.],\n",
       "       [0., 0., 0., 0., 0., 0., 0., 0., 0., 0., 0., 0., 0., 0., 0., 0.,\n",
       "        0., 0., 0., 0.],\n",
       "       [0., 0., 0., 0., 0., 0., 0., 0., 0., 0., 0., 0., 0., 0., 0., 0.,\n",
       "        0., 0., 0., 0.],\n",
       "       [0., 0., 0., 0., 0., 0., 0., 0., 0., 0., 0., 0., 0., 0., 0., 0.,\n",
       "        0., 0., 0., 0.],\n",
       "       [0., 0., 0., 0., 0., 0., 0., 0., 0., 0., 0., 0., 0., 0., 0., 0.,\n",
       "        0., 0., 0., 0.],\n",
       "       [0., 0., 0., 0., 0., 0., 0., 0., 0., 0., 0., 0., 0., 0., 0., 0.,\n",
       "        0., 0., 0., 0.],\n",
       "       [0., 0., 0., 0., 0., 0., 0., 0., 0., 0., 0., 0., 0., 0., 0., 0.,\n",
       "        0., 0., 0., 0.],\n",
       "       [0., 0., 0., 0., 0., 0., 0., 0., 0., 0., 0., 0., 0., 0., 0., 0.,\n",
       "        0., 0., 0., 0.],\n",
       "       [0., 0., 0., 0., 0., 0., 0., 0., 0., 0., 0., 0., 0., 0., 0., 0.,\n",
       "        0., 0., 0., 0.],\n",
       "       [0., 0., 0., 0., 0., 0., 0., 0., 0., 0., 0., 0., 0., 0., 0., 0.,\n",
       "        0., 0., 0., 0.],\n",
       "       [0., 0., 0., 0., 0., 0., 0., 0., 0., 0., 0., 1., 0., 0., 0., 0.,\n",
       "        0., 0., 0., 0.],\n",
       "       [0., 0., 0., 0., 0., 0., 0., 0., 0., 0., 0., 0., 0., 0., 0., 0.,\n",
       "        0., 0., 0., 0.],\n",
       "       [0., 0., 0., 0., 0., 0., 0., 0., 0., 0., 0., 0., 0., 0., 0., 0.,\n",
       "        0., 0., 0., 0.],\n",
       "       [0., 0., 0., 0., 0., 0., 0., 0., 0., 0., 0., 0., 0., 0., 0., 0.,\n",
       "        0., 0., 0., 0.],\n",
       "       [0., 0., 0., 0., 0., 0., 0., 0., 0., 0., 0., 0., 0., 0., 0., 0.,\n",
       "        0., 0., 0., 0.],\n",
       "       [0., 0., 0., 0., 0., 0., 0., 0., 0., 0., 0., 0., 0., 0., 0., 0.,\n",
       "        0., 0., 0., 0.],\n",
       "       [0., 0., 0., 0., 0., 0., 0., 0., 0., 0., 0., 0., 0., 0., 0., 0.,\n",
       "        0., 0., 0., 0.],\n",
       "       [0., 0., 0., 0., 0., 0., 0., 0., 0., 0., 0., 0., 0., 0., 0., 0.,\n",
       "        0., 0., 0., 0.],\n",
       "       [0., 0., 0., 0., 0., 0., 0., 0., 0., 0., 0., 0., 0., 0., 0., 0.,\n",
       "        0., 0., 0., 0.],\n",
       "       [0., 0., 0., 0., 0., 0., 0., 0., 0., 0., 0., 0., 0., 0., 0., 0.,\n",
       "        0., 0., 0., 0.],\n",
       "       [0., 0., 0., 0., 0., 0., 0., 0., 0., 0., 0., 0., 0., 0., 0., 0.,\n",
       "        0., 0., 0., 0.],\n",
       "       [0., 0., 0., 0., 0., 0., 0., 0., 0., 0., 0., 0., 0., 0., 0., 0.,\n",
       "        0., 0., 0., 0.],\n",
       "       [0., 0., 0., 0., 0., 0., 0., 0., 0., 0., 0., 0., 0., 0., 0., 0.,\n",
       "        0., 0., 0., 0.],\n",
       "       [0., 0., 0., 0., 0., 0., 0., 0., 0., 0., 0., 0., 0., 0., 0., 0.,\n",
       "        0., 0., 0., 0.],\n",
       "       [0., 0., 0., 0., 0., 0., 0., 0., 0., 0., 0., 0., 0., 0., 0., 0.,\n",
       "        0., 0., 0., 0.],\n",
       "       [0., 0., 0., 0., 0., 0., 0., 0., 0., 0., 0., 0., 0., 0., 0., 0.,\n",
       "        0., 0., 0., 0.]], dtype=float32)"
      ]
     },
     "execution_count": 80,
     "metadata": {},
     "output_type": "execute_result"
    }
   ],
   "execution_count": 80
  },
  {
   "metadata": {
    "ExecuteTime": {
     "end_time": "2025-05-06T18:52:37.584078Z",
     "start_time": "2025-05-06T18:52:37.579855Z"
    }
   },
   "cell_type": "code",
   "source": [
    "rel_freq = samples.mean(axis=0)\n",
    "rel_freq"
   ],
   "id": "7f2280a69ceb65c8",
   "outputs": [
    {
     "data": {
      "text/plain": [
       "Array([0.        , 0.        , 0.        , 0.        , 0.        ,\n",
       "       0.        , 0.        , 0.        , 0.        , 0.        ,\n",
       "       0.        , 0.03333334, 0.        , 0.        , 0.        ,\n",
       "       0.        , 0.        , 0.        , 0.        , 0.        ],      dtype=float32)"
      ]
     },
     "execution_count": 81,
     "metadata": {},
     "output_type": "execute_result"
    }
   ],
   "execution_count": 81
  },
  {
   "metadata": {
    "ExecuteTime": {
     "end_time": "2025-05-06T18:52:40.262374Z",
     "start_time": "2025-05-06T18:52:40.141423Z"
    }
   },
   "cell_type": "code",
   "source": [
    "fig, ax = plt.subplots(figsize=(8,4))\n",
    "sites = np.arange(1, visible_units+1)\n",
    "ax.bar(sites, rel_freq, width=0.8, edgecolor='black', alpha=0.7)\n",
    "ax.axhline(1/visible_units, color='red', linestyle='--', label=f'Expected = {1/visible_units:.3f}')\n",
    "\n",
    "ax.set_xlabel('Spin‐site index')\n",
    "ax.set_ylabel('Relative frequency of up‐spin')\n",
    "ax.set_title('Training Data: Up‐Spin Occurrence per Site')\n",
    "ax.set_xticks(sites)\n",
    "ax.set_ylim(0, rel_freq.max()*1.2)\n",
    "\n",
    "ax.legend(loc='upper right')\n",
    "plt.tight_layout()\n",
    "plt.show()"
   ],
   "id": "506bb2504b3a0723",
   "outputs": [
    {
     "data": {
      "text/plain": [
       "<Figure size 800x400 with 1 Axes>"
      ],
      "image/png": "[encoded data removed]"
     },
     "metadata": {},
     "output_type": "display_data"
    }
   ],
   "execution_count": 82
  }
 ],
 "metadata": {
  "kernelspec": {
   "display_name": "Python 3",
   "language": "python",
   "name": "python3"
  },
  "language_info": {
   "codemirror_mode": {
    "name": "ipython",
    "version": 2
   },
   "file_extension": ".py",
   "mimetype": "text/x-python",
   "name": "python",
   "nbconvert_exporter": "python",
   "pygments_lexer": "ipython2",
   "version": "2.7.6"
  }
 },
 "nbformat": 4,
 "nbformat_minor": 5
}
