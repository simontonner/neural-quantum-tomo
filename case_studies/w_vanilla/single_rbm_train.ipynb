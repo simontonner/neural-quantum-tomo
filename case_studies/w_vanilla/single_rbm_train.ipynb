{
 "cells": [
  {
   "metadata": {
    "ExecuteTime": {
     "end_time": "2025-05-06T18:25:53.333107Z",
     "start_time": "2025-05-06T18:25:52.600133Z"
    }
   },
   "cell_type": "code",
   "source": [
    "from pathlib import Path\n",
    "import pickle\n",
    "import numpy as np\n",
    "import jax, jax.numpy as jnp\n",
    "import optax\n",
    "from jax.random import PRNGKey\n",
    "\n",
    "import numpy as np\n",
    "import matplotlib.pyplot as plt\n",
    "from matplotlib.colors import ListedColormap\n",
    "import matplotlib.patches as mpatches\n",
    "\n",
    "from rbm.rbm import RBM\n",
    "from rbm.pcd_trainer import RBMTrainState, train_rbm\n",
    "from rbm.cosine_annealing_sampler import get_cosine_schedule\n",
    "\n",
    "data_dir = Path(\"./data\")\n",
    "model_dir = Path(\"./models\")\n",
    "model_dir.mkdir(parents=True, exist_ok=True)\n",
    "device = jax.devices(\"cpu\")[0]\n",
    "\n",
    "print(f\"Data resides in         : {data_dir}\")\n",
    "print(f\"Models will be saved to : {model_dir}\")\n",
    "print(f\"Training on device      : {device}\")"
   ],
   "id": "37bc60108d6ccfe5",
   "outputs": [
    {
     "name": "stdout",
     "output_type": "stream",
     "text": [
      "Data resides in         : data\n",
      "Models will be saved to : models\n",
      "Training on device      : TFRT_CPU_0\n"
     ]
    }
   ],
   "execution_count": 1
  },
  {
   "metadata": {
    "ExecuteTime": {
     "end_time": "2025-05-06T18:25:54.242584Z",
     "start_time": "2025-05-06T18:25:54.191259Z"
    }
   },
   "cell_type": "code",
   "source": [
    "def z_meas_to_binary(line: str) -> np.ndarray:\n",
    "    binary_array = [c == \"Z\" for c in line.strip()]\n",
    "    return np.array(binary_array, dtype=np.float32).reshape(-1)\n",
    "\n",
    "data_file = data_dir / \"w_vanilla_20_20000.txt\"\n",
    "assert data_file.exists(), f\"{data_file} not found – generate it first.\"\n",
    "\n",
    "with open(data_file) as f:\n",
    "    data = np.stack([z_meas_to_binary(l) for l in f])\n",
    "\n",
    "print(f\"Loaded {len(data)} samples, each of length {data.shape[1]} into numpy array of type {data.dtype}.\")"
   ],
   "id": "994e318ca89b93ac",
   "outputs": [
    {
     "name": "stdout",
     "output_type": "stream",
     "text": [
      "Loaded 20000 samples, each of length 20 into numpy array of type float32.\n"
     ]
    }
   ],
   "execution_count": 2
  },
  {
   "metadata": {
    "ExecuteTime": {
     "end_time": "2025-05-06T18:25:55.321330Z",
     "start_time": "2025-05-06T18:25:55.317926Z"
    }
   },
   "cell_type": "code",
   "source": [
    "import numpy as np\n",
    "onehot = data.sum(axis=1)\n",
    "assert np.all(onehot == 1), \"Every sample must have exactly one ‘1’\"\n",
    "p_vis  = data.mean(axis=0)           # ≈ 0.05 on every site\n",
    "print(p_vis)"
   ],
   "id": "a2de1d017d1f1a7",
   "outputs": [
    {
     "name": "stdout",
     "output_type": "stream",
     "text": [
      "[0.0508  0.0488  0.0493  0.04755 0.05205 0.05125 0.0463  0.0481  0.05075\n",
      " 0.0512  0.0495  0.05305 0.05085 0.0501  0.049   0.0502  0.05075 0.05025\n",
      " 0.051   0.0492 ]\n"
     ]
    }
   ],
   "execution_count": 3
  },
  {
   "metadata": {
    "ExecuteTime": {
     "end_time": "2025-05-06T18:25:56.432016Z",
     "start_time": "2025-05-06T18:25:56.184841Z"
    }
   },
   "cell_type": "code",
   "source": [
    "num_train_samples = 50\n",
    "rng = PRNGKey(0)\n",
    "\n",
    "data_subset = jax.random.choice(rng, data, (num_train_samples,), replace=False)"
   ],
   "id": "f78f9c6583abe748",
   "outputs": [],
   "execution_count": 4
  },
  {
   "metadata": {
    "ExecuteTime": {
     "end_time": "2025-05-06T18:25:57.917481Z",
     "start_time": "2025-05-06T18:25:57.817131Z"
    }
   },
   "cell_type": "code",
   "source": [
    "cols = 10\n",
    "rows = data_subset.shape[0] // cols\n",
    "panel_width = data_subset.shape[1]\n",
    "spacer = 4\n",
    "left_padding = 10\n",
    "right_padding = 10\n",
    "\n",
    "canvas_width = (left_padding + cols * panel_width + (cols - 1) * spacer + right_padding)\n",
    "\n",
    "bright_red = \"darkred\"\n",
    "dark_red = \"#ffcccc\"\n",
    "flip_red_cmap = ListedColormap([bright_red, dark_red])\n",
    "flip_red_cmap.set_bad(\"white\")\n",
    "\n",
    "canvas = np.full((rows, canvas_width), np.nan, dtype=np.float32)\n",
    "for i in range(cols):\n",
    "    start_x = left_padding + i * (panel_width + spacer)\n",
    "    block = data_subset[i * rows:(i + 1) * rows, :]\n",
    "    canvas[:, start_x:start_x + panel_width] = block\n",
    "\n",
    "plt.figure(figsize=(12, 6))\n",
    "img = plt.imshow(canvas, cmap=flip_red_cmap, interpolation='nearest', aspect='auto')\n",
    "plt.axis('off')\n",
    "\n",
    "dark_patch = mpatches.Patch(color=dark_red, label=\"1 (+Z)\")\n",
    "bright_patch = mpatches.Patch(color=bright_red, label=\"0 (−Z)\")\n",
    "plt.legend(\n",
    "    handles=[dark_patch, bright_patch],\n",
    "    loc=\"center right\",\n",
    "    bbox_to_anchor=(1.1, 0.5),\n",
    "    frameon=False\n",
    ")\n",
    "\n",
    "plt.tight_layout()\n",
    "plt.show()"
   ],
   "id": "a6ec1c9923398449",
   "outputs": [
    {
     "data": {
      "text/plain": [
       "<Figure size 1200x600 with 1 Axes>"
      ],
      "image/png": "[encoded data removed]"
     },
     "metadata": {},
     "output_type": "display_data"
    }
   ],
   "execution_count": 5
  },
  {
   "metadata": {
    "ExecuteTime": {
     "end_time": "2025-05-06T18:25:58.977012Z",
     "start_time": "2025-05-06T18:25:58.971783Z"
    }
   },
   "cell_type": "code",
   "source": [
    "class DataLoader:\n",
    "    def __init__(self, dataset, batch_size=128, shuffle=True, drop_last=False):\n",
    "        self.x         = dataset\n",
    "        self.bs        = batch_size\n",
    "        self.shuffle   = shuffle\n",
    "        self.drop_last = drop_last\n",
    "\n",
    "        n_samples = len(self.x)\n",
    "        self.idx_slices = [\n",
    "            (i, i + batch_size)\n",
    "            for i in range(0, n_samples, batch_size)\n",
    "            if not drop_last or i + batch_size <= n_samples\n",
    "        ]\n",
    "\n",
    "    def __iter__(self):\n",
    "        order = np.arange(len(self.x))\n",
    "        if self.shuffle:\n",
    "            np.random.shuffle(order)\n",
    "        for s, e in self.idx_slices:\n",
    "            yield self.x[order[s:e]]\n",
    "\n",
    "    def __len__(self):\n",
    "        return len(self.idx_slices)"
   ],
   "id": "e2a2ca861a417f1c",
   "outputs": [],
   "execution_count": 6
  },
  {
   "metadata": {
    "ExecuteTime": {
     "end_time": "2025-05-06T18:26:01.010569Z",
     "start_time": "2025-05-06T18:26:00.007465Z"
    }
   },
   "cell_type": "code",
   "source": [
    "batch_size    = 128\n",
    "n_vis         = 20\n",
    "n_hid         = 20\n",
    "k_steps       = 100\n",
    "lr            = 1e-3\n",
    "num_epochs    = 100\n",
    "pcd_reset     = 1\n",
    "weight_decay  = 1e-5\n",
    "lr_decay      = 0.95\n",
    "\n",
    "rng           = PRNGKey(0)\n",
    "loader        = DataLoader(data_subset, batch_size, shuffle=True)\n",
    "\n",
    "lr_sched      = optax.exponential_decay(lr, len(loader), decay_rate=lr_decay, staircase=True)\n",
    "#opt           = optax.adam(lr_sched)\n",
    "\n",
    "opt = optax.chain(\n",
    "    optax.add_decayed_weights(1e-4),   # weight_decay = 10⁻⁴\n",
    "    optax.adam(lr_sched),\n",
    ")\n",
    "\n",
    "rbm           = RBM(n_visible=n_vis, n_hidden=n_hid, k=k_steps)\n",
    "\n",
    "dummy         = data_subset[:batch_size]\n",
    "rng, sk       = jax.random.split(rng)\n",
    "v_pers        = jax.random.bernoulli(sk, .5, shape=dummy.shape).astype(jnp.float32)\n",
    "params        = rbm.init(rng, dummy, v_pers, rng)[\"params\"]\n",
    "state         = RBMTrainState.create(apply_fn=rbm.apply, params=params, tx=opt)\n",
    "\n",
    "#init_b  = np.full((n_vis,), np.log(0.05/0.95), dtype=np.float32)    # b_i = log(p/(1−p)) ≃ −2.94\n",
    "#init_W  = 0.01*np.random.randn(n_vis, n_hid).astype(np.float32)\n",
    "#init_c  = np.zeros((n_hid,), dtype=np.float32)\n",
    "#params  = {\"W\": init_W, \"b\": init_b, \"c\": init_c}\n",
    "#state   = RBMTrainState.create(apply_fn=rbm.apply, params=params, tx=opt)\n",
    "\n",
    "\n",
    "state, metrics, rng = train_rbm(state,\n",
    "                                loader,\n",
    "                                num_epochs,\n",
    "                                rng,\n",
    "                                pcd_reset=pcd_reset,\n",
    "                                scheduler=lr_sched)"
   ],
   "id": "3be4c640243f19c9",
   "outputs": [
    {
     "name": "stdout",
     "output_type": "stream",
     "text": [
      "Epoch [1/100] – FE-loss: 0.0141\n",
      "Epoch [2/100] – FE-loss: -0.0784\n",
      "Epoch [3/100] – FE-loss: -0.1799\n",
      "Epoch [4/100] – FE-loss: -0.2549\n",
      "Epoch [5/100] – FE-loss: -0.3427\n",
      "Epoch [6/100] – FE-loss: -0.4392\n",
      "Epoch [7/100] – FE-loss: -0.5047\n",
      "Epoch [8/100] – FE-loss: -0.5518\n",
      "Epoch [9/100] – FE-loss: -0.6209\n",
      "Epoch [10/100] – FE-loss: -0.6460\n",
      "Epoch [11/100] – FE-loss: -0.7506\n",
      "Epoch [12/100] – FE-loss: -0.7690\n",
      "Epoch [13/100] – FE-loss: -0.7813\n",
      "Epoch [14/100] – FE-loss: -0.8842\n",
      "Epoch [15/100] – FE-loss: -0.8885\n",
      "Epoch [16/100] – FE-loss: -1.0136\n",
      "Epoch [17/100] – FE-loss: -1.0263\n",
      "Epoch [18/100] – FE-loss: -1.0745\n",
      "Epoch [19/100] – FE-loss: -1.0424\n",
      "Epoch [20/100] – FE-loss: -1.0724\n",
      "Epoch [21/100] – FE-loss: -1.1254\n",
      "Epoch [22/100] – FE-loss: -1.1209\n",
      "Epoch [23/100] – FE-loss: -1.1484\n",
      "Epoch [24/100] – FE-loss: -1.2441\n",
      "Epoch [25/100] – FE-loss: -1.2418\n",
      "Epoch [26/100] – FE-loss: -1.2082\n",
      "Epoch [27/100] – FE-loss: -1.2986\n",
      "Epoch [28/100] – FE-loss: -1.2827\n",
      "Epoch [29/100] – FE-loss: -1.2285\n",
      "Epoch [30/100] – FE-loss: -1.2850\n",
      "Epoch [31/100] – FE-loss: -1.2879\n",
      "Epoch [32/100] – FE-loss: -1.3445\n",
      "Epoch [33/100] – FE-loss: -1.3577\n",
      "Epoch [34/100] – FE-loss: -1.3964\n",
      "Epoch [35/100] – FE-loss: -1.3402\n",
      "Epoch [36/100] – FE-loss: -1.4102\n",
      "Epoch [37/100] – FE-loss: -1.4419\n",
      "Epoch [38/100] – FE-loss: -1.4916\n",
      "Epoch [39/100] – FE-loss: -1.4848\n",
      "Epoch [40/100] – FE-loss: -1.5016\n",
      "Epoch [41/100] – FE-loss: -1.4073\n",
      "Epoch [42/100] – FE-loss: -1.4774\n",
      "Epoch [43/100] – FE-loss: -1.4711\n",
      "Epoch [44/100] – FE-loss: -1.4874\n",
      "Epoch [45/100] – FE-loss: -1.4781\n",
      "Epoch [46/100] – FE-loss: -1.7096\n",
      "Epoch [47/100] – FE-loss: -1.5160\n",
      "Epoch [48/100] – FE-loss: -1.6038\n",
      "Epoch [49/100] – FE-loss: -1.5582\n",
      "Epoch [50/100] – FE-loss: -1.5317\n",
      "Epoch [51/100] – FE-loss: -1.5604\n",
      "Epoch [52/100] – FE-loss: -1.4758\n",
      "Epoch [53/100] – FE-loss: -1.5149\n",
      "Epoch [54/100] – FE-loss: -1.5619\n",
      "Epoch [55/100] – FE-loss: -1.5262\n",
      "Epoch [56/100] – FE-loss: -1.5107\n",
      "Epoch [57/100] – FE-loss: -1.4654\n",
      "Epoch [58/100] – FE-loss: -1.6053\n",
      "Epoch [59/100] – FE-loss: -1.4575\n",
      "Epoch [60/100] – FE-loss: -1.5562\n",
      "Epoch [61/100] – FE-loss: -1.6229\n",
      "Epoch [62/100] – FE-loss: -1.5585\n",
      "Epoch [63/100] – FE-loss: -1.6470\n",
      "Epoch [64/100] – FE-loss: -1.5606\n",
      "Epoch [65/100] – FE-loss: -1.5403\n",
      "Epoch [66/100] – FE-loss: -1.6143\n",
      "Epoch [67/100] – FE-loss: -1.6434\n",
      "Epoch [68/100] – FE-loss: -1.4848\n",
      "Epoch [69/100] – FE-loss: -1.7169\n",
      "Epoch [70/100] – FE-loss: -1.5686\n",
      "Epoch [71/100] – FE-loss: -1.6143\n",
      "Epoch [72/100] – FE-loss: -1.6265\n",
      "Epoch [73/100] – FE-loss: -1.5658\n",
      "Epoch [74/100] – FE-loss: -1.5736\n",
      "Epoch [75/100] – FE-loss: -1.6647\n",
      "Epoch [76/100] – FE-loss: -1.7015\n",
      "Epoch [77/100] – FE-loss: -1.5926\n",
      "Epoch [78/100] – FE-loss: -1.6114\n",
      "Epoch [79/100] – FE-loss: -1.5966\n",
      "Epoch [80/100] – FE-loss: -1.6125\n",
      "Epoch [81/100] – FE-loss: -1.6642\n",
      "Epoch [82/100] – FE-loss: -1.6713\n",
      "Epoch [83/100] – FE-loss: -1.4738\n",
      "Epoch [84/100] – FE-loss: -1.6235\n",
      "Epoch [85/100] – FE-loss: -1.5540\n",
      "Epoch [86/100] – FE-loss: -1.6972\n",
      "Epoch [87/100] – FE-loss: -1.5948\n",
      "Epoch [88/100] – FE-loss: -1.6617\n",
      "Epoch [89/100] – FE-loss: -1.6204\n",
      "Epoch [90/100] – FE-loss: -1.6048\n",
      "Epoch [91/100] – FE-loss: -1.7564\n",
      "Epoch [92/100] – FE-loss: -1.6573\n",
      "Epoch [93/100] – FE-loss: -1.6601\n",
      "Epoch [94/100] – FE-loss: -1.6886\n",
      "Epoch [95/100] – FE-loss: -1.5920\n",
      "Epoch [96/100] – FE-loss: -1.6734\n",
      "Epoch [97/100] – FE-loss: -1.6755\n",
      "Epoch [98/100] – FE-loss: -1.6404\n",
      "Epoch [99/100] – FE-loss: -1.5595\n",
      "Epoch [100/100] – FE-loss: -1.6183\n"
     ]
    }
   ],
   "execution_count": 7
  },
  {
   "metadata": {
    "ExecuteTime": {
     "end_time": "2025-05-06T18:26:02.774222Z",
     "start_time": "2025-05-06T18:26:02.700060Z"
    }
   },
   "cell_type": "code",
   "source": [
    "plt.plot([metrics[e]['free_energy_loss'] for e in metrics])\n",
    "plt.xlabel(\"Epoch\"); plt.ylabel(\"Free-energy loss\"); plt.show()"
   ],
   "id": "e3edf19dc328ef31",
   "outputs": [
    {
     "data": {
      "text/plain": [
       "<Figure size 640x480 with 1 Axes>"
      ],
      "image/png": "[encoded data removed]"
     },
     "metadata": {},
     "output_type": "display_data"
    }
   ],
   "execution_count": 8
  },
  {
   "metadata": {
    "ExecuteTime": {
     "end_time": "2025-05-06T18:26:06.748100Z",
     "start_time": "2025-05-06T18:26:06.094124Z"
    }
   },
   "cell_type": "code",
   "source": [
    "num_samples = 1000\n",
    "gibbs_steps = 100\n",
    "\n",
    "# sched = get_cosine_schedule(4.0, .4, gibbs_steps)\n",
    "#sched = jnp.linspace(4.0, 0.4, gibbs_steps)\n",
    "sched = jnp.ones(500) * 0.4\n",
    "\n",
    "samples = rbm.generate(params=state.params, n_samples=num_samples, T_schedule=sched, rng=rng)\n",
    "\n",
    "rel_freq = samples.mean(axis=0)\n",
    "rel_freq"
   ],
   "id": "ccc3a02231e6dcb1",
   "outputs": [
    {
     "data": {
      "text/plain": [
       "Array([0.37800002, 0.41200003, 0.38500002, 0.39000002, 0.37600002,\n",
       "       0.40500003, 0.393     , 0.38500002, 0.38200003, 0.381     ,\n",
       "       0.404     , 0.379     , 0.402     , 0.38500002, 0.36600003,\n",
       "       0.39900002, 0.407     , 0.40100002, 0.42000002, 0.35700002],      dtype=float32)"
      ]
     },
     "execution_count": 9,
     "metadata": {},
     "output_type": "execute_result"
    }
   ],
   "execution_count": 9
  },
  {
   "metadata": {
    "ExecuteTime": {
     "end_time": "2025-05-06T18:26:08.820524Z",
     "start_time": "2025-05-06T18:26:08.640307Z"
    }
   },
   "cell_type": "code",
   "source": [
    "fig, ax = plt.subplots(figsize=(8,4))\n",
    "sites = np.arange(1, n_vis+1)\n",
    "ax.bar(sites, rel_freq, width=0.8, edgecolor='black', alpha=0.7)\n",
    "ax.axhline(1/n_vis, color='red', linestyle='--', label=f'Expected = {1/n_vis:.3f}')\n",
    "\n",
    "ax.set_xlabel('Spin‐site index')\n",
    "ax.set_ylabel('Relative frequency of up‐spin')\n",
    "ax.set_title('Training Data: Up‐Spin Occurrence per Site')\n",
    "ax.set_xticks(sites)\n",
    "ax.set_ylim(0, rel_freq.max()*1.2)\n",
    "\n",
    "ax.legend(loc='upper right')\n",
    "plt.tight_layout()\n",
    "plt.show()"
   ],
   "id": "5f4812e04afd312d",
   "outputs": [
    {
     "data": {
      "text/plain": [
       "<Figure size 800x400 with 1 Axes>"
      ],
      "image/png": "[encoded data removed]"
     },
     "metadata": {},
     "output_type": "display_data"
    }
   ],
   "execution_count": 10
  },
  {
   "metadata": {
    "ExecuteTime": {
     "end_time": "2025-05-06T17:38:50.546193Z",
     "start_time": "2025-05-06T17:38:50.541570Z"
    }
   },
   "cell_type": "code",
   "source": [
    "# save the model\n",
    "model_name = f\"rbm_w_vanilla_{n_vis}_{num_train_samples}.pkl\"\n",
    "\n",
    "with open(model_dir / model_name, \"wb\") as f:\n",
    "    pickle.dump({\"params\": state.params}, f)"
   ],
   "id": "e5ccfd3c4e7fd542",
   "outputs": [],
   "execution_count": 32
  },
  {
   "metadata": {
    "ExecuteTime": {
     "end_time": "2025-05-06T18:31:14.366450Z",
     "start_time": "2025-05-06T18:31:14.139799Z"
    }
   },
   "cell_type": "code",
   "source": [
    "# ──────────────────────────────────────────────────────────────────────────────\n",
    "# Hyperparameter sweep INCLUDING train‐time temperature (with monkey patch)\n",
    "# ──────────────────────────────────────────────────────────────────────────────\n",
    "\n",
    "import itertools, numpy as np, pandas as pd\n",
    "import jax, jax.numpy as jnp\n",
    "from jax.random import PRNGKey\n",
    "import optax\n",
    "\n",
    "# assume DataLoader, RBM, RBMTrainState, train_step, data are defined above\n",
    "\n",
    "# save original sampler\n",
    "_orig_sample = RBM._gibbs_sample\n",
    "\n",
    "def violation_rate(samples):\n",
    "    return np.mean(np.sum(np.array(samples), axis=1) != 1)\n",
    "\n",
    "param_grid = {\n",
    "    \"k\":   [20, 50],\n",
    "    \"lr\":  [5e-4, 1e-3],\n",
    "    \"wd\":  [0.0, 1e-4],\n",
    "    \"Ttr\": [1.0, 0.8, 0.6, 0.4],\n",
    "}\n",
    "\n",
    "results = []\n",
    "for k, lr, wd, Ttr in itertools.product(*param_grid.values()):\n",
    "    print(f\"\\n▶︎ k={k}, lr={lr}, wd={wd}, T_train={Ttr}\")\n",
    "\n",
    "    # 1) patch in train‐time T\n",
    "    RBM._gibbs_sample = staticmethod(\n",
    "        lambda params, v0, rng, k: _orig_sample(params, v0, rng, k, Ttr)\n",
    "    )\n",
    "\n",
    "    # 2) build loader, optimizer, model, state (with bias override)\n",
    "    batch_size = 256\n",
    "    loader     = DataLoader(data, batch_size, shuffle=True)\n",
    "    lr_sched   = optax.exponential_decay(lr, len(loader), 0.95, staircase=True)\n",
    "    opt        = optax.chain(optax.add_decayed_weights(wd), optax.adam(lr_sched))\n",
    "\n",
    "    rbm = RBM(n_visible=20, n_hidden=20, k=k)\n",
    "    rng = PRNGKey(0)\n",
    "    # init + bias override\n",
    "    dummy = data[:batch_size]\n",
    "    rng, sub = jax.random.split(rng)\n",
    "    v0  = jax.random.bernoulli(sub, 0.5, dummy.shape).astype(jnp.float32)\n",
    "    vars   = rbm.init(rng, dummy, v0, rng)\n",
    "    params = vars[\"params\"]\n",
    "    import flax\n",
    "    ps     = flax.core.unfreeze(params)\n",
    "    ps[\"b\"] = np.full((20,), np.log(1/19), dtype=np.float32)\n",
    "    params = flax.core.freeze(ps)\n",
    "    state  = RBMTrainState.create(rbm.apply, params, opt)\n",
    "\n",
    "    # 3) train (fully persistent)\n",
    "    # init v_pers once per epoch inside train_rbm\n",
    "    state, _, rng = train_rbm(state, loader, 20, rng, pcd_reset=None)\n",
    "\n",
    "    # 4) sample & evaluate\n",
    "    T_sched = jnp.ones(500) * 0.4\n",
    "    samples = rbm.generate(state.params, 5000, T_sched, rng)\n",
    "    viol    = violation_rate(samples)\n",
    "    margerr = np.max(np.abs(np.array(samples).mean(0) - 1/20))\n",
    "    print(f\" → viol={viol:.4f}, max_margerr={margerr:.4f}\")\n",
    "\n",
    "    results.append({\"k\":k, \"lr\":lr, \"wd\":wd, \"Ttr\":Ttr,\n",
    "                    \"viol\":viol, \"merr\":margerr})\n",
    "\n",
    "    # restore sampler for next run\n",
    "    RBM._gibbs_sample = _orig_sample\n",
    "\n",
    "# display top results\n",
    "df = pd.DataFrame(results).sort_values([\"viol\",\"merr\"]).reset_index(drop=True)\n",
    "print(\"\\nTop 5 configs:\\n\", df.head())"
   ],
   "id": "bcce9c63788c5b92",
   "outputs": [
    {
     "name": "stdout",
     "output_type": "stream",
     "text": [
      "\n",
      "▶︎ k=20, lr=0.0005, wd=0.0, T_train=1.0\n"
     ]
    },
    {
     "ename": "TypeError",
     "evalue": "create() takes 1 positional argument but 4 were given",
     "output_type": "error",
     "traceback": [
      "\u001B[0;31m---------------------------------------------------------------------------\u001B[0m",
      "\u001B[0;31mTypeError\u001B[0m                                 Traceback (most recent call last)",
      "Cell \u001B[0;32mIn[14], line 52\u001B[0m\n\u001B[1;32m     50\u001B[0m ps[\u001B[38;5;124m\"\u001B[39m\u001B[38;5;124mb\u001B[39m\u001B[38;5;124m\"\u001B[39m] \u001B[38;5;241m=\u001B[39m np\u001B[38;5;241m.\u001B[39mfull((\u001B[38;5;241m20\u001B[39m,), np\u001B[38;5;241m.\u001B[39mlog(\u001B[38;5;241m1\u001B[39m\u001B[38;5;241m/\u001B[39m\u001B[38;5;241m19\u001B[39m), dtype\u001B[38;5;241m=\u001B[39mnp\u001B[38;5;241m.\u001B[39mfloat32)\n\u001B[1;32m     51\u001B[0m params \u001B[38;5;241m=\u001B[39m flax\u001B[38;5;241m.\u001B[39mcore\u001B[38;5;241m.\u001B[39mfreeze(ps)\n\u001B[0;32m---> 52\u001B[0m state  \u001B[38;5;241m=\u001B[39m \u001B[43mRBMTrainState\u001B[49m\u001B[38;5;241;43m.\u001B[39;49m\u001B[43mcreate\u001B[49m\u001B[43m(\u001B[49m\u001B[43mrbm\u001B[49m\u001B[38;5;241;43m.\u001B[39;49m\u001B[43mapply\u001B[49m\u001B[43m,\u001B[49m\u001B[43m \u001B[49m\u001B[43mparams\u001B[49m\u001B[43m,\u001B[49m\u001B[43m \u001B[49m\u001B[43mopt\u001B[49m\u001B[43m)\u001B[49m\n\u001B[1;32m     54\u001B[0m \u001B[38;5;66;03m# 3) train (fully persistent)\u001B[39;00m\n\u001B[1;32m     55\u001B[0m \u001B[38;5;66;03m# init v_pers once per epoch inside train_rbm\u001B[39;00m\n\u001B[1;32m     56\u001B[0m state, _, rng \u001B[38;5;241m=\u001B[39m train_rbm(state, loader, \u001B[38;5;241m20\u001B[39m, rng, pcd_reset\u001B[38;5;241m=\u001B[39m\u001B[38;5;28;01mNone\u001B[39;00m)\n",
      "\u001B[0;31mTypeError\u001B[0m: create() takes 1 positional argument but 4 were given"
     ]
    }
   ],
   "execution_count": 14
  },
  {
   "metadata": {},
   "cell_type": "code",
   "outputs": [],
   "execution_count": null,
   "source": "",
   "id": "929b78bcc03a4030"
  }
 ],
 "metadata": {
  "kernelspec": {
   "display_name": "Python 3",
   "language": "python",
   "name": "python3"
  },
  "language_info": {
   "codemirror_mode": {
    "name": "ipython",
    "version": 2
   },
   "file_extension": ".py",
   "mimetype": "text/x-python",
   "name": "python",
   "nbconvert_exporter": "python",
   "pygments_lexer": "ipython2",
   "version": "2.7.6"
  }
 },
 "nbformat": 4,
 "nbformat_minor": 5
}
