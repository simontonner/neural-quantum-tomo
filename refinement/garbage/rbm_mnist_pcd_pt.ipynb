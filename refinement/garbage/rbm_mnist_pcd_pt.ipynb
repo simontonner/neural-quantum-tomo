{
 "cells": [
  {
   "cell_type": "code",
   "id": "initial_id",
   "metadata": {
    "collapsed": true,
    "ExecuteTime": {
     "end_time": "2025-02-23T21:55:09.247186Z",
     "start_time": "2025-02-23T21:55:08.085914Z"
    }
   },
   "source": [
    "import torch\n",
    "import torch.nn as nn\n",
    "from torchvision import datasets, transforms\n",
    "from torch.utils.data import DataLoader\n",
    "\n",
    "import matplotlib.pyplot as plt\n",
    "\n",
    "data_dir = \"./data\"\n",
    "\n",
    "device = torch.device(\"cpu\")\n",
    "\n",
    "if torch.backends.mps.is_available() and torch.backends.mps.is_built():\n",
    "    device = torch.device(\"mps\")\n",
    "\n",
    "if torch.cuda.is_available():\n",
    "    device = torch.device(\"cuda\")\n",
    "\n",
    "print(f\"Data resides in        : {data_dir}\")\n",
    "print(f\"Training model on      : {str(device)}\")"
   ],
   "outputs": [
    {
     "name": "stdout",
     "output_type": "stream",
     "text": [
      "Data resides in        : ./data\n",
      "Training model on      : mps\n"
     ]
    }
   ],
   "execution_count": 1
  },
  {
   "metadata": {
    "ExecuteTime": {
     "end_time": "2025-02-23T21:55:23.589451Z",
     "start_time": "2025-02-23T21:55:23.356518Z"
    }
   },
   "cell_type": "code",
   "source": [
    "def print_samples(samples, elements_per_row=10, fig_width=10, cmap=\"binary\"):\n",
    "    num_digits = len(samples)\n",
    "    num_rows = (num_digits + elements_per_row - 1) // elements_per_row\n",
    "\n",
    "    plt.figure(figsize=(fig_width, fig_width / elements_per_row * num_rows))\n",
    "    for idx, (label, image) in enumerate(samples):\n",
    "        plt.subplot(num_rows, elements_per_row, idx + 1)\n",
    "        plt.imshow(image.squeeze(), cmap=cmap)\n",
    "        plt.title(label, fontsize=12)\n",
    "        plt.axis('off')\n",
    "\n",
    "    plt.tight_layout()\n",
    "    plt.show()\n",
    "\n",
    "\n",
    "# load MNIST and convert it to binary directly in transform\n",
    "transform = transforms.Compose([\n",
    "    transforms.ToTensor(),\n",
    "    transforms.Normalize((0,), (1,)),               # normalize to [0, 1]\n",
    "    transforms.Lambda(lambda x: (x > 0.5).float())  # binarize\n",
    "])\n",
    "\n",
    "train_dataset = datasets.MNIST(root=data_dir, train=True, download=True, transform=transform)\n",
    "test_dataset = datasets.MNIST(root=data_dir, train=False, download=True, transform=transform)\n",
    "\n",
    "sample_list = [(label, next(image for image, lbl in train_dataset if lbl == label)) for label in range(10)]\n",
    "print_samples(sample_list)"
   ],
   "id": "ec07a584d05b81d5",
   "outputs": [
    {
     "data": {
      "text/plain": [
       "<Figure size 1000x100 with 10 Axes>"
      ],
      "image/png": "[encoded data removed]"
     },
     "metadata": {},
     "output_type": "display_data"
    }
   ],
   "execution_count": 2
  },
  {
   "metadata": {
    "ExecuteTime": {
     "end_time": "2025-02-23T23:10:01.928627Z",
     "start_time": "2025-02-23T23:10:01.918712Z"
    }
   },
   "cell_type": "code",
   "source": [
    "class RBM(nn.Module):\n",
    "    def __init__(self, visible_dim, hidden_dim=128, W_var=0.01, a_val=0.0, b_val=0.0):\n",
    "        super().__init__()\n",
    "        self.W = nn.Parameter(torch.randn(visible_dim, hidden_dim) * W_var)\n",
    "        self.a = nn.Parameter(torch.full((visible_dim,), a_val))\n",
    "        self.b = nn.Parameter(torch.full((hidden_dim,), b_val))\n",
    "        self.register_buffer('persistent_chain', None) # Persistent chain buffer\n",
    "\n",
    "    def sample_hidden(self, v):\n",
    "        h_probs = torch.sigmoid(v @ self.W + self.b)\n",
    "        h_sample = torch.bernoulli(h_probs)\n",
    "        return h_probs, h_sample\n",
    "\n",
    "    def sample_visible(self, h):\n",
    "        v_probs = torch.sigmoid(h @ self.W.t() + self.a)\n",
    "        v_sample = torch.bernoulli(v_probs)\n",
    "        return v_probs, v_sample\n",
    "\n",
    "    def sample_gibbs(self, v0_sample, k=1):\n",
    "        vk_probs, vk_sample = v0_sample.clone(), torch.zeros(v0_sample.size())\n",
    "        hk_probs, hk_sample = self.sample_hidden(v0_sample)\n",
    "\n",
    "        for _ in range(k):\n",
    "            vk_probs, vk_sample = self.sample_visible(hk_sample)\n",
    "            hk_probs, hk_sample = self.sample_hidden(vk_sample)\n",
    "\n",
    "        return hk_probs, hk_sample, vk_probs, vk_sample # Returns 4 values\n",
    "\n",
    "    def contrastive_divergence(self, v0_sample, k=1, lr=0.01):\n",
    "        h0_probs, h0_sample = self.sample_hidden(v0_sample)\n",
    "        hk_probs, _, vk_probs, vk_sample = self.sample_gibbs(v0_sample, k)\n",
    "\n",
    "        batch_size = v0_sample.size(0)\n",
    "        positive_association = (v0_sample.T @ h0_probs) / batch_size\n",
    "        negative_association = (vk_sample.T @ hk_probs) / batch_size\n",
    "\n",
    "        self.W.data += lr * (positive_association - negative_association)\n",
    "        self.a.data += lr * (v0_sample.mean(dim=0) - vk_sample.mean(dim=0))\n",
    "        self.b.data += lr * (h0_probs.mean(dim=0) - hk_probs.mean(dim=0))\n",
    "\n",
    "        return vk_sample\n",
    "\n",
    "    def generate(self, k=50):\n",
    "        # Initialize from a completely random visible state for EACH generation\n",
    "        v_init = torch.bernoulli(torch.rand(1, self.a.numel())).to(self.a.device) # Random initial visible state\n",
    "        hk_probs, hk_sample, v_probs, v_sample = self.sample_gibbs(v_init, k) # Start Gibbs from random state\n",
    "        return v_probs # Return visible probabilities"
   ],
   "id": "bc1b2393a0ee5049",
   "outputs": [],
   "execution_count": 38
  },
  {
   "metadata": {},
   "cell_type": "code",
   "source": [
    "from IPython.display import clear_output\n",
    "\n",
    "\n",
    "# --- Hyperparameter Settings (ADJUST THESE) ---\n",
    "hidden_dim = 128  # or 256\n",
    "batch_size = 256\n",
    "epochs = 500\n",
    "lr = 0.005\n",
    "gibbs_steps = 1\n",
    "generation_steps = 20\n",
    "\n",
    "train_loader = DataLoader(train_dataset, batch_size=batch_size, shuffle=True)\n",
    "test_loader = DataLoader(test_dataset, batch_size=batch_size, shuffle=False)\n",
    "\n",
    "visible_dim = train_dataset[0][0].numel()\n",
    "rbm = RBM(visible_dim, hidden_dim).to(device)\n",
    "\n",
    "metrics = {}\n",
    "for epoch in range(epochs):\n",
    "    epoch_loss = 0.0\n",
    "    for batch, _ in train_loader:\n",
    "        flat_batch = batch.view(-1, visible_dim).to(device)\n",
    "        recon_batch = rbm.contrastive_divergence(flat_batch, k=gibbs_steps, lr=lr) # Pass lr here\n",
    "\n",
    "        loss = torch.mean(torch.sum((flat_batch - recon_batch) ** 2, dim=1))\n",
    "        epoch_loss += loss.item()\n",
    "\n",
    "    metrics[epoch] = { \"reconstruction_error\": epoch_loss / len(train_loader) }\n",
    "\n",
    "    clear_output(wait=True)\n",
    "\n",
    "    # --- VISUALIZATION & MONITORING (after each epoch) ---\n",
    "    with torch.no_grad(): # Important: No gradients during visualization\n",
    "        # 1. Generate and Display Fantasy Samples\n",
    "        generated_images = torch.stack([rbm.generate(k=generation_steps) for _ in range(5)])\n",
    "        generated_images = generated_images.view(-1, 28, 28).cpu()\n",
    "        print(\"Generated Samples:\")\n",
    "        print_samples([(f\"Sample {idx}\", sample) for idx, sample in enumerate(generated_images)], elements_per_row=5, cmap=\"gray\")\n",
    "\n",
    "    print(f\"Epoch {epoch + 1}/{epochs} : Loss {metrics[epoch]['reconstruction_error']:.4f}\")"
   ],
   "id": "3c852af5ac179034",
   "execution_count": 49,
   "outputs": [
    {
     "data": {
      "text/plain": [
       "<Figure size 1000x200 with 5 Axes>"
      ],
      "image/png": "[encoded data removed]"
     },
     "metadata": {},
     "output_type": "display_data"
    },
    {
     "name": "stdout",
     "output_type": "stream",
     "text": [
      "Epoch 220/500 : Loss 49.0670\n"
     ]
    },
    {
     "ename": "KeyboardInterrupt",
     "evalue": "",
     "output_type": "error",
     "traceback": [
      "\u001B[0;31m---------------------------------------------------------------------------\u001B[0m",
      "\u001B[0;31mKeyboardInterrupt\u001B[0m                         Traceback (most recent call last)",
      "Cell \u001B[0;32mIn[49], line 23\u001B[0m\n\u001B[1;32m     21\u001B[0m \u001B[38;5;28;01mfor\u001B[39;00m batch, _ \u001B[38;5;129;01min\u001B[39;00m train_loader:\n\u001B[1;32m     22\u001B[0m     flat_batch \u001B[38;5;241m=\u001B[39m batch\u001B[38;5;241m.\u001B[39mview(\u001B[38;5;241m-\u001B[39m\u001B[38;5;241m1\u001B[39m, visible_dim)\u001B[38;5;241m.\u001B[39mto(device)\n\u001B[0;32m---> 23\u001B[0m     recon_batch \u001B[38;5;241m=\u001B[39m \u001B[43mrbm\u001B[49m\u001B[38;5;241;43m.\u001B[39;49m\u001B[43mcontrastive_divergence\u001B[49m\u001B[43m(\u001B[49m\u001B[43mflat_batch\u001B[49m\u001B[43m,\u001B[49m\u001B[43m \u001B[49m\u001B[43mk\u001B[49m\u001B[38;5;241;43m=\u001B[39;49m\u001B[43mgibbs_steps\u001B[49m\u001B[43m,\u001B[49m\u001B[43m \u001B[49m\u001B[43mlr\u001B[49m\u001B[38;5;241;43m=\u001B[39;49m\u001B[43mlr\u001B[49m\u001B[43m)\u001B[49m \u001B[38;5;66;03m# Pass lr here\u001B[39;00m\n\u001B[1;32m     25\u001B[0m     loss \u001B[38;5;241m=\u001B[39m torch\u001B[38;5;241m.\u001B[39mmean(torch\u001B[38;5;241m.\u001B[39msum((flat_batch \u001B[38;5;241m-\u001B[39m recon_batch) \u001B[38;5;241m*\u001B[39m\u001B[38;5;241m*\u001B[39m \u001B[38;5;241m2\u001B[39m, dim\u001B[38;5;241m=\u001B[39m\u001B[38;5;241m1\u001B[39m))\n\u001B[1;32m     26\u001B[0m     epoch_loss \u001B[38;5;241m+\u001B[39m\u001B[38;5;241m=\u001B[39m loss\u001B[38;5;241m.\u001B[39mitem()\n",
      "Cell \u001B[0;32mIn[38], line 38\u001B[0m, in \u001B[0;36mRBM.contrastive_divergence\u001B[0;34m(self, v0_sample, k, lr)\u001B[0m\n\u001B[1;32m     35\u001B[0m negative_association \u001B[38;5;241m=\u001B[39m (vk_sample\u001B[38;5;241m.\u001B[39mT \u001B[38;5;241m@\u001B[39m hk_probs) \u001B[38;5;241m/\u001B[39m batch_size\n\u001B[1;32m     37\u001B[0m \u001B[38;5;28mself\u001B[39m\u001B[38;5;241m.\u001B[39mW\u001B[38;5;241m.\u001B[39mdata \u001B[38;5;241m+\u001B[39m\u001B[38;5;241m=\u001B[39m lr \u001B[38;5;241m*\u001B[39m (positive_association \u001B[38;5;241m-\u001B[39m negative_association)\n\u001B[0;32m---> 38\u001B[0m \u001B[38;5;28mself\u001B[39m\u001B[38;5;241m.\u001B[39ma\u001B[38;5;241m.\u001B[39mdata \u001B[38;5;241m+\u001B[39m\u001B[38;5;241m=\u001B[39m lr \u001B[38;5;241m*\u001B[39m (v0_sample\u001B[38;5;241m.\u001B[39mmean(dim\u001B[38;5;241m=\u001B[39m\u001B[38;5;241m0\u001B[39m) \u001B[38;5;241m-\u001B[39m vk_sample\u001B[38;5;241m.\u001B[39mmean(dim\u001B[38;5;241m=\u001B[39m\u001B[38;5;241m0\u001B[39m))\n\u001B[1;32m     39\u001B[0m \u001B[38;5;28mself\u001B[39m\u001B[38;5;241m.\u001B[39mb\u001B[38;5;241m.\u001B[39mdata \u001B[38;5;241m+\u001B[39m\u001B[38;5;241m=\u001B[39m lr \u001B[38;5;241m*\u001B[39m (h0_probs\u001B[38;5;241m.\u001B[39mmean(dim\u001B[38;5;241m=\u001B[39m\u001B[38;5;241m0\u001B[39m) \u001B[38;5;241m-\u001B[39m hk_probs\u001B[38;5;241m.\u001B[39mmean(dim\u001B[38;5;241m=\u001B[39m\u001B[38;5;241m0\u001B[39m))\n\u001B[1;32m     41\u001B[0m \u001B[38;5;28;01mreturn\u001B[39;00m vk_sample\n",
      "\u001B[0;31mKeyboardInterrupt\u001B[0m: "
     ]
    }
   ]
  },
  {
   "metadata": {
    "ExecuteTime": {
     "end_time": "2025-02-23T23:17:01.924093Z",
     "start_time": "2025-02-23T23:16:58.022477Z"
    }
   },
   "cell_type": "code",
   "source": [
    "# --- After your training loop (for epoch in range(epochs): ...) add this: ---\n",
    "\n",
    "print(\"\\n--- Training Complete ---\") # Indicate training finished\n",
    "\n",
    "# --- GENERATE FANTASY IMAGES AFTER TRAINING ---\n",
    "generation_steps_final = 1000  # <--- ADJUST: Gibbs steps for final generation (e.g., 200, 500)\n",
    "num_fantasy_samples_final = 10 # <--- ADJUST: Number of fantasy images (e.g., 25 for 5x5 grid)\n",
    "\n",
    "with torch.no_grad(): # No gradients for final generation\n",
    "    print(\"Generating fantasy images *after* training...\")\n",
    "    fantasy_images_final = torch.stack([rbm.generate(k=generation_steps_final) for _ in range(num_fantasy_samples_final)])\n",
    "    fantasy_images_final = fantasy_images_final.view(-1, 28, 28).cpu()\n",
    "\n",
    "# --- Display Fantasy Images AFTER Training ---\n",
    "print(\"Fantasy Images (Generated *after* training):\")\n",
    "print_samples([(f\"Fantasy Sample {idx}\", img) for idx, img in enumerate(fantasy_images_final)], elements_per_row=5, cmap=\"gray\")\n",
    "\n",
    "print(\"Final Fantasy image generation complete.\")"
   ],
   "id": "26da8658f331ba09",
   "outputs": [
    {
     "name": "stdout",
     "output_type": "stream",
     "text": [
      "\n",
      "--- Training Complete ---\n",
      "Generating fantasy images *after* training...\n",
      "Fantasy Images (Generated *after* training):\n"
     ]
    },
    {
     "data": {
      "text/plain": [
       "<Figure size 1000x400 with 10 Axes>"
      ],
      "image/png": "[encoded data removed]"
     },
     "metadata": {},
     "output_type": "display_data"
    },
    {
     "name": "stdout",
     "output_type": "stream",
     "text": [
      "Final Fantasy image generation complete.\n"
     ]
    }
   ],
   "execution_count": 42
  },
  {
   "metadata": {
    "ExecuteTime": {
     "end_time": "2025-02-23T22:18:05.841099Z",
     "start_time": "2025-02-23T22:15:06.968867Z"
    }
   },
   "cell_type": "code",
   "outputs": [
    {
     "name": "stdout",
     "output_type": "stream",
     "text": [
      "Epoch 1/50 : Loss 160.0304\n",
      "Epoch 2/50 : Loss 124.7320\n",
      "Epoch 3/50 : Loss 107.4343\n",
      "Epoch 4/50 : Loss 98.3042\n",
      "Epoch 5/50 : Loss 92.6027\n",
      "Epoch 6/50 : Loss 88.2224\n",
      "Epoch 7/50 : Loss 84.6489\n",
      "Epoch 8/50 : Loss 81.7268\n",
      "Epoch 9/50 : Loss 79.1431\n",
      "Epoch 10/50 : Loss 76.9314\n",
      "Epoch 11/50 : Loss 74.9240\n",
      "Epoch 12/50 : Loss 73.1541\n",
      "Epoch 13/50 : Loss 71.4754\n",
      "Epoch 14/50 : Loss 69.9827\n",
      "Epoch 15/50 : Loss 68.6324\n",
      "Epoch 16/50 : Loss 67.3686\n",
      "Epoch 17/50 : Loss 66.3129\n",
      "Epoch 18/50 : Loss 65.2111\n",
      "Epoch 19/50 : Loss 64.2088\n",
      "Epoch 20/50 : Loss 63.3156\n",
      "Epoch 21/50 : Loss 62.4470\n",
      "Epoch 22/50 : Loss 61.6017\n",
      "Epoch 23/50 : Loss 60.8455\n",
      "Epoch 24/50 : Loss 60.1378\n",
      "Epoch 25/50 : Loss 59.4604\n",
      "Epoch 26/50 : Loss 58.8189\n",
      "Epoch 27/50 : Loss 58.1951\n",
      "Epoch 28/50 : Loss 57.5997\n",
      "Epoch 29/50 : Loss 57.0190\n",
      "Epoch 30/50 : Loss 56.5234\n",
      "Epoch 31/50 : Loss 55.9692\n",
      "Epoch 32/50 : Loss 55.5211\n",
      "Epoch 33/50 : Loss 55.0222\n",
      "Epoch 34/50 : Loss 54.5780\n",
      "Epoch 35/50 : Loss 54.1505\n",
      "Epoch 36/50 : Loss 53.7145\n",
      "Epoch 37/50 : Loss 53.2990\n",
      "Epoch 38/50 : Loss 52.9176\n",
      "Epoch 39/50 : Loss 52.5984\n",
      "Epoch 40/50 : Loss 52.1918\n",
      "Epoch 41/50 : Loss 51.7853\n",
      "Epoch 42/50 : Loss 51.4676\n",
      "Epoch 43/50 : Loss 51.1270\n",
      "Epoch 44/50 : Loss 50.8097\n",
      "Epoch 45/50 : Loss 50.5311\n",
      "Epoch 46/50 : Loss 50.2223\n",
      "Epoch 47/50 : Loss 49.9327\n",
      "Epoch 48/50 : Loss 49.6237\n",
      "Epoch 49/50 : Loss 49.3386\n",
      "Epoch 50/50 : Loss 49.0450\n"
     ]
    }
   ],
   "execution_count": 20,
   "source": [
    "hidden_dim = 256  # or 256\n",
    "batch_size = 256\n",
    "epochs = 3\n",
    "lr = 0.01  # Keep original LR for now\n",
    "gibbs_steps = 1\n",
    "\n",
    "\n",
    "train_loader = DataLoader(train_dataset, batch_size=batch_size, shuffle=True)\n",
    "test_loader = DataLoader(test_dataset, batch_size=batch_size, shuffle=False)\n",
    "\n",
    "\n",
    "visible_dim = train_dataset[0][0].numel()\n",
    "rbm = RBM(visible_dim, hidden_dim).to(device)\n",
    "\n",
    "\n",
    "metrics = {}\n",
    "for epoch in range(epochs):\n",
    "    epoch_loss = 0.0\n",
    "    for batch, _ in train_loader:\n",
    "        flat_batch = batch.view(-1, visible_dim).to(device)\n",
    "\n",
    "        recon_batch = rbm.contrastive_divergence(flat_batch, k=gibbs_steps)\n",
    "\n",
    "        loss = torch.mean(torch.sum((flat_batch - recon_batch) ** 2, dim=1))\n",
    "        epoch_loss += loss.item()\n",
    "\n",
    "    metrics[epoch] = { \"reconstruction_error\": epoch_loss / len(train_loader) }\n",
    "    print(f\"Epoch {epoch + 1}/{epochs} : Loss {metrics[epoch]['reconstruction_error']:.4f}\")"
   ],
   "id": "219f97a51d262b2d"
  },
  {
   "metadata": {
    "ExecuteTime": {
     "end_time": "2025-02-23T22:23:04.037060Z",
     "start_time": "2025-02-23T22:23:03.956540Z"
    }
   },
   "cell_type": "code",
   "source": [
    "# only plot the reconstruction_error\n",
    "plt.plot([metrics[epoch]['reconstruction_error'] for epoch in metrics])\n",
    "plt.xlabel(\"Epoch\")\n",
    "plt.ylabel(\"Reconstruction Error\")"
   ],
   "id": "6cbd61cced7282fc",
   "outputs": [
    {
     "data": {
      "text/plain": [
       "Text(0, 0.5, 'Reconstruction Error')"
      ]
     },
     "execution_count": 21,
     "metadata": {},
     "output_type": "execute_result"
    },
    {
     "data": {
      "text/plain": [
       "<Figure size 640x480 with 1 Axes>"
      ],
      "image/png": "[encoded data removed]"
     },
     "metadata": {},
     "output_type": "display_data"
    }
   ],
   "execution_count": 21
  },
  {
   "metadata": {
    "ExecuteTime": {
     "end_time": "2025-02-23T22:23:09.536045Z",
     "start_time": "2025-02-23T22:23:09.501760Z"
    }
   },
   "cell_type": "code",
   "source": [
    "generation_steps = 10\n",
    "\n",
    "with torch.no_grad():\n",
    "    random_samples = torch.bernoulli(torch.rand(10, visible_dim)).to(device)\n",
    "    generated_images = torch.stack([rbm.generate(k=generation_steps) for _ in range(10)])\n",
    "\n",
    "    generated_images = generated_images.view(-1, 28, 28).cpu()\n",
    "\n",
    "# Display generated images\n",
    "print_samples([(f\"Sample {idx}\", sample) for idx, sample in enumerate(generated_images)], elements_per_row=5, cmap=\"gray\")"
   ],
   "id": "8b297cc42a8c5a53",
   "outputs": [
    {
     "ename": "ValueError",
     "evalue": "too many values to unpack (expected 2)",
     "output_type": "error",
     "traceback": [
      "\u001B[0;31m---------------------------------------------------------------------------\u001B[0m",
      "\u001B[0;31mValueError\u001B[0m                                Traceback (most recent call last)",
      "Cell \u001B[0;32mIn[23], line 5\u001B[0m\n\u001B[1;32m      3\u001B[0m \u001B[38;5;28;01mwith\u001B[39;00m torch\u001B[38;5;241m.\u001B[39mno_grad():\n\u001B[1;32m      4\u001B[0m     random_samples \u001B[38;5;241m=\u001B[39m torch\u001B[38;5;241m.\u001B[39mbernoulli(torch\u001B[38;5;241m.\u001B[39mrand(\u001B[38;5;241m10\u001B[39m, visible_dim))\u001B[38;5;241m.\u001B[39mto(device)\n\u001B[0;32m----> 5\u001B[0m     generated_images \u001B[38;5;241m=\u001B[39m torch\u001B[38;5;241m.\u001B[39mstack([rbm\u001B[38;5;241m.\u001B[39mgenerate(k\u001B[38;5;241m=\u001B[39mgeneration_steps) \u001B[38;5;28;01mfor\u001B[39;00m _ \u001B[38;5;129;01min\u001B[39;00m \u001B[38;5;28mrange\u001B[39m(\u001B[38;5;241m10\u001B[39m)])\n\u001B[1;32m      7\u001B[0m     generated_images \u001B[38;5;241m=\u001B[39m generated_images\u001B[38;5;241m.\u001B[39mview(\u001B[38;5;241m-\u001B[39m\u001B[38;5;241m1\u001B[39m, \u001B[38;5;241m28\u001B[39m, \u001B[38;5;241m28\u001B[39m)\u001B[38;5;241m.\u001B[39mcpu()\n\u001B[1;32m      9\u001B[0m \u001B[38;5;66;03m# Display generated images\u001B[39;00m\n",
      "Cell \u001B[0;32mIn[23], line 5\u001B[0m, in \u001B[0;36m<listcomp>\u001B[0;34m(.0)\u001B[0m\n\u001B[1;32m      3\u001B[0m \u001B[38;5;28;01mwith\u001B[39;00m torch\u001B[38;5;241m.\u001B[39mno_grad():\n\u001B[1;32m      4\u001B[0m     random_samples \u001B[38;5;241m=\u001B[39m torch\u001B[38;5;241m.\u001B[39mbernoulli(torch\u001B[38;5;241m.\u001B[39mrand(\u001B[38;5;241m10\u001B[39m, visible_dim))\u001B[38;5;241m.\u001B[39mto(device)\n\u001B[0;32m----> 5\u001B[0m     generated_images \u001B[38;5;241m=\u001B[39m torch\u001B[38;5;241m.\u001B[39mstack([\u001B[43mrbm\u001B[49m\u001B[38;5;241;43m.\u001B[39;49m\u001B[43mgenerate\u001B[49m\u001B[43m(\u001B[49m\u001B[43mk\u001B[49m\u001B[38;5;241;43m=\u001B[39;49m\u001B[43mgeneration_steps\u001B[49m\u001B[43m)\u001B[49m \u001B[38;5;28;01mfor\u001B[39;00m _ \u001B[38;5;129;01min\u001B[39;00m \u001B[38;5;28mrange\u001B[39m(\u001B[38;5;241m10\u001B[39m)])\n\u001B[1;32m      7\u001B[0m     generated_images \u001B[38;5;241m=\u001B[39m generated_images\u001B[38;5;241m.\u001B[39mview(\u001B[38;5;241m-\u001B[39m\u001B[38;5;241m1\u001B[39m, \u001B[38;5;241m28\u001B[39m, \u001B[38;5;241m28\u001B[39m)\u001B[38;5;241m.\u001B[39mcpu()\n\u001B[1;32m      9\u001B[0m \u001B[38;5;66;03m# Display generated images\u001B[39;00m\n",
      "Cell \u001B[0;32mIn[19], line 57\u001B[0m, in \u001B[0;36mRBM.generate\u001B[0;34m(self, k)\u001B[0m\n\u001B[1;32m     55\u001B[0m     \u001B[38;5;28mself\u001B[39m\u001B[38;5;241m.\u001B[39mpersistent_chain \u001B[38;5;241m=\u001B[39m torch\u001B[38;5;241m.\u001B[39mbernoulli(torch\u001B[38;5;241m.\u001B[39mrand(\u001B[38;5;241m1\u001B[39m, \u001B[38;5;28mself\u001B[39m\u001B[38;5;241m.\u001B[39ma\u001B[38;5;241m.\u001B[39mnumel()))\u001B[38;5;241m.\u001B[39mto(\u001B[38;5;28mself\u001B[39m\u001B[38;5;241m.\u001B[39ma\u001B[38;5;241m.\u001B[39mdevice)\n\u001B[1;32m     56\u001B[0m \u001B[38;5;66;03m# Run k Gibbs steps starting from the persistent chain\u001B[39;00m\n\u001B[0;32m---> 57\u001B[0m v_probs, v_sample \u001B[38;5;241m=\u001B[39m \u001B[38;5;28mself\u001B[39m\u001B[38;5;241m.\u001B[39msample_gibbs(\u001B[38;5;28mself\u001B[39m\u001B[38;5;241m.\u001B[39mpersistent_chain, k)\n\u001B[1;32m     58\u001B[0m \u001B[38;5;66;03m# Update persistent chain for next generation\u001B[39;00m\n\u001B[1;32m     59\u001B[0m \u001B[38;5;28mself\u001B[39m\u001B[38;5;241m.\u001B[39mpersistent_chain \u001B[38;5;241m=\u001B[39m v_sample\u001B[38;5;241m.\u001B[39mdetach()\n",
      "\u001B[0;31mValueError\u001B[0m: too many values to unpack (expected 2)"
     ]
    }
   ],
   "execution_count": 23
  }
 ],
 "metadata": {
  "kernelspec": {
   "display_name": "Python 3",
   "language": "python",
   "name": "python3"
  },
  "language_info": {
   "codemirror_mode": {
    "name": "ipython",
    "version": 2
   },
   "file_extension": ".py",
   "mimetype": "text/x-python",
   "name": "python",
   "nbconvert_exporter": "python",
   "pygments_lexer": "ipython2",
   "version": "2.7.6"
  }
 },
 "nbformat": 4,
 "nbformat_minor": 5
}
