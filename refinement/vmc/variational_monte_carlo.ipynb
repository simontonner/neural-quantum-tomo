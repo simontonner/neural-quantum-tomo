{
 "cells": [
  {
   "cell_type": "code",
   "id": "initial_id",
   "metadata": {
    "collapsed": true,
    "ExecuteTime": {
     "end_time": "2025-02-22T22:51:31.132177Z",
     "start_time": "2025-02-22T22:51:31.128631Z"
    }
   },
   "source": [
    "import netket as nk\n",
    "import numpy as np\n",
    "from PIL.GimpGradientFile import curved\n",
    "\n",
    "from scipy.sparse.linalg import eigsh\n",
    "\n",
    "from tqdm import tqdm\n",
    "from functools import partial\n",
    "\n",
    "import jax\n",
    "import jax.numpy as jnp\n",
    "\n",
    "from flax import linen as nn # flax is library that brings a more pytorch-like API to JAX\n",
    "import optax # optax is a library that provides optimizers and learning rate schedules\n",
    "\n",
    "import matplotlib.pyplot as plt"
   ],
   "outputs": [],
   "execution_count": 27
  },
  {
   "metadata": {
    "ExecuteTime": {
     "end_time": "2025-02-22T22:51:34.894441Z",
     "start_time": "2025-02-22T22:51:34.595778Z"
    }
   },
   "cell_type": "code",
   "source": [
    "# defining the hamiltonian on a 4x4 spin lattice\n",
    "\n",
    "g = nk.graph.Hypercube(length=4, n_dim=2, pbc=True)\n",
    "hi = nk.hilbert.Spin(s=1/2, N=g.n_nodes)\n",
    "\n",
    "h_nk = nk.operator.Ising(hi, g, h=1.0, J=1.0, dtype=float)\n",
    "h_nk_sparse = h_nk.to_sparse()\n",
    "h_jax = h_nk.to_local_operator().to_pauli_strings().to_jax_operator()\n",
    "h_jax_sparse = h_jax.to_sparse()\n",
    "\n",
    "print(type(h_nk))\n",
    "print(type(h_nk_sparse))\n",
    "print(type(h_jax))\n",
    "print(type(h_jax_sparse))"
   ],
   "id": "d89dbf0ae61bbe8d",
   "outputs": [
    {
     "name": "stdout",
     "output_type": "stream",
     "text": [
      "<class 'netket.operator._ising.numba.Ising'>\n",
      "<class 'scipy.sparse._csr.csr_matrix'>\n",
      "<class 'netket.operator._pauli_strings.jax.PauliStringsJax'>\n",
      "<class 'jax.experimental.sparse.bcsr.BCSR'>\n"
     ]
    }
   ],
   "execution_count": 28
  },
  {
   "metadata": {
    "ExecuteTime": {
     "end_time": "2025-02-22T22:51:38.272452Z",
     "start_time": "2025-02-22T22:51:38.034238Z"
    }
   },
   "cell_type": "code",
   "source": [
    "ground_energies, ground_states = eigsh(h_nk_sparse, k=1)\n",
    "ground_idx = np.argmin(ground_energies)\n",
    "ground_energy = ground_energies[ground_idx]\n",
    "ground_state = ground_states[:, ground_idx]\n",
    "\n",
    "print(f\"Ground Energy: {ground_energy:.5f}\")"
   ],
   "id": "2d87021bfb33689c",
   "outputs": [
    {
     "name": "stdout",
     "output_type": "stream",
     "text": [
      "Ground Energy: -34.01060\n"
     ]
    }
   ],
   "execution_count": 30
  },
  {
   "metadata": {
    "ExecuteTime": {
     "end_time": "2025-02-22T22:51:42.337712Z",
     "start_time": "2025-02-22T22:51:42.331759Z"
    }
   },
   "cell_type": "code",
   "source": [
    "class Jastrow(nn.Module):\n",
    "    @nn.compact\n",
    "    def __call__(self, x):\n",
    "        n_sites = x.shape[-1]\n",
    "\n",
    "        J = self.param(\"J\", nn.initializers.normal(), (n_sites,n_sites), float)\n",
    "\n",
    "        dtype = jnp.promote_types(J.dtype, x.dtype)\n",
    "        J = J.astype(dtype)\n",
    "        x = x.astype(dtype)\n",
    "\n",
    "        J_symm = J.T + J\n",
    "        log_amplitude = jnp.einsum(\"...i,ij,...j\", x, J_symm, x)\n",
    "\n",
    "        return log_amplitude"
   ],
   "id": "111ff3010343a30b",
   "outputs": [],
   "execution_count": 31
  },
  {
   "metadata": {
    "ExecuteTime": {
     "end_time": "2025-02-22T23:11:51.435411Z",
     "start_time": "2025-02-22T23:11:51.237747Z"
    }
   },
   "cell_type": "code",
   "source": [
    "# the hamiltonians need to be netket.operator._pauli_strings.jax.PauliStringsJax jax compilation\n",
    "# the method still works with netket.operator._ising.numba.Ising, but .get_conn_padded() is numba based\n",
    "\n",
    "\n",
    "def get_local_energies(model, params, h_jax, state_sample_batch):\n",
    "    conn_states_batch, conn_values_batch = h_jax.get_conn_padded(state_sample_batch)\n",
    "\n",
    "    log_psi_sample_batch = model.apply(params, state_sample_batch)\n",
    "    log_psi_conn_batch = model.apply(params, conn_states_batch)\n",
    "\n",
    "    # for each sample state we have multiple connected states, we need to broadcast log_psi_sample\n",
    "    log_psi_sample_batch = jnp.expand_dims(log_psi_sample_batch, axis=-1)\n",
    "\n",
    "    local_energy_batch = jnp.sum(conn_values_batch * jnp.exp(log_psi_conn_batch - log_psi_sample_batch), axis=-1)\n",
    "    return local_energy_batch\n",
    "\n",
    "\n",
    "@partial(jax.jit, static_argnames='model')\n",
    "def estimate_energy_grad(model, params, h_jax, state_sample_batch):\n",
    "    state_sample_flat = state_sample_batch.reshape(-1, state_sample_batch.shape[-1])\n",
    "    local_energy_flat = get_local_energies(model, params, h_jax, state_sample_flat)\n",
    "\n",
    "    energy = jnp.mean(local_energy_flat)\n",
    "\n",
    "    log_psi_fun = lambda p : model.apply(p, state_sample_flat)\n",
    "    _, log_psi_vjp = jax.vjp(log_psi_fun, params)\n",
    "\n",
    "    local_energy_fluctuations = (local_energy_flat - energy) / local_energy_flat.size\n",
    "    energy_grad = log_psi_vjp(local_energy_fluctuations)[0]\n",
    "\n",
    "    return energy, energy_grad"
   ],
   "id": "ce324fbb53348a06",
   "outputs": [],
   "execution_count": 63
  },
  {
   "metadata": {
    "ExecuteTime": {
     "end_time": "2025-02-22T23:53:53.066270Z",
     "start_time": "2025-02-22T23:53:53.061668Z"
    }
   },
   "cell_type": "code",
   "source": [
    "class ExpChainLengthSchedule:\n",
    "    def __init__(self, start: int, end: int, n_steps: int):\n",
    "        self.start = start\n",
    "        self.end = end\n",
    "        self.n_steps = n_steps\n",
    "        self.log_start = np.log(start)\n",
    "        self.log_end = np.log(end)\n",
    "\n",
    "    def get(self, step: int) -> int:\n",
    "        progress = step / (self.n_steps - 1)\n",
    "        return int(np.exp(self.log_start + progress * (self.log_end - self.log_start)))"
   ],
   "id": "3496c6089d200106",
   "outputs": [],
   "execution_count": 69
  },
  {
   "metadata": {
    "ExecuteTime": {
     "end_time": "2025-02-22T23:53:57.458627Z",
     "start_time": "2025-02-22T23:53:55.794039Z"
    }
   },
   "cell_type": "code",
   "source": [
    "parallel_sample_chains = 40\n",
    "initial_chain_length = 500\n",
    "final_chain_length = 5000\n",
    "\n",
    "episodes = 300\n",
    "initial_lr = 0.01\n",
    "lr_decay = 0.6\n",
    "lr_decay_steps = 50\n",
    "adamw_weight_decay = 1e-4\n",
    "adamw_beta1 = 0.6\n",
    "adamw_beta2 = 0.99\n",
    "\n",
    "expected_jastrow_factor = 0.02\n",
    "\n",
    "\n",
    "# initialize the model\n",
    "model = Jastrow()\n",
    "key, subkey = jax.random.split(jax.random.PRNGKey(0))\n",
    "parameters = model.init(key, expected_jastrow_factor * jax.random.normal(subkey, shape=(hi.size,)))\n",
    "\n",
    "# initialize the learning rate schedule and the optimizer\n",
    "lr_schedule = optax.exponential_decay(init_value=initial_lr, transition_steps=lr_decay_steps, decay_rate=lr_decay)\n",
    "optimizer = optax.adamw(learning_rate=lr_schedule, weight_decay=adamw_weight_decay, b1=adamw_beta1, b2=adamw_beta2)\n",
    "opt_state = optimizer.init(parameters)\n",
    "\n",
    "# initialize the Markov sampler and the chain length schedule\n",
    "sampler = nk.sampler.MetropolisSampler(hi, nk.sampler.rules.LocalRule(), n_chains=parallel_sample_chains)\n",
    "sampler_state = sampler.init_state(model, parameters, seed=1)\n",
    "chain_length_schedule = ExpChainLengthSchedule(initial_chain_length, final_chain_length, episodes)\n",
    "\n",
    "\n",
    "# training loop\n",
    "logger = nk.logging.RuntimeLog()\n",
    "for i in tqdm(range(episodes)):\n",
    "\n",
    "    # sample states\n",
    "    chain_length = chain_length_schedule.get(i) // sampler.n_chains\n",
    "    sampler_state = sampler.reset(model, parameters, state=sampler_state)\n",
    "    samples, sampler_state = sampler.sample(model, parameters, state=sampler_state, chain_length=chain_length)\n",
    "\n",
    "    # compute energy and gradient and update parameters\n",
    "    energy, energy_grad = estimate_energy_grad(model, parameters, h_jax, samples)\n",
    "    updates, opt_state = optimizer.update(energy_grad, opt_state, parameters)\n",
    "    parameters = optax.apply_updates(parameters, updates)\n",
    "\n",
    "    logger(step=i, item={'Energy': energy})"
   ],
   "id": "c759efc027b26df8",
   "outputs": [
    {
     "name": "stderr",
     "output_type": "stream",
     "text": [
      "100%|██████████| 300/300 [00:01<00:00, 182.04it/s]\n"
     ]
    }
   ],
   "execution_count": 70
  },
  {
   "metadata": {
    "ExecuteTime": {
     "end_time": "2025-02-22T23:54:02.438532Z",
     "start_time": "2025-02-22T23:54:02.261864Z"
    }
   },
   "cell_type": "code",
   "source": [
    "plt.figure()\n",
    "plt.semilogy(logger.data['Energy']['iters'], np.abs(logger.data['Energy']['value'] - ground_energy))\n",
    "plt.show()"
   ],
   "id": "ec858cd739bc8423",
   "outputs": [
    {
     "data": {
      "text/plain": [
       "<Figure size 640x480 with 1 Axes>"
      ],
      "image/png": "[encoded data removed]"
     },
     "metadata": {},
     "output_type": "display_data"
    }
   ],
   "execution_count": 71
  },
  {
   "metadata": {
    "ExecuteTime": {
     "end_time": "2025-02-22T23:54:04.907555Z",
     "start_time": "2025-02-22T23:54:04.904166Z"
    }
   },
   "cell_type": "code",
   "source": [
    "energy_convergence = np.mean(logger.data['Energy']['value'][-10:])\n",
    "print(f\"Final Energy: {energy_convergence:.5f}\")"
   ],
   "id": "e6af783c483eede2",
   "outputs": [
    {
     "name": "stdout",
     "output_type": "stream",
     "text": [
      "Final Energy: -33.97223\n"
     ]
    }
   ],
   "execution_count": 72
  }
 ],
 "metadata": {
  "kernelspec": {
   "display_name": "Python 3",
   "language": "python",
   "name": "python3"
  },
  "language_info": {
   "codemirror_mode": {
    "name": "ipython",
    "version": 2
   },
   "file_extension": ".py",
   "mimetype": "text/x-python",
   "name": "python",
   "nbconvert_exporter": "python",
   "pygments_lexer": "ipython2",
   "version": "2.7.6"
  }
 },
 "nbformat": 4,
 "nbformat_minor": 5
}
