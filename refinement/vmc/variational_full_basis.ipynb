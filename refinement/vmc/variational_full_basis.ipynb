{
 "cells": [
  {
   "cell_type": "code",
   "id": "initial_id",
   "metadata": {
    "collapsed": true,
    "ExecuteTime": {
     "end_time": "2025-02-11T22:58:46.836062Z",
     "start_time": "2025-02-11T22:58:46.831105Z"
    }
   },
   "source": [
    "import netket as nk\n",
    "import numpy as np\n",
    "\n",
    "import jax.numpy as jnp\n",
    "from flax import linen as nn # flax is library that brings a more pytorch-like API to JAX"
   ],
   "outputs": [],
   "execution_count": 10
  },
  {
   "metadata": {
    "ExecuteTime": {
     "end_time": "2025-02-11T20:46:34.023456Z",
     "start_time": "2025-02-11T20:46:34.017088Z"
    }
   },
   "cell_type": "code",
   "source": [
    "# defining the hamiltonian on a 4x4 spin lattice\n",
    "\n",
    "g = nk.graph.Hypercube(length=4, n_dim=2, pbc=True)\n",
    "hi = nk.hilbert.Spin(s=1/2, N=g.n_nodes)\n",
    "\n",
    "# netket already provides a function to create the hamiltonian for the ising model\n",
    "h = nk.operator.Ising(hi, g, h=1.0, J=1.0, dtype=complex)"
   ],
   "id": "f6910682b67e2d10",
   "outputs": [],
   "execution_count": 9
  },
  {
   "metadata": {},
   "cell_type": "markdown",
   "source": "",
   "id": "f6563b31a91dcc05"
  },
  {
   "metadata": {},
   "cell_type": "code",
   "outputs": [],
   "execution_count": null,
   "source": [
    "# jastrow ansatz\n",
    "\n",
    "class Jastrow(nn.Module):\n",
    "    @nn.compact\n",
    "    def __call__(self, x):\n",
    "        n_sites = x.shape[-1]\n",
    "\n",
    "        J = self.param(\"J\", nn.initializers.normal(), (n_sites,n_sites), float)\n",
    "\n",
    "        # gets the more restrictive type between the two, we don't know whether the initializer supports x.dtype\n",
    "        dtype = jnp.promote_types(J.dtype, x.dtype)\n",
    "        J = J.astype(dtype)\n",
    "        x = x.astype(dtype)\n",
    "\n",
    "        # the initialization of J is not symmetric, so we symmetrize it\n",
    "        J_symm = J.T + J\n",
    "\n",
    "        # einstein summation iterating over all possible pairs of spins ensuring that we have the matching indices for J\n",
    "        total_prob = jnp.einsum(\"...i,ij,...j\", x, J_symm, x)\n",
    "        return total_prob"
   ],
   "id": "3302847b27f8627a"
  }
 ],
 "metadata": {
  "kernelspec": {
   "display_name": "Python 3",
   "language": "python",
   "name": "python3"
  },
  "language_info": {
   "codemirror_mode": {
    "name": "ipython",
    "version": 2
   },
   "file_extension": ".py",
   "mimetype": "text/x-python",
   "name": "python",
   "nbconvert_exporter": "python",
   "pygments_lexer": "ipython2",
   "version": "2.7.6"
  }
 },
 "nbformat": 4,
 "nbformat_minor": 5
}
