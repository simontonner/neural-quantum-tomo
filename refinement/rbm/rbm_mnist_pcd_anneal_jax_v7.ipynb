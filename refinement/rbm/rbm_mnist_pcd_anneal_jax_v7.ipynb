{
 "cells": [
  {
   "metadata": {
    "ExecuteTime": {
     "end_time": "2025-03-28T18:58:17.797920Z",
     "start_time": "2025-03-28T18:58:17.792533Z"
    }
   },
   "cell_type": "code",
   "source": [
    "import numpy as np\n",
    "\n",
    "import jax\n",
    "import jax.lax\n",
    "from jax.random import PRNGKey\n",
    "import jax.numpy as jnp\n",
    "import flax.linen as nn\n",
    "import optax\n",
    "from flax.training import train_state\n",
    "\n",
    "import functools\n",
    "\n",
    "from load_mnist import download_mnist_if_needed, load_images, load_labels\n",
    "\n",
    "import matplotlib.pyplot as plt\n",
    "\n",
    "\n",
    "data_dir = \"./data\"\n",
    "device = jax.devices('cpu')[0]\n",
    "\n",
    "print(f\"Data resides in        : {data_dir}\")\n",
    "print(f\"Training model on      : {str(device)}\")"
   ],
   "id": "27c3d547f23b4972",
   "outputs": [
    {
     "name": "stdout",
     "output_type": "stream",
     "text": [
      "Data resides in        : ./data\n",
      "Training model on      : TFRT_CPU_0\n"
     ]
    }
   ],
   "execution_count": 11
  },
  {
   "metadata": {
    "ExecuteTime": {
     "end_time": "2025-03-28T18:58:18.250268Z",
     "start_time": "2025-03-28T18:58:17.811089Z"
    }
   },
   "cell_type": "code",
   "source": [
    "def preprocess(x):\n",
    "    x = x.astype(np.float32) / 255.0    # normalize to [0, 1]\n",
    "    x = x > 0.5                         # binarize\n",
    "    x = x.reshape(x.shape[0], -1)       # flatten for RBM\n",
    "    x = jnp.array(x, dtype=jnp.float32) # use jax numpy array of dtype float32, because RBM has float32 params\n",
    "    return x\n",
    "\n",
    "\n",
    "data_paths = download_mnist_if_needed(root=data_dir, train_only=True)\n",
    "x_train_raw = load_images(data_paths['train_images'])\n",
    "y_train = load_labels(data_paths['train_labels'])\n",
    "\n",
    "x_train = preprocess(x_train_raw)\n",
    "print(f\"x_train dtype: {x_train.dtype}, shape: {x_train.shape}\")\n",
    "print(f\"x_train min: {x_train.min()}, max: {x_train.max()}\")"
   ],
   "id": "dc789a9d880e97c0",
   "outputs": [
    {
     "name": "stdout",
     "output_type": "stream",
     "text": [
      "x_train dtype: float32, shape: (60000, 784)\n",
      "x_train min: 0.0, max: 1.0\n"
     ]
    }
   ],
   "execution_count": 12
  },
  {
   "metadata": {
    "ExecuteTime": {
     "end_time": "2025-03-28T18:58:18.283256Z",
     "start_time": "2025-03-28T18:58:18.276734Z"
    }
   },
   "cell_type": "code",
   "source": [
    "class RBM(nn.Module):\n",
    "    n_visible: int\n",
    "    n_hidden: int\n",
    "    k: int = 1\n",
    "\n",
    "    @nn.compact\n",
    "    def __call__(self, data_batch: jnp.ndarray, v_persistent: jnp.ndarray, rng: PRNGKey) -> (jnp.ndarray, jnp.ndarray):\n",
    "        # in flax, __call__ is the main computation to be differentiated.\n",
    "\n",
    "        # initialize parameters in @nn.compact style:\n",
    "        W = self.param(\"W\", nn.initializers.normal(0.01), (self.n_visible, self.n_hidden))\n",
    "        b = self.param(\"b\", nn.initializers.zeros,        (self.n_visible,))\n",
    "        c = self.param(\"c\", nn.initializers.zeros,        (self.n_hidden,))\n",
    "        params = {\"W\": W, \"b\": b, \"c\": c}\n",
    "\n",
    "        # gibbs sampling only refines the fantasy particles, we are actually not interested in the gradients\n",
    "        v_k, key = self._gibbs_sample(params, v_persistent, rng, k=self.k)\n",
    "        v_k = jax.lax.stop_gradient(v_k)\n",
    "\n",
    "        # we are interested in the gradients of the free energy w.r.t. the parameters\n",
    "        free_energy_data  = self._free_energy(params, data_batch)\n",
    "        free_energy_model = self._free_energy(params, v_k)\n",
    "\n",
    "        pcd_loss = jnp.mean(free_energy_data) - jnp.mean(free_energy_model)\n",
    "        # since this is a pcd loss function, we also return the updated fantasy particles. and we also pass through the key\n",
    "        # since JAX’s tree utilities flatten nested tuples we need to wrap the auxiliary variables in a container\n",
    "        aux_vars = {\"v_persistent\": v_k, \"key\": key}\n",
    "\n",
    "        return pcd_loss, aux_vars\n",
    "\n",
    "    @staticmethod\n",
    "    def _free_energy(params, v):\n",
    "        W, b, c = params[\"W\"], params[\"b\"], params[\"c\"]\n",
    "\n",
    "        visible_term = jnp.dot(v, b)\n",
    "        hidden_term  = jnp.sum(jax.nn.softplus(v @ W + c), axis=-1)\n",
    "        free_energy = -visible_term - hidden_term\n",
    "        return free_energy\n",
    "\n",
    "    @staticmethod\n",
    "    def _gibbs_step(i, state, params, T=1.0):\n",
    "        v, key = state\n",
    "        W, b, c = params[\"W\"], params[\"b\"], params[\"c\"]\n",
    "\n",
    "        # splitting generates different random numbers for each step, one of them is passed on\n",
    "        key, h_key, v_key = jax.random.split(key, 3)\n",
    "\n",
    "        h_probs = jax.nn.sigmoid(v @ W + c)\n",
    "        h = jax.random.bernoulli(h_key, h_probs).astype(jnp.float32)\n",
    "\n",
    "        v_probs = jax.nn.sigmoid(h @ W.T + b)\n",
    "        v = jax.random.bernoulli(v_key, v_probs).astype(jnp.float32)\n",
    "        return v, key\n",
    "\n",
    "    @staticmethod\n",
    "    def _gibbs_sample(params, v_init, rng, k=1, T=1.0):\n",
    "        # The fori_loop enables JIT compilation of loops. It basically unrolls the loop over the fixed length k.\n",
    "\n",
    "        body_fun = lambda i, state: RBM._gibbs_step(i, state, params, T)\n",
    "        v_final, key = jax.lax.fori_loop(0, k, body_fun, (v_init, rng))\n",
    "        return v_final, key"
   ],
   "id": "3d8fb14ccceb3134",
   "outputs": [],
   "execution_count": 13
  },
  {
   "metadata": {
    "ExecuteTime": {
     "end_time": "2025-03-28T18:58:18.291759Z",
     "start_time": "2025-03-28T18:58:18.288042Z"
    }
   },
   "cell_type": "code",
   "source": [
    "class RBMTrainState(train_state.TrainState):\n",
    "    \"\"\"\n",
    "    A value object bundling parameters and optimizer state for training.\n",
    "    It has a few pre-defined fields to be used in the training loop.\n",
    "    Since it is immutable, the training function needs to return a new instance after each update step.\n",
    "    \"\"\"\n",
    "    pass\n",
    "\n",
    "\n",
    "@functools.partial(jax.jit)\n",
    "def train_step(state: RBMTrainState, data_batch: jnp.ndarray, v_persistent: jnp.ndarray, key: PRNGKey):\n",
    "\n",
    "    # only the 'params' argument remains a variable to be differentiated\n",
    "    pcd_loss_fn = lambda params: state.apply_fn({'params': params}, data_batch, v_persistent, key)\n",
    "\n",
    "    # since our pc_loss_fn also returns the updated fantasy particles, we need to use has_aux=True\n",
    "    value_and_grad_fn = jax.value_and_grad(pcd_loss_fn, has_aux=True)\n",
    "    (pcd_loss, aux_vars), pdc_loss_grads = value_and_grad_fn(state.params)\n",
    "\n",
    "    # apply the gradients to the state, this actually updates the optimizer state\n",
    "    new_state = state.apply_gradients(grads=pdc_loss_grads)\n",
    "    v_persistent = aux_vars[\"v_persistent\"]\n",
    "    key = aux_vars[\"key\"]\n",
    "\n",
    "    return new_state, pcd_loss, v_persistent, key"
   ],
   "id": "1b51378d6510ce29",
   "outputs": [],
   "execution_count": 14
  },
  {
   "metadata": {
    "ExecuteTime": {
     "end_time": "2025-03-28T18:58:21.967459Z",
     "start_time": "2025-03-28T18:58:21.449294Z"
    }
   },
   "cell_type": "code",
   "source": [
    "# Instantiate the RBM model using the number of visible units from x_train and a chosen number of hidden units.\n",
    "n_visible = x_train.shape[1]\n",
    "n_hidden = 100  # you can adjust this number\n",
    "rbm = RBM(n_visible=n_visible, n_hidden=n_hidden)\n",
    "\n",
    "# Initialize the random key and create a mini-batch for training.\n",
    "rng = PRNGKey(0)\n",
    "batch_size = 64\n",
    "data_batch = x_train[:batch_size]\n",
    "\n",
    "# Initialize the persistent chain (here we use a random binarized array with the same shape as the batch)\n",
    "rng, subkey = jax.random.split(rng)\n",
    "v_persistent = jax.random.bernoulli(subkey, p=0.5, shape=data_batch.shape).astype(jnp.float32)\n",
    "\n",
    "# Initialize model parameters. Note that we pass two copies of rng: one for parameter init and one for the call.\n",
    "params = rbm.init(rng, data_batch, v_persistent, rng)['params']\n",
    "\n",
    "# Define an optimizer (Adam in this case) and create the training state.\n",
    "optimizer = optax.adam(learning_rate=0.001)\n",
    "state = RBMTrainState.create(apply_fn=rbm.apply, params=params, tx=optimizer)\n",
    "\n",
    "# Run one training step.\n",
    "state, pcd_loss, v_persistent, rng = train_step(state, data_batch, v_persistent, rng)\n",
    "\n",
    "print(\"PCD Loss:\", pcd_loss)\n",
    "print(\"Updated persistent chain shape:\", v_persistent.shape)"
   ],
   "id": "ededcb27224b2925",
   "outputs": [
    {
     "name": "stdout",
     "output_type": "stream",
     "text": [
      "PCD Loss: 1.1661682\n",
      "Updated persistent chain shape: (64, 784)\n"
     ]
    }
   ],
   "execution_count": 15
  },
  {
   "metadata": {
    "ExecuteTime": {
     "end_time": "2025-03-28T20:06:06.095123Z",
     "start_time": "2025-03-28T20:04:45.971882Z"
    }
   },
   "cell_type": "code",
   "source": [
    "class DataLoader:\n",
    "    def __init__(self, x, y, batch_size=128, shuffle=True):\n",
    "        self.x = x\n",
    "        self.y = y\n",
    "        self.batch_size = batch_size\n",
    "        self.shuffle = shuffle\n",
    "        self.n_samples = x.shape[0]\n",
    "\n",
    "    def __iter__(self):\n",
    "        indices = np.arange(self.n_samples)\n",
    "        if self.shuffle:\n",
    "            np.random.shuffle(indices)\n",
    "        for start in range(0, self.n_samples, self.batch_size):\n",
    "            excerpt = indices[start:start + self.batch_size]\n",
    "            yield self.x[excerpt], self.y[excerpt]\n",
    "\n",
    "    def __len__(self):\n",
    "        return -(-self.n_samples // self.batch_size)  # ceiling division\n",
    "\n",
    "\n",
    "\n",
    "\n",
    "def train_rbm(state: RBMTrainState, train_loader, num_epochs: int, rng: PRNGKey, pcd_reset: int = 5, scheduler=None):\n",
    "    metrics = {}\n",
    "\n",
    "    for epoch in range(num_epochs):\n",
    "        total_loss = 0.0\n",
    "        batch_count = 0\n",
    "\n",
    "        for batch_idx, (data, labels) in enumerate(train_loader):\n",
    "\n",
    "            # reset the persistent chain every N batches\n",
    "            if batch_idx % pcd_reset == 0:\n",
    "                rng, subkey = jax.random.split(rng)\n",
    "                v_persistent = jax.random.bernoulli(subkey, p=0.5, shape=data.shape).astype(jnp.float32)\n",
    "\n",
    "            # Run one train step: train_step returns updated state, loss, new persistent chain, and new key.\n",
    "            state, loss, v_persistent, rng = train_step(state, data, v_persistent, rng)\n",
    "            total_loss += loss\n",
    "            batch_count += 1\n",
    "\n",
    "        avg_loss = total_loss / len(train_loader)\n",
    "        metrics[epoch] = {\"free_energy_loss\": float(avg_loss)}\n",
    "        print(f\"Epoch [{epoch+1}/{num_epochs}] - Free Energy Loss: {avg_loss:.4f}\")\n",
    "\n",
    "    return state, metrics, rng\n",
    "# --- TRAINING SETUP ---\n",
    "batch_size    = 128\n",
    "visible_units = 28 * 28\n",
    "hidden_units  = 256\n",
    "k_steps       = 1\n",
    "lr            = 1e-3\n",
    "num_epochs    = 40\n",
    "pcd_reset     = 75        # reset persistent chain every N batches\n",
    "weight_decay  = 1e-5      # if needed; see optax.add_decayed_weights\n",
    "lr_decay      = 0.95      # not used explicitly here\n",
    "\n",
    "# Instantiate the RBM with desired number of Gibbs steps.\n",
    "rbm = RBM(n_visible=visible_units, n_hidden=hidden_units, k=k_steps)\n",
    "\n",
    "# Create a random key and a mini-batch to initialize parameters. Jay requires one forward pass to initialize parameters.\n",
    "rng = PRNGKey(0)\n",
    "dummy_batch = x_train[:batch_size]\n",
    "rng, subkey = jax.random.split(rng)\n",
    "v_persistent = jax.random.bernoulli(subkey, p=0.5, shape=dummy_batch.shape).astype(jnp.float32)\n",
    "params = rbm.init(rng, dummy_batch, v_persistent, rng)['params']\n",
    "\n",
    "train_loader = DataLoader(x_train, y_train, batch_size=batch_size, shuffle=True)\n",
    "\n",
    "\n",
    "steps_per_epoch = -(-x_train.shape[0] // batch_size)\n",
    "lr_schedule = optax.exponential_decay(init_value=lr, transition_steps=steps_per_epoch, decay_rate=lr_decay, staircase=True)\n",
    "optimizer = optax.adam(learning_rate=lr_schedule)\n",
    "state = RBMTrainState.create(apply_fn=rbm.apply, params=params, tx=optimizer)\n",
    "\n",
    "state, metrics, rng = train_rbm(state, train_loader, num_epochs, rng, pcd_reset=pcd_reset, scheduler=lr_schedule)"
   ],
   "id": "715014dd35fe8f44",
   "outputs": [
    {
     "name": "stdout",
     "output_type": "stream",
     "text": [
      "Epoch [1/40] - Free Energy Loss: -84.9521\n",
      "Epoch [2/40] - Free Energy Loss: -147.5348\n",
      "Epoch [3/40] - Free Energy Loss: -226.5374\n",
      "Epoch [4/40] - Free Energy Loss: -213.5051\n",
      "Epoch [5/40] - Free Energy Loss: -189.7616\n",
      "Epoch [6/40] - Free Energy Loss: -168.3109\n",
      "Epoch [7/40] - Free Energy Loss: -108.6890\n",
      "Epoch [8/40] - Free Energy Loss: -103.4832\n",
      "Epoch [9/40] - Free Energy Loss: -81.6041\n",
      "Epoch [10/40] - Free Energy Loss: -72.4993\n",
      "Epoch [11/40] - Free Energy Loss: -66.2073\n",
      "Epoch [12/40] - Free Energy Loss: -68.4737\n",
      "Epoch [13/40] - Free Energy Loss: -65.2209\n",
      "Epoch [14/40] - Free Energy Loss: -63.8241\n",
      "Epoch [15/40] - Free Energy Loss: -58.2643\n",
      "Epoch [16/40] - Free Energy Loss: -57.2664\n",
      "Epoch [17/40] - Free Energy Loss: -54.4972\n",
      "Epoch [18/40] - Free Energy Loss: -51.9996\n",
      "Epoch [19/40] - Free Energy Loss: -51.5072\n",
      "Epoch [20/40] - Free Energy Loss: -49.0235\n",
      "Epoch [21/40] - Free Energy Loss: -48.5303\n",
      "Epoch [22/40] - Free Energy Loss: -47.6722\n",
      "Epoch [23/40] - Free Energy Loss: -45.4043\n",
      "Epoch [24/40] - Free Energy Loss: -43.1080\n",
      "Epoch [25/40] - Free Energy Loss: -41.8541\n",
      "Epoch [26/40] - Free Energy Loss: -38.5849\n",
      "Epoch [27/40] - Free Energy Loss: -40.4328\n",
      "Epoch [28/40] - Free Energy Loss: -39.7392\n",
      "Epoch [29/40] - Free Energy Loss: -40.6671\n",
      "Epoch [30/40] - Free Energy Loss: -40.5139\n",
      "Epoch [31/40] - Free Energy Loss: -38.8771\n",
      "Epoch [32/40] - Free Energy Loss: -39.3127\n",
      "Epoch [33/40] - Free Energy Loss: -39.3527\n",
      "Epoch [34/40] - Free Energy Loss: -39.7860\n",
      "Epoch [35/40] - Free Energy Loss: -37.7211\n",
      "Epoch [36/40] - Free Energy Loss: -38.6211\n",
      "Epoch [37/40] - Free Energy Loss: -40.0072\n",
      "Epoch [38/40] - Free Energy Loss: -38.1286\n",
      "Epoch [39/40] - Free Energy Loss: -38.9145\n",
      "Epoch [40/40] - Free Energy Loss: -37.8617\n"
     ]
    }
   ],
   "execution_count": 27
  },
  {
   "metadata": {
    "ExecuteTime": {
     "end_time": "2025-03-28T20:06:43.398214Z",
     "start_time": "2025-03-28T20:06:43.291389Z"
    }
   },
   "cell_type": "code",
   "source": [
    "plt.plot([abs(metrics[epoch]['free_energy_loss']) for epoch in metrics])\n",
    "plt.xlabel(\"Epoch\")\n",
    "plt.ylabel(\"Free Energy Loss\")"
   ],
   "id": "839b99523b0b423f",
   "outputs": [
    {
     "data": {
      "text/plain": [
       "Text(0, 0.5, 'Free Energy Loss')"
      ]
     },
     "execution_count": 28,
     "metadata": {},
     "output_type": "execute_result"
    },
    {
     "data": {
      "text/plain": [
       "<Figure size 640x480 with 1 Axes>"
      ],
      "image/png": "[encoded data removed]"
     },
     "metadata": {},
     "output_type": "display_data"
    }
   ],
   "execution_count": 28
  },
  {
   "metadata": {},
   "cell_type": "code",
   "outputs": [],
   "execution_count": null,
   "source": "",
   "id": "f6660c9043960c99"
  }
 ],
 "metadata": {
  "kernelspec": {
   "display_name": "Python 3",
   "language": "python",
   "name": "python3"
  },
  "language_info": {
   "codemirror_mode": {
    "name": "ipython",
    "version": 2
   },
   "file_extension": ".py",
   "mimetype": "text/x-python",
   "name": "python",
   "nbconvert_exporter": "python",
   "pygments_lexer": "ipython2",
   "version": "2.7.6"
  }
 },
 "nbformat": 4,
 "nbformat_minor": 5
}
