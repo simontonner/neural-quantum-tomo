{
 "cells": [
  {
   "metadata": {
    "ExecuteTime": {
     "end_time": "2025-03-27T18:05:48.526926Z",
     "start_time": "2025-03-27T18:05:48.516805Z"
    }
   },
   "cell_type": "code",
   "source": [
    "class RBM(nn.Module):\n",
    "    n_visible: int\n",
    "    n_hidden: int\n",
    "\n",
    "    def setup(self):\n",
    "        self.W = self.param(\"W\", nn.initializers.normal(0.01), (self.n_visible, self.n_hidden))\n",
    "        self.b = self.param(\"b\", nn.initializers.zeros, (self.n_visible,))\n",
    "        self.c = self.param(\"c\", nn.initializers.zeros, (self.n_hidden,))\n",
    "\n",
    "    def _sample_hidden(self, v, T=1.0):\n",
    "        key = self.make_rng(\"sample\")\n",
    "        logits = (v @ self.W + self.c) / T\n",
    "        h_probs = jax.nn.sigmoid(logits)\n",
    "        h_sample = jax.random.bernoulli(key, h_probs)\n",
    "        return h_sample, h_probs\n",
    "\n",
    "    def _sample_visible(self, h, T=1.0):\n",
    "        key = self.make_rng(\"sample\")\n",
    "        logits = (h @ self.W.T + self.b) / T\n",
    "        v_probs = jax.nn.sigmoid(logits)\n",
    "        v_sample = jax.random.bernoulli(key, v_probs)\n",
    "        return v_sample, v_probs\n",
    "\n",
    "    def sample_gibbs(self, v0_sample, k=1, T=1.0):\n",
    "        v = v0_sample\n",
    "        for _ in range(k):\n",
    "            h, _ = self._sample_hidden(v, T)\n",
    "            v, _ = self._sample_visible(h, T)\n",
    "        return v\n",
    "\n",
    "    def free_energy(self, v):\n",
    "        visible_term = jnp.dot(v, self.b)\n",
    "        hidden_term = jnp.sum(jax.nn.softplus(v @ self.W + self.c), axis=1)\n",
    "        return -visible_term - hidden_term\n",
    "\n",
    "    def generate(self, params, n_samples=16, T_schedule=None, seed=0):\n",
    "        key = jax.random.PRNGKey(seed)\n",
    "        rbm = self.bind({\"params\": params}, rngs={\"sample\": key})\n",
    "        v = jax.random.bernoulli(key, shape=(n_samples, self.n_visible)).astype(jnp.float32)\n",
    "\n",
    "        for i, T in enumerate(T_schedule):\n",
    "            key = jax.random.fold_in(key, i)\n",
    "            rbm = rbm.replace_rngs({\"sample\": key})\n",
    "            v = rbm.sample_gibbs(v, k=1, T=T)\n",
    "\n",
    "        return v\n",
    "\n",
    "    def __call__(self, v):\n",
    "        return v # flax linen requires a __call__ method"
   ],
   "id": "a26f03e23997aa6c",
   "outputs": [],
   "execution_count": 37
  },
  {
   "metadata": {},
   "cell_type": "code",
   "outputs": [],
   "execution_count": null,
   "source": "",
   "id": "2ff0b6962c415c3c"
  }
 ],
 "metadata": {
  "kernelspec": {
   "display_name": "Python 3",
   "language": "python",
   "name": "python3"
  },
  "language_info": {
   "codemirror_mode": {
    "name": "ipython",
    "version": 2
   },
   "file_extension": ".py",
   "mimetype": "text/x-python",
   "name": "python",
   "nbconvert_exporter": "python",
   "pygments_lexer": "ipython2",
   "version": "2.7.6"
  }
 },
 "nbformat": 4,
 "nbformat_minor": 5
}
