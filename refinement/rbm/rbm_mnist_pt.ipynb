{
 "cells": [
  {
   "cell_type": "code",
   "id": "initial_id",
   "metadata": {
    "collapsed": true,
    "ExecuteTime": {
     "end_time": "2025-02-23T20:07:59.567805Z",
     "start_time": "2025-02-23T20:07:56.470216Z"
    }
   },
   "source": [
    "import torch\n",
    "import torch.nn as nn\n",
    "from torchvision import datasets, transforms\n",
    "from torch.utils.data import DataLoader\n",
    "\n",
    "import matplotlib.pyplot as plt\n",
    "\n",
    "data_dir = \"./data\"\n",
    "\n",
    "device = torch.device(\"cpu\")\n",
    "\n",
    "if torch.backends.mps.is_available() and torch.backends.mps.is_built():\n",
    "    device = torch.device(\"mps\")\n",
    "\n",
    "if torch.cuda.is_available():\n",
    "    device = torch.device(\"cuda\")\n",
    "\n",
    "print(f\"Data resides in        : {data_dir}\")\n",
    "print(f\"Training model on      : {str(device)}\")"
   ],
   "outputs": [
    {
     "name": "stdout",
     "output_type": "stream",
     "text": [
      "Data resides in        : ./data\n",
      "Training model on      : mps\n"
     ]
    }
   ],
   "execution_count": 1
  },
  {
   "metadata": {
    "ExecuteTime": {
     "end_time": "2025-02-23T20:08:56.310382Z",
     "start_time": "2025-02-23T20:08:47.798687Z"
    }
   },
   "cell_type": "code",
   "source": [
    "def print_samples(samples, elements_per_row=10, fig_width=10, cmap=\"binary\"):\n",
    "    num_digits = len(samples)\n",
    "    num_rows = (num_digits + elements_per_row - 1) // elements_per_row\n",
    "\n",
    "    plt.figure(figsize=(fig_width, fig_width / elements_per_row * num_rows))\n",
    "    for idx, (label, image) in enumerate(samples):\n",
    "        plt.subplot(num_rows, elements_per_row, idx + 1)\n",
    "        plt.imshow(image.squeeze(), cmap=cmap)\n",
    "        plt.title(label, fontsize=12)\n",
    "        plt.axis('off')\n",
    "\n",
    "    plt.tight_layout()\n",
    "    plt.show()\n",
    "\n",
    "\n",
    "# load MNIST and convert it to binary directly in transform\n",
    "transform = transforms.Compose([\n",
    "    transforms.ToTensor(),\n",
    "    transforms.Normalize((0,), (1,)),               # normalize to [0, 1]\n",
    "    transforms.Lambda(lambda x: (x > 0.5).float())  # binarize\n",
    "])\n",
    "\n",
    "train_dataset = datasets.MNIST(root=data_dir, train=True, download=True, transform=transform)\n",
    "test_dataset = datasets.MNIST(root=data_dir, train=False, download=True, transform=transform)\n",
    "\n",
    "sample_list = [(label, next(image for image, lbl in train_dataset if lbl == label)) for label in range(10)]\n",
    "print_samples(sample_list)"
   ],
   "id": "adb7ce537c9e819a",
   "outputs": [
    {
     "name": "stdout",
     "output_type": "stream",
     "text": [
      "Downloading http://yann.lecun.com/exdb/mnist/train-images-idx3-ubyte.gz\n",
      "Failed to download (trying next):\n",
      "HTTP Error 404: Not Found\n",
      "\n",
      "Downloading https://ossci-datasets.s3.amazonaws.com/mnist/train-images-idx3-ubyte.gz\n",
      "Downloading https://ossci-datasets.s3.amazonaws.com/mnist/train-images-idx3-ubyte.gz to ./data/MNIST/raw/train-images-idx3-ubyte.gz\n"
     ]
    },
    {
     "data": {
      "text/plain": [
       "  0%|          | 0/9912422 [00:00<?, ?it/s]"
      ],
      "application/vnd.jupyter.widget-view+json": {
       "version_major": 2,
       "version_minor": 0,
       "model_id": "a067797415c74d91bd9a46ce037a84df"
      }
     },
     "metadata": {},
     "output_type": "display_data"
    },
    {
     "name": "stdout",
     "output_type": "stream",
     "text": [
      "Extracting ./data/MNIST/raw/train-images-idx3-ubyte.gz to ./data/MNIST/raw\n",
      "\n",
      "Downloading http://yann.lecun.com/exdb/mnist/train-labels-idx1-ubyte.gz\n",
      "Failed to download (trying next):\n",
      "HTTP Error 404: Not Found\n",
      "\n",
      "Downloading https://ossci-datasets.s3.amazonaws.com/mnist/train-labels-idx1-ubyte.gz\n",
      "Downloading https://ossci-datasets.s3.amazonaws.com/mnist/train-labels-idx1-ubyte.gz to ./data/MNIST/raw/train-labels-idx1-ubyte.gz\n"
     ]
    },
    {
     "data": {
      "text/plain": [
       "  0%|          | 0/28881 [00:00<?, ?it/s]"
      ],
      "application/vnd.jupyter.widget-view+json": {
       "version_major": 2,
       "version_minor": 0,
       "model_id": "2ffa7a3b99ce4f90aac027e9032d4796"
      }
     },
     "metadata": {},
     "output_type": "display_data"
    },
    {
     "name": "stdout",
     "output_type": "stream",
     "text": [
      "Extracting ./data/MNIST/raw/train-labels-idx1-ubyte.gz to ./data/MNIST/raw\n",
      "\n",
      "Downloading http://yann.lecun.com/exdb/mnist/t10k-images-idx3-ubyte.gz\n",
      "Failed to download (trying next):\n",
      "HTTP Error 404: Not Found\n",
      "\n",
      "Downloading https://ossci-datasets.s3.amazonaws.com/mnist/t10k-images-idx3-ubyte.gz\n",
      "Downloading https://ossci-datasets.s3.amazonaws.com/mnist/t10k-images-idx3-ubyte.gz to ./data/MNIST/raw/t10k-images-idx3-ubyte.gz\n"
     ]
    },
    {
     "data": {
      "text/plain": [
       "  0%|          | 0/1648877 [00:00<?, ?it/s]"
      ],
      "application/vnd.jupyter.widget-view+json": {
       "version_major": 2,
       "version_minor": 0,
       "model_id": "508a9ea911cf4677b830879063f37742"
      }
     },
     "metadata": {},
     "output_type": "display_data"
    },
    {
     "name": "stdout",
     "output_type": "stream",
     "text": [
      "Extracting ./data/MNIST/raw/t10k-images-idx3-ubyte.gz to ./data/MNIST/raw\n",
      "\n",
      "Downloading http://yann.lecun.com/exdb/mnist/t10k-labels-idx1-ubyte.gz\n",
      "Failed to download (trying next):\n",
      "HTTP Error 404: Not Found\n",
      "\n",
      "Downloading https://ossci-datasets.s3.amazonaws.com/mnist/t10k-labels-idx1-ubyte.gz\n",
      "Downloading https://ossci-datasets.s3.amazonaws.com/mnist/t10k-labels-idx1-ubyte.gz to ./data/MNIST/raw/t10k-labels-idx1-ubyte.gz\n"
     ]
    },
    {
     "data": {
      "text/plain": [
       "  0%|          | 0/4542 [00:00<?, ?it/s]"
      ],
      "application/vnd.jupyter.widget-view+json": {
       "version_major": 2,
       "version_minor": 0,
       "model_id": "2b11d0c35e9648cb889a73d115a5ebe5"
      }
     },
     "metadata": {},
     "output_type": "display_data"
    },
    {
     "name": "stdout",
     "output_type": "stream",
     "text": [
      "Extracting ./data/MNIST/raw/t10k-labels-idx1-ubyte.gz to ./data/MNIST/raw\n",
      "\n"
     ]
    },
    {
     "data": {
      "text/plain": [
       "<Figure size 1000x100 with 10 Axes>"
      ],
      "image/png": "[encoded data removed]"
     },
     "metadata": {},
     "output_type": "display_data"
    }
   ],
   "execution_count": 4
  },
  {
   "metadata": {
    "ExecuteTime": {
     "end_time": "2025-02-23T20:09:01.796674Z",
     "start_time": "2025-02-23T20:09:01.788483Z"
    }
   },
   "cell_type": "code",
   "source": [
    "class RBM(nn.Module):\n",
    "    def __init__(self, visible_dim, hidden_dim=128, W_var=0.01, a_val=0.0, b_val=0.0):\n",
    "        super().__init__()\n",
    "        self.W = nn.Parameter(torch.randn(visible_dim, hidden_dim) * W_var)\n",
    "        self.a = nn.Parameter(torch.full((visible_dim,), a_val))\n",
    "        self.b = nn.Parameter(torch.full((hidden_dim,), b_val))\n",
    "\n",
    "    def sample_hidden(self, v):\n",
    "        h_probs = torch.sigmoid(v @ self.W + self.b)\n",
    "        h_sample = torch.bernoulli(h_probs)\n",
    "        return h_probs, h_sample\n",
    "\n",
    "    def sample_visible(self, h):\n",
    "        v_probs = torch.sigmoid(h @ self.W.t() + self.a)\n",
    "        v_sample = torch.bernoulli(v_probs)\n",
    "        return v_probs, v_sample\n",
    "\n",
    "    def sample_gibbs(self, v0_sample, k=1):\n",
    "        # we need to be careful not to run out of synch\n",
    "\n",
    "        vk_probs, vk_sample = v0_sample.clone(), torch.zeros(v0_sample.size())\n",
    "        hk_probs, hk_sample = self.sample_hidden(v0_sample)\n",
    "\n",
    "        for _ in range(k):\n",
    "            vk_probs, vk_sample = self.sample_visible(hk_sample)\n",
    "            hk_probs, hk_sample = self.sample_hidden(vk_sample)\n",
    "\n",
    "        return hk_probs, hk_sample, vk_probs, vk_sample\n",
    "\n",
    "    def contrastive_divergence(self, v0_sample, k=1, lr=0.01):\n",
    "        # positive phase\n",
    "        h0_probs, h0_sample = self.sample_hidden(v0_sample)\n",
    "\n",
    "        # negative phase\n",
    "        hk_probs, _, vk_probs, vk_sample = self.sample_gibbs(v0_sample, k)\n",
    "\n",
    "        # calculate associations (batch_dim vanishes during matrix multiplication)\n",
    "        batch_size = v0_sample.size(0)\n",
    "        positive_association = (v0_sample.T @ h0_probs) / batch_size\n",
    "        negative_association = (vk_sample.T @ hk_probs) / batch_size\n",
    "\n",
    "        # parameter step\n",
    "        self.W.data += lr * (positive_association - negative_association)\n",
    "        self.a.data += lr * (v0_sample.mean(dim=0) - vk_sample.mean(dim=0))\n",
    "        self.b.data += lr * (h0_probs.mean(dim=0) - hk_probs.mean(dim=0))\n",
    "\n",
    "        return vk_sample"
   ],
   "id": "398e9f3123b4b746",
   "outputs": [],
   "execution_count": 5
  },
  {
   "metadata": {
    "ExecuteTime": {
     "end_time": "2025-02-23T20:16:52.202874Z",
     "start_time": "2025-02-23T20:09:03.719679Z"
    }
   },
   "cell_type": "code",
   "source": [
    "hidden_dim = 2048\n",
    "batch_size = 256\n",
    "epochs = 100\n",
    "lr = 0.01\n",
    "gibbs_steps = 1\n",
    "\n",
    "\n",
    "train_loader = DataLoader(train_dataset, batch_size=batch_size, shuffle=True)\n",
    "test_loader = DataLoader(test_dataset, batch_size=batch_size, shuffle=False)\n",
    "\n",
    "\n",
    "visible_dim = train_dataset[0][0].numel()\n",
    "rbm = RBM(visible_dim, hidden_dim).to(device)\n",
    "\n",
    "\n",
    "metrics = {}\n",
    "for epoch in range(epochs):\n",
    "    epoch_loss = 0.0\n",
    "    for batch, _ in train_loader:\n",
    "        flat_batch = batch.view(-1, visible_dim).to(device)\n",
    "\n",
    "        recon_batch = rbm.contrastive_divergence(flat_batch, k=gibbs_steps)\n",
    "\n",
    "        loss = torch.mean(torch.sum((flat_batch - recon_batch) ** 2, dim=1))\n",
    "        epoch_loss += loss.item()\n",
    "\n",
    "    metrics[epoch] = { \"reconstruction_error\": epoch_loss / len(train_loader) }\n",
    "    print(f\"Epoch {epoch + 1}/{epochs} : Loss {metrics[epoch]['reconstruction_error']:.4f}\")"
   ],
   "id": "b0731e921aa2d162",
   "outputs": [
    {
     "name": "stdout",
     "output_type": "stream",
     "text": [
      "Epoch 1/100 : Loss 129.3247\n",
      "Epoch 2/100 : Loss 100.9223\n",
      "Epoch 3/100 : Loss 86.2644\n",
      "Epoch 4/100 : Loss 78.2599\n",
      "Epoch 5/100 : Loss 72.3728\n",
      "Epoch 6/100 : Loss 67.7742\n",
      "Epoch 7/100 : Loss 64.0785\n",
      "Epoch 8/100 : Loss 61.0281\n",
      "Epoch 9/100 : Loss 58.4653\n",
      "Epoch 10/100 : Loss 56.1948\n",
      "Epoch 11/100 : Loss 54.2266\n",
      "Epoch 12/100 : Loss 52.5033\n",
      "Epoch 13/100 : Loss 50.9739\n",
      "Epoch 14/100 : Loss 49.5040\n",
      "Epoch 15/100 : Loss 48.3059\n",
      "Epoch 16/100 : Loss 47.1835\n",
      "Epoch 17/100 : Loss 46.0883\n",
      "Epoch 18/100 : Loss 45.1670\n",
      "Epoch 19/100 : Loss 44.2502\n",
      "Epoch 20/100 : Loss 43.4085\n",
      "Epoch 21/100 : Loss 42.6929\n",
      "Epoch 22/100 : Loss 42.0086\n",
      "Epoch 23/100 : Loss 41.2979\n",
      "Epoch 24/100 : Loss 40.6840\n",
      "Epoch 25/100 : Loss 40.0919\n",
      "Epoch 26/100 : Loss 39.4935\n",
      "Epoch 27/100 : Loss 38.9671\n",
      "Epoch 28/100 : Loss 38.4472\n",
      "Epoch 29/100 : Loss 37.9566\n",
      "Epoch 30/100 : Loss 37.5063\n",
      "Epoch 31/100 : Loss 37.0925\n",
      "Epoch 32/100 : Loss 36.6717\n",
      "Epoch 33/100 : Loss 36.2634\n",
      "Epoch 34/100 : Loss 35.8710\n",
      "Epoch 35/100 : Loss 35.5432\n",
      "Epoch 36/100 : Loss 35.1930\n",
      "Epoch 37/100 : Loss 34.8390\n",
      "Epoch 38/100 : Loss 34.5674\n",
      "Epoch 39/100 : Loss 34.2161\n",
      "Epoch 40/100 : Loss 33.9371\n",
      "Epoch 41/100 : Loss 33.5825\n",
      "Epoch 42/100 : Loss 33.3541\n",
      "Epoch 43/100 : Loss 33.0920\n",
      "Epoch 44/100 : Loss 32.8377\n",
      "Epoch 45/100 : Loss 32.5622\n",
      "Epoch 46/100 : Loss 32.3458\n",
      "Epoch 47/100 : Loss 32.0603\n",
      "Epoch 48/100 : Loss 31.8444\n",
      "Epoch 49/100 : Loss 31.6139\n",
      "Epoch 50/100 : Loss 31.3993\n",
      "Epoch 51/100 : Loss 31.1547\n",
      "Epoch 52/100 : Loss 30.9781\n",
      "Epoch 53/100 : Loss 30.7712\n",
      "Epoch 54/100 : Loss 30.6057\n",
      "Epoch 55/100 : Loss 30.4041\n",
      "Epoch 56/100 : Loss 30.1906\n",
      "Epoch 57/100 : Loss 30.0513\n",
      "Epoch 58/100 : Loss 29.8671\n",
      "Epoch 59/100 : Loss 29.6945\n",
      "Epoch 60/100 : Loss 29.4955\n",
      "Epoch 61/100 : Loss 29.3122\n",
      "Epoch 62/100 : Loss 29.1538\n",
      "Epoch 63/100 : Loss 28.9676\n",
      "Epoch 64/100 : Loss 28.8619\n",
      "Epoch 65/100 : Loss 28.7048\n",
      "Epoch 66/100 : Loss 28.5567\n",
      "Epoch 67/100 : Loss 28.3904\n",
      "Epoch 68/100 : Loss 28.2499\n",
      "Epoch 69/100 : Loss 28.1307\n",
      "Epoch 70/100 : Loss 27.9890\n",
      "Epoch 71/100 : Loss 27.8003\n",
      "Epoch 72/100 : Loss 27.7218\n",
      "Epoch 73/100 : Loss 27.5785\n",
      "Epoch 74/100 : Loss 27.4454\n",
      "Epoch 75/100 : Loss 27.2951\n",
      "Epoch 76/100 : Loss 27.1642\n",
      "Epoch 77/100 : Loss 27.0664\n",
      "Epoch 78/100 : Loss 26.9207\n",
      "Epoch 79/100 : Loss 26.7887\n",
      "Epoch 80/100 : Loss 26.6970\n",
      "Epoch 81/100 : Loss 26.5323\n",
      "Epoch 82/100 : Loss 26.4834\n",
      "Epoch 83/100 : Loss 26.3492\n",
      "Epoch 84/100 : Loss 26.2591\n",
      "Epoch 85/100 : Loss 26.1579\n",
      "Epoch 86/100 : Loss 26.0428\n",
      "Epoch 87/100 : Loss 25.9318\n",
      "Epoch 88/100 : Loss 25.8675\n",
      "Epoch 89/100 : Loss 25.7496\n",
      "Epoch 90/100 : Loss 25.6616\n",
      "Epoch 91/100 : Loss 25.5867\n",
      "Epoch 92/100 : Loss 25.4226\n",
      "Epoch 93/100 : Loss 25.3323\n",
      "Epoch 94/100 : Loss 25.2841\n",
      "Epoch 95/100 : Loss 25.1499\n",
      "Epoch 96/100 : Loss 25.0803\n",
      "Epoch 97/100 : Loss 24.9780\n",
      "Epoch 98/100 : Loss 24.8808\n",
      "Epoch 99/100 : Loss 24.7858\n",
      "Epoch 100/100 : Loss 24.7689\n"
     ]
    }
   ],
   "execution_count": 6
  },
  {
   "metadata": {
    "ExecuteTime": {
     "end_time": "2025-02-23T20:20:49.276396Z",
     "start_time": "2025-02-23T20:20:49.190032Z"
    }
   },
   "cell_type": "code",
   "source": [
    "# only plot the reconstruction_error\n",
    "plt.plot([metrics[epoch]['reconstruction_error'] for epoch in metrics])\n",
    "plt.xlabel(\"Epoch\")\n",
    "plt.ylabel(\"Reconstruction Error\")"
   ],
   "id": "560d2887a7efd6a2",
   "outputs": [
    {
     "data": {
      "text/plain": [
       "Text(0, 0.5, 'Reconstruction Error')"
      ]
     },
     "execution_count": 7,
     "metadata": {},
     "output_type": "execute_result"
    },
    {
     "data": {
      "text/plain": [
       "<Figure size 640x480 with 1 Axes>"
      ],
      "image/png": "[encoded data removed]"
     },
     "metadata": {},
     "output_type": "display_data"
    }
   ],
   "execution_count": 7
  },
  {
   "metadata": {
    "ExecuteTime": {
     "end_time": "2025-02-23T20:20:54.021998Z",
     "start_time": "2025-02-23T20:20:53.006383Z"
    }
   },
   "cell_type": "code",
   "source": [
    "# getting some random samples with noise\n",
    "random_labels = torch.randint(0, 10, (10,))\n",
    "noise_level = 0.1\n",
    "\n",
    "demo_samples = []\n",
    "label_idx = 0\n",
    "\n",
    "for image, lbl in train_dataset:\n",
    "    if label_idx >= len(random_labels):\n",
    "        break\n",
    "\n",
    "    if lbl == random_labels[label_idx]:\n",
    "        demo_samples.append((lbl, image))\n",
    "\n",
    "        noise = torch.rand_like(image)\n",
    "        image[noise < noise_level] = 1 - image[noise < noise_level]\n",
    "\n",
    "        label_idx += 1\n",
    "\n",
    "\n",
    "# performing reconstruction\n",
    "demo_recon_probs = []\n",
    "demo_recon_samples = []\n",
    "with torch.no_grad():\n",
    "    for digit, sample in demo_samples:\n",
    "        flat_sample = sample.view(-1, visible_dim).to(device)\n",
    "\n",
    "        _, _, v_probs, v_sample = rbm.sample_gibbs(flat_sample, k=10)\n",
    "\n",
    "        demo_recon_probs.append((digit, v_probs.view(28, 28).cpu()))\n",
    "        demo_recon_samples.append((digit, v_sample.view(28, 28).cpu()))\n",
    "\n",
    "\n",
    "inverted_demo_recon_probs = [(digit, 1 - v_prob) for digit, v_prob in demo_recon_probs]\n",
    "\n",
    "print_samples(demo_samples, elements_per_row=10, cmap=\"binary\")\n",
    "print_samples(inverted_demo_recon_probs, elements_per_row=10, cmap=\"gray\")\n",
    "print_samples(demo_recon_samples, elements_per_row=10, cmap=\"binary\")"
   ],
   "id": "bd12d97a7ce3f084",
   "outputs": [
    {
     "data": {
      "text/plain": [
       "<Figure size 1000x100 with 10 Axes>"
      ],
      "image/png": "[encoded data removed]"
     },
     "metadata": {},
     "output_type": "display_data"
    },
    {
     "data": {
      "text/plain": [
       "<Figure size 1000x100 with 10 Axes>"
      ],
      "image/png": "[encoded data removed]"
     },
     "metadata": {},
     "output_type": "display_data"
    },
    {
     "data": {
      "text/plain": [
       "<Figure size 1000x100 with 10 Axes>"
      ],
      "image/png": "[encoded data removed]"
     },
     "metadata": {},
     "output_type": "display_data"
    }
   ],
   "execution_count": 8
  },
  {
   "metadata": {
    "ExecuteTime": {
     "end_time": "2025-02-23T20:21:04.309641Z",
     "start_time": "2025-02-23T20:21:03.859857Z"
    }
   },
   "cell_type": "code",
   "source": [
    "# generation starting from random noise\n",
    "generation_steps = 30\n",
    "\n",
    "with torch.no_grad():\n",
    "    random_samples = torch.bernoulli(torch.rand(10, visible_dim)).to(device)\n",
    "    _, _, _, random_recon = rbm.sample_gibbs(random_samples, k=generation_steps)\n",
    "\n",
    "    random_recon = random_recon.view(-1, 28, 28).cpu()\n",
    "\n",
    "print_samples([(f\"Sample {idx}\", sample) for idx, sample in enumerate(random_recon)], elements_per_row=5, cmap=\"gray\")"
   ],
   "id": "288c221fea6cbf36",
   "outputs": [
    {
     "data": {
      "text/plain": [
       "<Figure size 1000x400 with 10 Axes>"
      ],
      "image/png": "[encoded data removed]"
     },
     "metadata": {},
     "output_type": "display_data"
    }
   ],
   "execution_count": 9
  }
 ],
 "metadata": {
  "kernelspec": {
   "display_name": "Python 3",
   "language": "python",
   "name": "python3"
  },
  "language_info": {
   "codemirror_mode": {
    "name": "ipython",
    "version": 2
   },
   "file_extension": ".py",
   "mimetype": "text/x-python",
   "name": "python",
   "nbconvert_exporter": "python",
   "pygments_lexer": "ipython2",
   "version": "2.7.6"
  }
 },
 "nbformat": 4,
 "nbformat_minor": 5
}
