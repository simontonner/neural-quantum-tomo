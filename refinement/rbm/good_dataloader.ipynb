{
 "cells": [
  {
   "metadata": {
    "ExecuteTime": {
     "end_time": "2025-03-27T17:05:43.188157Z",
     "start_time": "2025-03-27T17:05:43.183673Z"
    }
   },
   "cell_type": "code",
   "source": [
    "import jax\n",
    "import jax.numpy as jnp\n",
    "import flax.linen as nn\n",
    "import optax\n",
    "from flax.training import train_state\n",
    "import matplotlib.pyplot as plt\n",
    "\n",
    "import os\n",
    "import gzip\n",
    "import numpy as np\n",
    "import requests\n",
    "from tqdm import tqdm\n",
    "\n",
    "data_dir = \"./data\"\n",
    "device = jax.devices('cpu')[0]\n",
    "print(f\"Data resides in        : {data_dir}\")\n",
    "print(f\"Training model on      : {str(device)}\")"
   ],
   "id": "27c3d547f23b4972",
   "outputs": [
    {
     "name": "stdout",
     "output_type": "stream",
     "text": [
      "Data resides in        : ./data\n",
      "Training model on      : TFRT_CPU_0\n"
     ]
    }
   ],
   "execution_count": 22
  },
  {
   "metadata": {
    "ExecuteTime": {
     "end_time": "2025-03-27T17:08:32.404690Z",
     "start_time": "2025-03-27T17:08:32.391367Z"
    }
   },
   "cell_type": "code",
   "source": [
    "class MNISTDataset:\n",
    "    def __init__(self, root=\"./data\", train=True, download=True, transform=None):\n",
    "        self.root = os.path.join(root, \"MNIST\", \"raw\")\n",
    "        self.train = train\n",
    "        self.transform = transform\n",
    "\n",
    "        self.download_url = \"https://storage.googleapis.com/cvdf-datasets/mnist/\"\n",
    "\n",
    "        self.files = {\n",
    "            \"train_images\": \"train-images-idx3-ubyte.gz\",\n",
    "            \"train_labels\": \"train-labels-idx1-ubyte.gz\",\n",
    "            \"test_images\": \"t10k-images-idx3-ubyte.gz\",\n",
    "            \"test_labels\": \"t10k-labels-idx1-ubyte.gz\",\n",
    "        }\n",
    "\n",
    "        if download:\n",
    "            self._download_if_needed()\n",
    "\n",
    "        img_file = self.files[\"train_images\" if train else \"test_images\"]\n",
    "        lbl_file = self.files[\"train_labels\" if train else \"test_labels\"]\n",
    "\n",
    "        self.images = self._load_images(os.path.join(self.root, img_file))\n",
    "        self.labels = self._load_labels(os.path.join(self.root, lbl_file))\n",
    "\n",
    "    def _download_if_needed(self):\n",
    "        os.makedirs(self.root, exist_ok=True)\n",
    "        for filename in self.files.values():\n",
    "            path = os.path.join(self.root, filename)\n",
    "            if not os.path.exists(path):\n",
    "                print(f\"Downloading {filename}...\")\n",
    "                self._download_file(self.download_url + filename, path)\n",
    "\n",
    "    def _download_file(self, url, path):\n",
    "        response = requests.get(url, stream=True)\n",
    "        if response.status_code == 200:\n",
    "            total_size = int(response.headers.get('content-length', 0))\n",
    "            with open(path, 'wb') as f, tqdm(\n",
    "                    desc=path,\n",
    "                    total=total_size,\n",
    "                    unit='B',\n",
    "                    unit_scale=True,\n",
    "                    unit_divisor=1024,\n",
    "            ) as bar:\n",
    "                for data in response.iter_content(chunk_size=1024):\n",
    "                    f.write(data)\n",
    "                    bar.update(len(data))\n",
    "        else:\n",
    "            print(f\"Failed to download {url}. Status code: {response.status_code}\")\n",
    "\n",
    "    def _load_images(self, path):\n",
    "        with gzip.open(path, 'rb') as f:\n",
    "            f.read(16)\n",
    "            data = np.frombuffer(f.read(), dtype=np.uint8)\n",
    "        return data.reshape(-1, 28, 28)\n",
    "\n",
    "    def _load_labels(self, path):\n",
    "        with gzip.open(path, 'rb') as f:\n",
    "            f.read(8)\n",
    "            return np.frombuffer(f.read(), dtype=np.uint8)\n",
    "\n",
    "    def __len__(self):\n",
    "        return len(self.labels)\n",
    "\n",
    "    def __getitem__(self, index):\n",
    "        image = self.images[index]\n",
    "        label = self.labels[index]\n",
    "        if self.transform is not None:\n",
    "            image = self.transform(image)\n",
    "        return image, label\n",
    "\n",
    "    def __iter__(self):\n",
    "        for i in range(len(self)):\n",
    "            yield self[i]\n",
    "\n",
    "\n",
    "class DataLoader:\n",
    "    def __init__(self, dataset, batch_size, shuffle=True, drop_last=False):\n",
    "        self.dataset = dataset\n",
    "        self.batch_size = batch_size\n",
    "        self.shuffle = shuffle\n",
    "        self.drop_last = drop_last\n",
    "        self.indices = np.arange(len(dataset))\n",
    "\n",
    "    def __iter__(self):\n",
    "        if self.shuffle:\n",
    "            np.random.shuffle(self.indices)\n",
    "\n",
    "        batch = []\n",
    "        for idx in self.indices:\n",
    "            batch.append(self.dataset[idx])\n",
    "            if len(batch) == self.batch_size:\n",
    "                images, labels = zip(*batch)\n",
    "                yield np.stack(images), np.array(labels)\n",
    "                batch = []\n",
    "\n",
    "        if batch and not self.drop_last:\n",
    "            images, labels = zip(*batch)\n",
    "            yield np.stack(images), np.array(labels)\n",
    "\n",
    "    def __len__(self):\n",
    "        return len(self.indices)"
   ],
   "id": "ecea3725e0b7db56",
   "outputs": [],
   "execution_count": 32
  },
  {
   "metadata": {
    "ExecuteTime": {
     "end_time": "2025-03-27T17:08:34.499227Z",
     "start_time": "2025-03-27T17:08:34.172420Z"
    }
   },
   "cell_type": "code",
   "source": [
    "def print_samples(samples, elements_per_row=10, fig_width=10, cmap=\"binary\"):\n",
    "    num_digits = len(samples)\n",
    "    num_rows = (num_digits + elements_per_row - 1) // elements_per_row\n",
    "\n",
    "    plt.figure(figsize=(fig_width, fig_width / elements_per_row * num_rows))\n",
    "    for idx, (label, image) in enumerate(samples):\n",
    "        plt.subplot(num_rows, elements_per_row, idx + 1)\n",
    "        plt.imshow(image.squeeze(), cmap=cmap)\n",
    "        plt.title(label, fontsize=12)\n",
    "        plt.axis('off')\n",
    "\n",
    "    plt.tight_layout()\n",
    "    plt.show()\n",
    "\n",
    "\n",
    "transform = lambda x: (x > 0.5).astype(jnp.float32)\n",
    "\n",
    "train_dataset = MNISTDataset(root=data_dir, train=True, download=True, transform=transform)\n",
    "\n",
    "sample_list = [(label, next(image for image, lbl in train_dataset if lbl == label)) for label in range(10)]\n",
    "print_samples(sample_list)"
   ],
   "id": "ec07a584d05b81d5",
   "outputs": [
    {
     "data": {
      "text/plain": [
       "<Figure size 1000x100 with 10 Axes>"
      ],
      "image/png": "[encoded data removed]"
     },
     "metadata": {},
     "output_type": "display_data"
    }
   ],
   "execution_count": 33
  },
  {
   "metadata": {},
   "cell_type": "code",
   "outputs": [],
   "execution_count": null,
   "source": "",
   "id": "2ff0b6962c415c3c"
  }
 ],
 "metadata": {
  "kernelspec": {
   "display_name": "Python 3",
   "language": "python",
   "name": "python3"
  },
  "language_info": {
   "codemirror_mode": {
    "name": "ipython",
    "version": 2
   },
   "file_extension": ".py",
   "mimetype": "text/x-python",
   "name": "python",
   "nbconvert_exporter": "python",
   "pygments_lexer": "ipython2",
   "version": "2.7.6"
  }
 },
 "nbformat": 4,
 "nbformat_minor": 5
}
