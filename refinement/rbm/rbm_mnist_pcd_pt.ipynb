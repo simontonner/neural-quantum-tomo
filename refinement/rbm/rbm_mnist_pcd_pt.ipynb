{
 "cells": [
  {
   "cell_type": "code",
   "id": "initial_id",
   "metadata": {
    "collapsed": true,
    "ExecuteTime": {
     "end_time": "2025-02-24T10:42:19.132504Z",
     "start_time": "2025-02-24T10:42:19.127900Z"
    }
   },
   "source": [
    "import torch\n",
    "import torch.nn as nn\n",
    "import torch.optim as optim\n",
    "from torchvision import datasets, transforms\n",
    "from torch.utils.data import DataLoader\n",
    "\n",
    "import matplotlib.pyplot as plt\n",
    "\n",
    "data_dir = \"./data\"\n",
    "\n",
    "device = torch.device(\"cpu\")\n",
    "\n",
    "#if torch.backends.mps.is_available() and torch.backends.mps.is_built():\n",
    "#    device = torch.device(\"mps\")\n",
    "\n",
    "if torch.cuda.is_available():\n",
    "    device = torch.device(\"cuda\")\n",
    "\n",
    "print(f\"Data resides in        : {data_dir}\")\n",
    "print(f\"Training model on      : {str(device)}\")"
   ],
   "outputs": [
    {
     "name": "stdout",
     "output_type": "stream",
     "text": [
      "Data resides in        : ./data\n",
      "Training model on      : cpu\n"
     ]
    }
   ],
   "execution_count": 2
  },
  {
   "metadata": {
    "ExecuteTime": {
     "end_time": "2025-02-24T10:42:20.288482Z",
     "start_time": "2025-02-24T10:42:20.032725Z"
    }
   },
   "cell_type": "code",
   "source": [
    "def print_samples(samples, elements_per_row=10, fig_width=10, cmap=\"binary\"):\n",
    "    num_digits = len(samples)\n",
    "    num_rows = (num_digits + elements_per_row - 1) // elements_per_row\n",
    "\n",
    "    plt.figure(figsize=(fig_width, fig_width / elements_per_row * num_rows))\n",
    "    for idx, (label, image) in enumerate(samples):\n",
    "        plt.subplot(num_rows, elements_per_row, idx + 1)\n",
    "        plt.imshow(image.squeeze(), cmap=cmap)\n",
    "        plt.title(label, fontsize=12)\n",
    "        plt.axis('off')\n",
    "\n",
    "    plt.tight_layout()\n",
    "    plt.show()\n",
    "\n",
    "\n",
    "transform = transforms.Compose([\n",
    "    transforms.ToTensor(),\n",
    "    transforms.Normalize((0,), (1,)),               # normalize to [0, 1]\n",
    "    transforms.Lambda(lambda x: (x > 0.5).float())  # binarize\n",
    "])\n",
    "\n",
    "train_dataset = datasets.MNIST(root=data_dir, train=True, download=True, transform=transform)\n",
    "test_dataset = datasets.MNIST(root=data_dir, train=False, download=True, transform=transform)\n",
    "\n",
    "sample_list = [(label, next(image for image, lbl in train_dataset if lbl == label)) for label in range(10)]\n",
    "print_samples(sample_list)"
   ],
   "id": "ec07a584d05b81d5",
   "outputs": [
    {
     "data": {
      "text/plain": [
       "<Figure size 1000x100 with 10 Axes>"
      ],
      "image/png": "[encoded data removed]"
     },
     "metadata": {},
     "output_type": "display_data"
    }
   ],
   "execution_count": 3
  },
  {
   "metadata": {
    "ExecuteTime": {
     "end_time": "2025-02-24T10:42:21.394606Z",
     "start_time": "2025-02-24T10:42:21.387254Z"
    }
   },
   "cell_type": "code",
   "source": [
    "class RBM(nn.Module):\n",
    "    def __init__(self, n_visible, n_hidden):\n",
    "        super().__init__()\n",
    "        self.n_visible = n_visible\n",
    "        self.n_hidden = n_hidden\n",
    "\n",
    "        self.W = nn.Parameter(torch.randn(n_visible, n_hidden) * 0.01)\n",
    "        self.b = nn.Parameter(torch.zeros(n_visible))\n",
    "        self.c = nn.Parameter(torch.zeros(n_hidden))\n",
    "\n",
    "    def sample_hidden(self, v):\n",
    "        h_probs = torch.sigmoid(v @ self.W + self.c)\n",
    "        h_sample = torch.bernoulli(h_probs)\n",
    "        return h_sample, h_probs\n",
    "\n",
    "    def sample_visible(self, h):\n",
    "        v_probs = torch.sigmoid(h @ self.W.t() + self.b)\n",
    "        v_sample = torch.bernoulli(v_probs)\n",
    "        return v_sample, v_probs\n",
    "\n",
    "    def sample_gibbs(self, v0_sample, k=1):\n",
    "        v = v0_sample\n",
    "        for _ in range(k):\n",
    "            h, _ = self.sample_hidden(v)\n",
    "            v, _ = self.sample_visible(h)\n",
    "        return v\n",
    "\n",
    "    def free_energy(self, v):\n",
    "        visible_term = v @ self.b\n",
    "        hidden_term = nn.functional.softplus(v @ self.W + self.c).sum(dim=1)\n",
    "        return -visible_term - hidden_term"
   ],
   "id": "a26f03e23997aa6c",
   "outputs": [],
   "execution_count": 4
  },
  {
   "metadata": {
    "ExecuteTime": {
     "end_time": "2025-02-24T10:59:07.607390Z",
     "start_time": "2025-02-24T10:54:17.550674Z"
    }
   },
   "cell_type": "code",
   "source": [
    "def train_rbm(rbm, train_loader, num_epochs, k, optimizer, scheduler=None):\n",
    "    rbm.train()\n",
    "\n",
    "    persistent_v = torch.bernoulli(torch.rand(batch_size, rbm.n_visible)).to(device)\n",
    "\n",
    "    metrics = {}\n",
    "    for epoch in range(num_epochs):\n",
    "        total_loss = 0.0\n",
    "        for data, _ in train_loader:\n",
    "            data = data.view(-1, rbm.n_visible).to(device)\n",
    "\n",
    "            # positive phase\n",
    "            h0, _ = rbm.sample_hidden(data)\n",
    "\n",
    "            # negative phase using persistent fantasy particles\n",
    "            v_k = rbm.sample_gibbs(persistent_v, k)\n",
    "            persistent_v = v_k.detach()\n",
    "\n",
    "            loss = rbm.free_energy(data).mean() - rbm.free_energy(v_k).mean()\n",
    "\n",
    "            optimizer.zero_grad()\n",
    "            loss.backward()\n",
    "            optimizer.step()\n",
    "\n",
    "            total_loss += loss.item()\n",
    "\n",
    "        if scheduler is not None:\n",
    "            scheduler.step()\n",
    "\n",
    "        metrics[epoch] = { \"free_energy_loss\": total_loss / len(train_loader) }\n",
    "        print(f\"Epoch [{epoch+1}/{num_epochs}] - Free Energy Loss: {total_loss / len(train_loader):.4f}\")\n",
    "\n",
    "    return metrics\n",
    "\n",
    "\n",
    "\n",
    "#### TRAINING\n",
    "\n",
    "batch_size      = 128\n",
    "visible_units   = 28*28\n",
    "hidden_units    = 256\n",
    "k               = 1\n",
    "lr              = 1e-3\n",
    "num_epochs      = 30\n",
    "weight_decay    = 1e-5      # L2 regularization\n",
    "lr_decay        = 0.95      # learning rate decay PER EPOCH\n",
    "\n",
    "\n",
    "train_loader = DataLoader(train_dataset, batch_size=batch_size, shuffle=True, drop_last=True)\n",
    "\n",
    "rbm = RBM(visible_units, hidden_units).to(device)\n",
    "\n",
    "optimizer = optim.Adam(rbm.parameters(), lr=lr, weight_decay=weight_decay)\n",
    "scheduler = optim.lr_scheduler.ExponentialLR(optimizer, gamma=lr_decay)\n",
    "\n",
    "metrics = train_rbm(rbm, train_loader, num_epochs=num_epochs, k=k, optimizer=optimizer, scheduler=scheduler)"
   ],
   "id": "f5593e6dede0a646",
   "outputs": [
    {
     "name": "stdout",
     "output_type": "stream",
     "text": [
      "Epoch [1/30] - Free Energy Loss: -84.3085\n",
      "Epoch [2/30] - Free Energy Loss: -26.6728\n",
      "Epoch [3/30] - Free Energy Loss: -41.5138\n",
      "Epoch [4/30] - Free Energy Loss: -38.7923\n",
      "Epoch [5/30] - Free Energy Loss: -47.2793\n",
      "Epoch [6/30] - Free Energy Loss: -31.5251\n",
      "Epoch [7/30] - Free Energy Loss: -7.0025\n",
      "Epoch [8/30] - Free Energy Loss: -6.0597\n",
      "Epoch [9/30] - Free Energy Loss: -7.8981\n",
      "Epoch [10/30] - Free Energy Loss: -10.0760\n",
      "Epoch [11/30] - Free Energy Loss: -8.5726\n",
      "Epoch [12/30] - Free Energy Loss: -10.1227\n",
      "Epoch [13/30] - Free Energy Loss: -8.9575\n",
      "Epoch [14/30] - Free Energy Loss: -6.9621\n",
      "Epoch [15/30] - Free Energy Loss: -7.4468\n",
      "Epoch [16/30] - Free Energy Loss: -6.9539\n",
      "Epoch [17/30] - Free Energy Loss: -8.8082\n",
      "Epoch [18/30] - Free Energy Loss: -9.4245\n",
      "Epoch [19/30] - Free Energy Loss: -9.5596\n",
      "Epoch [20/30] - Free Energy Loss: -9.4261\n",
      "Epoch [21/30] - Free Energy Loss: -9.0629\n",
      "Epoch [22/30] - Free Energy Loss: -10.0184\n",
      "Epoch [23/30] - Free Energy Loss: -8.8451\n",
      "Epoch [24/30] - Free Energy Loss: -9.9880\n",
      "Epoch [25/30] - Free Energy Loss: -10.3613\n",
      "Epoch [26/30] - Free Energy Loss: -9.5290\n",
      "Epoch [27/30] - Free Energy Loss: -9.8654\n",
      "Epoch [28/30] - Free Energy Loss: -10.5099\n",
      "Epoch [29/30] - Free Energy Loss: -10.1067\n",
      "Epoch [30/30] - Free Energy Loss: -10.4104\n"
     ]
    }
   ],
   "execution_count": 15
  },
  {
   "metadata": {
    "ExecuteTime": {
     "end_time": "2025-02-24T11:00:05.867024Z",
     "start_time": "2025-02-24T11:00:05.789579Z"
    }
   },
   "cell_type": "code",
   "source": [
    "plt.plot([abs(metrics[epoch]['free_energy_loss']) for epoch in metrics])\n",
    "plt.xlabel(\"Epoch\")\n",
    "plt.ylabel(\"Free Energy Loss\")"
   ],
   "id": "6bdff66a79d1eef3",
   "outputs": [
    {
     "data": {
      "text/plain": [
       "Text(0, 0.5, 'Free Energy Loss')"
      ]
     },
     "execution_count": 16,
     "metadata": {},
     "output_type": "execute_result"
    },
    {
     "data": {
      "text/plain": [
       "<Figure size 640x480 with 1 Axes>"
      ],
      "image/png": "[encoded data removed]"
     },
     "metadata": {},
     "output_type": "display_data"
    }
   ],
   "execution_count": 16
  },
  {
   "metadata": {
    "ExecuteTime": {
     "end_time": "2025-02-24T11:00:10.136594Z",
     "start_time": "2025-02-24T11:00:09.623240Z"
    }
   },
   "cell_type": "code",
   "source": [
    "def sample_from_rbm(rbm, n_samples=16, n_steps=100):\n",
    "    rbm.eval()\n",
    "\n",
    "    v = torch.bernoulli(torch.rand(n_samples, rbm.n_visible)).to(device)\n",
    "    with torch.no_grad():\n",
    "        v = rbm.sample_gibbs(v, n_steps)\n",
    "    return v.cpu().view(-1, 1, 28, 28)\n",
    "\n",
    "#### GENERATION\n",
    "\n",
    "fantasy_images = sample_from_rbm(rbm, n_samples=15, n_steps=200)\n",
    "labeled_samples = [(f\"Fantasy {idx+1}\", img) for idx, img in enumerate(fantasy_images)]\n",
    "\n",
    "print_samples(labeled_samples, elements_per_row=5, fig_width=10, cmap=\"gray\")"
   ],
   "id": "4595ec2ebe2f4f9b",
   "outputs": [
    {
     "data": {
      "text/plain": [
       "<Figure size 1000x600 with 15 Axes>"
      ],
      "image/png": "[encoded data removed]"
     },
     "metadata": {},
     "output_type": "display_data"
    }
   ],
   "execution_count": 17
  }
 ],
 "metadata": {
  "kernelspec": {
   "display_name": "Python 3",
   "language": "python",
   "name": "python3"
  },
  "language_info": {
   "codemirror_mode": {
    "name": "ipython",
    "version": 2
   },
   "file_extension": ".py",
   "mimetype": "text/x-python",
   "name": "python",
   "nbconvert_exporter": "python",
   "pygments_lexer": "ipython2",
   "version": "2.7.6"
  }
 },
 "nbformat": 4,
 "nbformat_minor": 5
}
