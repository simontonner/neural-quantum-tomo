{
 "cells": [
  {
   "metadata": {
    "ExecuteTime": {
     "end_time": "2025-03-31T15:00:16.871636Z",
     "start_time": "2025-03-31T15:00:16.866959Z"
    }
   },
   "cell_type": "code",
   "source": [
    "import os\n",
    "import gzip\n",
    "import requests\n",
    "import numpy as np\n",
    "from tqdm import tqdm\n",
    "\n",
    "import jax\n",
    "import jax.lax\n",
    "from jax.random import PRNGKey\n",
    "import jax.numpy as jnp\n",
    "import flax.linen as nn\n",
    "import optax\n",
    "from flax.training import train_state\n",
    "\n",
    "import functools\n",
    "\n",
    "import matplotlib.pyplot as plt\n",
    "\n",
    "\n",
    "data_dir = \"./data\"\n",
    "device = jax.devices('cpu')[0]\n",
    "\n",
    "print(f\"Data resides in        : {data_dir}\")\n",
    "print(f\"Training model on      : {str(device)}\")"
   ],
   "id": "27c3d547f23b4972",
   "outputs": [
    {
     "name": "stdout",
     "output_type": "stream",
     "text": [
      "Data resides in        : ./data\n",
      "Training model on      : TFRT_CPU_0\n"
     ]
    }
   ],
   "execution_count": 14
  },
  {
   "metadata": {
    "ExecuteTime": {
     "end_time": "2025-03-31T15:00:19.510371Z",
     "start_time": "2025-03-31T15:00:19.500253Z"
    }
   },
   "cell_type": "code",
   "source": [
    "class MNISTTrainDataset:\n",
    "    def __init__(self, root=\"./data\"):\n",
    "        self.save_dir = os.path.join(root, \"MNIST\", \"raw\")\n",
    "        os.makedirs(self.save_dir, exist_ok=True)\n",
    "\n",
    "        self.files = {\n",
    "            \"train_images\": \"train-images-idx3-ubyte.gz\",\n",
    "            \"train_labels\": \"train-labels-idx1-ubyte.gz\",\n",
    "        }\n",
    "\n",
    "        self.paths = {k: os.path.join(self.save_dir, v) for k, v in self.files.items()}\n",
    "\n",
    "        self.base_url = \"https://storage.googleapis.com/cvdf-datasets/mnist/\"\n",
    "        self._download_if_needed()\n",
    "\n",
    "        self.x = self._load_images(self.paths[\"train_images\"])\n",
    "        self.y = self._load_labels(self.paths[\"train_labels\"])\n",
    "\n",
    "    def __getitem__(self, idx):\n",
    "        return self.x[idx], self.y[idx]\n",
    "\n",
    "    def __len__(self):\n",
    "        return len(self.y)\n",
    "\n",
    "    def _download_if_needed(self):\n",
    "        for key, filename in self.files.items():\n",
    "            path = self.paths[key]\n",
    "\n",
    "            if os.path.exists(path):\n",
    "                continue\n",
    "\n",
    "            url = self.base_url + filename\n",
    "            response = requests.get(url, stream=True)\n",
    "\n",
    "            if response.status_code != 200:\n",
    "                raise RuntimeError(f\"Failed to download {filename}, error: {response.status_code}\")\n",
    "\n",
    "            download_desc = f\"Downloading {filename}\"\n",
    "            size = int(response.headers.get('content-length', 0))\n",
    "            tqdm_bar = tqdm(desc=download_desc, total=size, unit='B', unit_scale=True)\n",
    "            with open(path, \"wb\") as f, tqdm_bar:\n",
    "                for chunk in response.iter_content(chunk_size=1024):\n",
    "                    f.write(chunk)\n",
    "                    tqdm_bar.update(len(chunk))\n",
    "\n",
    "    def _load_images(self, path):\n",
    "        with gzip.open(path, 'rb') as f:\n",
    "            f.read(16)\n",
    "            data = np.frombuffer(f.read(), dtype=np.uint8)\n",
    "        return data.reshape(-1, 28, 28)\n",
    "\n",
    "    def _load_labels(self, path):\n",
    "        with gzip.open(path, 'rb') as f:\n",
    "            f.read(8)\n",
    "            data = np.frombuffer(f.read(), dtype=np.uint8)\n",
    "            return data\n",
    "\n",
    "\n",
    "class BinarizedMNISTDataset:\n",
    "    def __init__(self, raw_dataset):\n",
    "        self.x = self._preprocess_x(raw_dataset.x)\n",
    "        self.y = raw_dataset.y\n",
    "\n",
    "    def __getitem__(self, idx):\n",
    "        return self.x[idx], self.y[idx]\n",
    "\n",
    "    def __len__(self):\n",
    "        return len(self.y)\n",
    "\n",
    "    @staticmethod\n",
    "    def _preprocess_x(x):\n",
    "        x = x.astype(np.float32) / 255.0            # normalize to [0, 1]\n",
    "        x = x > 0.5                                 # binarize\n",
    "        x = x.reshape(x.shape[0], -1)               # flatten\n",
    "        return jnp.array(x, dtype=jnp.float32)      # use jax numpy array of dtype float32, same as RBM parameters\n",
    "\n",
    "\n",
    "class DataLoader:\n",
    "    def __init__(self, dataset, batch_size=128, shuffle=True, drop_last=False):\n",
    "        self.x = dataset.x\n",
    "        self.y = dataset.y\n",
    "        self.batch_size = batch_size\n",
    "        self.shuffle = shuffle\n",
    "        self.drop_last = drop_last\n",
    "        self.n_samples = self.x.shape[0]\n",
    "\n",
    "        self.batch_slices = []\n",
    "        start = 0\n",
    "        while start < self.n_samples:\n",
    "            end = start + self.batch_size\n",
    "            if end > self.n_samples and self.drop_last:\n",
    "                break\n",
    "            self.batch_slices.append((start, end))\n",
    "            start = end\n",
    "\n",
    "    def __iter__(self):\n",
    "        indices = np.arange(self.n_samples)\n",
    "        if self.shuffle:\n",
    "            np.random.shuffle(indices)\n",
    "\n",
    "        for start, end in self.batch_slices:\n",
    "            excerpt = indices[start:end]\n",
    "            yield self.x[excerpt], self.y[excerpt]\n",
    "\n",
    "    def __len__(self):\n",
    "        return len(self.batch_slices)"
   ],
   "id": "2282201d939f2f0a",
   "outputs": [],
   "execution_count": 15
  },
  {
   "metadata": {
    "ExecuteTime": {
     "end_time": "2025-03-31T15:00:20.999006Z",
     "start_time": "2025-03-31T15:00:20.520140Z"
    }
   },
   "cell_type": "code",
   "source": [
    "def print_samples(samples, elements_per_row=10, fig_width=10, cmap=\"binary\"):\n",
    "    num_digits = len(samples)\n",
    "    num_rows = (num_digits + elements_per_row - 1) // elements_per_row\n",
    "\n",
    "    plt.figure(figsize=(fig_width, fig_width / elements_per_row * num_rows))\n",
    "    for idx, (label, image) in enumerate(samples):\n",
    "        plt.subplot(num_rows, elements_per_row, idx + 1)\n",
    "        plt.imshow(image.squeeze(), cmap=cmap)\n",
    "        plt.title(label, fontsize=12)\n",
    "        plt.axis('off')\n",
    "\n",
    "    plt.tight_layout()\n",
    "    plt.show()\n",
    "\n",
    "\n",
    "# LOAD AND PREPROCESS MNIST DATA\n",
    "train_raw = MNISTTrainDataset(root=data_dir)\n",
    "train = BinarizedMNISTDataset(train_raw)\n",
    "\n",
    "sample_list = [(label, next(image.reshape(28, 28) for image, lbl in train if lbl == label)) for label in range(10)]\n",
    "print_samples(sample_list)"
   ],
   "id": "dc789a9d880e97c0",
   "outputs": [
    {
     "data": {
      "text/plain": [
       "<Figure size 1000x100 with 10 Axes>"
      ],
      "image/png": "[encoded data removed]"
     },
     "metadata": {},
     "output_type": "display_data"
    }
   ],
   "execution_count": 16
  },
  {
   "metadata": {
    "ExecuteTime": {
     "end_time": "2025-03-31T15:00:21.583896Z",
     "start_time": "2025-03-31T15:00:21.573276Z"
    }
   },
   "cell_type": "code",
   "source": [
    "class RBM(nn.Module):\n",
    "    n_visible: int\n",
    "    n_hidden: int\n",
    "    k: int = 1\n",
    "\n",
    "    @nn.compact\n",
    "    def __call__(self, data_batch: jnp.ndarray, v_persistent: jnp.ndarray, rng: PRNGKey) -> (jnp.ndarray, jnp.ndarray):\n",
    "        # in flax, __call__ is the main computation to be differentiated.\n",
    "\n",
    "        # initialize parameters in @nn.compact style:\n",
    "        W = self.param(\"W\", nn.initializers.normal(0.01), (self.n_visible, self.n_hidden))\n",
    "        b = self.param(\"b\", nn.initializers.zeros,        (self.n_visible,))\n",
    "        c = self.param(\"c\", nn.initializers.zeros,        (self.n_hidden,))\n",
    "        params = {\"W\": W, \"b\": b, \"c\": c}\n",
    "\n",
    "        # gibbs sampling only refines the fantasy particles, we are actually not interested in the gradients\n",
    "        v_k, key = self._gibbs_sample(params, v_persistent, rng, k=self.k)\n",
    "        v_k = jax.lax.stop_gradient(v_k)\n",
    "\n",
    "        # we are interested in the gradients of the free energy w.r.t. the parameters\n",
    "        free_energy_data  = self._free_energy(params, data_batch)\n",
    "        free_energy_model = self._free_energy(params, v_k)\n",
    "\n",
    "        pcd_loss = jnp.mean(free_energy_data) - jnp.mean(free_energy_model)\n",
    "        # since this is a pcd loss function, we also return the updated fantasy particles. and we also pass through the key\n",
    "        # since JAX’s tree utilities flatten nested tuples we need to wrap the auxiliary variables in a container\n",
    "        aux_vars = {\"v_persistent\": v_k, \"key\": key}\n",
    "\n",
    "        return pcd_loss, aux_vars\n",
    "\n",
    "    @staticmethod\n",
    "    def _free_energy(params, v):\n",
    "        W, b, c = params[\"W\"], params[\"b\"], params[\"c\"]\n",
    "\n",
    "        visible_term = jnp.dot(v, b)\n",
    "        hidden_term  = jnp.sum(jax.nn.softplus(v @ W + c), axis=-1)\n",
    "        free_energy = -visible_term - hidden_term\n",
    "        return free_energy\n",
    "\n",
    "    @staticmethod\n",
    "    def _gibbs_step(i, state, params, T=1.0):\n",
    "        v, key = state\n",
    "        W, b, c = params[\"W\"], params[\"b\"], params[\"c\"]\n",
    "\n",
    "        # splitting generates different random numbers for each step, one of them is passed on\n",
    "        key, h_key, v_key = jax.random.split(key, 3)\n",
    "\n",
    "        h_logits = (v @ W + c) / T\n",
    "        h_probs = jax.nn.sigmoid(h_logits)\n",
    "        h = jax.random.bernoulli(h_key, h_probs).astype(jnp.float32)\n",
    "\n",
    "        v_logits = (h @ W.T + b) / T\n",
    "        v_probs = jax.nn.sigmoid(v_logits)\n",
    "        v = jax.random.bernoulli(v_key, v_probs).astype(jnp.float32)\n",
    "        return v, key\n",
    "\n",
    "    @staticmethod\n",
    "    def _gibbs_sample(params, v_init, rng, k=1, T=1.0):\n",
    "        # the fori_loop enables JIT compilation of loops. It basically unrolls the loop over the fixed length k.\n",
    "\n",
    "        body_fun = lambda i, state: RBM._gibbs_step(i, state, params, T)\n",
    "        v_final, key = jax.lax.fori_loop(0, k, body_fun, (v_init, rng))\n",
    "        return v_final, key\n",
    "\n",
    "    @staticmethod\n",
    "    def _annealing_step(i, state, params, T_schedule):\n",
    "        v, rng = state\n",
    "        T = T_schedule[i]\n",
    "        # Perform one Gibbs step using the current temperature T.\n",
    "        # Note: _gibbs_sample already handles k=1 and T\n",
    "        v_next, rng_next = RBM._gibbs_sample(params, v, rng, k=1, T=T)\n",
    "        return (v_next, rng_next)\n",
    "\n",
    "    # the nowrap attribute basically tells JAX to not do the magic wrapping, which injects the params argument\n",
    "    @nn.nowrap\n",
    "    def generate(self, params: dict, n_samples: int, T_schedule: jnp.ndarray, rng: PRNGKey) -> jnp.ndarray:\n",
    "\n",
    "        # get the initial state and perform initial key splitting\n",
    "        rng, init_key = jax.random.split(rng)\n",
    "        v = jax.random.bernoulli(init_key, p=0.5, shape=(n_samples, self.n_visible)).astype(jnp.float32)\n",
    "        init_state = (v, rng)\n",
    "\n",
    "        body_fun = lambda i, state: RBM._gibbs_step(i, state, params, T_schedule[i])\n",
    "\n",
    "        # the fori_loop is still required, since this function will also be JIT-compiled\n",
    "        v_final, _ = jax.lax.fori_loop(0, len(T_schedule), body_fun, init_state)\n",
    "        return v_final"
   ],
   "id": "3d8fb14ccceb3134",
   "outputs": [],
   "execution_count": 17
  },
  {
   "metadata": {
    "ExecuteTime": {
     "end_time": "2025-03-31T15:00:22.943170Z",
     "start_time": "2025-03-31T15:00:22.928689Z"
    }
   },
   "cell_type": "code",
   "source": [
    "class RBMTrainState(train_state.TrainState):\n",
    "    \"\"\"\n",
    "    A value object bundling parameters and optimizer state for training.\n",
    "    It has a few pre-defined fields to be used in the training loop.\n",
    "    Since it is immutable, the training function needs to return a new instance after each update step.\n",
    "    \"\"\"\n",
    "    pass\n",
    "\n",
    "\n",
    "@functools.partial(jax.jit)\n",
    "def train_step(state: RBMTrainState, data_batch: jnp.ndarray, v_persistent: jnp.ndarray, key: PRNGKey):\n",
    "\n",
    "    # only the 'params' argument remains a variable to be differentiated\n",
    "    pcd_loss_fn = lambda params: state.apply_fn({'params': params}, data_batch, v_persistent, key)\n",
    "\n",
    "    # since our pc_loss_fn also returns the updated fantasy particles, we need to use has_aux=True\n",
    "    value_and_grad_fn = jax.value_and_grad(pcd_loss_fn, has_aux=True)\n",
    "    (pcd_loss, aux_vars), pdc_loss_grads = value_and_grad_fn(state.params)\n",
    "\n",
    "    # apply the gradients to the state, this actually updates the optimizer state\n",
    "    new_state = state.apply_gradients(grads=pdc_loss_grads)\n",
    "    v_persistent = aux_vars[\"v_persistent\"]\n",
    "    key = aux_vars[\"key\"]\n",
    "\n",
    "    return new_state, pcd_loss, v_persistent, key\n",
    "\n",
    "\n",
    "def train_rbm(state: RBMTrainState, train_loader, num_epochs: int, rng: PRNGKey, pcd_reset: int = 5, scheduler=None):\n",
    "    metrics = {}\n",
    "\n",
    "    for epoch in range(num_epochs):\n",
    "        total_loss = 0.0\n",
    "        batch_count = 0\n",
    "\n",
    "        for batch_idx, (data, labels) in enumerate(train_loader):\n",
    "\n",
    "            if batch_idx % pcd_reset == 0:\n",
    "                rng, subkey = jax.random.split(rng)\n",
    "                v_persistent = jax.random.bernoulli(subkey, p=0.5, shape=data.shape).astype(jnp.float32)\n",
    "\n",
    "            state, loss, v_persistent, rng = train_step(state, data, v_persistent, rng)\n",
    "            total_loss += loss\n",
    "            batch_count += 1\n",
    "\n",
    "        avg_loss = total_loss / len(train_loader)\n",
    "        metrics[epoch] = {\"free_energy_loss\": float(avg_loss)}\n",
    "        print(f\"Epoch [{epoch+1}/{num_epochs}] - Free Energy Loss: {avg_loss:.4f}\")\n",
    "\n",
    "    return state, metrics, rng"
   ],
   "id": "1b51378d6510ce29",
   "outputs": [],
   "execution_count": 18
  },
  {
   "metadata": {
    "ExecuteTime": {
     "end_time": "2025-03-31T15:01:43.130911Z",
     "start_time": "2025-03-31T15:00:24.937629Z"
    }
   },
   "cell_type": "code",
   "source": [
    "# ACTUAL TRAINING\n",
    "batch_size    = 128\n",
    "visible_units = 28 * 28\n",
    "hidden_units  = 256\n",
    "k_steps       = 1\n",
    "lr            = 1e-3\n",
    "num_epochs    = 40\n",
    "pcd_reset     = 75        # reset persistent chain every N batches\n",
    "weight_decay  = 1e-5      # if needed; see optax.add_decayed_weights\n",
    "lr_decay      = 0.95      # not used explicitly here\n",
    "\n",
    "\n",
    "# start of our random key-chain, it will be updated by regular splits (typically at each bernoulli sampling)\n",
    "rng = PRNGKey(0)\n",
    "\n",
    "# instantiate the optimizer and the RBM\n",
    "train_loader = DataLoader(train, batch_size=batch_size, shuffle=True)\n",
    "lr_schedule = optax.exponential_decay(init_value=lr, transition_steps=len(train_loader), decay_rate=lr_decay, staircase=True)\n",
    "optimizer = optax.adam(learning_rate=lr_schedule)\n",
    "rbm = RBM(n_visible=visible_units, n_hidden=hidden_units, k=k_steps)\n",
    "\n",
    "# initialize RBM parameters and create the training state\n",
    "dummy_batch = train.x[:batch_size]\n",
    "rng, subkey = jax.random.split(rng)\n",
    "v_persistent = jax.random.bernoulli(subkey, p=0.5, shape=dummy_batch.shape).astype(jnp.float32)\n",
    "params = rbm.init(rng, dummy_batch, v_persistent, rng)['params']\n",
    "state = RBMTrainState.create(apply_fn=rbm.apply, params=params, tx=optimizer)\n",
    "\n",
    "state, metrics, rng = train_rbm(state, train_loader, num_epochs, rng, pcd_reset=pcd_reset, scheduler=lr_schedule)"
   ],
   "id": "41c273ad84c699a9",
   "outputs": [
    {
     "name": "stdout",
     "output_type": "stream",
     "text": [
      "Epoch [1/40] - Free Energy Loss: -80.3972\n",
      "Epoch [2/40] - Free Energy Loss: -157.9078\n",
      "Epoch [3/40] - Free Energy Loss: -219.1889\n",
      "Epoch [4/40] - Free Energy Loss: -200.7801\n",
      "Epoch [5/40] - Free Energy Loss: -194.8376\n",
      "Epoch [6/40] - Free Energy Loss: -173.8147\n",
      "Epoch [7/40] - Free Energy Loss: -117.1137\n",
      "Epoch [8/40] - Free Energy Loss: -101.4182\n",
      "Epoch [9/40] - Free Energy Loss: -81.5462\n",
      "Epoch [10/40] - Free Energy Loss: -72.3013\n",
      "Epoch [11/40] - Free Energy Loss: -67.0918\n",
      "Epoch [12/40] - Free Energy Loss: -70.0150\n",
      "Epoch [13/40] - Free Energy Loss: -65.7026\n",
      "Epoch [14/40] - Free Energy Loss: -63.1404\n",
      "Epoch [15/40] - Free Energy Loss: -60.1965\n",
      "Epoch [16/40] - Free Energy Loss: -57.1857\n",
      "Epoch [17/40] - Free Energy Loss: -54.3402\n",
      "Epoch [18/40] - Free Energy Loss: -53.8880\n",
      "Epoch [19/40] - Free Energy Loss: -51.2630\n",
      "Epoch [20/40] - Free Energy Loss: -49.4386\n",
      "Epoch [21/40] - Free Energy Loss: -49.3501\n",
      "Epoch [22/40] - Free Energy Loss: -49.1426\n",
      "Epoch [23/40] - Free Energy Loss: -44.5867\n",
      "Epoch [24/40] - Free Energy Loss: -43.2212\n",
      "Epoch [25/40] - Free Energy Loss: -42.5099\n",
      "Epoch [26/40] - Free Energy Loss: -38.8851\n",
      "Epoch [27/40] - Free Energy Loss: -42.6613\n",
      "Epoch [28/40] - Free Energy Loss: -39.7236\n",
      "Epoch [29/40] - Free Energy Loss: -40.8406\n",
      "Epoch [30/40] - Free Energy Loss: -39.8575\n",
      "Epoch [31/40] - Free Energy Loss: -38.6799\n",
      "Epoch [32/40] - Free Energy Loss: -40.0586\n",
      "Epoch [33/40] - Free Energy Loss: -39.9930\n",
      "Epoch [34/40] - Free Energy Loss: -39.3345\n",
      "Epoch [35/40] - Free Energy Loss: -38.7228\n",
      "Epoch [36/40] - Free Energy Loss: -38.5097\n",
      "Epoch [37/40] - Free Energy Loss: -40.0013\n",
      "Epoch [38/40] - Free Energy Loss: -38.4777\n",
      "Epoch [39/40] - Free Energy Loss: -38.9251\n",
      "Epoch [40/40] - Free Energy Loss: -38.3366\n"
     ]
    }
   ],
   "execution_count": 19
  },
  {
   "metadata": {
    "ExecuteTime": {
     "end_time": "2025-03-31T14:58:13.734445Z",
     "start_time": "2025-03-31T14:58:13.645573Z"
    }
   },
   "cell_type": "code",
   "source": [
    "plt.plot([abs(metrics[epoch]['free_energy_loss']) for epoch in metrics])\n",
    "plt.xlabel(\"Epoch\")\n",
    "plt.ylabel(\"Free Energy Loss\")"
   ],
   "id": "839b99523b0b423f",
   "outputs": [
    {
     "data": {
      "text/plain": [
       "Text(0, 0.5, 'Free Energy Loss')"
      ]
     },
     "execution_count": 12,
     "metadata": {},
     "output_type": "execute_result"
    },
    {
     "data": {
      "text/plain": [
       "<Figure size 640x480 with 1 Axes>"
      ],
      "image/png": "[encoded data removed]"
     },
     "metadata": {},
     "output_type": "display_data"
    }
   ],
   "execution_count": 12
  },
  {
   "metadata": {
    "ExecuteTime": {
     "end_time": "2025-03-31T14:58:17.352589Z",
     "start_time": "2025-03-31T14:58:15.704577Z"
    }
   },
   "cell_type": "code",
   "source": [
    "def get_cosine_schedule(T_high, T_low, n_steps):\n",
    "    steps = jnp.arange(n_steps, dtype=jnp.float32)\n",
    "    cos = 0.5 * (1 + jnp.cos(jnp.pi * steps / (n_steps - 1)))\n",
    "    return T_low + (T_high - T_low) * cos\n",
    "\n",
    "\n",
    "cosine_schedule = get_cosine_schedule(4.0, 0.4, 1000)\n",
    "samples = rbm.generate(params = state.params, n_samples=30, T_schedule=cosine_schedule, rng=rng).reshape(-1, 1, 28, 28)\n",
    "\n",
    "labeled_samples = [(f\"Fantasy {idx + 1}\", img) for idx, img in enumerate(samples)]\n",
    "print_samples(labeled_samples, elements_per_row=5, fig_width=10, cmap=\"gray\")"
   ],
   "id": "dbd2faff7d5eeec",
   "outputs": [
    {
     "data": {
      "text/plain": [
       "<Figure size 1000x1200 with 30 Axes>"
      ],
      "image/png": "[encoded data removed]"
     },
     "metadata": {},
     "output_type": "display_data"
    }
   ],
   "execution_count": 13
  },
  {
   "metadata": {},
   "cell_type": "code",
   "outputs": [],
   "execution_count": null,
   "source": "",
   "id": "7f2280a69ceb65c8"
  }
 ],
 "metadata": {
  "kernelspec": {
   "display_name": "Python 3",
   "language": "python",
   "name": "python3"
  },
  "language_info": {
   "codemirror_mode": {
    "name": "ipython",
    "version": 2
   },
   "file_extension": ".py",
   "mimetype": "text/x-python",
   "name": "python",
   "nbconvert_exporter": "python",
   "pygments_lexer": "ipython2",
   "version": "2.7.6"
  }
 },
 "nbformat": 4,
 "nbformat_minor": 5
}
