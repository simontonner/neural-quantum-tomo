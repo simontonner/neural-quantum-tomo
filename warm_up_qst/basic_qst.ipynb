{
 "cells": [
  {
   "metadata": {},
   "cell_type": "markdown",
   "source": [
    "#### Warm Up | Master's Thesis\n",
    "# QUANTUM HEISENBERG MODEL\n",
    "\n",
    "\n",
    "This is just some exercise to diagonalize a small system using `NumPy`.\n",
    "\n",
    "\n",
    "The quantum Heisenberg model is a quantum mechanical extension of the Ising model used to study magnetic systems. While the Ising model has spins $σ_i ∈ \\{± 1\\}$ representing magnetic dipoles aligned either up or down, the Heisenberg model allows these spins to behave more realistically using quantum operators.\n",
    "\n",
    "In the quantum Heisenberg model, spins are represented by Pauli spin-1/2 matrices acting on the tensor product space $\\left(\\mathbb{C}^2\\right)^{\\otimes N}$ of dimension $2^N$.\n",
    "\n",
    "\n",
    "\n",
    "The Pauli matrices, denoted as $\\sigma^x$, $\\sigma^y$, and $\\sigma^z$, are $2 \\times 2$ matrices that represent the quantum spin operators in the $x$, $y$, and $z$ directions respectively. These matrices can be thought of as representing rotations of a spin in the Bloch sphere:\n",
    "$$\n",
    "\\sigma^x = \\begin{pmatrix} 0 & 1 \\\\ 1 & 0 \\end{pmatrix}, \\quad \\sigma^y = \\begin{pmatrix} 0 & -i \\\\ i & 0 \\end{pmatrix}, \\quad \\sigma^z = \\begin{pmatrix} 1 & 0 \\\\ 0 & -1 \\end{pmatrix}\n",
    "$$\n",
    "\n",
    "These matrices are used to define the spin interactions at each site. For a 1D system where only the neighbors are coupled with each other, the Hamiltonian is given by:\n",
    "\n",
    "$$\n",
    "\\hat{H} = -\\frac{1}{2} \\sum_{j=1}^N \\left( J_x \\sigma_j^x \\sigma_{j+1}^x + J_y \\sigma_j^y \\sigma_{j+1}^y + J_z \\sigma_j^z \\sigma_{j+1}^z + h \\sigma_j^z \\right)\n",
    "$$\n",
    "\n",
    "The Heisenberg model can be categorized based on the coupling constants:\n",
    "\n",
    "- **XYZ Model**: $J_x \\neq J_y \\neq J_z$\n",
    "- **XXZ Model**: $J = J_x = J_y \\neq J_z$\n",
    "- **XXX Model**: $J_x = J_y = J_z = J$"
   ],
   "id": "45a3c4fac8ad6989"
  },
  {
   "metadata": {},
   "cell_type": "markdown",
   "source": [
    "#### 3-SITE HEISENBERG MODEL\n",
    "\n",
    "As a warm-up exercise, we want to diagonalize a small system of 3 spins.\n",
    "\n",
    "For this we consider a simplified version of the Heisenberg model with $J_x = J_y = 1$ and $J_z = h = 0$. The Hamiltonian simplifies to:\n",
    "\n",
    "$$\n",
    "\\hat{H} = -\\frac{1}{2} \\sum_{j=1}^N \\left( \\sigma_j^x \\sigma_{j+1}^x + \\sigma_j^y \\sigma_{j+1}^y \\right)\n",
    "$$\n",
    "\n",
    "This Hamiltonian describes an isotropic coupling in the $x$ and $y$ directions, with no coupling in the $z$ direction or external field.\n",
    "\n",
    "We are given 3 neighboring spin sites and assume no boundary conditions and only interactions between neighboring spins:\n",
    "\n",
    "$$\n",
    "\\hat{H}=-\\frac{1}{2}\\left(\\sigma_1^x \\sigma_2^x+\\sigma_2^x \\sigma_3^x+\\sigma_1^y \\sigma_2^y+\\sigma_2^y \\sigma_3^y\\right)\n",
    "$$\n",
    "Each interaction term is represented as a tensor product of Pauli matrices for the spins involved and the identity matrix for the unaffected spin:\n",
    "\n",
    "$\\sigma_1^x \\sigma_2^x$ becomes $\\sigma^x \\otimes \\sigma^x \\otimes \\sigma^0$\n",
    "\n",
    "$\\sigma_2^x \\sigma_3^x$ becomes $\\sigma^0 \\otimes \\sigma^x \\otimes \\sigma^x$\n",
    "\n",
    "We need to be very careful to respect the order of the tensor product. The order MUST align with the order when creating the state vector."
   ],
   "id": "653d23333a57ad0e"
  },
  {
   "metadata": {
    "ExecuteTime": {
     "end_time": "2025-01-12T13:11:55.495528Z",
     "start_time": "2025-01-12T13:11:55.492860Z"
    }
   },
   "cell_type": "code",
   "source": [
    "import numpy as np\n",
    "\n",
    "from collections import Counter\n",
    "from itertools import product\n",
    "\n",
    "import matplotlib.pyplot as plt\n",
    "import seaborn as sns"
   ],
   "id": "1433e1d2fd7fa6ef",
   "outputs": [],
   "execution_count": 18
  },
  {
   "metadata": {
    "ExecuteTime": {
     "end_time": "2025-01-12T13:11:56.404923Z",
     "start_time": "2025-01-12T13:11:56.398345Z"
    }
   },
   "cell_type": "code",
   "source": [
    "# constructing the Hamiltonian\n",
    "\n",
    "sigma_0 = np.eye(2)\n",
    "sigma_x = np.array([[0, 1], [1, 0]])\n",
    "sigma_y = np.array([[0, -1j], [1j, 0]])\n",
    "sigma_z = np.array([[1, 0], [0, -1]])\n",
    "\n",
    "H_x_12 = np.kron(np.kron(sigma_x, sigma_x), sigma_0)\n",
    "H_x_23 = np.kron(np.kron(sigma_0, sigma_x), sigma_x)\n",
    "H_y_12 = np.kron(np.kron(sigma_y, sigma_y), sigma_0)\n",
    "H_y_23 = np.kron(np.kron(sigma_0, sigma_y), sigma_y)\n",
    "\n",
    "H = -0.5 * (H_x_12 + H_x_23 + H_y_12 + H_y_23)\n",
    "H"
   ],
   "id": "f311ded3cf0ee0b7",
   "outputs": [
    {
     "data": {
      "text/plain": [
       "array([[-0.+0.j, -0.+0.j, -0.+0.j, -0.+0.j, -0.+0.j, -0.+0.j, -0.+0.j,\n",
       "        -0.+0.j],\n",
       "       [-0.+0.j, -0.+0.j, -1.+0.j, -0.+0.j, -0.+0.j, -0.+0.j, -0.+0.j,\n",
       "        -0.+0.j],\n",
       "       [-0.+0.j, -1.+0.j, -0.+0.j, -0.+0.j, -1.+0.j, -0.+0.j, -0.+0.j,\n",
       "        -0.+0.j],\n",
       "       [-0.+0.j, -0.+0.j, -0.+0.j, -0.+0.j, -0.+0.j, -1.+0.j, -0.+0.j,\n",
       "        -0.+0.j],\n",
       "       [-0.+0.j, -0.+0.j, -1.+0.j, -0.+0.j, -0.+0.j, -0.+0.j, -0.+0.j,\n",
       "        -0.+0.j],\n",
       "       [-0.+0.j, -0.+0.j, -0.+0.j, -1.+0.j, -0.+0.j, -0.+0.j, -1.+0.j,\n",
       "        -0.+0.j],\n",
       "       [-0.+0.j, -0.+0.j, -0.+0.j, -0.+0.j, -0.+0.j, -1.+0.j, -0.+0.j,\n",
       "        -0.+0.j],\n",
       "       [-0.+0.j, -0.+0.j, -0.+0.j, -0.+0.j, -0.+0.j, -0.+0.j, -0.+0.j,\n",
       "        -0.+0.j]])"
      ]
     },
     "execution_count": 19,
     "metadata": {},
     "output_type": "execute_result"
    }
   ],
   "execution_count": 19
  },
  {
   "metadata": {},
   "cell_type": "markdown",
   "source": [
    "#### DIAGONALIZATION\n",
    "\n",
    "```\n",
    "DISCLAIMER\n",
    "The following part might not be fully correct. I simply tried to google what is happening for my own understanding.\n",
    "```\n",
    "\n",
    "Over time, the system evolves dynamically toward a **Boltzmann distribution** as it interacts with its environment. This distribution describes the probability of occupying an energy eigenstate $E_i$ at thermal equilibrium and is given by:\n",
    "\n",
    "$$\n",
    "P\\left(E_i\\right) \\propto e^{-E_i / k_B T}\n",
    "$$\n",
    "\n",
    "This distribution is often visualized as a **staircase**, where each step corresponds to an energy level:\n",
    "\n",
    "- The **ground state** (lowest step) is the most likely to be occupied.\n",
    "- Higher-energy states (higher steps) are exponentially less likely to be occupied as their energy increases.\n",
    "\n",
    "If the system starts in a high-energy state or a random superposition of states, it exhibits a **downward trend** in energy due to the relative probabilities of occupation between states. The ratio of probabilities between two states with energies $E_1$ and $E_2$ is given by the **Boltzmann quotient**:\n",
    "\n",
    "$$\n",
    "\\frac{P\\left(E_2\\right)}{P\\left(E_1\\right)}=e^{-\\left(E_2-E_1\\right) / k_B T}\n",
    "$$\n",
    "\n",
    "This quotient explains why:\n",
    "\n",
    "- **Downward transitions** (from $E_2$ to $E_1$ with $E_2 > E_1$) are more likely.\n",
    "- **Upward transitions** (from $E_1$ to $E_2$) are less likely, especially for larger energy gaps or lower temperatures.\n",
    "\n",
    "At very low temperatures ($T \\to 0$), the system overwhelmingly occupies the ground state, as $P(E_i) \\to 0$ for all $E_i > E_{\\text{ground}}$.\n",
    "\n",
    "Now the Boltzmann Distribution tells us how we get from the raw energy values to the occupation probabilities. But actually we don't know how far each energy level is spread apart, i.e. we actually don't know how the staircase is shaped.\n",
    "\n",
    "Here is where the Hamiltonian comes into play. The Hamiltonian encodes all the forces, interactions, and constraints in the system and dictates how a system evolves over time (via the Schrödinger equation).\n",
    "By diagonalizing the Hamiltonian, you uncover the system's possible energies, from the ground state (minimum eigenvalue) to the excited states, i.e. the staircase.\n",
    "\n",
    "The interesting thing is, when you evolve one of the eigenstates using the Schrödinger equation, you get an infinitesimal change in the global phase of the wave function. This means the frequency of the global phase is dependent on the energy of the eigenstate. This means that different energy levels correspond to different modes of the wave function in the global phase. Each of those states is defined by a configuration of spins and this specific configuration is captured by an eigenvector of the Hamiltonian.\n",
    "\n",
    "When we apply the **Hamiltonian** $\\hat{H}$ to an **eigenvector** $|\\psi\\rangle$, we obtain:\n",
    "\n",
    "$$\n",
    "\\hat{H} |\\psi\\rangle = E |\\psi\\rangle\n",
    "$$\n",
    "\n",
    "where $E$ is the **energy** associated with that eigenvector. This operation is purely **mathematical** and reveals the energy of the state $|\\psi\\rangle$. Importantly, this is not a **measurement** in the quantum mechanical sense; it doesn’t involve collapsing the wave function but instead simply calculates what the energy would be if we were to measure it.\n",
    "\n",
    "To relate this to the **ground state**: it is simply the **eigenvector** corresponding to the **lowest energy** (smallest eigenvalue)."
   ],
   "id": "c8a0b6e57648a54f"
  },
  {
   "metadata": {
    "ExecuteTime": {
     "end_time": "2025-01-12T13:12:02.339820Z",
     "start_time": "2025-01-12T13:12:02.336352Z"
    }
   },
   "cell_type": "code",
   "source": [
    "# diagonalizing the Hamiltonian\n",
    "\n",
    "eigenvalues, eigenvectors = np.linalg.eigh(H)\n",
    "eigenvalues"
   ],
   "id": "e83382c3d7a14275",
   "outputs": [
    {
     "data": {
      "text/plain": [
       "array([-1.41421356e+00, -1.41421356e+00, -2.75795620e-17, -2.75795620e-17,\n",
       "       -0.00000000e+00, -0.00000000e+00,  1.41421356e+00,  1.41421356e+00])"
      ]
     },
     "execution_count": 20,
     "metadata": {},
     "output_type": "execute_result"
    }
   ],
   "execution_count": 20
  },
  {
   "metadata": {
    "ExecuteTime": {
     "end_time": "2025-01-12T13:12:04.824104Z",
     "start_time": "2025-01-12T13:12:04.820642Z"
    }
   },
   "cell_type": "code",
   "source": [
    "# let's say we look at the second eigenvector forth on since it is a bit more exciting than the first one\n",
    "\n",
    "psi = eigenvectors[1]\n",
    "psi"
   ],
   "id": "8b81b66cce6244e0",
   "outputs": [
    {
     "data": {
      "text/plain": [
       "array([-0.5       +0.j,  0.        +0.j, -0.70710678-0.j,  0.        +0.j,\n",
       "        0.        +0.j,  0.        +0.j, -0.5       +0.j,  0.        +0.j])"
      ]
     },
     "execution_count": 21,
     "metadata": {},
     "output_type": "execute_result"
    }
   ],
   "execution_count": 21
  },
  {
   "metadata": {},
   "cell_type": "markdown",
   "source": [
    "Each entry in the eigenvector corresponds to a specific configuration of spins in the computational basis. For example, the first entry corresponds to the configuration $|000\\rangle$, which means all three qubits are in the state $|0\\rangle$. The complex conjugate squared of the amplitude at each entry gives the probability of measuring the system in that specific configuration.\n",
    "Even though we defined the Hamiltonian in terms of the Pauli matrices $\\sigma^x$ and $\\sigma^y$, the eigenvectors are expressed in the computational basis. The computational basis is essentially the tensor product of the eigenstates of the Pauli matrix $\\sigma^z$ (which are $|0\\rangle$ and $|1\\rangle$) over all spins."
   ],
   "id": "ebcad2f62c2c0151"
  },
  {
   "metadata": {},
   "cell_type": "markdown",
   "source": [
    "#### QUANTUM STATE TOMOGRAPHY\n",
    "\n",
    "To perform **Quantum State Tomography (QST)** on the given quantum state, we want to reconstruct the **density matrix** using measurements in the **Pauli basis**. As an initial exercise we simply want to reconstruct the following pure state:\n",
    "\n",
    "$$\n",
    "|\\psi\\rangle =\n",
    "\\begin{bmatrix} \n",
    "-\\frac{1}{2} \\\\\n",
    "0 \\\\\n",
    "-\\frac{1}{\\sqrt{2}} \\\\\n",
    "0 \\\\\n",
    "0 \\\\\n",
    "0 \\\\\n",
    "-\\frac{1}{2} \\\\\n",
    "0\n",
    "\\end{bmatrix}\n",
    "$$\n",
    "\n",
    "This state is a vector in an **8-dimensional Hilbert space**, corresponding to a **3-qubit system**. The goal of QST is to determine the state of the system by measuring **expectation values** of specific observables on multiple copies of the system.\n",
    "\n",
    "Since we know the underlying state, we can simulate the measurement statistics using `NumPy`.\n",
    "\n",
    "Lets attempt to measure the first qubit in $x$-direction. We begin by constructing the measurement operators corresponding to the projectors onto the $|+\\rangle$ and $|-\\rangle$ eigenstates of the Pauli $\\sigma_x$ operator:\n",
    "\n",
    "- **Positive eigenstate** with eigenvalue $+1$:\n",
    "  $$\n",
    "  |+\\rangle = \\frac{1}{\\sqrt{2}} (|0\\rangle + |1\\rangle)\n",
    "  $$\n",
    "\n",
    "- **Negative eigenstate** with eigenvalue $-1$:\n",
    "  $$\n",
    "  |-\\rangle = \\frac{1}{\\sqrt{2}} (|0\\rangle - |1\\rangle)\n",
    "  $$\n",
    "\n",
    "The projectors themselves can be expressed in terms of the Pauli $\\sigma_x$ operator and the identity operator $\\sigma_0$:\n",
    "\n",
    "$$\n",
    "P_+ = |+\\rangle\\langle+|=\\frac{1}{2} (\\sigma_0 + \\sigma_x)\n",
    "$$\n",
    "\n",
    "$$\n",
    "P_- = |-\\rangle\\langle-|= \\frac{1}{2} (\\sigma_0 - \\sigma_x)\n",
    "$$\n",
    "\n",
    "Since the full Hilbert space is 8-dimensional, we need to expand our single-qubit projectors to act on the entire system:\n",
    "\n",
    "$$\n",
    "\\begin{align*}\n",
    "& P_{+}^{(0)}=P_{+} \\otimes \\sigma_0 \\otimes \\sigma_0 \\\\\n",
    "& P_{-}^{(0)}=P_{-} \\otimes \\sigma_0 \\otimes \\sigma_0\n",
    "\\end{align*}\n",
    "$$\n",
    "\n",
    "The probability of obtaining a specific measurement outcome is given by the expectation value of the corresponding projector with respect to the quantum state $|\\psi\\rangle$:\n",
    "\n",
    "- **Probability of measuring $|+\\rangle$ on qubit 0**:\n",
    "  $$\n",
    "p_{+}^{(0)}=\\langle\\psi| P_{+}^{(0)}|\\psi\\rangle\n",
    "  $$\n",
    "\n",
    "- **Probability of measuring $|-\\rangle$ on qubit 0**:\n",
    "  $$\n",
    "p_{-}^{(0)}=\\langle\\psi| P_{-}^{(0)}|\\psi\\rangle\n",
    "  $$\n",
    "\n",
    "With the probabilities calculated, we can simulate measurements to observe how the quantum state behaves under measurement in the $x$-direction."
   ],
   "id": "ad52e0961f91c8b4"
  },
  {
   "metadata": {
    "ExecuteTime": {
     "end_time": "2025-01-12T13:12:08.597592Z",
     "start_time": "2025-01-12T13:12:08.593827Z"
    }
   },
   "cell_type": "code",
   "source": [
    "# calculating said probabilities on psi\n",
    "\n",
    "sigma_plus = 0.5 * (sigma_0 + sigma_x)\n",
    "sigma_minus = 0.5 * (sigma_0 - sigma_x)\n",
    "\n",
    "meas_plus = np.kron(sigma_plus, np.kron(sigma_0, sigma_0))\n",
    "meas_minus = np.kron(sigma_minus, np.kron(sigma_0, sigma_0))\n",
    "\n",
    "prob_plus = np.real(np.dot(psi, meas_plus @ psi))\n",
    "prob_minus = np.real(np.dot(psi, meas_minus @ psi))\n",
    "\n",
    "print(f\"Probability of measuring positive x-direction (|+⟩) on qubit 0: {prob_plus:.3f}\")\n",
    "print(f\"Probability of measuring negative x-direction (|−⟩) on qubit 0: {prob_minus:.3f}\")\n",
    "print(f\"Sum of probabilities: {prob_plus + prob_minus:.3f}\")"
   ],
   "id": "e12d7f9fcd1f6546",
   "outputs": [
    {
     "name": "stdout",
     "output_type": "stream",
     "text": [
      "Probability of measuring positive x-direction (|+⟩) on qubit 0: 0.854\n",
      "Probability of measuring negative x-direction (|−⟩) on qubit 0: 0.146\n",
      "Sum of probabilities: 1.000\n"
     ]
    }
   ],
   "execution_count": 22
  },
  {
   "metadata": {
    "ExecuteTime": {
     "end_time": "2025-01-12T13:12:10.504164Z",
     "start_time": "2025-01-12T13:12:10.500041Z"
    }
   },
   "cell_type": "code",
   "source": [
    "# using probabilities to generate counts\n",
    "\n",
    "samples = 1000\n",
    "measurements_qubit0 = np.random.choice(['+', '-'], size=samples, p=[prob_plus, prob_minus])\n",
    "\n",
    "counts_qubit0 = Counter(measurements_qubit0)\n",
    "print(f\"Measurement results for qubit 0 in x basis ({samples} trials): \\nstate |+⟩: {counts_qubit0['+']}, state |-⟩: {counts_qubit0['-']}\")"
   ],
   "id": "5d4d7d91d6b3a32d",
   "outputs": [
    {
     "name": "stdout",
     "output_type": "stream",
     "text": [
      "Measurement results for qubit 0 in x basis (1000 trials): \n",
      "state |+⟩: 860, state |-⟩: 140\n"
     ]
    }
   ],
   "execution_count": 23
  },
  {
   "metadata": {},
   "cell_type": "markdown",
   "source": [
    "#### DENSITY MATRIX RECONSTRUCTION\n",
    "\n",
    "QST basically involves the reconstruction of the density matrix. In order to fully characterize the quantum state, we need to perform measurements for each direction on each qubit.\n",
    "\n",
    "For a 3-qubit system, this results in $4^3 = 64$ different combinations of Pauli operators that need to be measured to obtain all necessary expectation values. To obtain the probability distributions we need multiple samples for each of those entries.\n",
    "\n",
    "The expectation values $\\langle \\sigma_{i} \\otimes \\sigma_{j} \\otimes \\sigma_{k} \\rangle $ are computed from the measurement statistics.\n",
    "\n",
    "The book *Quantum Computation and Quantum Information* by Nielsen and Chuang provides a general formula for reconstructing an $N$-qubit density matrix on page 390 (their Eq. 8.149). In the notation of that book, one writes\n",
    "\n",
    "$$\n",
    "\\rho\n",
    "=\\sum_{\\vec{v}} \\frac{\\operatorname{tr}\\!\\bigl(\\sigma_{v_1} \\otimes \\sigma_{v_2} \\otimes \\cdots \\otimes \\sigma_{v_n}\\,\\rho\\bigr)}{2^n}\\,\n",
    "\\bigl(\\sigma_{v_1} \\otimes \\sigma_{v_2} \\otimes \\cdots \\otimes \\sigma_{v_n}\\bigr),\n",
    "$$\n",
    "\n",
    "where $\\vec{v} = (v_1, \\ldots, v_n)$ with each $v_i \\in \\{0,1,2,3\\}$.\n",
    "\n",
    "**Specializing to 3 qubits** simply means relabeling $\\vec{v}=(v_1, v_2, v_3)$ as $(i,j,k)$. Since each $v_m$ can be $0,1,2,3$, we get\n",
    "$$\n",
    "\\rho\n",
    "= \\frac{1}{2^3} \\sum_{i,j,k=0}^{3}\n",
    "\\operatorname{tr}\\!\\bigl(\\rho\\,(\\sigma_i \\otimes \\sigma_j \\otimes \\sigma_k)\\bigr)\\,\n",
    "\\bigl(\\sigma_i \\otimes \\sigma_j \\otimes \\sigma_k\\bigr).\n",
    "$$\n",
    "\n",
    "Finally, recall that the **trace** of $\\rho$ times an operator $M$ is the definition of the **expectation value** of $M$ in the state $\\rho$. Symbolically,\n",
    "\n",
    "$$\n",
    "\\operatorname{tr}\\!\\bigl(\\rho\\,M\\bigr)\n",
    "\\;=\\;\n",
    "\\langle M \\rangle,\n",
    "$$\n",
    "\n",
    "so we write\n",
    "\n",
    "$$\n",
    "\\rho\n",
    "= \\frac{1}{2^3} \\sum_{i,j,k=0}^{3}\n",
    "\\langle \\sigma_{i} \\otimes \\sigma_{j} \\otimes \\sigma_{k}\\rangle \\,\n",
    "\\bigl(\\sigma_i \\otimes \\sigma_j \\otimes \\sigma_k\\bigr).\n",
    "$$\n",
    "\n",
    "After this reconstruction, we can compare the density matrix with the one of the state. For the given eigenstate $|\\psi\\rangle$, we can compute the **density matrix** directly, as it is a pure state. The density matrix $\\rho$ for a pure state $|\\psi\\rangle$ is given by:\n",
    "\n",
    "$$\n",
    "\\rho = |\\psi\\rangle \\langle \\psi|\n",
    "$$\n"
   ],
   "id": "845c5e4eacaaff38"
  },
  {
   "metadata": {},
   "cell_type": "markdown",
   "source": [
    "### STRUCTURED APPROACH TO SAMPLING\n",
    "\n",
    "From now on we need a bit more structured code to handle the complexity. We would first like to perform sampling again for one specific measurement setting."
   ],
   "id": "a64ec60d4581f396"
  },
  {
   "metadata": {
    "ExecuteTime": {
     "end_time": "2025-01-12T13:12:14.453606Z",
     "start_time": "2025-01-12T13:12:14.447073Z"
    }
   },
   "cell_type": "code",
   "source": [
    "class PauliOperator:\n",
    "    def __init__(self, matrix, eigenvalues, eigenvectors):\n",
    "        \"\"\"\n",
    "        Bundles the relevant information of a Pauli operator into a single object.\n",
    "\n",
    "        REMARK: The eigenvalues and eigenvectors are directly passed to avoid numerical inaccuracies.\n",
    "\n",
    "        :param matrix: The matrix representation of the Pauli operator.\n",
    "        :param eigenvalues: The eigenvalues of the Pauli operator.\n",
    "        :param eigenvectors: The eigenvectors of the Pauli operator.\n",
    "        \"\"\"\n",
    "        self.matrix = matrix\n",
    "        self.eigenvalues = eigenvalues\n",
    "        self.eigenvectors = eigenvectors\n",
    "\n",
    "\n",
    "class MultiQubitMeasurementSetting:\n",
    "    def __init__(self, measurement_settings):\n",
    "        \"\"\"\n",
    "        Represents a multi-qubit measurement setting using Pauli operators.\n",
    "\n",
    "        :param measurement_settings: A list of Pauli operators representing the measurement setting for each qubit.\n",
    "        \"\"\"\n",
    "        self._measurement_settings = measurement_settings\n",
    "        self.eigenvectors = []\n",
    "        self.eigenvalues = []\n",
    "\n",
    "        self._construct_basis()\n",
    "\n",
    "    def _construct_basis(self):\n",
    "        \"\"\"\n",
    "        Constructs the multi-qubit basis vectors and their corresponding eigenvalues from the given Pauli operators.\n",
    "        \"\"\"\n",
    "\n",
    "        # in this first loop we iterate over the computational basis states of the n-qubit system\n",
    "        # constructing them as a list of 0s and 1s allows us to leverage pythons addressing capabilities\n",
    "        for state_addressing in product(range(2), repeat=len(self._measurement_settings)):\n",
    "            multi_qubit_eigenvalue = 1.0\n",
    "            multi_qubit_eigenvector = None\n",
    "\n",
    "            # we pair up the Pauli operator for each single qubit basis state and retrieve the matching eigenvalue and eigenvector\n",
    "            for pauli_op, state_index in zip(self._measurement_settings, state_addressing):\n",
    "                eigenvalue = pauli_op.eigenvalues[state_index]\n",
    "                eigenvector = pauli_op.eigenvectors[state_index]\n",
    "\n",
    "                # the eigenvalue of the multi-qubit operator is the product of the single-qubit eigenvalues\n",
    "                multi_qubit_eigenvalue *= eigenvalue\n",
    "\n",
    "                # we build up the multi-qubit eigenvector by taking the tensor product of the single-qubit eigenvectors\n",
    "                if multi_qubit_eigenvector is None:\n",
    "                    multi_qubit_eigenvector = eigenvector\n",
    "                else:\n",
    "                    multi_qubit_eigenvector = np.kron(multi_qubit_eigenvector, eigenvector)\n",
    "\n",
    "            self.eigenvalues.append(multi_qubit_eigenvalue)\n",
    "            self.eigenvectors.append(multi_qubit_eigenvector)"
   ],
   "id": "85d8a8e5d21a3fce",
   "outputs": [],
   "execution_count": 24
  },
  {
   "metadata": {
    "ExecuteTime": {
     "end_time": "2025-01-12T13:12:15.695676Z",
     "start_time": "2025-01-12T13:12:15.689232Z"
    }
   },
   "cell_type": "code",
   "source": [
    "# defining a multi-qubit measurement setting\n",
    "\n",
    "sigma_0 = PauliOperator(np.array([[1, 0], [0, 1]]), [1, 1], [np.array([1, 0]), np.array([0, 1])])\n",
    "sigma_x = PauliOperator(np.array([[0, 1], [1, 0]]), [1, -1], [np.array([1, 1]) / np.sqrt(2), np.array([1, -1]) / np.sqrt(2)])\n",
    "first_qubit_x_meas = MultiQubitMeasurementSetting([sigma_x, sigma_0, sigma_0])\n",
    "\n",
    "# project the state vector onto the measurement basis and apply Born's rule\n",
    "first_qubit_x_probs = [np.abs(np.dot(vec, psi))**2 for vec in first_qubit_x_meas.eigenvectors]\n",
    "first_qubit_x_probs"
   ],
   "id": "d4d04fc5018b302c",
   "outputs": [
    {
     "data": {
      "text/plain": [
       "[0.12499999999999994,\n",
       " 0.0,\n",
       " 0.7285533905932735,\n",
       " 0.0,\n",
       " 0.12499999999999994,\n",
       " 0.0,\n",
       " 0.021446609406726175,\n",
       " 0.0]"
      ]
     },
     "execution_count": 25,
     "metadata": {},
     "output_type": "execute_result"
    }
   ],
   "execution_count": 25
  },
  {
   "metadata": {},
   "cell_type": "markdown",
   "source": [
    "We get the probabilities to observe the outcomes (0,0,0), (0,0,1), (0,1,0), (0,1,1), (1,0,0), (1,0,1), (1,1,0), (1,1,1) when measuring the first qubit in X-direction.\n",
    "\n",
    "**Theoretical single-qubit expectation value**:\n",
    "\n",
    "In order to get the probabilities of measuring only the first qubit alone in either the positive or negative X-direction, we have to marginalize over the outcomes where the qubit has the desired value (0 for |+⟩ and 1 for |−⟩)."
   ],
   "id": "9c1c2bbd86cd8af0"
  },
  {
   "metadata": {
    "ExecuteTime": {
     "end_time": "2025-01-12T13:12:20.345027Z",
     "start_time": "2025-01-12T13:12:20.339639Z"
    }
   },
   "cell_type": "code",
   "source": [
    "first_qubit_plus_prob = sum(first_qubit_x_probs[i] for i, idx in enumerate(product(range(2), repeat=3)) if idx[0] == 0)\n",
    "first_qubit_minus_prob = sum(first_qubit_x_probs[i] for i, idx in enumerate(product(range(2), repeat=3)) if idx[0] == 1)\n",
    "\n",
    "print(f\"Probability of measuring positive x-direction (|+⟩) on qubit 0: {first_qubit_plus_prob:.3f}\")\n",
    "print(f\"Probability of measuring negative x-direction (|−⟩) on qubit 0: {first_qubit_minus_prob:.3f}\")\n",
    "print(f\"Sum of probabilities: {first_qubit_plus_prob + first_qubit_minus_prob:.3f}\")"
   ],
   "id": "2497d2977ebf8cdc",
   "outputs": [
    {
     "name": "stdout",
     "output_type": "stream",
     "text": [
      "Probability of measuring positive x-direction (|+⟩) on qubit 0: 0.854\n",
      "Probability of measuring negative x-direction (|−⟩) on qubit 0: 0.146\n",
      "Sum of probabilities: 1.000\n"
     ]
    }
   ],
   "execution_count": 26
  },
  {
   "metadata": {},
   "cell_type": "markdown",
   "source": [
    "#### SAMPLING EXPERIMENT\n",
    "\n",
    "The probabilities allow us to get a theoretical expectation value by simply multiplying each with the corresponding eigenvalue of the multi-qubit measurement setting.\n",
    "\n",
    "$$\n",
    "E_{\\text{theo}} = (+1) \\cdot p_+ + (-1) \\cdot p_- = p_+ - p_- = 0.851 - 0.149 = 0.702\n",
    "$$\n",
    "\n",
    "Furthermore, the probabilities allow us to simulate the measurement outcomes by sampling. This allows us to estimate the expectation value of the measurement setting over several measurement runs. Also in this case we need to multiply with the eigenvalues to get a proper expectation value.\n",
    "\n",
    "The reason for the multiplication with the eigenvalues is that their domain is $[-1, 1]$, so the expectation value is a weighted sum of the eigenvalues. Like a gauge which indicates how much the outcome is skewed towards one of the extremes."
   ],
   "id": "607cac713bf95914"
  },
  {
   "metadata": {
    "ExecuteTime": {
     "end_time": "2025-01-12T13:12:24.633735Z",
     "start_time": "2025-01-12T13:12:24.628579Z"
    }
   },
   "cell_type": "code",
   "source": [
    "# theoretical expectation value\n",
    "first_qubit_x_theo_exp = sum(e * p for e, p in zip(first_qubit_x_meas.eigenvalues, first_qubit_x_probs))\n",
    "\n",
    "# sampling experiment, by choosing random outcome with the given probabilities (outcomes are indexed 0-7)\n",
    "num_samples = 1000\n",
    "first_qubit_x_outcomes = np.random.choice(range(8), size=num_samples, p=first_qubit_x_probs)\n",
    "first_qubit_x_counts = Counter(first_qubit_x_outcomes)\n",
    "\n",
    "# just like for the theoretical expectation value, we need to multiply the eigenvalues with the probabilities\n",
    "first_qubit_x_obs_exp = sum(first_qubit_x_meas.eigenvalues[outcome_idx] * (count_value / num_samples) for outcome_idx, count_value in first_qubit_x_counts.items())\n",
    "\n",
    "print(f\"Theoretical expectation value for first qubit in X-direction: {first_qubit_x_theo_exp:.3f}\")\n",
    "print(f\"Estimated expectation value for first qubit in X-direction: {first_qubit_x_obs_exp:.3f} (over {num_samples} measurements)\")\n",
    "print(f\"Raw outcome counts: {dict(sorted(first_qubit_x_counts.items()))}\")"
   ],
   "id": "434022e45c6574b9",
   "outputs": [
    {
     "name": "stdout",
     "output_type": "stream",
     "text": [
      "Theoretical expectation value for first qubit in X-direction: 0.707\n",
      "Estimated expectation value for first qubit in X-direction: 0.714 (over 1000 measurements)\n",
      "Raw outcome counts: {0: 127, 2: 730, 4: 120, 6: 23}\n"
     ]
    }
   ],
   "execution_count": 27
  },
  {
   "metadata": {},
   "cell_type": "markdown",
   "source": [
    "**Estimated single-qubit expectation value**:\n",
    "\n",
    "Similar to before we can marginalize over the measured outcomes to get the counts for the first qubit measurement in the X basis."
   ],
   "id": "3594be62a221b88f"
  },
  {
   "metadata": {
    "ExecuteTime": {
     "end_time": "2025-01-12T13:12:31.694104Z",
     "start_time": "2025-01-12T13:12:31.689412Z"
    }
   },
   "cell_type": "code",
   "source": [
    "# the counter uses indices 0-7 instead of the state_addressing tuples ( |000⟩, |001⟩, ... ) like we used before\n",
    "state_addressings = list(product(range(2), repeat=3))\n",
    "\n",
    "# we simply iterate over the counter and marginalize depending on the state of the first qubit\n",
    "first_qubit_x_counts_marginalized = Counter()\n",
    "for state_idx, count_value in first_qubit_x_counts.items():\n",
    "    first_qubit_state = state_addressings[state_idx][0]\n",
    "    first_qubit_x_counts_marginalized[first_qubit_state] += count_value\n",
    "\n",
    "print(f\"Measurement counts of qubit 0 in positive x-direction (|+⟩): {first_qubit_x_counts_marginalized[0]}\")\n",
    "print(f\"Measurement counts of qubit 0 in negative x-direction (|−⟩): {first_qubit_x_counts_marginalized[1]}\")"
   ],
   "id": "29945a345c0c1f80",
   "outputs": [
    {
     "name": "stdout",
     "output_type": "stream",
     "text": [
      "Measurement counts of qubit 0 in positive x-direction (|+⟩): 857\n",
      "Measurement counts of qubit 0 in negative x-direction (|−⟩): 143\n"
     ]
    }
   ],
   "execution_count": 28
  },
  {
   "metadata": {},
   "cell_type": "markdown",
   "source": [
    "### DENSITY MATRIX RECONSTRUCTION\n",
    "\n",
    "The `MultiQubitMeasurementSetting` allows us to perform a measurement for each combination of single-qubit Pauli operators. All there is left to do is to perform the sampling experiment for each of the $4^3 = 64$ measurement settings."
   ],
   "id": "92b39649c302f2f0"
  },
  {
   "metadata": {
    "ExecuteTime": {
     "end_time": "2025-01-12T13:12:35.924751Z",
     "start_time": "2025-01-12T13:12:35.914315Z"
    }
   },
   "cell_type": "code",
   "source": [
    "# define the remaining Pauli operators and put them into a dictionary for easy access\n",
    "sigma_y = PauliOperator(np.array([[0, -1j], [1j, 0]]), [1, -1], [np.array([1, -1j]) / np.sqrt(2), np.array([1, 1j]) / np.sqrt(2)])\n",
    "sigma_z = PauliOperator(np.array([[1, 0], [0, -1]]), [1, -1], [np.array([1, 0]), np.array([0, 1])])\n",
    "pauli_operators = { 'I': sigma_0, 'X': sigma_x, 'Y': sigma_y, 'Z': sigma_z }\n",
    "\n",
    "# define a function which does everything in one step (calculating probabilities, sampling, estimating the expectation values)\n",
    "def sample_state(state, pauli_labels, num_samples=1000):\n",
    "    measurement_settings = [pauli_operators[pl] for pl in pauli_labels]\n",
    "    multi_qubit_meas_setting = MultiQubitMeasurementSetting(measurement_settings)\n",
    "\n",
    "    probs = [np.abs(np.dot(vec, state))**2 for vec in multi_qubit_meas_setting.eigenvectors]\n",
    "\n",
    "    theo_exp = sum(e * p for e, p in zip(multi_qubit_meas_setting.eigenvalues, probs))\n",
    "\n",
    "    outcomes = np.random.choice(range(len(state)), size=num_samples, p=probs)\n",
    "    counts = Counter(outcomes)\n",
    "\n",
    "    obs_exp = 0\n",
    "    for state_idx, count_value in counts.items():\n",
    "        obs_exp += multi_qubit_meas_setting.eigenvalues[state_idx] * (count_value / num_samples)\n",
    "\n",
    "    return theo_exp, obs_exp\n",
    "\n",
    "# sanity check with setting from before\n",
    "sample_state(psi, ['X', 'I', 'I'], num_samples=10000)"
   ],
   "id": "c8b9ce99dc549701",
   "outputs": [
    {
     "data": {
      "text/plain": [
       "(0.7071067811865474, 0.7098)"
      ]
     },
     "execution_count": 29,
     "metadata": {},
     "output_type": "execute_result"
    }
   ],
   "execution_count": 29
  },
  {
   "metadata": {
    "ExecuteTime": {
     "end_time": "2025-01-12T13:13:09.101379Z",
     "start_time": "2025-01-12T13:13:09.070300Z"
    }
   },
   "cell_type": "code",
   "source": [
    "# let's explicitly overwrite psi such that we can play around a bit.\n",
    "psi = np.array([ -1/2, 0, -1/np.sqrt(2), 0, 0, 0, -1/2, 0 ], dtype=complex)\n",
    "num_samples = 1000\n",
    "\n",
    "# creating all combinations of 3-qubit settings from {I, X, Y, Z}\n",
    "pauli_label_combinations = list(product(['I', 'X', 'Y', 'Z'], repeat=3))\n",
    "\n",
    "print(\"Performing measurements for all settings...\")\n",
    "theo_exp_dict = {}\n",
    "obs_exp_dict = {}\n",
    "\n",
    "for pauli_labels in pauli_label_combinations:\n",
    "    theo_exp, obs_exp = sample_state(psi, pauli_labels, num_samples=num_samples)\n",
    "    theo_exp_dict[pauli_labels] = theo_exp\n",
    "    obs_exp_dict[pauli_labels] = obs_exp\n",
    "\n",
    "print(\"Measurements completed.\")"
   ],
   "id": "8d9dc76345eb9b59",
   "outputs": [
    {
     "name": "stdout",
     "output_type": "stream",
     "text": [
      "Performing measurements for all settings...\n",
      "Measurements completed.\n"
     ]
    }
   ],
   "execution_count": 36
  },
  {
   "metadata": {
    "ExecuteTime": {
     "end_time": "2025-01-12T13:13:12.438958Z",
     "start_time": "2025-01-12T13:13:12.433522Z"
    }
   },
   "cell_type": "code",
   "source": [
    "# now we have to organize the dictionary above into a density matrix, we do this strictly like in the formula above\n",
    "\n",
    "rho_reconstructed = np.zeros((8, 8), dtype=complex)\n",
    "for pauli_labels in obs_exp_dict:\n",
    "    sigma_i = pauli_operators[pauli_labels[0]].matrix\n",
    "    sigma_j = pauli_operators[pauli_labels[1]].matrix\n",
    "    sigma_k = pauli_operators[pauli_labels[2]].matrix\n",
    "\n",
    "    # building up the expanded multi-qubit basis according to the tensor product just like in the formula\n",
    "    multi_qubit_bloch_basis = np.kron(sigma_i, np.kron(sigma_j, sigma_k))\n",
    "\n",
    "    # add the expectation value to the density matrix (exactly where the multi-qubit basis tells us to)\n",
    "    rho_reconstructed += obs_exp_dict[pauli_labels] * multi_qubit_bloch_basis / 8.0"
   ],
   "id": "f78d68b5ce18f561",
   "outputs": [],
   "execution_count": 38
  },
  {
   "metadata": {
    "ExecuteTime": {
     "end_time": "2025-01-12T13:13:14.482732Z",
     "start_time": "2025-01-12T13:13:14.480212Z"
    }
   },
   "cell_type": "code",
   "source": [
    "# since we are dealing with a pure state, the actual density matrix is just the outer product of the state vector\n",
    "rho_actual = np.outer(psi, psi.conj())"
   ],
   "id": "8dde4a8208ae0deb",
   "outputs": [],
   "execution_count": 39
  },
  {
   "metadata": {
    "ExecuteTime": {
     "end_time": "2025-01-12T13:13:15.962967Z",
     "start_time": "2025-01-12T13:13:15.598914Z"
    }
   },
   "cell_type": "code",
   "source": [
    "fig, axes = plt.subplots(1, 2, figsize=(12, 5))\n",
    "\n",
    "sns.heatmap(np.real(rho_actual), annot=True, fmt=\".2f\", ax=axes[0], cmap='viridis')\n",
    "axes[0].set_title('Actual Density Matrix (Real Part)')\n",
    "\n",
    "sns.heatmap(np.real(rho_reconstructed), annot=True, fmt=\".2f\", ax=axes[1], cmap='viridis')\n",
    "axes[1].set_title('Reconstructed Density Matrix (Real Part)')\n",
    "\n",
    "plt.tight_layout()\n",
    "plt.show()"
   ],
   "id": "2e0a46eeb843718f",
   "outputs": [
    {
     "data": {
      "text/plain": [
       "<Figure size 1200x500 with 4 Axes>"
      ],
      "image/png": "[encoded data removed]"
     },
     "metadata": {},
     "output_type": "display_data"
    }
   ],
   "execution_count": 40
  }
 ],
 "metadata": {
  "kernelspec": {
   "display_name": "Python 3",
   "language": "python",
   "name": "python3"
  },
  "language_info": {
   "codemirror_mode": {
    "name": "ipython",
    "version": 2
   },
   "file_extension": ".py",
   "mimetype": "text/x-python",
   "name": "python",
   "nbconvert_exporter": "python",
   "pygments_lexer": "ipython2",
   "version": "2.7.6"
  }
 },
 "nbformat": 4,
 "nbformat_minor": 5
}
